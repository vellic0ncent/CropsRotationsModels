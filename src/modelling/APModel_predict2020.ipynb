{
  "nbformat": 4,
  "nbformat_minor": 0,
  "metadata": {
    "colab": {
      "name": "DVHB_APModel_Predict2020.ipynb",
      "provenance": [],
      "toc_visible": true,
      "machine_shape": "hm"
    },
    "kernelspec": {
      "name": "python3",
      "display_name": "Python 3"
    },
    "accelerator": "GPU"
  },
  "cells": [
    {
      "cell_type": "markdown",
      "metadata": {
        "id": "AdXeXAy_1Yv-"
      },
      "source": [
        "### Preparing Data ###"
      ]
    },
    {
      "cell_type": "code",
      "metadata": {
        "id": "GDExLa4LuMZX"
      },
      "source": [
        "import pandas as pd\r\n",
        "from scipy.spatial import cKDTree\r\n",
        "import numpy as np\r\n",
        "\r\n",
        "from sklearn.model_selection import train_test_split\r\n",
        "from sklearn.metrics import accuracy_score"
      ],
      "execution_count": 1,
      "outputs": []
    },
    {
      "cell_type": "code",
      "metadata": {
        "colab": {
          "base_uri": "https://localhost:8080/"
        },
        "id": "6vQZdOGh06Pj",
        "outputId": "c61a856d-cb91-467d-ef0b-4629bfdac64d"
      },
      "source": [
        "from google.colab import drive\r\n",
        "drive.mount('/content/drive')"
      ],
      "execution_count": 2,
      "outputs": [
        {
          "output_type": "stream",
          "text": [
            "Mounted at /content/drive\n"
          ],
          "name": "stdout"
        }
      ]
    },
    {
      "cell_type": "code",
      "metadata": {
        "id": "Z0W9hBD31Ajr"
      },
      "source": [
        "data = pd.read_csv('/content/drive/MyDrive/Хакатон/dataset2015_2019.csv')"
      ],
      "execution_count": 3,
      "outputs": []
    },
    {
      "cell_type": "code",
      "metadata": {
        "colab": {
          "base_uri": "https://localhost:8080/",
          "height": 211
        },
        "id": "SOgqN0tHlj5s",
        "outputId": "8ee6e1b2-05f2-48a3-cf6a-79277e5a6b1e"
      },
      "source": [
        "data.head(2)"
      ],
      "execution_count": 7,
      "outputs": [
        {
          "output_type": "execute_result",
          "data": {
            "text/html": [
              "<div>\n",
              "<style scoped>\n",
              "    .dataframe tbody tr th:only-of-type {\n",
              "        vertical-align: middle;\n",
              "    }\n",
              "\n",
              "    .dataframe tbody tr th {\n",
              "        vertical-align: top;\n",
              "    }\n",
              "\n",
              "    .dataframe thead th {\n",
              "        text-align: right;\n",
              "    }\n",
              "</style>\n",
              "<table border=\"1\" class=\"dataframe\">\n",
              "  <thead>\n",
              "    <tr style=\"text-align: right;\">\n",
              "      <th></th>\n",
              "      <th>Unnamed: 0</th>\n",
              "      <th>centroid</th>\n",
              "      <th>x</th>\n",
              "      <th>y</th>\n",
              "      <th>RotationLength</th>\n",
              "      <th>RotationCount</th>\n",
              "      <th>CODE_CULTU_2015</th>\n",
              "      <th>CODE_CULTU_2016</th>\n",
              "      <th>CODE_CULTU_2017</th>\n",
              "      <th>CODE_CULTU_2018</th>\n",
              "      <th>CODE_CULTU_2019</th>\n",
              "      <th>CODE_GROUP_2015</th>\n",
              "      <th>CODE_GROUP_2016</th>\n",
              "      <th>CODE_GROUP_2017</th>\n",
              "      <th>CODE_GROUP_2018</th>\n",
              "      <th>CODE_GROUP_2019</th>\n",
              "      <th>cultuCode</th>\n",
              "      <th>groupCode</th>\n",
              "      <th>hzs</th>\n",
              "      <th>kg_id</th>\n",
              "      <th>ff_id</th>\n",
              "      <th>1 Nearest Neigbour Point</th>\n",
              "      <th>2 Nearest Neigbour Point</th>\n",
              "      <th>3 Nearest Neigbour Point</th>\n",
              "      <th>4 Nearest Neigbour Point</th>\n",
              "    </tr>\n",
              "  </thead>\n",
              "  <tbody>\n",
              "    <tr>\n",
              "      <th>0</th>\n",
              "      <td>0</td>\n",
              "      <td>Point (907753.82834152 6554634.46488151)</td>\n",
              "      <td>907753.828342</td>\n",
              "      <td>6.554634e+06</td>\n",
              "      <td>1</td>\n",
              "      <td>5</td>\n",
              "      <td>PPH</td>\n",
              "      <td>PPH</td>\n",
              "      <td>PPH</td>\n",
              "      <td>PPH</td>\n",
              "      <td>PPH</td>\n",
              "      <td>18</td>\n",
              "      <td>18</td>\n",
              "      <td>18</td>\n",
              "      <td>18</td>\n",
              "      <td>18</td>\n",
              "      <td>aaaaa</td>\n",
              "      <td>aaaaa</td>\n",
              "      <td>7b</td>\n",
              "      <td>Dfb</td>\n",
              "      <td>ff12</td>\n",
              "      <td>Point (907748.69100314 6554212.06490037)</td>\n",
              "      <td>Point (907410.62452802 6554909.79074054)</td>\n",
              "      <td>Point (908089.34400838 6554953.05455597)</td>\n",
              "      <td>Point (907563.65755459 6554039.35762193)</td>\n",
              "    </tr>\n",
              "    <tr>\n",
              "      <th>1</th>\n",
              "      <td>1</td>\n",
              "      <td>Point (906932.34642625 6550537.14396784)</td>\n",
              "      <td>906932.346426</td>\n",
              "      <td>6.550537e+06</td>\n",
              "      <td>1</td>\n",
              "      <td>5</td>\n",
              "      <td>PPH</td>\n",
              "      <td>PPH</td>\n",
              "      <td>PPH</td>\n",
              "      <td>PPH</td>\n",
              "      <td>PPH</td>\n",
              "      <td>18</td>\n",
              "      <td>18</td>\n",
              "      <td>18</td>\n",
              "      <td>18</td>\n",
              "      <td>18</td>\n",
              "      <td>aaaaa</td>\n",
              "      <td>aaaaa</td>\n",
              "      <td>7b</td>\n",
              "      <td>Dfb</td>\n",
              "      <td>ff12</td>\n",
              "      <td>Point (906980.7207283 6550304.97315954)</td>\n",
              "      <td>Point (906736.32315476 6550335.52813463)</td>\n",
              "      <td>Point (906595.72670333 6550598.70621165)</td>\n",
              "      <td>Point (907032.95563938 6550121.6369531)</td>\n",
              "    </tr>\n",
              "  </tbody>\n",
              "</table>\n",
              "</div>"
            ],
            "text/plain": [
              "   Unnamed: 0  ...                  4 Nearest Neigbour Point\n",
              "0           0  ...  Point (907563.65755459 6554039.35762193)\n",
              "1           1  ...   Point (907032.95563938 6550121.6369531)\n",
              "\n",
              "[2 rows x 25 columns]"
            ]
          },
          "metadata": {
            "tags": []
          },
          "execution_count": 7
        }
      ]
    },
    {
      "cell_type": "code",
      "metadata": {
        "colab": {
          "base_uri": "https://localhost:8080/"
        },
        "id": "tbP8vlgL1NGO",
        "outputId": "d295712d-b587-4a00-9931-3b042b6e00bc"
      },
      "source": [
        "!pip install catboost"
      ],
      "execution_count": 6,
      "outputs": [
        {
          "output_type": "stream",
          "text": [
            "Collecting catboost\n",
            "\u001b[?25l  Downloading https://files.pythonhosted.org/packages/96/3b/bb419654adcf7efff42ed8a3f84e50c8f236424b7ed1cc8ccd290852e003/catboost-0.24.4-cp37-none-manylinux1_x86_64.whl (65.7MB)\n",
            "\u001b[K     |████████████████████████████████| 65.7MB 88kB/s \n",
            "\u001b[?25hRequirement already satisfied: scipy in /usr/local/lib/python3.7/dist-packages (from catboost) (1.4.1)\n",
            "Requirement already satisfied: matplotlib in /usr/local/lib/python3.7/dist-packages (from catboost) (3.2.2)\n",
            "Requirement already satisfied: numpy>=1.16.0 in /usr/local/lib/python3.7/dist-packages (from catboost) (1.19.5)\n",
            "Requirement already satisfied: graphviz in /usr/local/lib/python3.7/dist-packages (from catboost) (0.10.1)\n",
            "Requirement already satisfied: six in /usr/local/lib/python3.7/dist-packages (from catboost) (1.15.0)\n",
            "Requirement already satisfied: pandas>=0.24.0 in /usr/local/lib/python3.7/dist-packages (from catboost) (1.1.5)\n",
            "Requirement already satisfied: plotly in /usr/local/lib/python3.7/dist-packages (from catboost) (4.4.1)\n",
            "Requirement already satisfied: python-dateutil>=2.1 in /usr/local/lib/python3.7/dist-packages (from matplotlib->catboost) (2.8.1)\n",
            "Requirement already satisfied: kiwisolver>=1.0.1 in /usr/local/lib/python3.7/dist-packages (from matplotlib->catboost) (1.3.1)\n",
            "Requirement already satisfied: cycler>=0.10 in /usr/local/lib/python3.7/dist-packages (from matplotlib->catboost) (0.10.0)\n",
            "Requirement already satisfied: pyparsing!=2.0.4,!=2.1.2,!=2.1.6,>=2.0.1 in /usr/local/lib/python3.7/dist-packages (from matplotlib->catboost) (2.4.7)\n",
            "Requirement already satisfied: pytz>=2017.2 in /usr/local/lib/python3.7/dist-packages (from pandas>=0.24.0->catboost) (2018.9)\n",
            "Requirement already satisfied: retrying>=1.3.3 in /usr/local/lib/python3.7/dist-packages (from plotly->catboost) (1.3.3)\n",
            "Installing collected packages: catboost\n",
            "Successfully installed catboost-0.24.4\n"
          ],
          "name": "stdout"
        }
      ]
    },
    {
      "cell_type": "code",
      "metadata": {
        "id": "ZrKatMuS1Q3D"
      },
      "source": [
        "import catboost as cb\r\n",
        "from catboost import Pool, CatBoostClassifier\r\n",
        "from sklearn.model_selection import GridSearchCV"
      ],
      "execution_count": 8,
      "outputs": []
    },
    {
      "cell_type": "code",
      "metadata": {
        "colab": {
          "base_uri": "https://localhost:8080/",
          "height": 211
        },
        "id": "Oc3mGj7_u78Y",
        "outputId": "bb63958b-a562-4e4d-a11d-7cdafc13a6d7"
      },
      "source": [
        "data.head(2)"
      ],
      "execution_count": 106,
      "outputs": [
        {
          "output_type": "execute_result",
          "data": {
            "text/html": [
              "<div>\n",
              "<style scoped>\n",
              "    .dataframe tbody tr th:only-of-type {\n",
              "        vertical-align: middle;\n",
              "    }\n",
              "\n",
              "    .dataframe tbody tr th {\n",
              "        vertical-align: top;\n",
              "    }\n",
              "\n",
              "    .dataframe thead th {\n",
              "        text-align: right;\n",
              "    }\n",
              "</style>\n",
              "<table border=\"1\" class=\"dataframe\">\n",
              "  <thead>\n",
              "    <tr style=\"text-align: right;\">\n",
              "      <th></th>\n",
              "      <th>Unnamed: 0</th>\n",
              "      <th>centroid</th>\n",
              "      <th>x</th>\n",
              "      <th>y</th>\n",
              "      <th>RotationLength</th>\n",
              "      <th>RotationCount</th>\n",
              "      <th>CODE_CULTU_2015</th>\n",
              "      <th>CODE_CULTU_2016</th>\n",
              "      <th>CODE_CULTU_2017</th>\n",
              "      <th>CODE_CULTU_2018</th>\n",
              "      <th>CODE_CULTU_2019</th>\n",
              "      <th>CODE_GROUP_2015</th>\n",
              "      <th>CODE_GROUP_2016</th>\n",
              "      <th>CODE_GROUP_2017</th>\n",
              "      <th>CODE_GROUP_2018</th>\n",
              "      <th>CODE_GROUP_2019</th>\n",
              "      <th>cultuCode</th>\n",
              "      <th>groupCode</th>\n",
              "      <th>hzs</th>\n",
              "      <th>kg_id</th>\n",
              "      <th>ff_id</th>\n",
              "      <th>1 Nearest Neigbour Point</th>\n",
              "      <th>2 Nearest Neigbour Point</th>\n",
              "      <th>3 Nearest Neigbour Point</th>\n",
              "      <th>4 Nearest Neigbour Point</th>\n",
              "    </tr>\n",
              "  </thead>\n",
              "  <tbody>\n",
              "    <tr>\n",
              "      <th>0</th>\n",
              "      <td>0</td>\n",
              "      <td>Point (907753.82834152 6554634.46488151)</td>\n",
              "      <td>907753.828342</td>\n",
              "      <td>6.554634e+06</td>\n",
              "      <td>1</td>\n",
              "      <td>5</td>\n",
              "      <td>PPH</td>\n",
              "      <td>PPH</td>\n",
              "      <td>PPH</td>\n",
              "      <td>PPH</td>\n",
              "      <td>PPH</td>\n",
              "      <td>18</td>\n",
              "      <td>18</td>\n",
              "      <td>18</td>\n",
              "      <td>18</td>\n",
              "      <td>18</td>\n",
              "      <td>aaaaa</td>\n",
              "      <td>aaaaa</td>\n",
              "      <td>7b</td>\n",
              "      <td>Dfb</td>\n",
              "      <td>ff12</td>\n",
              "      <td>Point (907748.69100314 6554212.06490037)</td>\n",
              "      <td>Point (907410.62452802 6554909.79074054)</td>\n",
              "      <td>Point (908089.34400838 6554953.05455597)</td>\n",
              "      <td>Point (907563.65755459 6554039.35762193)</td>\n",
              "    </tr>\n",
              "    <tr>\n",
              "      <th>1</th>\n",
              "      <td>1</td>\n",
              "      <td>Point (906932.34642625 6550537.14396784)</td>\n",
              "      <td>906932.346426</td>\n",
              "      <td>6.550537e+06</td>\n",
              "      <td>1</td>\n",
              "      <td>5</td>\n",
              "      <td>PPH</td>\n",
              "      <td>PPH</td>\n",
              "      <td>PPH</td>\n",
              "      <td>PPH</td>\n",
              "      <td>PPH</td>\n",
              "      <td>18</td>\n",
              "      <td>18</td>\n",
              "      <td>18</td>\n",
              "      <td>18</td>\n",
              "      <td>18</td>\n",
              "      <td>aaaaa</td>\n",
              "      <td>aaaaa</td>\n",
              "      <td>7b</td>\n",
              "      <td>Dfb</td>\n",
              "      <td>ff12</td>\n",
              "      <td>Point (906980.7207283 6550304.97315954)</td>\n",
              "      <td>Point (906736.32315476 6550335.52813463)</td>\n",
              "      <td>Point (906595.72670333 6550598.70621165)</td>\n",
              "      <td>Point (907032.95563938 6550121.6369531)</td>\n",
              "    </tr>\n",
              "  </tbody>\n",
              "</table>\n",
              "</div>"
            ],
            "text/plain": [
              "   Unnamed: 0  ...                  4 Nearest Neigbour Point\n",
              "0           0  ...  Point (907563.65755459 6554039.35762193)\n",
              "1           1  ...   Point (907032.95563938 6550121.6369531)\n",
              "\n",
              "[2 rows x 25 columns]"
            ]
          },
          "metadata": {
            "tags": []
          },
          "execution_count": 106
        }
      ]
    },
    {
      "cell_type": "code",
      "metadata": {
        "id": "lxMW4mXX2T4r"
      },
      "source": [
        "def predict_next_culture_4_years_list(l0, l1, l2, l3):\r\n",
        "  if l0 == l1 != l2 and l2 == l3:\r\n",
        "     return 'Unknown'\r\n",
        "  if l0 == l1 == l2 == l3:\r\n",
        "     return l0\r\n",
        "  #if l0 == l3:\r\n",
        "  #   return l1\r\n",
        "  if l0 == l2 and l1 == l3:\r\n",
        "     return l0\r\n",
        "#  if l0 == l2 and l1 != l2:\r\n",
        "#     return l0\r\n",
        "  if l0 == l1 != l2 and l2 == l3:\r\n",
        "     return l0\r\n",
        "  return 'Unknown'"
      ],
      "execution_count": 9,
      "outputs": []
    },
    {
      "cell_type": "code",
      "metadata": {
        "colab": {
          "base_uri": "https://localhost:8080/"
        },
        "id": "yaw2O8uf2gFU",
        "outputId": "aab347bf-a3dd-4c35-88db-e72a986f5ebc"
      },
      "source": [
        "print(predict_next_culture_4_years_list(data.iloc[0]['CODE_CULTU_2015'],data.iloc[0]['CODE_CULTU_2016'],data.iloc[0]['CODE_CULTU_2017'],data.iloc[0]['CODE_CULTU_2018']))"
      ],
      "execution_count": 10,
      "outputs": [
        {
          "output_type": "stream",
          "text": [
            "PPH\n"
          ],
          "name": "stdout"
        }
      ]
    },
    {
      "cell_type": "code",
      "metadata": {
        "id": "HwvCDdLYCUVP"
      },
      "source": [
        "g = data.groupby(['CODE_CULTU_2015','CODE_CULTU_2016','CODE_CULTU_2017','CODE_CULTU_2018'])['CODE_CULTU_2019'].count()"
      ],
      "execution_count": 11,
      "outputs": []
    },
    {
      "cell_type": "code",
      "metadata": {
        "id": "EgdQNR4NCXRB"
      },
      "source": [
        "gm = g.add_suffix('').reset_index()"
      ],
      "execution_count": 12,
      "outputs": []
    },
    {
      "cell_type": "code",
      "metadata": {
        "id": "KnwNtAnVCZIC"
      },
      "source": [
        "gm_uniq = gm[gm['CODE_CULTU_2019'] == 1]"
      ],
      "execution_count": 14,
      "outputs": []
    },
    {
      "cell_type": "code",
      "metadata": {
        "colab": {
          "base_uri": "https://localhost:8080/",
          "height": 107
        },
        "id": "Jh34I9ySJwjj",
        "outputId": "89bf4fc6-21a6-4a35-cdae-6d660f668c21"
      },
      "source": [
        "gm_uniq.head(2)"
      ],
      "execution_count": 15,
      "outputs": [
        {
          "output_type": "execute_result",
          "data": {
            "text/html": [
              "<div>\n",
              "<style scoped>\n",
              "    .dataframe tbody tr th:only-of-type {\n",
              "        vertical-align: middle;\n",
              "    }\n",
              "\n",
              "    .dataframe tbody tr th {\n",
              "        vertical-align: top;\n",
              "    }\n",
              "\n",
              "    .dataframe thead th {\n",
              "        text-align: right;\n",
              "    }\n",
              "</style>\n",
              "<table border=\"1\" class=\"dataframe\">\n",
              "  <thead>\n",
              "    <tr style=\"text-align: right;\">\n",
              "      <th></th>\n",
              "      <th>CODE_CULTU_2015</th>\n",
              "      <th>CODE_CULTU_2016</th>\n",
              "      <th>CODE_CULTU_2017</th>\n",
              "      <th>CODE_CULTU_2018</th>\n",
              "      <th>CODE_CULTU_2019</th>\n",
              "    </tr>\n",
              "  </thead>\n",
              "  <tbody>\n",
              "    <tr>\n",
              "      <th>0</th>\n",
              "      <td>ACA</td>\n",
              "      <td>FLA</td>\n",
              "      <td>FLA</td>\n",
              "      <td>FLA</td>\n",
              "      <td>1</td>\n",
              "    </tr>\n",
              "    <tr>\n",
              "      <th>1</th>\n",
              "      <td>ACA</td>\n",
              "      <td>FLP</td>\n",
              "      <td>FLP</td>\n",
              "      <td>FLP</td>\n",
              "      <td>1</td>\n",
              "    </tr>\n",
              "  </tbody>\n",
              "</table>\n",
              "</div>"
            ],
            "text/plain": [
              "  CODE_CULTU_2015 CODE_CULTU_2016  ... CODE_CULTU_2018 CODE_CULTU_2019\n",
              "0             ACA             FLA  ...             FLA               1\n",
              "1             ACA             FLP  ...             FLP               1\n",
              "\n",
              "[2 rows x 5 columns]"
            ]
          },
          "metadata": {
            "tags": []
          },
          "execution_count": 15
        }
      ]
    },
    {
      "cell_type": "code",
      "metadata": {
        "id": "COu0kamHCb3F"
      },
      "source": [
        "gm_pred = pd.merge(gm_uniq, data,  how='left', left_on=['CODE_CULTU_2015','CODE_CULTU_2016','CODE_CULTU_2017','CODE_CULTU_2018'], right_on = ['CODE_CULTU_2015','CODE_CULTU_2016','CODE_CULTU_2017','CODE_CULTU_2018'])\r\n"
      ],
      "execution_count": 16,
      "outputs": []
    },
    {
      "cell_type": "code",
      "metadata": {
        "id": "WDfGblpOCfzA"
      },
      "source": [
        "gm_pred = gm_pred.reindex(columns=['CODE_CULTU_2015','CODE_CULTU_2016','CODE_CULTU_2017','CODE_CULTU_2018','CODE_CULTU_2019_y'])"
      ],
      "execution_count": 17,
      "outputs": []
    },
    {
      "cell_type": "code",
      "metadata": {
        "id": "apFlBEM9CO1e"
      },
      "source": [
        "data_pred = pd.merge(data, gm_pred,  how='left', left_on=['CODE_CULTU_2015','CODE_CULTU_2016','CODE_CULTU_2017','CODE_CULTU_2018'], right_on = ['CODE_CULTU_2015','CODE_CULTU_2016','CODE_CULTU_2017','CODE_CULTU_2018'])"
      ],
      "execution_count": 18,
      "outputs": []
    },
    {
      "cell_type": "code",
      "metadata": {
        "colab": {
          "base_uri": "https://localhost:8080/"
        },
        "id": "Kx_UMOyYC6dV",
        "outputId": "424fc360-60b1-41ba-c71c-d4f98835554c"
      },
      "source": [
        "data_pred['CODE_CULTU_2019_y'].value_counts()"
      ],
      "execution_count": 64,
      "outputs": [
        {
          "output_type": "execute_result",
          "data": {
            "text/plain": [
              "BTH    11247\n",
              "PTR     8134\n",
              "LUZ     4978\n",
              "MLG     4003\n",
              "MIS     3902\n",
              "       ...  \n",
              "PIS        1\n",
              "BUR        1\n",
              "PMV        1\n",
              "LFP        1\n",
              "MOL        1\n",
              "Name: CODE_CULTU_2019_y, Length: 218, dtype: int64"
            ]
          },
          "metadata": {
            "tags": []
          },
          "execution_count": 64
        }
      ]
    },
    {
      "cell_type": "code",
      "metadata": {
        "id": "64TLGmSgDzeG"
      },
      "source": [
        "data_part1 = data_pred[data_pred.CODE_CULTU_2019_y.notnull()].copy()"
      ],
      "execution_count": 65,
      "outputs": []
    },
    {
      "cell_type": "code",
      "metadata": {
        "colab": {
          "base_uri": "https://localhost:8080/",
          "height": 211
        },
        "id": "0LxSLwwUC6mq",
        "outputId": "1a28cfe4-6255-4ec4-b271-6afcc394a9f7"
      },
      "source": [
        "data_part1.head(2)"
      ],
      "execution_count": 66,
      "outputs": [
        {
          "output_type": "execute_result",
          "data": {
            "text/html": [
              "<div>\n",
              "<style scoped>\n",
              "    .dataframe tbody tr th:only-of-type {\n",
              "        vertical-align: middle;\n",
              "    }\n",
              "\n",
              "    .dataframe tbody tr th {\n",
              "        vertical-align: top;\n",
              "    }\n",
              "\n",
              "    .dataframe thead th {\n",
              "        text-align: right;\n",
              "    }\n",
              "</style>\n",
              "<table border=\"1\" class=\"dataframe\">\n",
              "  <thead>\n",
              "    <tr style=\"text-align: right;\">\n",
              "      <th></th>\n",
              "      <th>Unnamed: 0</th>\n",
              "      <th>centroid</th>\n",
              "      <th>x</th>\n",
              "      <th>y</th>\n",
              "      <th>RotationLength</th>\n",
              "      <th>RotationCount</th>\n",
              "      <th>CODE_CULTU_2015</th>\n",
              "      <th>CODE_CULTU_2016</th>\n",
              "      <th>CODE_CULTU_2017</th>\n",
              "      <th>CODE_CULTU_2018</th>\n",
              "      <th>CODE_CULTU_2019</th>\n",
              "      <th>CODE_GROUP_2015</th>\n",
              "      <th>CODE_GROUP_2016</th>\n",
              "      <th>CODE_GROUP_2017</th>\n",
              "      <th>CODE_GROUP_2018</th>\n",
              "      <th>CODE_GROUP_2019</th>\n",
              "      <th>cultuCode</th>\n",
              "      <th>groupCode</th>\n",
              "      <th>hzs</th>\n",
              "      <th>kg_id</th>\n",
              "      <th>ff_id</th>\n",
              "      <th>1 Nearest Neigbour Point</th>\n",
              "      <th>2 Nearest Neigbour Point</th>\n",
              "      <th>3 Nearest Neigbour Point</th>\n",
              "      <th>4 Nearest Neigbour Point</th>\n",
              "      <th>CODE_CULTU_2019_y</th>\n",
              "    </tr>\n",
              "  </thead>\n",
              "  <tbody>\n",
              "    <tr>\n",
              "      <th>50</th>\n",
              "      <td>50</td>\n",
              "      <td>Point (859900.11098517 6591026.78278985)</td>\n",
              "      <td>859900.110985</td>\n",
              "      <td>6.591027e+06</td>\n",
              "      <td>3</td>\n",
              "      <td>1</td>\n",
              "      <td>BTH</td>\n",
              "      <td>MID</td>\n",
              "      <td>MIS</td>\n",
              "      <td>MIS</td>\n",
              "      <td>BTH</td>\n",
              "      <td>1</td>\n",
              "      <td>2</td>\n",
              "      <td>2</td>\n",
              "      <td>2</td>\n",
              "      <td>1</td>\n",
              "      <td>abcca</td>\n",
              "      <td>abbba</td>\n",
              "      <td>8b</td>\n",
              "      <td>Cfa</td>\n",
              "      <td>ff13</td>\n",
              "      <td>Point (859812.49760217 6591185.50103266)</td>\n",
              "      <td>Point (859719.0802948 6590975.56193138)</td>\n",
              "      <td>Point (860081.26015362 6591098.77150968)</td>\n",
              "      <td>Point (860019.18559373 6590736.93947271)</td>\n",
              "      <td>BTH</td>\n",
              "    </tr>\n",
              "    <tr>\n",
              "      <th>74</th>\n",
              "      <td>74</td>\n",
              "      <td>Point (848022.43324874 6589869.38021483)</td>\n",
              "      <td>848022.433249</td>\n",
              "      <td>6.589869e+06</td>\n",
              "      <td>4</td>\n",
              "      <td>1</td>\n",
              "      <td>AVP</td>\n",
              "      <td>SGH</td>\n",
              "      <td>MIS</td>\n",
              "      <td>MIS</td>\n",
              "      <td>ORP</td>\n",
              "      <td>4</td>\n",
              "      <td>4</td>\n",
              "      <td>2</td>\n",
              "      <td>2</td>\n",
              "      <td>3</td>\n",
              "      <td>abccd</td>\n",
              "      <td>aabbc</td>\n",
              "      <td>8b</td>\n",
              "      <td>Cfa</td>\n",
              "      <td>ff13</td>\n",
              "      <td>Point (848060.93345233 6589936.96049742)</td>\n",
              "      <td>Point (847937.44700784 6589858.58590304)</td>\n",
              "      <td>Point (848069.49079389 6590019.03797348)</td>\n",
              "      <td>Point (848120.55312173 6589719.68664306)</td>\n",
              "      <td>ORP</td>\n",
              "    </tr>\n",
              "  </tbody>\n",
              "</table>\n",
              "</div>"
            ],
            "text/plain": [
              "    Unnamed: 0  ... CODE_CULTU_2019_y\n",
              "50          50  ...               BTH\n",
              "74          74  ...               ORP\n",
              "\n",
              "[2 rows x 26 columns]"
            ]
          },
          "metadata": {
            "tags": []
          },
          "execution_count": 66
        }
      ]
    },
    {
      "cell_type": "code",
      "metadata": {
        "id": "gy_A5-8KLFNW"
      },
      "source": [
        "data_part2 = data_pred[data_pred.CODE_CULTU_2019_y.isna()].copy()"
      ],
      "execution_count": 67,
      "outputs": []
    },
    {
      "cell_type": "code",
      "metadata": {
        "colab": {
          "base_uri": "https://localhost:8080/",
          "height": 211
        },
        "id": "N8z8X798LMbe",
        "outputId": "2ae91297-3441-44a1-e25f-57a003240141"
      },
      "source": [
        "data_part2.head(2)"
      ],
      "execution_count": 68,
      "outputs": [
        {
          "output_type": "execute_result",
          "data": {
            "text/html": [
              "<div>\n",
              "<style scoped>\n",
              "    .dataframe tbody tr th:only-of-type {\n",
              "        vertical-align: middle;\n",
              "    }\n",
              "\n",
              "    .dataframe tbody tr th {\n",
              "        vertical-align: top;\n",
              "    }\n",
              "\n",
              "    .dataframe thead th {\n",
              "        text-align: right;\n",
              "    }\n",
              "</style>\n",
              "<table border=\"1\" class=\"dataframe\">\n",
              "  <thead>\n",
              "    <tr style=\"text-align: right;\">\n",
              "      <th></th>\n",
              "      <th>Unnamed: 0</th>\n",
              "      <th>centroid</th>\n",
              "      <th>x</th>\n",
              "      <th>y</th>\n",
              "      <th>RotationLength</th>\n",
              "      <th>RotationCount</th>\n",
              "      <th>CODE_CULTU_2015</th>\n",
              "      <th>CODE_CULTU_2016</th>\n",
              "      <th>CODE_CULTU_2017</th>\n",
              "      <th>CODE_CULTU_2018</th>\n",
              "      <th>CODE_CULTU_2019</th>\n",
              "      <th>CODE_GROUP_2015</th>\n",
              "      <th>CODE_GROUP_2016</th>\n",
              "      <th>CODE_GROUP_2017</th>\n",
              "      <th>CODE_GROUP_2018</th>\n",
              "      <th>CODE_GROUP_2019</th>\n",
              "      <th>cultuCode</th>\n",
              "      <th>groupCode</th>\n",
              "      <th>hzs</th>\n",
              "      <th>kg_id</th>\n",
              "      <th>ff_id</th>\n",
              "      <th>1 Nearest Neigbour Point</th>\n",
              "      <th>2 Nearest Neigbour Point</th>\n",
              "      <th>3 Nearest Neigbour Point</th>\n",
              "      <th>4 Nearest Neigbour Point</th>\n",
              "      <th>CODE_CULTU_2019_y</th>\n",
              "    </tr>\n",
              "  </thead>\n",
              "  <tbody>\n",
              "    <tr>\n",
              "      <th>0</th>\n",
              "      <td>0</td>\n",
              "      <td>Point (907753.82834152 6554634.46488151)</td>\n",
              "      <td>907753.828342</td>\n",
              "      <td>6.554634e+06</td>\n",
              "      <td>1</td>\n",
              "      <td>5</td>\n",
              "      <td>PPH</td>\n",
              "      <td>PPH</td>\n",
              "      <td>PPH</td>\n",
              "      <td>PPH</td>\n",
              "      <td>PPH</td>\n",
              "      <td>18</td>\n",
              "      <td>18</td>\n",
              "      <td>18</td>\n",
              "      <td>18</td>\n",
              "      <td>18</td>\n",
              "      <td>aaaaa</td>\n",
              "      <td>aaaaa</td>\n",
              "      <td>7b</td>\n",
              "      <td>Dfb</td>\n",
              "      <td>ff12</td>\n",
              "      <td>Point (907748.69100314 6554212.06490037)</td>\n",
              "      <td>Point (907410.62452802 6554909.79074054)</td>\n",
              "      <td>Point (908089.34400838 6554953.05455597)</td>\n",
              "      <td>Point (907563.65755459 6554039.35762193)</td>\n",
              "      <td>NaN</td>\n",
              "    </tr>\n",
              "    <tr>\n",
              "      <th>1</th>\n",
              "      <td>1</td>\n",
              "      <td>Point (906932.34642625 6550537.14396784)</td>\n",
              "      <td>906932.346426</td>\n",
              "      <td>6.550537e+06</td>\n",
              "      <td>1</td>\n",
              "      <td>5</td>\n",
              "      <td>PPH</td>\n",
              "      <td>PPH</td>\n",
              "      <td>PPH</td>\n",
              "      <td>PPH</td>\n",
              "      <td>PPH</td>\n",
              "      <td>18</td>\n",
              "      <td>18</td>\n",
              "      <td>18</td>\n",
              "      <td>18</td>\n",
              "      <td>18</td>\n",
              "      <td>aaaaa</td>\n",
              "      <td>aaaaa</td>\n",
              "      <td>7b</td>\n",
              "      <td>Dfb</td>\n",
              "      <td>ff12</td>\n",
              "      <td>Point (906980.7207283 6550304.97315954)</td>\n",
              "      <td>Point (906736.32315476 6550335.52813463)</td>\n",
              "      <td>Point (906595.72670333 6550598.70621165)</td>\n",
              "      <td>Point (907032.95563938 6550121.6369531)</td>\n",
              "      <td>NaN</td>\n",
              "    </tr>\n",
              "  </tbody>\n",
              "</table>\n",
              "</div>"
            ],
            "text/plain": [
              "   Unnamed: 0  ... CODE_CULTU_2019_y\n",
              "0           0  ...               NaN\n",
              "1           1  ...               NaN\n",
              "\n",
              "[2 rows x 26 columns]"
            ]
          },
          "metadata": {
            "tags": []
          },
          "execution_count": 68
        }
      ]
    },
    {
      "cell_type": "code",
      "metadata": {
        "id": "WaKn3wIN3pyL"
      },
      "source": [
        "data_part2['CODE_CULTU_2019_y'] = data_part2.apply(lambda x: predict_next_culture_4_years_list(x['CODE_CULTU_2015'],x['CODE_CULTU_2016'],x['CODE_CULTU_2017'],x['CODE_CULTU_2018']), axis=1, result_type='expand')"
      ],
      "execution_count": 69,
      "outputs": []
    },
    {
      "cell_type": "code",
      "metadata": {
        "colab": {
          "base_uri": "https://localhost:8080/"
        },
        "id": "o5wGWz9O4A2w",
        "outputId": "79cbc9a3-28a0-4313-e53e-8645155b156a"
      },
      "source": [
        "data_part2['CODE_CULTU_2019_y'].value_counts()"
      ],
      "execution_count": 70,
      "outputs": [
        {
          "output_type": "execute_result",
          "data": {
            "text/plain": [
              "Unknown    1453574\n",
              "PPH        1067851\n",
              "VRC         181807\n",
              "J6S         100032\n",
              "SNE          85849\n",
              "            ...   \n",
              "CHR              2\n",
              "LDP              2\n",
              "SAD              2\n",
              "PAN              2\n",
              "LIP              2\n",
              "Name: CODE_CULTU_2019_y, Length: 160, dtype: int64"
            ]
          },
          "metadata": {
            "tags": []
          },
          "execution_count": 70
        }
      ]
    },
    {
      "cell_type": "code",
      "metadata": {
        "id": "8qU4OmJK4nHu"
      },
      "source": [
        "data_part3 = data_part2[data_part2['CODE_CULTU_2019_y'] == 'Unknown']"
      ],
      "execution_count": 71,
      "outputs": []
    },
    {
      "cell_type": "code",
      "metadata": {
        "colab": {
          "base_uri": "https://localhost:8080/"
        },
        "id": "a4sP01vMSIkL",
        "outputId": "9fc77cab-2e1c-4fac-f12e-b62b329d98d1"
      },
      "source": [
        "print(data_part1.shape)\r\n",
        "print(data_part2.shape)\r\n",
        "print(data_part3.shape)"
      ],
      "execution_count": null,
      "outputs": [
        {
          "output_type": "stream",
          "text": [
            "(82551, 26)\n",
            "(3532253, 26)\n",
            "(1453574, 26)\n"
          ],
          "name": "stdout"
        }
      ]
    },
    {
      "cell_type": "markdown",
      "metadata": {
        "id": "1TDOHgszcRMW"
      },
      "source": [
        "##Full CatBoost v1###"
      ]
    },
    {
      "cell_type": "code",
      "metadata": {
        "id": "MBozUHixcRMW"
      },
      "source": [
        "X2 = data_part3[[\r\n",
        "       'CODE_CULTU_2015', 'CODE_CULTU_2016', 'CODE_CULTU_2017',\r\n",
        "       'CODE_CULTU_2018', 'CODE_GROUP_2015',\r\n",
        "       'CODE_GROUP_2016', 'CODE_GROUP_2017', 'CODE_GROUP_2018']]\r\n",
        "\r\n",
        "\r\n",
        "X2 = X2.replace(np.nan, 'unknown', regex=True)\r\n",
        "\r\n",
        "Y2 = data_part3['CODE_CULTU_2019']"
      ],
      "execution_count": 32,
      "outputs": []
    },
    {
      "cell_type": "code",
      "metadata": {
        "id": "0UBuF_dMcRMW"
      },
      "source": [
        "\r\n",
        "cat_features2 = [0, 1, 2, 3, 4, 5, 6, 7]"
      ],
      "execution_count": 33,
      "outputs": []
    },
    {
      "cell_type": "code",
      "metadata": {
        "colab": {
          "base_uri": "https://localhost:8080/"
        },
        "id": "mNzB8oigcRMW",
        "outputId": "8d2a1d86-9a63-4e1e-ae8d-2bc273263f7b"
      },
      "source": [
        "train_dataset2 = Pool(data=X2,\r\n",
        "                     label=Y2,\r\n",
        "                     cat_features=cat_features2)\r\n",
        "\r\n",
        "eval_dataset2 = Pool(data=X2,\r\n",
        "                    label=Y2,\r\n",
        "                    cat_features=cat_features2)\r\n",
        "\r\n",
        "# Initialize CatBoostClassifier\r\n",
        "model2 = CatBoostClassifier(iterations=200,\r\n",
        "                           #learning_rate=0.25,\r\n",
        "                           depth=6,\r\n",
        "                           loss_function='MultiClass',  task_type='GPU')\r\n",
        "\r\n",
        "#model = CatBoostClassifier(loss_function='MultiClass',  task_type='GPU')\r\n",
        "\r\n",
        "# Fit model\r\n",
        "model2.fit(train_dataset2)  \r\n",
        "# Get predicted classes\r\n",
        "#preds_class2 = model2.predict(eval_dataset2)\r\n",
        "# Get predicted probabilities for each class\r\n",
        "#preds_proba2 = model2.predict_proba(eval_dataset2)\r\n",
        "# Get predicted RawFormulaVal\r\n",
        "#preds_raw2 = model2.predict(eval_dataset2, prediction_type='RawFormulaVal')"
      ],
      "execution_count": 34,
      "outputs": [
        {
          "output_type": "stream",
          "text": [
            "Learning rate set to 0.5\n",
            "0:\tlearn: 14.3086448\ttotal: 5.54s\tremaining: 18m 22s\n",
            "1:\tlearn: 1144.3181895\ttotal: 11.1s\tremaining: 18m 20s\n",
            "2:\tlearn: 3486.0948036\ttotal: 16.7s\tremaining: 18m 14s\n",
            "3:\tlearn: 3452.6444309\ttotal: 22.2s\tremaining: 18m 6s\n",
            "4:\tlearn: 3960.3214477\ttotal: 27.7s\tremaining: 17m 59s\n",
            "5:\tlearn: 3204.8004381\ttotal: 33.2s\tremaining: 17m 53s\n",
            "6:\tlearn: 2691.2543015\ttotal: 38.7s\tremaining: 17m 47s\n",
            "7:\tlearn: 2598.3091057\ttotal: 44.2s\tremaining: 17m 41s\n",
            "8:\tlearn: 2478.0790631\ttotal: 49.7s\tremaining: 17m 35s\n",
            "9:\tlearn: 2395.2828215\ttotal: 55.3s\tremaining: 17m 30s\n",
            "10:\tlearn: 2342.2444705\ttotal: 1m\tremaining: 17m 24s\n",
            "11:\tlearn: 2288.5541321\ttotal: 1m 6s\tremaining: 17m 18s\n",
            "12:\tlearn: 2270.1778430\ttotal: 1m 11s\tremaining: 17m 13s\n",
            "13:\tlearn: 2127.8837844\ttotal: 1m 17s\tremaining: 17m 7s\n",
            "14:\tlearn: 2055.0579138\ttotal: 1m 22s\tremaining: 17m 2s\n",
            "15:\tlearn: 2073.1800651\ttotal: 1m 28s\tremaining: 16m 56s\n",
            "16:\tlearn: 2005.3057416\ttotal: 1m 33s\tremaining: 16m 51s\n",
            "17:\tlearn: 1976.6813441\ttotal: 1m 39s\tremaining: 16m 45s\n",
            "18:\tlearn: 1916.2719421\ttotal: 1m 44s\tremaining: 16m 40s\n",
            "19:\tlearn: 1918.4919048\ttotal: 1m 50s\tremaining: 16m 34s\n",
            "20:\tlearn: 1961.7905989\ttotal: 1m 55s\tremaining: 16m 28s\n",
            "21:\tlearn: 2094.5573985\ttotal: 2m 1s\tremaining: 16m 23s\n",
            "22:\tlearn: 2103.3900496\ttotal: 2m 7s\tremaining: 16m 17s\n",
            "23:\tlearn: 2117.5416291\ttotal: 2m 12s\tremaining: 16m 12s\n",
            "24:\tlearn: 2090.3129638\ttotal: 2m 18s\tremaining: 16m 6s\n",
            "25:\tlearn: 1965.5061524\ttotal: 2m 23s\tremaining: 16m\n",
            "26:\tlearn: 1960.6247002\ttotal: 2m 29s\tremaining: 15m 55s\n",
            "27:\tlearn: 1957.9889239\ttotal: 2m 34s\tremaining: 15m 49s\n",
            "28:\tlearn: 1887.4242275\ttotal: 2m 40s\tremaining: 15m 44s\n",
            "29:\tlearn: 1840.9598190\ttotal: 2m 45s\tremaining: 15m 38s\n",
            "30:\tlearn: 1849.7660525\ttotal: 2m 51s\tremaining: 15m 33s\n",
            "31:\tlearn: 1830.0174549\ttotal: 2m 56s\tremaining: 15m 27s\n",
            "32:\tlearn: 1807.1487575\ttotal: 3m 2s\tremaining: 15m 21s\n",
            "33:\tlearn: 1860.2915462\ttotal: 3m 7s\tremaining: 15m 16s\n",
            "34:\tlearn: 1902.4872156\ttotal: 3m 13s\tremaining: 15m 10s\n",
            "35:\tlearn: 1872.3279530\ttotal: 3m 18s\tremaining: 15m 5s\n",
            "36:\tlearn: 1872.1881156\ttotal: 3m 24s\tremaining: 14m 59s\n",
            "37:\tlearn: 1825.8441717\ttotal: 3m 29s\tremaining: 14m 54s\n",
            "38:\tlearn: 1960.2242087\ttotal: 3m 35s\tremaining: 14m 48s\n",
            "39:\tlearn: 1838.7215401\ttotal: 3m 40s\tremaining: 14m 43s\n",
            "40:\tlearn: 1841.5646070\ttotal: 3m 46s\tremaining: 14m 37s\n",
            "41:\tlearn: 1762.9833885\ttotal: 3m 51s\tremaining: 14m 32s\n",
            "42:\tlearn: 1752.1533874\ttotal: 3m 57s\tremaining: 14m 26s\n",
            "43:\tlearn: 1986.1062787\ttotal: 4m 2s\tremaining: 14m 20s\n",
            "44:\tlearn: 1885.1484355\ttotal: 4m 8s\tremaining: 14m 15s\n",
            "45:\tlearn: 1885.6806630\ttotal: 4m 13s\tremaining: 14m 9s\n",
            "46:\tlearn: 1793.8340889\ttotal: 4m 19s\tremaining: 14m 4s\n",
            "47:\tlearn: 1807.7864794\ttotal: 4m 24s\tremaining: 13m 58s\n",
            "48:\tlearn: 1799.2049720\ttotal: 4m 30s\tremaining: 13m 53s\n",
            "49:\tlearn: 1802.3696296\ttotal: 4m 35s\tremaining: 13m 47s\n",
            "50:\tlearn: 1742.2325055\ttotal: 4m 41s\tremaining: 13m 42s\n",
            "51:\tlearn: 1766.9733333\ttotal: 4m 46s\tremaining: 13m 36s\n",
            "52:\tlearn: 1727.5603224\ttotal: 4m 52s\tremaining: 13m 31s\n",
            "53:\tlearn: 1766.0390293\ttotal: 4m 57s\tremaining: 13m 25s\n",
            "54:\tlearn: 1743.8857217\ttotal: 5m 3s\tremaining: 13m 20s\n",
            "55:\tlearn: 1680.0710855\ttotal: 5m 9s\tremaining: 13m 14s\n",
            "56:\tlearn: 1717.2769904\ttotal: 5m 14s\tremaining: 13m 9s\n",
            "57:\tlearn: 1737.5537647\ttotal: 5m 20s\tremaining: 13m 3s\n",
            "58:\tlearn: 1695.7170230\ttotal: 5m 25s\tremaining: 12m 58s\n",
            "59:\tlearn: 1669.3030778\ttotal: 5m 31s\tremaining: 12m 52s\n",
            "60:\tlearn: 1748.6761211\ttotal: 5m 36s\tremaining: 12m 47s\n",
            "61:\tlearn: 1715.0107088\ttotal: 5m 42s\tremaining: 12m 41s\n",
            "62:\tlearn: 1740.1976425\ttotal: 5m 47s\tremaining: 12m 36s\n",
            "63:\tlearn: 1846.4846289\ttotal: 5m 53s\tremaining: 12m 30s\n",
            "64:\tlearn: 1727.8044214\ttotal: 5m 58s\tremaining: 12m 25s\n",
            "65:\tlearn: 1692.3376780\ttotal: 6m 4s\tremaining: 12m 19s\n",
            "66:\tlearn: 1683.1020698\ttotal: 6m 9s\tremaining: 12m 13s\n",
            "67:\tlearn: 1667.0575781\ttotal: 6m 15s\tremaining: 12m 8s\n",
            "68:\tlearn: 1735.4031924\ttotal: 6m 20s\tremaining: 12m 2s\n",
            "69:\tlearn: 1876.3628078\ttotal: 6m 26s\tremaining: 11m 57s\n",
            "70:\tlearn: 1781.2413266\ttotal: 6m 31s\tremaining: 11m 52s\n",
            "71:\tlearn: 1732.4025003\ttotal: 6m 37s\tremaining: 11m 46s\n",
            "72:\tlearn: 1745.5940626\ttotal: 6m 42s\tremaining: 11m 41s\n",
            "73:\tlearn: 1808.4587204\ttotal: 6m 48s\tremaining: 11m 35s\n",
            "74:\tlearn: 1806.0075153\ttotal: 6m 54s\tremaining: 11m 30s\n",
            "75:\tlearn: 1730.7984210\ttotal: 6m 59s\tremaining: 11m 24s\n",
            "76:\tlearn: 1719.9603185\ttotal: 7m 5s\tremaining: 11m 19s\n",
            "77:\tlearn: 1669.6118120\ttotal: 7m 10s\tremaining: 11m 13s\n",
            "78:\tlearn: 1668.7019883\ttotal: 7m 16s\tremaining: 11m 7s\n",
            "79:\tlearn: 1659.9702526\ttotal: 7m 21s\tremaining: 11m 2s\n",
            "80:\tlearn: 1658.7765274\ttotal: 7m 27s\tremaining: 10m 56s\n",
            "81:\tlearn: 1644.1244216\ttotal: 7m 32s\tremaining: 10m 51s\n",
            "82:\tlearn: 1678.6369597\ttotal: 7m 38s\tremaining: 10m 45s\n",
            "83:\tlearn: 1667.5056213\ttotal: 7m 43s\tremaining: 10m 40s\n",
            "84:\tlearn: 1649.5830113\ttotal: 7m 49s\tremaining: 10m 34s\n",
            "85:\tlearn: 1664.3046835\ttotal: 7m 54s\tremaining: 10m 29s\n",
            "86:\tlearn: 1880.9436272\ttotal: 8m\tremaining: 10m 23s\n",
            "87:\tlearn: 1700.9970294\ttotal: 8m 5s\tremaining: 10m 18s\n",
            "88:\tlearn: 1664.6577993\ttotal: 8m 11s\tremaining: 10m 12s\n",
            "89:\tlearn: 1686.3871918\ttotal: 8m 16s\tremaining: 10m 7s\n",
            "90:\tlearn: 1673.0874933\ttotal: 8m 22s\tremaining: 10m 1s\n",
            "91:\tlearn: 1675.9705388\ttotal: 8m 27s\tremaining: 9m 56s\n",
            "92:\tlearn: 1616.5822669\ttotal: 8m 33s\tremaining: 9m 50s\n",
            "93:\tlearn: 1660.1657432\ttotal: 8m 38s\tremaining: 9m 45s\n",
            "94:\tlearn: 1710.7314027\ttotal: 8m 44s\tremaining: 9m 39s\n",
            "95:\tlearn: 1702.7097733\ttotal: 8m 49s\tremaining: 9m 34s\n",
            "96:\tlearn: 1868.7938007\ttotal: 8m 55s\tremaining: 9m 28s\n",
            "97:\tlearn: 1825.0771794\ttotal: 9m\tremaining: 9m 23s\n",
            "98:\tlearn: 1740.4012345\ttotal: 9m 6s\tremaining: 9m 17s\n",
            "99:\tlearn: 1702.2814552\ttotal: 9m 12s\tremaining: 9m 12s\n",
            "100:\tlearn: 1733.8220084\ttotal: 9m 17s\tremaining: 9m 6s\n",
            "101:\tlearn: 1813.1003004\ttotal: 9m 23s\tremaining: 9m\n",
            "102:\tlearn: 1779.9933571\ttotal: 9m 28s\tremaining: 8m 55s\n",
            "103:\tlearn: 1795.3316171\ttotal: 9m 34s\tremaining: 8m 49s\n",
            "104:\tlearn: 1705.3892268\ttotal: 9m 39s\tremaining: 8m 44s\n",
            "105:\tlearn: 1707.0390967\ttotal: 9m 45s\tremaining: 8m 38s\n",
            "106:\tlearn: 1663.1151851\ttotal: 9m 50s\tremaining: 8m 33s\n",
            "107:\tlearn: 1685.4229479\ttotal: 9m 56s\tremaining: 8m 27s\n",
            "108:\tlearn: 1759.5859034\ttotal: 10m 1s\tremaining: 8m 22s\n",
            "109:\tlearn: 1748.3386797\ttotal: 10m 7s\tremaining: 8m 16s\n",
            "110:\tlearn: 1727.3204501\ttotal: 10m 12s\tremaining: 8m 11s\n",
            "111:\tlearn: 1697.4000030\ttotal: 10m 18s\tremaining: 8m 5s\n",
            "112:\tlearn: 1716.3345850\ttotal: 10m 23s\tremaining: 8m\n",
            "113:\tlearn: 1689.3813676\ttotal: 10m 29s\tremaining: 7m 54s\n",
            "114:\tlearn: 1759.3037630\ttotal: 10m 34s\tremaining: 7m 49s\n",
            "115:\tlearn: 1822.6162879\ttotal: 10m 40s\tremaining: 7m 43s\n",
            "116:\tlearn: 1753.7965649\ttotal: 10m 45s\tremaining: 7m 38s\n",
            "117:\tlearn: 1739.1402323\ttotal: 10m 51s\tremaining: 7m 32s\n",
            "118:\tlearn: 1791.3217710\ttotal: 10m 56s\tremaining: 7m 27s\n",
            "119:\tlearn: 1743.3387003\ttotal: 11m 2s\tremaining: 7m 21s\n",
            "120:\tlearn: 1761.8715580\ttotal: 11m 7s\tremaining: 7m 16s\n",
            "121:\tlearn: 1737.9348833\ttotal: 11m 13s\tremaining: 7m 10s\n",
            "122:\tlearn: 1738.9260733\ttotal: 11m 18s\tremaining: 7m 4s\n",
            "123:\tlearn: 1739.6446332\ttotal: 11m 24s\tremaining: 6m 59s\n",
            "124:\tlearn: 1753.2787791\ttotal: 11m 29s\tremaining: 6m 53s\n",
            "125:\tlearn: 1731.0116994\ttotal: 11m 35s\tremaining: 6m 48s\n",
            "126:\tlearn: 1819.5978079\ttotal: 11m 40s\tremaining: 6m 42s\n",
            "127:\tlearn: 1761.8965667\ttotal: 11m 46s\tremaining: 6m 37s\n",
            "128:\tlearn: 1807.2214941\ttotal: 11m 52s\tremaining: 6m 31s\n",
            "129:\tlearn: 1806.3308672\ttotal: 11m 57s\tremaining: 6m 26s\n",
            "130:\tlearn: 1790.0850731\ttotal: 12m 3s\tremaining: 6m 20s\n",
            "131:\tlearn: 1814.7971937\ttotal: 12m 8s\tremaining: 6m 15s\n",
            "132:\tlearn: 1812.7559904\ttotal: 12m 14s\tremaining: 6m 9s\n",
            "133:\tlearn: 1764.6660163\ttotal: 12m 19s\tremaining: 6m 4s\n",
            "134:\tlearn: 1733.5284203\ttotal: 12m 25s\tremaining: 5m 58s\n",
            "135:\tlearn: 1698.4561804\ttotal: 12m 30s\tremaining: 5m 53s\n",
            "136:\tlearn: 1759.0365926\ttotal: 12m 36s\tremaining: 5m 47s\n",
            "137:\tlearn: 1682.3761129\ttotal: 12m 41s\tremaining: 5m 42s\n",
            "138:\tlearn: 1731.8759086\ttotal: 12m 47s\tremaining: 5m 36s\n",
            "139:\tlearn: 1793.7534271\ttotal: 12m 52s\tremaining: 5m 31s\n",
            "140:\tlearn: 1715.7474088\ttotal: 12m 58s\tremaining: 5m 25s\n",
            "141:\tlearn: 1696.9866550\ttotal: 13m 3s\tremaining: 5m 20s\n",
            "142:\tlearn: 1727.8780385\ttotal: 13m 9s\tremaining: 5m 14s\n",
            "143:\tlearn: 1685.8995221\ttotal: 13m 14s\tremaining: 5m 9s\n",
            "144:\tlearn: 1681.6100013\ttotal: 13m 20s\tremaining: 5m 3s\n",
            "145:\tlearn: 1666.1662468\ttotal: 13m 25s\tremaining: 4m 58s\n",
            "146:\tlearn: 1663.5542463\ttotal: 13m 31s\tremaining: 4m 52s\n",
            "147:\tlearn: 1661.5332966\ttotal: 13m 36s\tremaining: 4m 47s\n",
            "148:\tlearn: 1678.1207589\ttotal: 13m 42s\tremaining: 4m 41s\n",
            "149:\tlearn: 1665.0774876\ttotal: 13m 47s\tremaining: 4m 35s\n",
            "150:\tlearn: 1720.5760257\ttotal: 13m 53s\tremaining: 4m 30s\n",
            "151:\tlearn: 1720.6214641\ttotal: 13m 58s\tremaining: 4m 24s\n",
            "152:\tlearn: 1685.6617634\ttotal: 14m 4s\tremaining: 4m 19s\n",
            "153:\tlearn: 1668.5357333\ttotal: 14m 9s\tremaining: 4m 13s\n",
            "154:\tlearn: 1651.2031173\ttotal: 14m 15s\tremaining: 4m 8s\n",
            "155:\tlearn: 1688.6564674\ttotal: 14m 21s\tremaining: 4m 2s\n",
            "156:\tlearn: 1629.9457200\ttotal: 14m 26s\tremaining: 3m 57s\n",
            "157:\tlearn: 1634.3403831\ttotal: 14m 32s\tremaining: 3m 51s\n",
            "158:\tlearn: 1695.1074799\ttotal: 14m 37s\tremaining: 3m 46s\n",
            "159:\tlearn: 1642.7693726\ttotal: 14m 43s\tremaining: 3m 40s\n",
            "160:\tlearn: 1655.0090191\ttotal: 14m 48s\tremaining: 3m 35s\n",
            "161:\tlearn: 1760.3072812\ttotal: 14m 54s\tremaining: 3m 29s\n",
            "162:\tlearn: 1750.9464534\ttotal: 14m 59s\tremaining: 3m 24s\n",
            "163:\tlearn: 1681.5844642\ttotal: 15m 5s\tremaining: 3m 18s\n",
            "164:\tlearn: 1647.6101416\ttotal: 15m 10s\tremaining: 3m 13s\n",
            "165:\tlearn: 1630.1586462\ttotal: 15m 16s\tremaining: 3m 7s\n",
            "166:\tlearn: 1641.9055156\ttotal: 15m 21s\tremaining: 3m 2s\n",
            "167:\tlearn: 1654.6742195\ttotal: 15m 27s\tremaining: 2m 56s\n",
            "168:\tlearn: 1660.7383016\ttotal: 15m 32s\tremaining: 2m 51s\n",
            "169:\tlearn: 1640.7838225\ttotal: 15m 38s\tremaining: 2m 45s\n",
            "170:\tlearn: 1650.5921652\ttotal: 15m 43s\tremaining: 2m 40s\n",
            "171:\tlearn: 1662.8608712\ttotal: 15m 49s\tremaining: 2m 34s\n",
            "172:\tlearn: 1637.4708739\ttotal: 15m 54s\tremaining: 2m 29s\n",
            "173:\tlearn: 1659.7333744\ttotal: 16m\tremaining: 2m 23s\n",
            "174:\tlearn: 1751.6437030\ttotal: 16m 5s\tremaining: 2m 17s\n",
            "175:\tlearn: 1903.0703411\ttotal: 16m 11s\tremaining: 2m 12s\n",
            "176:\tlearn: 1817.8553001\ttotal: 16m 16s\tremaining: 2m 6s\n",
            "177:\tlearn: 1702.1395044\ttotal: 16m 22s\tremaining: 2m 1s\n",
            "178:\tlearn: 1706.5177886\ttotal: 16m 27s\tremaining: 1m 55s\n",
            "179:\tlearn: 1651.4621863\ttotal: 16m 33s\tremaining: 1m 50s\n",
            "180:\tlearn: 1711.8950119\ttotal: 16m 38s\tremaining: 1m 44s\n",
            "181:\tlearn: 1668.8775776\ttotal: 16m 44s\tremaining: 1m 39s\n",
            "182:\tlearn: 1675.9860372\ttotal: 16m 49s\tremaining: 1m 33s\n",
            "183:\tlearn: 1617.3393965\ttotal: 16m 55s\tremaining: 1m 28s\n",
            "184:\tlearn: 1634.7472148\ttotal: 17m\tremaining: 1m 22s\n",
            "185:\tlearn: 1649.7388754\ttotal: 17m 6s\tremaining: 1m 17s\n",
            "186:\tlearn: 1644.3426313\ttotal: 17m 11s\tremaining: 1m 11s\n",
            "187:\tlearn: 1652.3320313\ttotal: 17m 17s\tremaining: 1m 6s\n",
            "188:\tlearn: 1627.3502746\ttotal: 17m 23s\tremaining: 1m\n",
            "189:\tlearn: 1635.1383720\ttotal: 17m 28s\tremaining: 55.2s\n",
            "190:\tlearn: 1616.3631766\ttotal: 17m 34s\tremaining: 49.7s\n",
            "191:\tlearn: 1650.3066786\ttotal: 17m 39s\tremaining: 44.1s\n",
            "192:\tlearn: 1681.3384279\ttotal: 17m 45s\tremaining: 38.6s\n",
            "193:\tlearn: 1676.4580324\ttotal: 17m 50s\tremaining: 33.1s\n",
            "194:\tlearn: 1655.1673489\ttotal: 17m 56s\tremaining: 27.6s\n",
            "195:\tlearn: 1734.9518029\ttotal: 18m 1s\tremaining: 22.1s\n",
            "196:\tlearn: 1669.4416824\ttotal: 18m 7s\tremaining: 16.6s\n",
            "197:\tlearn: 1749.1069048\ttotal: 18m 12s\tremaining: 11s\n",
            "198:\tlearn: 1733.8126741\ttotal: 18m 18s\tremaining: 5.52s\n",
            "199:\tlearn: 1703.5162159\ttotal: 18m 23s\tremaining: 0us\n"
          ],
          "name": "stdout"
        },
        {
          "output_type": "execute_result",
          "data": {
            "text/plain": [
              "<catboost.core.CatBoostClassifier at 0x7f0c6b7fd910>"
            ]
          },
          "metadata": {
            "tags": []
          },
          "execution_count": 34
        }
      ]
    },
    {
      "cell_type": "markdown",
      "metadata": {
        "id": "5i_9jc-wcRMb"
      },
      "source": [
        "## TEST Predict v1 ##"
      ]
    },
    {
      "cell_type": "code",
      "metadata": {
        "id": "io4k1VeJuEx1"
      },
      "source": [
        "test2020 = pd.read_csv('/content/drive/MyDrive/Хакатон/testWithCodes2015-2019.csv')"
      ],
      "execution_count": 72,
      "outputs": []
    },
    {
      "cell_type": "code",
      "metadata": {
        "id": "f9qbhP0QuhmT"
      },
      "source": [
        "#Смещаем даты на год, т.к. предсказываем на 2020 по данным 2019-2016, для упрощения пайплана считаем, что предсказываем на 2019 по данным 2018-2015"
      ],
      "execution_count": null,
      "outputs": []
    },
    {
      "cell_type": "code",
      "metadata": {
        "id": "D3FLTHq_uEx2"
      },
      "source": [
        "test2020.rename(columns = {'CODE_CULTU_2015': 'CODE_CULTU_2014', 'CODE_GROUP_2015': 'CODE_GROUP_2014'}, inplace = True)"
      ],
      "execution_count": 73,
      "outputs": []
    },
    {
      "cell_type": "code",
      "metadata": {
        "id": "iE6dyQEcuEx3"
      },
      "source": [
        "test2020.rename(columns = {'CODE_CULTU_2016': 'CODE_CULTU_2015', 'CODE_GROUP_2016': 'CODE_GROUP_2015'}, inplace = True)"
      ],
      "execution_count": 74,
      "outputs": []
    },
    {
      "cell_type": "code",
      "metadata": {
        "id": "qMkb3MWXuEx3"
      },
      "source": [
        "test2020.rename(columns = {'CODE_CULTU_2017': 'CODE_CULTU_2016', 'CODE_GROUP_2017': 'CODE_GROUP_2016'}, inplace = True)"
      ],
      "execution_count": 75,
      "outputs": []
    },
    {
      "cell_type": "code",
      "metadata": {
        "id": "PWJqqIvmuEx4"
      },
      "source": [
        "test2020.rename(columns = {'CODE_CULTU_2018': 'CODE_CULTU_2017', 'CODE_GROUP_2018': 'CODE_GROUP_2017'}, inplace = True)"
      ],
      "execution_count": 76,
      "outputs": []
    },
    {
      "cell_type": "code",
      "metadata": {
        "id": "WrAeCLkDuEx5"
      },
      "source": [
        "test2020.rename(columns = {'CODE_CULTU_2019': 'CODE_CULTU_2018', 'CODE_GROUP_2019': 'CODE_GROUP_2018'}, inplace = True)"
      ],
      "execution_count": 77,
      "outputs": []
    },
    {
      "cell_type": "code",
      "metadata": {
        "id": "GYBAM_9UuEx5"
      },
      "source": [
        "gm_test_pred = pd.merge(gm_uniq, test2020,  how='left', left_on=['CODE_CULTU_2015','CODE_CULTU_2016','CODE_CULTU_2017','CODE_CULTU_2018'], right_on = ['CODE_CULTU_2015','CODE_CULTU_2016','CODE_CULTU_2017','CODE_CULTU_2018'])\r\n"
      ],
      "execution_count": 78,
      "outputs": []
    },
    {
      "cell_type": "code",
      "metadata": {
        "id": "ffGs9vH7uEx6"
      },
      "source": [
        "gm_test_pred = gm_pred.reindex(columns=['CODE_CULTU_2015','CODE_CULTU_2016','CODE_CULTU_2017','CODE_CULTU_2018','CODE_CULTU_2019_y'])"
      ],
      "execution_count": 79,
      "outputs": []
    },
    {
      "cell_type": "code",
      "metadata": {
        "id": "q4_M74CpuEx7"
      },
      "source": [
        "test_pred = pd.merge(test2020, gm_pred,  how='left', left_on=['CODE_CULTU_2015','CODE_CULTU_2016','CODE_CULTU_2017','CODE_CULTU_2018'], right_on = ['CODE_CULTU_2015','CODE_CULTU_2016','CODE_CULTU_2017','CODE_CULTU_2018'])"
      ],
      "execution_count": 80,
      "outputs": []
    },
    {
      "cell_type": "code",
      "metadata": {
        "colab": {
          "base_uri": "https://localhost:8080/"
        },
        "id": "dhPSqQbiuEx7",
        "outputId": "7e715dbc-2e2e-4eb3-d8b5-9b87020dcf9e"
      },
      "source": [
        "test_pred['CODE_CULTU_2019_y'].value_counts()"
      ],
      "execution_count": 81,
      "outputs": [
        {
          "output_type": "execute_result",
          "data": {
            "text/plain": [
              "GFP    1\n",
              "Name: CODE_CULTU_2019_y, dtype: int64"
            ]
          },
          "metadata": {
            "tags": []
          },
          "execution_count": 81
        }
      ]
    },
    {
      "cell_type": "code",
      "metadata": {
        "colab": {
          "base_uri": "https://localhost:8080/"
        },
        "id": "AO8GSuAPuEx8",
        "outputId": "3b8cafd2-a71f-4952-ab83-4c1e1c3e0e44"
      },
      "source": [
        "#nms[nms.name.notnull()]\r\n",
        "test_part1 = test_pred[data_pred.CODE_CULTU_2019_y.notnull()].copy()"
      ],
      "execution_count": 82,
      "outputs": [
        {
          "output_type": "stream",
          "text": [
            "/usr/local/lib/python3.7/dist-packages/ipykernel_launcher.py:2: UserWarning: Boolean Series key will be reindexed to match DataFrame index.\n",
            "  \n"
          ],
          "name": "stderr"
        }
      ]
    },
    {
      "cell_type": "code",
      "metadata": {
        "colab": {
          "base_uri": "https://localhost:8080/",
          "height": 84
        },
        "id": "S8Kqt6xauEx-",
        "outputId": "24fd0944-4f1f-442b-d845-b8fa60f09077"
      },
      "source": [
        "test_part1.head(2)"
      ],
      "execution_count": 46,
      "outputs": [
        {
          "output_type": "execute_result",
          "data": {
            "text/html": [
              "<div>\n",
              "<style scoped>\n",
              "    .dataframe tbody tr th:only-of-type {\n",
              "        vertical-align: middle;\n",
              "    }\n",
              "\n",
              "    .dataframe tbody tr th {\n",
              "        vertical-align: top;\n",
              "    }\n",
              "\n",
              "    .dataframe thead th {\n",
              "        text-align: right;\n",
              "    }\n",
              "</style>\n",
              "<table border=\"1\" class=\"dataframe\">\n",
              "  <thead>\n",
              "    <tr style=\"text-align: right;\">\n",
              "      <th></th>\n",
              "      <th>Unnamed: 0</th>\n",
              "      <th>CODE_CULTU_2018</th>\n",
              "      <th>CODE_GROUP_2018</th>\n",
              "      <th>centroid</th>\n",
              "      <th>CODE_CULTU_2017</th>\n",
              "      <th>CODE_GROUP_2017</th>\n",
              "      <th>CODE_CULTU_2016</th>\n",
              "      <th>CODE_GROUP_2016</th>\n",
              "      <th>CODE_CULTU_2015</th>\n",
              "      <th>CODE_GROUP_2015</th>\n",
              "      <th>CODE_CULTU_2014</th>\n",
              "      <th>CODE_GROUP_2014</th>\n",
              "      <th>cultuCode</th>\n",
              "      <th>groupCode</th>\n",
              "      <th>CODE_CULTU_2019_y</th>\n",
              "    </tr>\n",
              "  </thead>\n",
              "  <tbody>\n",
              "  </tbody>\n",
              "</table>\n",
              "</div>"
            ],
            "text/plain": [
              "Empty DataFrame\n",
              "Columns: [Unnamed: 0, CODE_CULTU_2018, CODE_GROUP_2018, centroid, CODE_CULTU_2017, CODE_GROUP_2017, CODE_CULTU_2016, CODE_GROUP_2016, CODE_CULTU_2015, CODE_GROUP_2015, CODE_CULTU_2014, CODE_GROUP_2014, cultuCode, groupCode, CODE_CULTU_2019_y]\n",
              "Index: []"
            ]
          },
          "metadata": {
            "tags": []
          },
          "execution_count": 46
        }
      ]
    },
    {
      "cell_type": "code",
      "metadata": {
        "id": "b44XgH38uEyA"
      },
      "source": [
        "test_part2 = test_pred[test_pred.CODE_CULTU_2019_y.isna()].copy()"
      ],
      "execution_count": 83,
      "outputs": []
    },
    {
      "cell_type": "code",
      "metadata": {
        "id": "CPyv5f6LuEyA"
      },
      "source": [
        "test_part2['CODE_CULTU_2019_y'] = test_part2.apply(lambda x: predict_next_culture_4_years_list(x['CODE_CULTU_2015'],x['CODE_CULTU_2016'],x['CODE_CULTU_2017'],x['CODE_CULTU_2018']), axis=1, result_type='expand')"
      ],
      "execution_count": 84,
      "outputs": []
    },
    {
      "cell_type": "code",
      "metadata": {
        "colab": {
          "base_uri": "https://localhost:8080/"
        },
        "id": "LD8HImhBuEyA",
        "outputId": "e64c6440-3c1d-4b36-b7d0-040520005059"
      },
      "source": [
        "test_part2['CODE_CULTU_2019_y'].value_counts()"
      ],
      "execution_count": 85,
      "outputs": [
        {
          "output_type": "execute_result",
          "data": {
            "text/plain": [
              "Unknown    13\n",
              "BTA         9\n",
              "PPH         1\n",
              "FAG         1\n",
              "GFP         1\n",
              "J6S         1\n",
              "Name: CODE_CULTU_2019_y, dtype: int64"
            ]
          },
          "metadata": {
            "tags": []
          },
          "execution_count": 85
        }
      ]
    },
    {
      "cell_type": "code",
      "metadata": {
        "id": "dZVTRggeuEyB"
      },
      "source": [
        "test_part3 = test_part2[test_part2['CODE_CULTU_2019_y'] == 'Unknown']"
      ],
      "execution_count": 86,
      "outputs": []
    },
    {
      "cell_type": "code",
      "metadata": {
        "colab": {
          "base_uri": "https://localhost:8080/",
          "height": 211
        },
        "id": "84ZtHvNxuEyB",
        "outputId": "35166768-e450-4d1c-e840-05d0d7cf296a"
      },
      "source": [
        "test_part3.head(2)"
      ],
      "execution_count": 87,
      "outputs": [
        {
          "output_type": "execute_result",
          "data": {
            "text/html": [
              "<div>\n",
              "<style scoped>\n",
              "    .dataframe tbody tr th:only-of-type {\n",
              "        vertical-align: middle;\n",
              "    }\n",
              "\n",
              "    .dataframe tbody tr th {\n",
              "        vertical-align: top;\n",
              "    }\n",
              "\n",
              "    .dataframe thead th {\n",
              "        text-align: right;\n",
              "    }\n",
              "</style>\n",
              "<table border=\"1\" class=\"dataframe\">\n",
              "  <thead>\n",
              "    <tr style=\"text-align: right;\">\n",
              "      <th></th>\n",
              "      <th>Unnamed: 0</th>\n",
              "      <th>CODE_CULTU_2018</th>\n",
              "      <th>CODE_GROUP_2018</th>\n",
              "      <th>centroid</th>\n",
              "      <th>CODE_CULTU_2017</th>\n",
              "      <th>CODE_GROUP_2017</th>\n",
              "      <th>CODE_CULTU_2016</th>\n",
              "      <th>CODE_GROUP_2016</th>\n",
              "      <th>CODE_CULTU_2015</th>\n",
              "      <th>CODE_GROUP_2015</th>\n",
              "      <th>CODE_CULTU_2014</th>\n",
              "      <th>CODE_GROUP_2014</th>\n",
              "      <th>cultuCode</th>\n",
              "      <th>groupCode</th>\n",
              "      <th>CODE_CULTU_2019_y</th>\n",
              "    </tr>\n",
              "  </thead>\n",
              "  <tbody>\n",
              "    <tr>\n",
              "      <th>0</th>\n",
              "      <td>0</td>\n",
              "      <td>BTH</td>\n",
              "      <td>1</td>\n",
              "      <td>Point (625771.91344838 7090455.27713006)</td>\n",
              "      <td>PTC</td>\n",
              "      <td>25</td>\n",
              "      <td>BTH</td>\n",
              "      <td>1</td>\n",
              "      <td>BTN</td>\n",
              "      <td>24</td>\n",
              "      <td>BTH</td>\n",
              "      <td>1</td>\n",
              "      <td>abaca</td>\n",
              "      <td>abaca</td>\n",
              "      <td>Unknown</td>\n",
              "    </tr>\n",
              "    <tr>\n",
              "      <th>1</th>\n",
              "      <td>1</td>\n",
              "      <td>ORP</td>\n",
              "      <td>3</td>\n",
              "      <td>Point (628059.94205405 7090942.4387415)</td>\n",
              "      <td>BTH</td>\n",
              "      <td>1</td>\n",
              "      <td>CZH</td>\n",
              "      <td>5</td>\n",
              "      <td>BTH</td>\n",
              "      <td>1</td>\n",
              "      <td>ORP</td>\n",
              "      <td>3</td>\n",
              "      <td>abcba</td>\n",
              "      <td>abcba</td>\n",
              "      <td>Unknown</td>\n",
              "    </tr>\n",
              "  </tbody>\n",
              "</table>\n",
              "</div>"
            ],
            "text/plain": [
              "   Unnamed: 0 CODE_CULTU_2018  ...  groupCode CODE_CULTU_2019_y\n",
              "0           0             BTH  ...      abaca           Unknown\n",
              "1           1             ORP  ...      abcba           Unknown\n",
              "\n",
              "[2 rows x 15 columns]"
            ]
          },
          "metadata": {
            "tags": []
          },
          "execution_count": 87
        }
      ]
    },
    {
      "cell_type": "code",
      "metadata": {
        "id": "NZHvpjgBuEyB"
      },
      "source": [
        "X_test = test_part3[[\r\n",
        "       'CODE_CULTU_2015', 'CODE_CULTU_2016', 'CODE_CULTU_2017',\r\n",
        "       'CODE_CULTU_2018', 'CODE_GROUP_2015',\r\n",
        "       'CODE_GROUP_2016', 'CODE_GROUP_2017', 'CODE_GROUP_2018']]\r\n",
        "\r\n",
        "X_test = X_test.replace(np.nan, 'unknown', regex=True)"
      ],
      "execution_count": 88,
      "outputs": []
    },
    {
      "cell_type": "code",
      "metadata": {
        "id": "FT9Moir4uEyC"
      },
      "source": [
        "cat_features_test = [0, 1, 2, 3, 4, 5, 6, 7]"
      ],
      "execution_count": 89,
      "outputs": []
    },
    {
      "cell_type": "code",
      "metadata": {
        "id": "BvGQgW_HuEyC"
      },
      "source": [
        "test_dataset2 = Pool(data=X_test,\r\n",
        "                    cat_features=cat_features_test)\r\n",
        "\r\n",
        "\r\n",
        "# Get predicted classes\r\n",
        "preds_class2 = model2.predict(test_dataset2)"
      ],
      "execution_count": 90,
      "outputs": []
    },
    {
      "cell_type": "code",
      "metadata": {
        "colab": {
          "base_uri": "https://localhost:8080/"
        },
        "id": "MJp7KRacuEyC",
        "outputId": "4acd321b-c2f8-47b4-edf6-b4737a45dcc2"
      },
      "source": [
        "X_test.shape"
      ],
      "execution_count": 91,
      "outputs": [
        {
          "output_type": "execute_result",
          "data": {
            "text/plain": [
              "(13, 8)"
            ]
          },
          "metadata": {
            "tags": []
          },
          "execution_count": 91
        }
      ]
    },
    {
      "cell_type": "code",
      "metadata": {
        "colab": {
          "base_uri": "https://localhost:8080/"
        },
        "id": "e8JGBnWNuEyC",
        "outputId": "671f0d9a-af6d-429b-fab9-e0eb52cf01d6"
      },
      "source": [
        "test_part3['CODE_CULTU_2019_y'] = preds_class2"
      ],
      "execution_count": 92,
      "outputs": [
        {
          "output_type": "stream",
          "text": [
            "/usr/local/lib/python3.7/dist-packages/ipykernel_launcher.py:1: SettingWithCopyWarning: \n",
            "A value is trying to be set on a copy of a slice from a DataFrame.\n",
            "Try using .loc[row_indexer,col_indexer] = value instead\n",
            "\n",
            "See the caveats in the documentation: https://pandas.pydata.org/pandas-docs/stable/user_guide/indexing.html#returning-a-view-versus-a-copy\n",
            "  \"\"\"Entry point for launching an IPython kernel.\n"
          ],
          "name": "stderr"
        }
      ]
    },
    {
      "cell_type": "code",
      "metadata": {
        "id": "mGKH8vzNuEyD"
      },
      "source": [
        "test_part2_2 = test_part2[test_part2['CODE_CULTU_2019_y'] != 'Unknown']\r\n",
        "\r\n",
        "final_data = pd.concat([test_part1,test_part2_2,test_part3])"
      ],
      "execution_count": 93,
      "outputs": []
    },
    {
      "cell_type": "code",
      "metadata": {
        "id": "xNT11NsCuEyD"
      },
      "source": [
        "###Корректировка явных ошибок CatBoost### (Предсказание значения, которое не встречалось в выборке, заменяем на последнее значение в выборке)"
      ],
      "execution_count": null,
      "outputs": []
    },
    {
      "cell_type": "code",
      "metadata": {
        "id": "fT7yO0myuEyD"
      },
      "source": [
        "test_part3_1 = test_part3.loc[(test_part3['CODE_CULTU_2019_y'] != test_part3['CODE_CULTU_2015']) & (test_part3['CODE_CULTU_2019_y'] != test_part3['CODE_CULTU_2016']) & (test_part3['CODE_CULTU_2019_y'] != test_part3['CODE_CULTU_2017']) & (test_part3['CODE_CULTU_2019_y'] != test_part3['CODE_CULTU_2018']) ]"
      ],
      "execution_count": 94,
      "outputs": []
    },
    {
      "cell_type": "code",
      "metadata": {
        "id": "vGpCkNgVuEyD"
      },
      "source": [
        "test_part3_2 = test_part3.loc[(test_part3['CODE_CULTU_2019_y'] == test_part3['CODE_CULTU_2015']) | (test_part3['CODE_CULTU_2019_y'] == test_part3['CODE_CULTU_2016']) | (test_part3['CODE_CULTU_2019_y'] == test_part3['CODE_CULTU_2017']) | (test_part3['CODE_CULTU_2019_y'] == test_part3['CODE_CULTU_2018']) ]"
      ],
      "execution_count": 95,
      "outputs": []
    },
    {
      "cell_type": "code",
      "metadata": {
        "colab": {
          "base_uri": "https://localhost:8080/",
          "height": 137
        },
        "id": "0ynrLBTBuEyE",
        "outputId": "eaa34858-676c-4753-f408-c07eafd20a2e"
      },
      "source": [
        "test_part3_1[['CODE_CULTU_2019_y','CODE_CULTU_2015','CODE_CULTU_2016','CODE_CULTU_2017','CODE_CULTU_2018']]"
      ],
      "execution_count": 96,
      "outputs": [
        {
          "output_type": "execute_result",
          "data": {
            "text/html": [
              "<div>\n",
              "<style scoped>\n",
              "    .dataframe tbody tr th:only-of-type {\n",
              "        vertical-align: middle;\n",
              "    }\n",
              "\n",
              "    .dataframe tbody tr th {\n",
              "        vertical-align: top;\n",
              "    }\n",
              "\n",
              "    .dataframe thead th {\n",
              "        text-align: right;\n",
              "    }\n",
              "</style>\n",
              "<table border=\"1\" class=\"dataframe\">\n",
              "  <thead>\n",
              "    <tr style=\"text-align: right;\">\n",
              "      <th></th>\n",
              "      <th>CODE_CULTU_2019_y</th>\n",
              "      <th>CODE_CULTU_2015</th>\n",
              "      <th>CODE_CULTU_2016</th>\n",
              "      <th>CODE_CULTU_2017</th>\n",
              "      <th>CODE_CULTU_2018</th>\n",
              "    </tr>\n",
              "  </thead>\n",
              "  <tbody>\n",
              "    <tr>\n",
              "      <th>3</th>\n",
              "      <td>J5M</td>\n",
              "      <td>BTH</td>\n",
              "      <td>CZH</td>\n",
              "      <td>FAG</td>\n",
              "      <td>BTH</td>\n",
              "    </tr>\n",
              "    <tr>\n",
              "      <th>12</th>\n",
              "      <td>TRN</td>\n",
              "      <td>AVP</td>\n",
              "      <td>CZH</td>\n",
              "      <td>BTH</td>\n",
              "      <td>PTC</td>\n",
              "    </tr>\n",
              "    <tr>\n",
              "      <th>14</th>\n",
              "      <td>PTR</td>\n",
              "      <td>BTH</td>\n",
              "      <td>BTH</td>\n",
              "      <td>BTH</td>\n",
              "      <td>LIF</td>\n",
              "    </tr>\n",
              "  </tbody>\n",
              "</table>\n",
              "</div>"
            ],
            "text/plain": [
              "   CODE_CULTU_2019_y CODE_CULTU_2015  ... CODE_CULTU_2017 CODE_CULTU_2018\n",
              "3                J5M             BTH  ...             FAG             BTH\n",
              "12               TRN             AVP  ...             BTH             PTC\n",
              "14               PTR             BTH  ...             BTH             LIF\n",
              "\n",
              "[3 rows x 5 columns]"
            ]
          },
          "metadata": {
            "tags": []
          },
          "execution_count": 96
        }
      ]
    },
    {
      "cell_type": "code",
      "metadata": {
        "colab": {
          "base_uri": "https://localhost:8080/"
        },
        "id": "5brmbycsuEyE",
        "outputId": "6ae0c04e-8169-423d-c0a3-8f21097d2217"
      },
      "source": [
        "test_part3_1['CODE_CULTU_2019_y'] = test_part3_1['CODE_CULTU_2018']"
      ],
      "execution_count": 97,
      "outputs": [
        {
          "output_type": "stream",
          "text": [
            "/usr/local/lib/python3.7/dist-packages/ipykernel_launcher.py:1: SettingWithCopyWarning: \n",
            "A value is trying to be set on a copy of a slice from a DataFrame.\n",
            "Try using .loc[row_indexer,col_indexer] = value instead\n",
            "\n",
            "See the caveats in the documentation: https://pandas.pydata.org/pandas-docs/stable/user_guide/indexing.html#returning-a-view-versus-a-copy\n",
            "  \"\"\"Entry point for launching an IPython kernel.\n"
          ],
          "name": "stderr"
        }
      ]
    },
    {
      "cell_type": "code",
      "metadata": {
        "id": "mhn-QQpOuEyE"
      },
      "source": [
        "final_data_test = pd.concat([test_part1,test_part2_2,test_part3_1,test_part3_2])"
      ],
      "execution_count": 98,
      "outputs": []
    },
    {
      "cell_type": "code",
      "metadata": {
        "id": "6hbRq_xRvuTc"
      },
      "source": [
        "test2020.rename(columns = {'CODE_CULTU_2019_y': 'CODE_CULTU_2020'}, inplace = True)"
      ],
      "execution_count": 99,
      "outputs": []
    },
    {
      "cell_type": "code",
      "metadata": {
        "id": "pJXxpDTvuEyE"
      },
      "source": [
        "pd.DataFrame(final_data_test[['centroid','CODE_CULTU_2020']]).to_csv(\"/content/drive/MyDrive/Хакатон/predict2020.csv\",index=False,header=True)"
      ],
      "execution_count": null,
      "outputs": []
    },
    {
      "cell_type": "code",
      "metadata": {
        "colab": {
          "base_uri": "https://localhost:8080/"
        },
        "id": "0FVhXdi6uEyE",
        "outputId": "b21eb842-0524-4925-bf30-91eb229eee49"
      },
      "source": [
        "print(test_part1.shape)\r\n",
        "print(test_part2_2.shape)\r\n",
        "print(test_part3.shape)\r\n",
        "\r\n",
        "print(test_part3_1.shape)\r\n",
        "print(test_part3_2.shape)"
      ],
      "execution_count": null,
      "outputs": [
        {
          "output_type": "stream",
          "text": [
            "(4554, 19)\n",
            "(230542, 19)\n",
            "(166549, 20)\n",
            "(31520, 20)\n",
            "(135029, 20)\n"
          ],
          "name": "stdout"
        }
      ]
    },
    {
      "cell_type": "markdown",
      "metadata": {
        "id": "bNLctxJQxZfc"
      },
      "source": [
        "##Full CatBoost v2###"
      ]
    },
    {
      "cell_type": "code",
      "metadata": {
        "id": "FjmrZlkTxZfd"
      },
      "source": [
        "X2 = data_part3[['RotationLength', 'RotationCount',\r\n",
        "       'CODE_CULTU_2015', 'CODE_CULTU_2016', 'CODE_CULTU_2017',\r\n",
        "       'CODE_CULTU_2018', 'CODE_GROUP_2015',\r\n",
        "       'CODE_GROUP_2016', 'CODE_GROUP_2017', 'CODE_GROUP_2018',\r\n",
        "       'hzs', 'kg_id', 'ff_id']]\r\n",
        "\r\n",
        "\r\n",
        "X2 = X2.replace(np.nan, 'unknown', regex=True)\r\n",
        "\r\n",
        "Y2 = data_part3['CODE_CULTU_2019']"
      ],
      "execution_count": 103,
      "outputs": []
    },
    {
      "cell_type": "code",
      "metadata": {
        "id": "rMwy_G0YxZfd"
      },
      "source": [
        "cat_features2 = [2, 3, 4, 5, 6, 7, 8, 9, 10, 11, 12]"
      ],
      "execution_count": 104,
      "outputs": []
    },
    {
      "cell_type": "code",
      "metadata": {
        "colab": {
          "base_uri": "https://localhost:8080/"
        },
        "id": "A8jRpzvvxZfd",
        "outputId": "0471ae6e-44b9-4804-d6df-76276a0ebc1c"
      },
      "source": [
        "train_dataset2 = Pool(data=X2,\r\n",
        "                     label=Y2,\r\n",
        "                     cat_features=cat_features2)\r\n",
        "\r\n",
        "eval_dataset2 = Pool(data=X2,\r\n",
        "                    label=Y2,\r\n",
        "                    cat_features=cat_features2)\r\n",
        "\r\n",
        "# Initialize CatBoostClassifier\r\n",
        "model2 = CatBoostClassifier(iterations=200,\r\n",
        "                           #learning_rate=0.25,\r\n",
        "                           depth=6,\r\n",
        "                           loss_function='MultiClass',  task_type='GPU')\r\n",
        "\r\n",
        "#model = CatBoostClassifier(loss_function='MultiClass',  task_type='GPU')\r\n",
        "\r\n",
        "# Fit model\r\n",
        "model2.fit(train_dataset2)  \r\n",
        "# Get predicted classes\r\n",
        "#preds_class2 = model2.predict(eval_dataset2)\r\n",
        "# Get predicted probabilities for each class\r\n",
        "#preds_proba2 = model2.predict_proba(eval_dataset2)\r\n",
        "# Get predicted RawFormulaVal\r\n",
        "#preds_raw2 = model2.predict(eval_dataset2, prediction_type='RawFormulaVal')"
      ],
      "execution_count": 105,
      "outputs": [
        {
          "output_type": "stream",
          "text": [
            "Learning rate set to 0.5\n",
            "0:\tlearn: 14.2548615\ttotal: 5.54s\tremaining: 18m 22s\n",
            "1:\tlearn: 1157.3926336\ttotal: 11.1s\tremaining: 18m 23s\n",
            "2:\tlearn: 2730.9945390\ttotal: 16.7s\tremaining: 18m 16s\n",
            "3:\tlearn: 3467.8993873\ttotal: 22.2s\tremaining: 18m 10s\n",
            "4:\tlearn: 3646.6503226\ttotal: 27.8s\tremaining: 18m 3s\n",
            "5:\tlearn: 3703.5423033\ttotal: 33.3s\tremaining: 17m 55s\n",
            "6:\tlearn: 3297.7398220\ttotal: 38.8s\tremaining: 17m 48s\n",
            "7:\tlearn: 3194.2178823\ttotal: 44.3s\tremaining: 17m 42s\n",
            "8:\tlearn: 2844.8642697\ttotal: 49.8s\tremaining: 17m 36s\n",
            "9:\tlearn: 2565.9293521\ttotal: 55.4s\tremaining: 17m 31s\n",
            "10:\tlearn: 2355.9967914\ttotal: 1m\tremaining: 17m 26s\n",
            "11:\tlearn: 2229.3086915\ttotal: 1m 6s\tremaining: 17m 20s\n",
            "12:\tlearn: 2053.4022320\ttotal: 1m 11s\tremaining: 17m 15s\n",
            "13:\tlearn: 1989.3632220\ttotal: 1m 17s\tremaining: 17m 10s\n",
            "14:\tlearn: 1918.1495321\ttotal: 1m 23s\tremaining: 17m 4s\n",
            "15:\tlearn: 1868.2893998\ttotal: 1m 28s\tremaining: 16m 59s\n",
            "16:\tlearn: 1811.7412007\ttotal: 1m 34s\tremaining: 16m 53s\n",
            "17:\tlearn: 1784.1451539\ttotal: 1m 39s\tremaining: 16m 48s\n",
            "18:\tlearn: 1724.1642462\ttotal: 1m 45s\tremaining: 16m 42s\n",
            "19:\tlearn: 1671.6501974\ttotal: 1m 50s\tremaining: 16m 37s\n",
            "20:\tlearn: 1638.0666798\ttotal: 1m 56s\tremaining: 16m 31s\n",
            "21:\tlearn: 1577.9529793\ttotal: 2m 1s\tremaining: 16m 25s\n",
            "22:\tlearn: 1559.2536906\ttotal: 2m 7s\tremaining: 16m 19s\n",
            "23:\tlearn: 1508.3018051\ttotal: 2m 12s\tremaining: 16m 14s\n",
            "24:\tlearn: 1488.1234805\ttotal: 2m 18s\tremaining: 16m 8s\n",
            "25:\tlearn: 1459.6051058\ttotal: 2m 23s\tremaining: 16m 3s\n",
            "26:\tlearn: 1414.8362698\ttotal: 2m 29s\tremaining: 15m 57s\n",
            "27:\tlearn: 1386.3545275\ttotal: 2m 34s\tremaining: 15m 52s\n",
            "28:\tlearn: 1352.8056171\ttotal: 2m 40s\tremaining: 15m 46s\n",
            "29:\tlearn: 1323.4986757\ttotal: 2m 46s\tremaining: 15m 41s\n",
            "30:\tlearn: 1309.3579274\ttotal: 2m 51s\tremaining: 15m 35s\n",
            "31:\tlearn: 1282.2403042\ttotal: 2m 57s\tremaining: 15m 30s\n",
            "32:\tlearn: 1262.4193223\ttotal: 3m 2s\tremaining: 15m 24s\n",
            "33:\tlearn: 1241.8339018\ttotal: 3m 8s\tremaining: 15m 18s\n",
            "34:\tlearn: 1227.3589704\ttotal: 3m 13s\tremaining: 15m 13s\n",
            "35:\tlearn: 1201.7264591\ttotal: 3m 19s\tremaining: 15m 7s\n",
            "36:\tlearn: 1191.2093309\ttotal: 3m 24s\tremaining: 15m 2s\n",
            "37:\tlearn: 1178.2471618\ttotal: 3m 30s\tremaining: 14m 56s\n",
            "38:\tlearn: 1153.1154410\ttotal: 3m 35s\tremaining: 14m 51s\n",
            "39:\tlearn: 1141.3710372\ttotal: 3m 41s\tremaining: 14m 45s\n",
            "40:\tlearn: 1124.3333301\ttotal: 3m 46s\tremaining: 14m 40s\n",
            "41:\tlearn: 1115.6877159\ttotal: 3m 52s\tremaining: 14m 34s\n",
            "42:\tlearn: 1093.3141732\ttotal: 3m 58s\tremaining: 14m 29s\n",
            "43:\tlearn: 1083.7847127\ttotal: 4m 3s\tremaining: 14m 23s\n",
            "44:\tlearn: 1061.2747669\ttotal: 4m 9s\tremaining: 14m 18s\n",
            "45:\tlearn: 1052.7274263\ttotal: 4m 14s\tremaining: 14m 12s\n",
            "46:\tlearn: 1041.5902761\ttotal: 4m 20s\tremaining: 14m 6s\n",
            "47:\tlearn: 1030.0613522\ttotal: 4m 25s\tremaining: 14m 1s\n",
            "48:\tlearn: 1017.4626899\ttotal: 4m 31s\tremaining: 13m 55s\n",
            "49:\tlearn: 1012.2251279\ttotal: 4m 36s\tremaining: 13m 50s\n",
            "50:\tlearn: 1004.7638166\ttotal: 4m 42s\tremaining: 13m 44s\n",
            "51:\tlearn: 997.7055506\ttotal: 4m 47s\tremaining: 13m 39s\n",
            "52:\tlearn: 992.4221099\ttotal: 4m 53s\tremaining: 13m 33s\n",
            "53:\tlearn: 1015.9353098\ttotal: 4m 58s\tremaining: 13m 28s\n",
            "54:\tlearn: 992.2072464\ttotal: 5m 4s\tremaining: 13m 22s\n",
            "55:\tlearn: 982.5431440\ttotal: 5m 9s\tremaining: 13m 16s\n",
            "56:\tlearn: 971.3725314\ttotal: 5m 15s\tremaining: 13m 11s\n",
            "57:\tlearn: 961.6865904\ttotal: 5m 20s\tremaining: 13m 5s\n",
            "58:\tlearn: 957.6487417\ttotal: 5m 26s\tremaining: 13m\n",
            "59:\tlearn: 956.0937991\ttotal: 5m 32s\tremaining: 12m 54s\n",
            "60:\tlearn: 946.5211898\ttotal: 5m 37s\tremaining: 12m 49s\n",
            "61:\tlearn: 931.5668662\ttotal: 5m 43s\tremaining: 12m 43s\n",
            "62:\tlearn: 922.7044512\ttotal: 5m 48s\tremaining: 12m 38s\n",
            "63:\tlearn: 912.8033826\ttotal: 5m 54s\tremaining: 12m 32s\n",
            "64:\tlearn: 905.8838972\ttotal: 5m 59s\tremaining: 12m 27s\n",
            "65:\tlearn: 897.6105076\ttotal: 6m 5s\tremaining: 12m 21s\n",
            "66:\tlearn: 891.8066394\ttotal: 6m 10s\tremaining: 12m 16s\n",
            "67:\tlearn: 882.0229531\ttotal: 6m 16s\tremaining: 12m 10s\n",
            "68:\tlearn: 877.4801751\ttotal: 6m 21s\tremaining: 12m 4s\n",
            "69:\tlearn: 873.0538108\ttotal: 6m 27s\tremaining: 11m 59s\n",
            "70:\tlearn: 868.1024399\ttotal: 6m 32s\tremaining: 11m 53s\n",
            "71:\tlearn: 862.6807469\ttotal: 6m 38s\tremaining: 11m 48s\n",
            "72:\tlearn: 858.2150204\ttotal: 6m 44s\tremaining: 11m 42s\n",
            "73:\tlearn: 852.3359499\ttotal: 6m 49s\tremaining: 11m 37s\n",
            "74:\tlearn: 848.3371992\ttotal: 6m 55s\tremaining: 11m 31s\n",
            "75:\tlearn: 843.3755254\ttotal: 7m\tremaining: 11m 26s\n",
            "76:\tlearn: 841.6180477\ttotal: 7m 6s\tremaining: 11m 20s\n",
            "77:\tlearn: 833.5488664\ttotal: 7m 11s\tremaining: 11m 15s\n",
            "78:\tlearn: 827.6149353\ttotal: 7m 17s\tremaining: 11m 9s\n",
            "79:\tlearn: 826.6271796\ttotal: 7m 22s\tremaining: 11m 4s\n",
            "80:\tlearn: 823.6428665\ttotal: 7m 28s\tremaining: 10m 58s\n",
            "81:\tlearn: 820.5446933\ttotal: 7m 33s\tremaining: 10m 53s\n",
            "82:\tlearn: 817.6213168\ttotal: 7m 39s\tremaining: 10m 47s\n",
            "83:\tlearn: 815.1607775\ttotal: 7m 45s\tremaining: 10m 42s\n",
            "84:\tlearn: 812.8231683\ttotal: 7m 50s\tremaining: 10m 36s\n",
            "85:\tlearn: 804.7658750\ttotal: 7m 56s\tremaining: 10m 31s\n",
            "86:\tlearn: 806.5623628\ttotal: 8m 1s\tremaining: 10m 25s\n",
            "87:\tlearn: 796.8610115\ttotal: 8m 7s\tremaining: 10m 20s\n",
            "88:\tlearn: 796.0477884\ttotal: 8m 12s\tremaining: 10m 14s\n",
            "89:\tlearn: 799.6180449\ttotal: 8m 18s\tremaining: 10m 8s\n",
            "90:\tlearn: 795.3343359\ttotal: 8m 23s\tremaining: 10m 3s\n",
            "91:\tlearn: 791.6809519\ttotal: 8m 29s\tremaining: 9m 57s\n",
            "92:\tlearn: 787.8745217\ttotal: 8m 34s\tremaining: 9m 52s\n",
            "93:\tlearn: 784.2302078\ttotal: 8m 40s\tremaining: 9m 46s\n",
            "94:\tlearn: 782.3998173\ttotal: 8m 45s\tremaining: 9m 41s\n",
            "95:\tlearn: 776.7792875\ttotal: 8m 51s\tremaining: 9m 35s\n",
            "96:\tlearn: 772.3254489\ttotal: 8m 56s\tremaining: 9m 30s\n",
            "97:\tlearn: 768.5643689\ttotal: 9m 2s\tremaining: 9m 24s\n",
            "98:\tlearn: 769.3362925\ttotal: 9m 8s\tremaining: 9m 19s\n",
            "99:\tlearn: 773.0677846\ttotal: 9m 13s\tremaining: 9m 13s\n",
            "100:\tlearn: 769.0411193\ttotal: 9m 19s\tremaining: 9m 8s\n",
            "101:\tlearn: 763.3025907\ttotal: 9m 24s\tremaining: 9m 2s\n",
            "102:\tlearn: 761.5029328\ttotal: 9m 30s\tremaining: 8m 56s\n",
            "103:\tlearn: 757.9261599\ttotal: 9m 35s\tremaining: 8m 51s\n",
            "104:\tlearn: 756.0054211\ttotal: 9m 41s\tremaining: 8m 45s\n",
            "105:\tlearn: 752.6220254\ttotal: 9m 46s\tremaining: 8m 40s\n",
            "106:\tlearn: 746.8298690\ttotal: 9m 52s\tremaining: 8m 34s\n",
            "107:\tlearn: 745.3196604\ttotal: 9m 57s\tremaining: 8m 29s\n",
            "108:\tlearn: 740.1459410\ttotal: 10m 3s\tremaining: 8m 23s\n",
            "109:\tlearn: 736.0334623\ttotal: 10m 8s\tremaining: 8m 18s\n",
            "110:\tlearn: 729.5538308\ttotal: 10m 14s\tremaining: 8m 12s\n",
            "111:\tlearn: 726.0501027\ttotal: 10m 20s\tremaining: 8m 7s\n",
            "112:\tlearn: 723.1689505\ttotal: 10m 25s\tremaining: 8m 1s\n",
            "113:\tlearn: 720.9033733\ttotal: 10m 31s\tremaining: 7m 56s\n",
            "114:\tlearn: 720.7704486\ttotal: 10m 36s\tremaining: 7m 50s\n",
            "115:\tlearn: 719.9933295\ttotal: 10m 42s\tremaining: 7m 45s\n",
            "116:\tlearn: 717.7830093\ttotal: 10m 47s\tremaining: 7m 39s\n",
            "117:\tlearn: 713.4412256\ttotal: 10m 53s\tremaining: 7m 33s\n",
            "118:\tlearn: 711.4305347\ttotal: 10m 58s\tremaining: 7m 28s\n",
            "119:\tlearn: 712.4630683\ttotal: 11m 4s\tremaining: 7m 22s\n",
            "120:\tlearn: 714.1563952\ttotal: 11m 9s\tremaining: 7m 17s\n",
            "121:\tlearn: 710.4064987\ttotal: 11m 15s\tremaining: 7m 11s\n",
            "122:\tlearn: 707.0714914\ttotal: 11m 20s\tremaining: 7m 6s\n",
            "123:\tlearn: 704.2444953\ttotal: 11m 26s\tremaining: 7m\n",
            "124:\tlearn: 705.7454577\ttotal: 11m 31s\tremaining: 6m 55s\n",
            "125:\tlearn: 705.0007003\ttotal: 11m 37s\tremaining: 6m 49s\n",
            "126:\tlearn: 704.5128986\ttotal: 11m 43s\tremaining: 6m 44s\n",
            "127:\tlearn: 703.7418116\ttotal: 11m 48s\tremaining: 6m 38s\n",
            "128:\tlearn: 700.7708393\ttotal: 11m 54s\tremaining: 6m 33s\n",
            "129:\tlearn: 696.6562913\ttotal: 11m 59s\tremaining: 6m 27s\n",
            "130:\tlearn: 692.4145864\ttotal: 12m 5s\tremaining: 6m 21s\n",
            "131:\tlearn: 691.3942489\ttotal: 12m 10s\tremaining: 6m 16s\n",
            "132:\tlearn: 690.0253307\ttotal: 12m 16s\tremaining: 6m 10s\n",
            "133:\tlearn: 687.7278322\ttotal: 12m 21s\tremaining: 6m 5s\n",
            "134:\tlearn: 684.4437669\ttotal: 12m 27s\tremaining: 5m 59s\n",
            "135:\tlearn: 682.7995327\ttotal: 12m 32s\tremaining: 5m 54s\n",
            "136:\tlearn: 682.1955814\ttotal: 12m 38s\tremaining: 5m 48s\n",
            "137:\tlearn: 679.8918748\ttotal: 12m 44s\tremaining: 5m 43s\n",
            "138:\tlearn: 676.4306351\ttotal: 12m 49s\tremaining: 5m 37s\n",
            "139:\tlearn: 677.0900195\ttotal: 12m 55s\tremaining: 5m 32s\n",
            "140:\tlearn: 681.8646123\ttotal: 13m\tremaining: 5m 26s\n",
            "141:\tlearn: 690.1515630\ttotal: 13m 6s\tremaining: 5m 21s\n",
            "142:\tlearn: 684.0160212\ttotal: 13m 11s\tremaining: 5m 15s\n",
            "143:\tlearn: 675.2635036\ttotal: 13m 17s\tremaining: 5m 10s\n",
            "144:\tlearn: 668.7720281\ttotal: 13m 22s\tremaining: 5m 4s\n",
            "145:\tlearn: 668.3641397\ttotal: 13m 28s\tremaining: 4m 59s\n",
            "146:\tlearn: 667.0606051\ttotal: 13m 33s\tremaining: 4m 53s\n",
            "147:\tlearn: 666.7866982\ttotal: 13m 39s\tremaining: 4m 47s\n",
            "148:\tlearn: 665.9775698\ttotal: 13m 45s\tremaining: 4m 42s\n",
            "149:\tlearn: 662.8147614\ttotal: 13m 50s\tremaining: 4m 36s\n",
            "150:\tlearn: 662.1807820\ttotal: 13m 56s\tremaining: 4m 31s\n",
            "151:\tlearn: 660.9907112\ttotal: 14m 1s\tremaining: 4m 25s\n",
            "152:\tlearn: 658.4808589\ttotal: 14m 7s\tremaining: 4m 20s\n",
            "153:\tlearn: 656.5932742\ttotal: 14m 12s\tremaining: 4m 14s\n",
            "154:\tlearn: 654.7703688\ttotal: 14m 18s\tremaining: 4m 9s\n",
            "155:\tlearn: 652.2367846\ttotal: 14m 23s\tremaining: 4m 3s\n",
            "156:\tlearn: 649.7344174\ttotal: 14m 29s\tremaining: 3m 58s\n",
            "157:\tlearn: 649.6987095\ttotal: 14m 34s\tremaining: 3m 52s\n",
            "158:\tlearn: 651.2820070\ttotal: 14m 40s\tremaining: 3m 47s\n",
            "159:\tlearn: 648.5974900\ttotal: 14m 46s\tremaining: 3m 41s\n",
            "160:\tlearn: 648.5279676\ttotal: 14m 51s\tremaining: 3m 35s\n",
            "161:\tlearn: 646.8456480\ttotal: 14m 57s\tremaining: 3m 30s\n",
            "162:\tlearn: 647.8516759\ttotal: 15m 2s\tremaining: 3m 24s\n",
            "163:\tlearn: 646.4488991\ttotal: 15m 8s\tremaining: 3m 19s\n",
            "164:\tlearn: 645.1796634\ttotal: 15m 13s\tremaining: 3m 13s\n",
            "165:\tlearn: 643.3160307\ttotal: 15m 19s\tremaining: 3m 8s\n",
            "166:\tlearn: 641.2719215\ttotal: 15m 24s\tremaining: 3m 2s\n",
            "167:\tlearn: 643.4751970\ttotal: 15m 30s\tremaining: 2m 57s\n",
            "168:\tlearn: 645.8291852\ttotal: 15m 35s\tremaining: 2m 51s\n",
            "169:\tlearn: 643.3976612\ttotal: 15m 41s\tremaining: 2m 46s\n",
            "170:\tlearn: 640.0210020\ttotal: 15m 47s\tremaining: 2m 40s\n",
            "171:\tlearn: 636.9544419\ttotal: 15m 52s\tremaining: 2m 35s\n",
            "172:\tlearn: 637.3830242\ttotal: 15m 58s\tremaining: 2m 29s\n",
            "173:\tlearn: 635.1554444\ttotal: 16m 3s\tremaining: 2m 24s\n",
            "174:\tlearn: 635.1177553\ttotal: 16m 9s\tremaining: 2m 18s\n",
            "175:\tlearn: 632.0132859\ttotal: 16m 14s\tremaining: 2m 12s\n",
            "176:\tlearn: 629.2679643\ttotal: 16m 20s\tremaining: 2m 7s\n",
            "177:\tlearn: 626.8891876\ttotal: 16m 25s\tremaining: 2m 1s\n",
            "178:\tlearn: 623.9212094\ttotal: 16m 31s\tremaining: 1m 56s\n",
            "179:\tlearn: 623.2296835\ttotal: 16m 36s\tremaining: 1m 50s\n",
            "180:\tlearn: 623.7430224\ttotal: 16m 42s\tremaining: 1m 45s\n",
            "181:\tlearn: 620.9241277\ttotal: 16m 47s\tremaining: 1m 39s\n",
            "182:\tlearn: 619.8546534\ttotal: 16m 53s\tremaining: 1m 34s\n",
            "183:\tlearn: 618.7557235\ttotal: 16m 59s\tremaining: 1m 28s\n",
            "184:\tlearn: 617.7360465\ttotal: 17m 4s\tremaining: 1m 23s\n",
            "185:\tlearn: 619.3856522\ttotal: 17m 10s\tremaining: 1m 17s\n",
            "186:\tlearn: 618.5920662\ttotal: 17m 15s\tremaining: 1m 12s\n",
            "187:\tlearn: 617.3837232\ttotal: 17m 21s\tremaining: 1m 6s\n",
            "188:\tlearn: 614.8064619\ttotal: 17m 26s\tremaining: 1m\n",
            "189:\tlearn: 613.9717524\ttotal: 17m 32s\tremaining: 55.4s\n",
            "190:\tlearn: 613.5905898\ttotal: 17m 37s\tremaining: 49.8s\n",
            "191:\tlearn: 613.3079651\ttotal: 17m 43s\tremaining: 44.3s\n",
            "192:\tlearn: 613.3488684\ttotal: 17m 49s\tremaining: 38.8s\n",
            "193:\tlearn: 612.3454822\ttotal: 17m 54s\tremaining: 33.2s\n",
            "194:\tlearn: 613.1294698\ttotal: 18m\tremaining: 27.7s\n",
            "195:\tlearn: 610.2093075\ttotal: 18m 5s\tremaining: 22.2s\n",
            "196:\tlearn: 609.0556931\ttotal: 18m 11s\tremaining: 16.6s\n",
            "197:\tlearn: 607.3087383\ttotal: 18m 16s\tremaining: 11.1s\n",
            "198:\tlearn: 605.7149619\ttotal: 18m 22s\tremaining: 5.54s\n",
            "199:\tlearn: 604.5527176\ttotal: 18m 27s\tremaining: 0us\n"
          ],
          "name": "stdout"
        },
        {
          "output_type": "execute_result",
          "data": {
            "text/plain": [
              "<catboost.core.CatBoostClassifier at 0x7f0c60c830d0>"
            ]
          },
          "metadata": {
            "tags": []
          },
          "execution_count": 105
        }
      ]
    },
    {
      "cell_type": "markdown",
      "metadata": {
        "id": "PTC3dmQjcTc7"
      },
      "source": [
        "## TEST Predict v2 ##"
      ]
    },
    {
      "cell_type": "code",
      "metadata": {
        "id": "fkNgLu5-cTc_"
      },
      "source": [
        "test2020 = pd.read_csv('/content/drive/MyDrive/Хакатон/testdataset2015-2019_full.csv')"
      ],
      "execution_count": 126,
      "outputs": []
    },
    {
      "cell_type": "code",
      "metadata": {
        "id": "2-7yXTiA0mpF"
      },
      "source": [
        "#Смещаем даты на год, т.к. предсказываем на 2020 по данным 2019-2016, для упрощения пайплана считаем, что предсказываем на 2019 по данным 2018-2015"
      ],
      "execution_count": null,
      "outputs": []
    },
    {
      "cell_type": "code",
      "metadata": {
        "id": "TFFWA3yx0xZZ"
      },
      "source": [
        "test2020.rename(columns = {'CODE_CULTU_2015': 'CODE_CULTU_2014', 'CODE_GROUP_2015': 'CODE_GROUP_2014'}, inplace = True)"
      ],
      "execution_count": 127,
      "outputs": []
    },
    {
      "cell_type": "code",
      "metadata": {
        "id": "pSHNg4bQhpwP"
      },
      "source": [
        "test2020.rename(columns = {'CODE_CULTU_2016': 'CODE_CULTU_2015', 'CODE_GROUP_2016': 'CODE_GROUP_2015'}, inplace = True)"
      ],
      "execution_count": 128,
      "outputs": []
    },
    {
      "cell_type": "code",
      "metadata": {
        "id": "3AsQ9TniiAcq"
      },
      "source": [
        "test2020.rename(columns = {'CODE_CULTU_2017': 'CODE_CULTU_2016', 'CODE_GROUP_2017': 'CODE_GROUP_2016'}, inplace = True)"
      ],
      "execution_count": 129,
      "outputs": []
    },
    {
      "cell_type": "code",
      "metadata": {
        "id": "zc7DYGYCh3AP"
      },
      "source": [
        "test2020.rename(columns = {'CODE_CULTU_2018': 'CODE_CULTU_2017', 'CODE_GROUP_2018': 'CODE_GROUP_2017'}, inplace = True)"
      ],
      "execution_count": 130,
      "outputs": []
    },
    {
      "cell_type": "code",
      "metadata": {
        "id": "D1WIwxGph6Vn"
      },
      "source": [
        "test2020.rename(columns = {'CODE_CULTU_2019': 'CODE_CULTU_2018', 'CODE_GROUP_2019': 'CODE_GROUP_2018'}, inplace = True)"
      ],
      "execution_count": 131,
      "outputs": []
    },
    {
      "cell_type": "code",
      "metadata": {
        "id": "hegoapxucTc_"
      },
      "source": [
        "gm_test_pred = pd.merge(gm_uniq, test2020,  how='left', left_on=['CODE_CULTU_2015','CODE_CULTU_2016','CODE_CULTU_2017','CODE_CULTU_2018'], right_on = ['CODE_CULTU_2015','CODE_CULTU_2016','CODE_CULTU_2017','CODE_CULTU_2018'])\r\n"
      ],
      "execution_count": 132,
      "outputs": []
    },
    {
      "cell_type": "code",
      "metadata": {
        "id": "rPQfhYpMcTc_"
      },
      "source": [
        "gm_test_pred = gm_pred.reindex(columns=['CODE_CULTU_2015','CODE_CULTU_2016','CODE_CULTU_2017','CODE_CULTU_2018','CODE_CULTU_2019_y'])"
      ],
      "execution_count": 133,
      "outputs": []
    },
    {
      "cell_type": "code",
      "metadata": {
        "id": "s0BCjQdccTdA"
      },
      "source": [
        "test_pred = pd.merge(test2020, gm_pred,  how='left', left_on=['CODE_CULTU_2015','CODE_CULTU_2016','CODE_CULTU_2017','CODE_CULTU_2018'], right_on = ['CODE_CULTU_2015','CODE_CULTU_2016','CODE_CULTU_2017','CODE_CULTU_2018'])"
      ],
      "execution_count": 134,
      "outputs": []
    },
    {
      "cell_type": "code",
      "metadata": {
        "colab": {
          "base_uri": "https://localhost:8080/"
        },
        "id": "RT3vLBoicTdA",
        "outputId": "f3f7b69f-97c9-4729-dfe6-7b9c99a122c7"
      },
      "source": [
        "test_pred['CODE_CULTU_2019_y'].value_counts()"
      ],
      "execution_count": 135,
      "outputs": [
        {
          "output_type": "execute_result",
          "data": {
            "text/plain": [
              "GFP    1\n",
              "Name: CODE_CULTU_2019_y, dtype: int64"
            ]
          },
          "metadata": {
            "tags": []
          },
          "execution_count": 135
        }
      ]
    },
    {
      "cell_type": "code",
      "metadata": {
        "colab": {
          "base_uri": "https://localhost:8080/"
        },
        "id": "GOhrSe44cTdA",
        "outputId": "2dce197d-139c-4996-ff85-a29f719bfdb7"
      },
      "source": [
        "test_part1 = test_pred[data_pred.CODE_CULTU_2019_y.notnull()].copy()"
      ],
      "execution_count": 136,
      "outputs": [
        {
          "output_type": "stream",
          "text": [
            "/usr/local/lib/python3.7/dist-packages/ipykernel_launcher.py:1: UserWarning: Boolean Series key will be reindexed to match DataFrame index.\n",
            "  \"\"\"Entry point for launching an IPython kernel.\n"
          ],
          "name": "stderr"
        }
      ]
    },
    {
      "cell_type": "code",
      "metadata": {
        "colab": {
          "base_uri": "https://localhost:8080/",
          "height": 67
        },
        "id": "hM-nGN3OcTdA",
        "outputId": "abf0f8da-05e1-4215-a1bd-88ab52f87a7e"
      },
      "source": [
        "test_part1.head(2)"
      ],
      "execution_count": 137,
      "outputs": [
        {
          "output_type": "execute_result",
          "data": {
            "text/html": [
              "<div>\n",
              "<style scoped>\n",
              "    .dataframe tbody tr th:only-of-type {\n",
              "        vertical-align: middle;\n",
              "    }\n",
              "\n",
              "    .dataframe tbody tr th {\n",
              "        vertical-align: top;\n",
              "    }\n",
              "\n",
              "    .dataframe thead th {\n",
              "        text-align: right;\n",
              "    }\n",
              "</style>\n",
              "<table border=\"1\" class=\"dataframe\">\n",
              "  <thead>\n",
              "    <tr style=\"text-align: right;\">\n",
              "      <th></th>\n",
              "      <th>CODE_CULTU_2018</th>\n",
              "      <th>CODE_GROUP_2018</th>\n",
              "      <th>centroid</th>\n",
              "      <th>CODE_CULTU_2017</th>\n",
              "      <th>CODE_GROUP_2017</th>\n",
              "      <th>CODE_CULTU_2016</th>\n",
              "      <th>CODE_GROUP_2016</th>\n",
              "      <th>CODE_CULTU_2015</th>\n",
              "      <th>CODE_GROUP_2015</th>\n",
              "      <th>CODE_CULTU_2014</th>\n",
              "      <th>CODE_GROUP_2014</th>\n",
              "      <th>cultuCode</th>\n",
              "      <th>groupCode</th>\n",
              "      <th>2019</th>\n",
              "      <th>RotationLength</th>\n",
              "      <th>RotationCount</th>\n",
              "      <th>hzs</th>\n",
              "      <th>kg_id</th>\n",
              "      <th>ff_id</th>\n",
              "      <th>CODE_CULTU_2019_y</th>\n",
              "    </tr>\n",
              "  </thead>\n",
              "  <tbody>\n",
              "  </tbody>\n",
              "</table>\n",
              "</div>"
            ],
            "text/plain": [
              "Empty DataFrame\n",
              "Columns: [CODE_CULTU_2018, CODE_GROUP_2018, centroid, CODE_CULTU_2017, CODE_GROUP_2017, CODE_CULTU_2016, CODE_GROUP_2016, CODE_CULTU_2015, CODE_GROUP_2015, CODE_CULTU_2014, CODE_GROUP_2014, cultuCode, groupCode, 2019, RotationLength, RotationCount, hzs, kg_id, ff_id, CODE_CULTU_2019_y]\n",
              "Index: []"
            ]
          },
          "metadata": {
            "tags": []
          },
          "execution_count": 137
        }
      ]
    },
    {
      "cell_type": "code",
      "metadata": {
        "id": "oGhnI9UlcTdA"
      },
      "source": [
        "test_part2 = test_pred[test_pred.CODE_CULTU_2019_y.isna()].copy()"
      ],
      "execution_count": 138,
      "outputs": []
    },
    {
      "cell_type": "code",
      "metadata": {
        "id": "P9pjiHBpcTdB"
      },
      "source": [
        "test_part2['CODE_CULTU_2019_y'] = test_part2.apply(lambda x: predict_next_culture_4_years_list(x['CODE_CULTU_2015'],x['CODE_CULTU_2016'],x['CODE_CULTU_2017'],x['CODE_CULTU_2018']), axis=1, result_type='expand')"
      ],
      "execution_count": 139,
      "outputs": []
    },
    {
      "cell_type": "code",
      "metadata": {
        "colab": {
          "base_uri": "https://localhost:8080/"
        },
        "id": "XF5POA45cTdB",
        "outputId": "90298de1-05fe-4bb1-83dc-72eec832f5fc"
      },
      "source": [
        "test_part2['CODE_CULTU_2019_y'].value_counts()"
      ],
      "execution_count": 140,
      "outputs": [
        {
          "output_type": "execute_result",
          "data": {
            "text/plain": [
              "Unknown    13\n",
              "BTA         9\n",
              "PPH         1\n",
              "FAG         1\n",
              "GFP         1\n",
              "J6S         1\n",
              "Name: CODE_CULTU_2019_y, dtype: int64"
            ]
          },
          "metadata": {
            "tags": []
          },
          "execution_count": 140
        }
      ]
    },
    {
      "cell_type": "code",
      "metadata": {
        "id": "BXi7i-69cTdB"
      },
      "source": [
        "test_part3 = test_part2[test_part2['CODE_CULTU_2019_y'] == 'Unknown']"
      ],
      "execution_count": 141,
      "outputs": []
    },
    {
      "cell_type": "code",
      "metadata": {
        "colab": {
          "base_uri": "https://localhost:8080/",
          "height": 194
        },
        "id": "g3VstSMKcTdB",
        "outputId": "81522f41-3644-4d2a-869f-667b4893c9c6"
      },
      "source": [
        "test_part3.head(2)"
      ],
      "execution_count": 142,
      "outputs": [
        {
          "output_type": "execute_result",
          "data": {
            "text/html": [
              "<div>\n",
              "<style scoped>\n",
              "    .dataframe tbody tr th:only-of-type {\n",
              "        vertical-align: middle;\n",
              "    }\n",
              "\n",
              "    .dataframe tbody tr th {\n",
              "        vertical-align: top;\n",
              "    }\n",
              "\n",
              "    .dataframe thead th {\n",
              "        text-align: right;\n",
              "    }\n",
              "</style>\n",
              "<table border=\"1\" class=\"dataframe\">\n",
              "  <thead>\n",
              "    <tr style=\"text-align: right;\">\n",
              "      <th></th>\n",
              "      <th>CODE_CULTU_2018</th>\n",
              "      <th>CODE_GROUP_2018</th>\n",
              "      <th>centroid</th>\n",
              "      <th>CODE_CULTU_2017</th>\n",
              "      <th>CODE_GROUP_2017</th>\n",
              "      <th>CODE_CULTU_2016</th>\n",
              "      <th>CODE_GROUP_2016</th>\n",
              "      <th>CODE_CULTU_2015</th>\n",
              "      <th>CODE_GROUP_2015</th>\n",
              "      <th>CODE_CULTU_2014</th>\n",
              "      <th>CODE_GROUP_2014</th>\n",
              "      <th>cultuCode</th>\n",
              "      <th>groupCode</th>\n",
              "      <th>2019</th>\n",
              "      <th>RotationLength</th>\n",
              "      <th>RotationCount</th>\n",
              "      <th>hzs</th>\n",
              "      <th>kg_id</th>\n",
              "      <th>ff_id</th>\n",
              "      <th>CODE_CULTU_2019_y</th>\n",
              "    </tr>\n",
              "  </thead>\n",
              "  <tbody>\n",
              "    <tr>\n",
              "      <th>0</th>\n",
              "      <td>BTH</td>\n",
              "      <td>1</td>\n",
              "      <td>Point (625771.91344838 7090455.27713006)</td>\n",
              "      <td>PTC</td>\n",
              "      <td>25</td>\n",
              "      <td>BTH</td>\n",
              "      <td>1</td>\n",
              "      <td>BTN</td>\n",
              "      <td>24</td>\n",
              "      <td>BTH</td>\n",
              "      <td>1</td>\n",
              "      <td>abaca</td>\n",
              "      <td>abaca</td>\n",
              "      <td>BTH</td>\n",
              "      <td>3</td>\n",
              "      <td>1</td>\n",
              "      <td>9a</td>\n",
              "      <td>Cfb</td>\n",
              "      <td>ff16</td>\n",
              "      <td>Unknown</td>\n",
              "    </tr>\n",
              "    <tr>\n",
              "      <th>1</th>\n",
              "      <td>ORP</td>\n",
              "      <td>3</td>\n",
              "      <td>Point (628059.94205405 7090942.4387415)</td>\n",
              "      <td>BTH</td>\n",
              "      <td>1</td>\n",
              "      <td>CZH</td>\n",
              "      <td>5</td>\n",
              "      <td>BTH</td>\n",
              "      <td>1</td>\n",
              "      <td>ORP</td>\n",
              "      <td>3</td>\n",
              "      <td>abcba</td>\n",
              "      <td>abcba</td>\n",
              "      <td>ORP</td>\n",
              "      <td>3</td>\n",
              "      <td>1</td>\n",
              "      <td>9a</td>\n",
              "      <td>Cfb</td>\n",
              "      <td>ff16</td>\n",
              "      <td>Unknown</td>\n",
              "    </tr>\n",
              "  </tbody>\n",
              "</table>\n",
              "</div>"
            ],
            "text/plain": [
              "  CODE_CULTU_2018  CODE_GROUP_2018  ... ff_id CODE_CULTU_2019_y\n",
              "0             BTH                1  ...  ff16           Unknown\n",
              "1             ORP                3  ...  ff16           Unknown\n",
              "\n",
              "[2 rows x 20 columns]"
            ]
          },
          "metadata": {
            "tags": []
          },
          "execution_count": 142
        }
      ]
    },
    {
      "cell_type": "code",
      "metadata": {
        "id": "v60Ze-Qy1ikD"
      },
      "source": [
        "X_test = test_part3[['RotationLength', 'RotationCount',\r\n",
        "       'CODE_CULTU_2015', 'CODE_CULTU_2016', 'CODE_CULTU_2017',\r\n",
        "       'CODE_CULTU_2018', 'CODE_GROUP_2015',\r\n",
        "       'CODE_GROUP_2016', 'CODE_GROUP_2017', 'CODE_GROUP_2018',\r\n",
        "       'hzs', 'kg_id', 'ff_id']]\r\n",
        "\r\n",
        "X_test = X_test.replace(np.nan, 'unknown', regex=True)"
      ],
      "execution_count": 143,
      "outputs": []
    },
    {
      "cell_type": "code",
      "metadata": {
        "id": "ZKf4nwKx9d-e"
      },
      "source": [
        "cat_features_test = [2, 3, 4, 5, 6, 7, 8, 9, 10, 11, 12]"
      ],
      "execution_count": 144,
      "outputs": []
    },
    {
      "cell_type": "code",
      "metadata": {
        "id": "dyEGNvPHcTdB"
      },
      "source": [
        "test_dataset2 = Pool(data=X_test,\r\n",
        "                    cat_features=cat_features_test)\r\n",
        "\r\n",
        "\r\n",
        "# Get predicted classes\r\n",
        "preds_class2 = model2.predict(test_dataset2)"
      ],
      "execution_count": 145,
      "outputs": []
    },
    {
      "cell_type": "code",
      "metadata": {
        "colab": {
          "base_uri": "https://localhost:8080/"
        },
        "id": "Co1EJAwb7BoK",
        "outputId": "8629292a-b073-45a9-d70b-ebd6a64e9e8b"
      },
      "source": [
        "X_test.shape"
      ],
      "execution_count": 146,
      "outputs": [
        {
          "output_type": "execute_result",
          "data": {
            "text/plain": [
              "(13, 13)"
            ]
          },
          "metadata": {
            "tags": []
          },
          "execution_count": 146
        }
      ]
    },
    {
      "cell_type": "code",
      "metadata": {
        "id": "yPox4OdSmJ2F",
        "colab": {
          "base_uri": "https://localhost:8080/"
        },
        "outputId": "0e2a055b-c473-4eee-f6f3-23720e7a9948"
      },
      "source": [
        "test_part3['CODE_CULTU_2019_y'] = preds_class2"
      ],
      "execution_count": 147,
      "outputs": [
        {
          "output_type": "stream",
          "text": [
            "/usr/local/lib/python3.7/dist-packages/ipykernel_launcher.py:1: SettingWithCopyWarning: \n",
            "A value is trying to be set on a copy of a slice from a DataFrame.\n",
            "Try using .loc[row_indexer,col_indexer] = value instead\n",
            "\n",
            "See the caveats in the documentation: https://pandas.pydata.org/pandas-docs/stable/user_guide/indexing.html#returning-a-view-versus-a-copy\n",
            "  \"\"\"Entry point for launching an IPython kernel.\n"
          ],
          "name": "stderr"
        }
      ]
    },
    {
      "cell_type": "code",
      "metadata": {
        "id": "o88G99YHmwx_"
      },
      "source": [
        "test_part2_2 = test_part2[test_part2['CODE_CULTU_2019_y'] != 'Unknown']"
      ],
      "execution_count": 148,
      "outputs": []
    },
    {
      "cell_type": "code",
      "metadata": {
        "id": "8uuPCZfymwyE"
      },
      "source": [
        "###Корректировка явных ошибок CatBoost### (Предсказание значения, которое не встречалось в выборке, заменяем на последнее значение в выборке)"
      ],
      "execution_count": null,
      "outputs": []
    },
    {
      "cell_type": "code",
      "metadata": {
        "id": "ByWV2Z0QmwyF"
      },
      "source": [
        "test_part3_1 = test_part3.loc[(test_part3['CODE_CULTU_2019_y'] != test_part3['CODE_CULTU_2015']) & (test_part3['CODE_CULTU_2019_y'] != test_part3['CODE_CULTU_2016']) & (test_part3['CODE_CULTU_2019_y'] != test_part3['CODE_CULTU_2017']) & (test_part3['CODE_CULTU_2019_y'] != test_part3['CODE_CULTU_2018']) ]"
      ],
      "execution_count": 149,
      "outputs": []
    },
    {
      "cell_type": "code",
      "metadata": {
        "id": "FAeJYnzDmwyF"
      },
      "source": [
        "test_part3_2 = test_part3.loc[(test_part3['CODE_CULTU_2019_y'] == test_part3['CODE_CULTU_2015']) | (test_part3['CODE_CULTU_2019_y'] == test_part3['CODE_CULTU_2016']) | (test_part3['CODE_CULTU_2019_y'] == test_part3['CODE_CULTU_2017']) | (test_part3['CODE_CULTU_2019_y'] == test_part3['CODE_CULTU_2018']) ]"
      ],
      "execution_count": 150,
      "outputs": []
    },
    {
      "cell_type": "code",
      "metadata": {
        "colab": {
          "base_uri": "https://localhost:8080/",
          "height": 167
        },
        "id": "1jDjQJzpQ-iZ",
        "outputId": "632307c7-0ff6-4f8a-834c-746304fc96f2"
      },
      "source": [
        "test_part3_1[['CODE_CULTU_2019_y','CODE_CULTU_2015','CODE_CULTU_2016','CODE_CULTU_2017','CODE_CULTU_2018']]"
      ],
      "execution_count": 151,
      "outputs": [
        {
          "output_type": "execute_result",
          "data": {
            "text/html": [
              "<div>\n",
              "<style scoped>\n",
              "    .dataframe tbody tr th:only-of-type {\n",
              "        vertical-align: middle;\n",
              "    }\n",
              "\n",
              "    .dataframe tbody tr th {\n",
              "        vertical-align: top;\n",
              "    }\n",
              "\n",
              "    .dataframe thead th {\n",
              "        text-align: right;\n",
              "    }\n",
              "</style>\n",
              "<table border=\"1\" class=\"dataframe\">\n",
              "  <thead>\n",
              "    <tr style=\"text-align: right;\">\n",
              "      <th></th>\n",
              "      <th>CODE_CULTU_2019_y</th>\n",
              "      <th>CODE_CULTU_2015</th>\n",
              "      <th>CODE_CULTU_2016</th>\n",
              "      <th>CODE_CULTU_2017</th>\n",
              "      <th>CODE_CULTU_2018</th>\n",
              "    </tr>\n",
              "  </thead>\n",
              "  <tbody>\n",
              "    <tr>\n",
              "      <th>1</th>\n",
              "      <td>TRN</td>\n",
              "      <td>BTH</td>\n",
              "      <td>CZH</td>\n",
              "      <td>BTH</td>\n",
              "      <td>ORP</td>\n",
              "    </tr>\n",
              "    <tr>\n",
              "      <th>3</th>\n",
              "      <td>MIE</td>\n",
              "      <td>BTH</td>\n",
              "      <td>CZH</td>\n",
              "      <td>FAG</td>\n",
              "      <td>BTH</td>\n",
              "    </tr>\n",
              "    <tr>\n",
              "      <th>13</th>\n",
              "      <td>PCH</td>\n",
              "      <td>BTH</td>\n",
              "      <td>CZH</td>\n",
              "      <td>BTH</td>\n",
              "      <td>LIF</td>\n",
              "    </tr>\n",
              "    <tr>\n",
              "      <th>19</th>\n",
              "      <td>CHU</td>\n",
              "      <td>BTH</td>\n",
              "      <td>BTN</td>\n",
              "      <td>BTH</td>\n",
              "      <td>LIF</td>\n",
              "    </tr>\n",
              "  </tbody>\n",
              "</table>\n",
              "</div>"
            ],
            "text/plain": [
              "   CODE_CULTU_2019_y CODE_CULTU_2015  ... CODE_CULTU_2017 CODE_CULTU_2018\n",
              "1                TRN             BTH  ...             BTH             ORP\n",
              "3                MIE             BTH  ...             FAG             BTH\n",
              "13               PCH             BTH  ...             BTH             LIF\n",
              "19               CHU             BTH  ...             BTH             LIF\n",
              "\n",
              "[4 rows x 5 columns]"
            ]
          },
          "metadata": {
            "tags": []
          },
          "execution_count": 151
        }
      ]
    },
    {
      "cell_type": "code",
      "metadata": {
        "colab": {
          "base_uri": "https://localhost:8080/"
        },
        "id": "LRAkQP8WmwyF",
        "outputId": "82db1e55-fa79-4153-dfbd-c1a4b96ba788"
      },
      "source": [
        "test_part3_1['CODE_CULTU_2019_y'] = test_part3_1['CODE_CULTU_2018']"
      ],
      "execution_count": 152,
      "outputs": [
        {
          "output_type": "stream",
          "text": [
            "/usr/local/lib/python3.7/dist-packages/ipykernel_launcher.py:1: SettingWithCopyWarning: \n",
            "A value is trying to be set on a copy of a slice from a DataFrame.\n",
            "Try using .loc[row_indexer,col_indexer] = value instead\n",
            "\n",
            "See the caveats in the documentation: https://pandas.pydata.org/pandas-docs/stable/user_guide/indexing.html#returning-a-view-versus-a-copy\n",
            "  \"\"\"Entry point for launching an IPython kernel.\n"
          ],
          "name": "stderr"
        }
      ]
    },
    {
      "cell_type": "code",
      "metadata": {
        "id": "4gHug_vnmwyG"
      },
      "source": [
        "final_data_test = pd.concat([test_part1,test_part2_2,test_part3_1,test_part3_2])"
      ],
      "execution_count": 153,
      "outputs": []
    },
    {
      "cell_type": "code",
      "metadata": {
        "id": "V6CQu6Vy1CGc"
      },
      "source": [
        "test2020.rename(columns = {'CODE_CULTU_2019_y': 'CODE_CULTU_2020'}, inplace = True)"
      ],
      "execution_count": 154,
      "outputs": []
    },
    {
      "cell_type": "code",
      "metadata": {
        "id": "sScG0uXUttc4"
      },
      "source": [
        "pd.DataFrame(final_data_test[['centroid','CODE_CULTU_2020']]).to_csv(\"/content/drive/MyDrive/Хакатон/predict2020_v2.csv\",index=False,header=True)"
      ],
      "execution_count": null,
      "outputs": []
    }
  ]
}