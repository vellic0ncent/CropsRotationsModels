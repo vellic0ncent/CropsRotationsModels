{
  "nbformat": 4,
  "nbformat_minor": 0,
  "metadata": {
    "colab": {
      "name": "DVHB_APModel_Predict2020_Edited.ipynb",
      "provenance": [],
      "collapsed_sections": [
        "g3t2dkRlJZ-B"
      ],
      "toc_visible": true,
      "machine_shape": "hm"
    },
    "kernelspec": {
      "name": "python3",
      "display_name": "Python 3"
    },
    "accelerator": "GPU"
  },
  "cells": [
    {
      "cell_type": "markdown",
      "metadata": {
        "id": "RhUDGFMR6WhI"
      },
      "source": [
        "##Установка и импортирование библиотек##\n",
        "\n"
      ]
    },
    {
      "cell_type": "code",
      "metadata": {
        "colab": {
          "base_uri": "https://localhost:8080/"
        },
        "id": "YHGInIS56er7",
        "outputId": "96e9e815-7fd3-456c-b48b-9693d0b2a7eb"
      },
      "source": [
        "!pip install catboost"
      ],
      "execution_count": 1,
      "outputs": [
        {
          "output_type": "stream",
          "text": [
            "Collecting catboost\n",
            "\u001b[?25l  Downloading https://files.pythonhosted.org/packages/96/3b/bb419654adcf7efff42ed8a3f84e50c8f236424b7ed1cc8ccd290852e003/catboost-0.24.4-cp37-none-manylinux1_x86_64.whl (65.7MB)\n",
            "\u001b[K     |████████████████████████████████| 65.7MB 82kB/s \n",
            "\u001b[?25hRequirement already satisfied: pandas>=0.24.0 in /usr/local/lib/python3.7/dist-packages (from catboost) (1.1.5)\n",
            "Requirement already satisfied: six in /usr/local/lib/python3.7/dist-packages (from catboost) (1.15.0)\n",
            "Requirement already satisfied: numpy>=1.16.0 in /usr/local/lib/python3.7/dist-packages (from catboost) (1.19.5)\n",
            "Requirement already satisfied: matplotlib in /usr/local/lib/python3.7/dist-packages (from catboost) (3.2.2)\n",
            "Requirement already satisfied: scipy in /usr/local/lib/python3.7/dist-packages (from catboost) (1.4.1)\n",
            "Requirement already satisfied: graphviz in /usr/local/lib/python3.7/dist-packages (from catboost) (0.10.1)\n",
            "Requirement already satisfied: plotly in /usr/local/lib/python3.7/dist-packages (from catboost) (4.4.1)\n",
            "Requirement already satisfied: python-dateutil>=2.7.3 in /usr/local/lib/python3.7/dist-packages (from pandas>=0.24.0->catboost) (2.8.1)\n",
            "Requirement already satisfied: pytz>=2017.2 in /usr/local/lib/python3.7/dist-packages (from pandas>=0.24.0->catboost) (2018.9)\n",
            "Requirement already satisfied: kiwisolver>=1.0.1 in /usr/local/lib/python3.7/dist-packages (from matplotlib->catboost) (1.3.1)\n",
            "Requirement already satisfied: pyparsing!=2.0.4,!=2.1.2,!=2.1.6,>=2.0.1 in /usr/local/lib/python3.7/dist-packages (from matplotlib->catboost) (2.4.7)\n",
            "Requirement already satisfied: cycler>=0.10 in /usr/local/lib/python3.7/dist-packages (from matplotlib->catboost) (0.10.0)\n",
            "Requirement already satisfied: retrying>=1.3.3 in /usr/local/lib/python3.7/dist-packages (from plotly->catboost) (1.3.3)\n",
            "Installing collected packages: catboost\n",
            "Successfully installed catboost-0.24.4\n"
          ],
          "name": "stdout"
        }
      ]
    },
    {
      "cell_type": "code",
      "metadata": {
        "id": "GDExLa4LuMZX"
      },
      "source": [
        "import pandas as pd\n",
        "import numpy as np\n",
        "\n",
        "from sklearn.model_selection import train_test_split, KFold\n",
        "from sklearn.metrics import accuracy_score\n",
        "\n",
        "import catboost as cb\n",
        "from catboost import Pool, CatBoostClassifier\n",
        "from sklearn.model_selection import GridSearchCV\n",
        "\n",
        "from itertools import product, chain\n",
        "\n",
        "#Требуется добавить файл paramsearch.py в проект\n",
        "#from paramsearch import paramsearch"
      ],
      "execution_count": 2,
      "outputs": []
    },
    {
      "cell_type": "markdown",
      "metadata": {
        "id": "R4BDzTIp1e4m"
      },
      "source": [
        "## Загрузка данных ##\n",
        "\n"
      ]
    },
    {
      "cell_type": "code",
      "metadata": {
        "colab": {
          "base_uri": "https://localhost:8080/"
        },
        "id": "6vQZdOGh06Pj",
        "outputId": "2711a2cd-af73-4ae9-d682-938913a8cbd9"
      },
      "source": [
        "from google.colab import drive\n",
        "drive.mount('/content/drive')"
      ],
      "execution_count": 3,
      "outputs": [
        {
          "output_type": "stream",
          "text": [
            "Mounted at /content/drive\n"
          ],
          "name": "stdout"
        }
      ]
    },
    {
      "cell_type": "code",
      "metadata": {
        "id": "Z0W9hBD31Ajr"
      },
      "source": [
        "data = pd.read_csv('/content/drive/MyDrive/Хакатон/dataset2015_2019.csv')"
      ],
      "execution_count": 4,
      "outputs": []
    },
    {
      "cell_type": "code",
      "metadata": {
        "colab": {
          "base_uri": "https://localhost:8080/",
          "height": 211
        },
        "id": "fEP0PuTQlgB8",
        "outputId": "b93263f8-6489-4345-a793-c502ad52b74d"
      },
      "source": [
        "data.head(2)"
      ],
      "execution_count": null,
      "outputs": [
        {
          "output_type": "execute_result",
          "data": {
            "text/html": [
              "<div>\n",
              "<style scoped>\n",
              "    .dataframe tbody tr th:only-of-type {\n",
              "        vertical-align: middle;\n",
              "    }\n",
              "\n",
              "    .dataframe tbody tr th {\n",
              "        vertical-align: top;\n",
              "    }\n",
              "\n",
              "    .dataframe thead th {\n",
              "        text-align: right;\n",
              "    }\n",
              "</style>\n",
              "<table border=\"1\" class=\"dataframe\">\n",
              "  <thead>\n",
              "    <tr style=\"text-align: right;\">\n",
              "      <th></th>\n",
              "      <th>Unnamed: 0</th>\n",
              "      <th>centroid</th>\n",
              "      <th>x</th>\n",
              "      <th>y</th>\n",
              "      <th>RotationLength</th>\n",
              "      <th>RotationCount</th>\n",
              "      <th>CODE_CULTU_2015</th>\n",
              "      <th>CODE_CULTU_2016</th>\n",
              "      <th>CODE_CULTU_2017</th>\n",
              "      <th>CODE_CULTU_2018</th>\n",
              "      <th>CODE_CULTU_2019</th>\n",
              "      <th>CODE_GROUP_2015</th>\n",
              "      <th>CODE_GROUP_2016</th>\n",
              "      <th>CODE_GROUP_2017</th>\n",
              "      <th>CODE_GROUP_2018</th>\n",
              "      <th>CODE_GROUP_2019</th>\n",
              "      <th>cultuCode</th>\n",
              "      <th>groupCode</th>\n",
              "      <th>hzs</th>\n",
              "      <th>kg_id</th>\n",
              "      <th>ff_id</th>\n",
              "      <th>1 Nearest Neigbour Point</th>\n",
              "      <th>2 Nearest Neigbour Point</th>\n",
              "      <th>3 Nearest Neigbour Point</th>\n",
              "      <th>4 Nearest Neigbour Point</th>\n",
              "    </tr>\n",
              "  </thead>\n",
              "  <tbody>\n",
              "    <tr>\n",
              "      <th>0</th>\n",
              "      <td>0</td>\n",
              "      <td>Point (907753.82834152 6554634.46488151)</td>\n",
              "      <td>907753.828342</td>\n",
              "      <td>6.554634e+06</td>\n",
              "      <td>1</td>\n",
              "      <td>5</td>\n",
              "      <td>PPH</td>\n",
              "      <td>PPH</td>\n",
              "      <td>PPH</td>\n",
              "      <td>PPH</td>\n",
              "      <td>PPH</td>\n",
              "      <td>18</td>\n",
              "      <td>18</td>\n",
              "      <td>18</td>\n",
              "      <td>18</td>\n",
              "      <td>18</td>\n",
              "      <td>aaaaa</td>\n",
              "      <td>aaaaa</td>\n",
              "      <td>7b</td>\n",
              "      <td>Dfb</td>\n",
              "      <td>ff12</td>\n",
              "      <td>Point (907748.69100314 6554212.06490037)</td>\n",
              "      <td>Point (907410.62452802 6554909.79074054)</td>\n",
              "      <td>Point (908089.34400838 6554953.05455597)</td>\n",
              "      <td>Point (907563.65755459 6554039.35762193)</td>\n",
              "    </tr>\n",
              "    <tr>\n",
              "      <th>1</th>\n",
              "      <td>1</td>\n",
              "      <td>Point (906932.34642625 6550537.14396784)</td>\n",
              "      <td>906932.346426</td>\n",
              "      <td>6.550537e+06</td>\n",
              "      <td>1</td>\n",
              "      <td>5</td>\n",
              "      <td>PPH</td>\n",
              "      <td>PPH</td>\n",
              "      <td>PPH</td>\n",
              "      <td>PPH</td>\n",
              "      <td>PPH</td>\n",
              "      <td>18</td>\n",
              "      <td>18</td>\n",
              "      <td>18</td>\n",
              "      <td>18</td>\n",
              "      <td>18</td>\n",
              "      <td>aaaaa</td>\n",
              "      <td>aaaaa</td>\n",
              "      <td>7b</td>\n",
              "      <td>Dfb</td>\n",
              "      <td>ff12</td>\n",
              "      <td>Point (906980.7207283 6550304.97315954)</td>\n",
              "      <td>Point (906736.32315476 6550335.52813463)</td>\n",
              "      <td>Point (906595.72670333 6550598.70621165)</td>\n",
              "      <td>Point (907032.95563938 6550121.6369531)</td>\n",
              "    </tr>\n",
              "  </tbody>\n",
              "</table>\n",
              "</div>"
            ],
            "text/plain": [
              "   Unnamed: 0  ...                  4 Nearest Neigbour Point\n",
              "0           0  ...  Point (907563.65755459 6554039.35762193)\n",
              "1           1  ...   Point (907032.95563938 6550121.6369531)\n",
              "\n",
              "[2 rows x 25 columns]"
            ]
          },
          "metadata": {
            "tags": []
          },
          "execution_count": 5
        }
      ]
    },
    {
      "cell_type": "markdown",
      "metadata": {
        "id": "Q4pJkB9m628b"
      },
      "source": [
        "## Эвристики для предсказаний данных без модели ##"
      ]
    },
    {
      "cell_type": "markdown",
      "metadata": {
        "id": "nWEtbAjB7nh_"
      },
      "source": [
        "### Эвристика по закономерностям последовательностей культур на основе анализа *данных* ###"
      ]
    },
    {
      "cell_type": "code",
      "metadata": {
        "id": "lxMW4mXX2T4r"
      },
      "source": [
        "#Функция для предсказания культуры в следующем году на основании культур предыдущих 4 лет\n",
        "def predict_next_culture_4_years_list(l0, l1, l2, l3):\n",
        "  if l0 == l1 != l2 and l2 == l3:\n",
        "     return 'Unknown'\n",
        "  if l0 == l1 == l2 == l3:\n",
        "     return l0\n",
        "  if l0 == l2 and l1 == l3:\n",
        "     return l0\n",
        "  if l0 == l1 != l2 and l2 == l3:\n",
        "     return l0\n",
        "  return 'Unknown'"
      ],
      "execution_count": 5,
      "outputs": []
    },
    {
      "cell_type": "code",
      "metadata": {
        "colab": {
          "base_uri": "https://localhost:8080/"
        },
        "id": "yaw2O8uf2gFU",
        "outputId": "874e20e9-7887-4a4f-dada-3b984ffcb0a8"
      },
      "source": [
        "print(predict_next_culture_4_years_list(data.iloc[0]['CODE_CULTU_2015'],data.iloc[0]['CODE_CULTU_2016'],data.iloc[0]['CODE_CULTU_2017'],data.iloc[0]['CODE_CULTU_2018']))"
      ],
      "execution_count": 6,
      "outputs": [
        {
          "output_type": "stream",
          "text": [
            "PPH\n"
          ],
          "name": "stdout"
        }
      ]
    },
    {
      "cell_type": "markdown",
      "metadata": {
        "id": "HXv5xvdD7zLM"
      },
      "source": [
        "### Эвристика по уникальным последовательностям ###"
      ]
    },
    {
      "cell_type": "code",
      "metadata": {
        "id": "29qpfqJ98e9M"
      },
      "source": [
        "#Функция для получения списка уникальных последовательностей (после 4 культур предыдущих лет всегда идет одна и та же 5-ая)\n",
        "def get_unique_chains(data):\n",
        "  g = data.groupby(['CODE_CULTU_2015','CODE_CULTU_2016','CODE_CULTU_2017','CODE_CULTU_2018'])['CODE_CULTU_2019'].count()\n",
        "  g = g.add_suffix('').reset_index()\n",
        "  g_uniq = g[g['CODE_CULTU_2019'] == 1]\n",
        "  g_pred = pd.merge(g_uniq, data,  how='left', left_on=['CODE_CULTU_2015','CODE_CULTU_2016','CODE_CULTU_2017','CODE_CULTU_2018'], right_on = ['CODE_CULTU_2015','CODE_CULTU_2016','CODE_CULTU_2017','CODE_CULTU_2018'])\n",
        "  g_pred = g_pred.reindex(columns=['CODE_CULTU_2015','CODE_CULTU_2016','CODE_CULTU_2017','CODE_CULTU_2018','CODE_CULTU_2019_y'])\n",
        "  g_pred.rename(columns = {'CODE_CULTU_2019_y': 'CODE_CULTU_2019_predict'}, inplace = True)\n",
        "  return g_pred"
      ],
      "execution_count": 7,
      "outputs": []
    },
    {
      "cell_type": "code",
      "metadata": {
        "id": "EvVMzRQlffOr"
      },
      "source": [
        "#Функция для получения списка уникальных последовательностей для тестовой выборки\n",
        "def get_unique_chains_test(data):\n",
        "  g = data.groupby(['CODE_CULTU_2015','CODE_CULTU_2016','CODE_CULTU_2017','CODE_CULTU_2018']).count()\n",
        "  g = g.add_suffix('').reset_index()\n",
        "  return g"
      ],
      "execution_count": 8,
      "outputs": []
    },
    {
      "cell_type": "code",
      "metadata": {
        "colab": {
          "base_uri": "https://localhost:8080/"
        },
        "id": "ODfk8g-n9S6x",
        "outputId": "10018e01-8689-44a7-9bb0-ef9d778213a9"
      },
      "source": [
        "print(get_unique_chains(data))"
      ],
      "execution_count": 9,
      "outputs": [
        {
          "output_type": "stream",
          "text": [
            "      CODE_CULTU_2015 CODE_CULTU_2016  ... CODE_CULTU_2018 CODE_CULTU_2019_predict\n",
            "0                 ACA             FLA  ...             FLA                     FLA\n",
            "1                 ACA             FLP  ...             FLP                     FLP\n",
            "2                 ACA             MIS  ...             SNE                     SNE\n",
            "3                 ACA             SNE  ...             SNE                     SNE\n",
            "4                 AGR             BOR  ...             SNE                     SNE\n",
            "...               ...             ...  ...             ...                     ...\n",
            "82546             VRT             VRT  ...             SOG                     BTH\n",
            "82547             XFE             PTR  ...             BTH                     PTR\n",
            "82548             XFE             PTR  ...             PPH                     PRL\n",
            "82549             XFE             XFE  ...             PRL                     CZH\n",
            "82550             XFE             XFE  ...             XFE                     MIE\n",
            "\n",
            "[82551 rows x 5 columns]\n"
          ],
          "name": "stdout"
        }
      ]
    },
    {
      "cell_type": "markdown",
      "metadata": {
        "id": "wZiOiSEu-EaO"
      },
      "source": [
        "### Предсказания по эвристикам на обучающей выборке ###"
      ]
    },
    {
      "cell_type": "code",
      "metadata": {
        "id": "qQKsn2qT9-N1"
      },
      "source": [
        "g_pred = get_unique_chains(data)"
      ],
      "execution_count": 10,
      "outputs": []
    },
    {
      "cell_type": "code",
      "metadata": {
        "id": "apFlBEM9CO1e"
      },
      "source": [
        "#Получаем предсказания по эвристике по уникальным последовательностям\n",
        "data_pred = pd.merge(data, g_pred,  how='left', left_on=['CODE_CULTU_2015','CODE_CULTU_2016','CODE_CULTU_2017','CODE_CULTU_2018'], right_on = ['CODE_CULTU_2015','CODE_CULTU_2016','CODE_CULTU_2017','CODE_CULTU_2018'])"
      ],
      "execution_count": 11,
      "outputs": []
    },
    {
      "cell_type": "code",
      "metadata": {
        "colab": {
          "base_uri": "https://localhost:8080/"
        },
        "id": "Kx_UMOyYC6dV",
        "outputId": "c3735b99-8bb8-4824-face-fa2edc52eb05"
      },
      "source": [
        "print(data_pred['CODE_CULTU_2019_predict'].value_counts().sum())\n",
        "print(data_pred['CODE_CULTU_2019_predict'].value_counts())"
      ],
      "execution_count": 12,
      "outputs": [
        {
          "output_type": "stream",
          "text": [
            "82551\n",
            "BTH    11247\n",
            "PTR     8134\n",
            "LUZ     4978\n",
            "MLG     4003\n",
            "MIS     3902\n",
            "       ...  \n",
            "PIS        1\n",
            "MRG        1\n",
            "BUR        1\n",
            "PMV        1\n",
            "BAR        1\n",
            "Name: CODE_CULTU_2019_predict, Length: 218, dtype: int64\n"
          ],
          "name": "stdout"
        }
      ]
    },
    {
      "cell_type": "code",
      "metadata": {
        "id": "64TLGmSgDzeG"
      },
      "source": [
        "#Сохраняем первую часть, предсказанную по эвристике по уникальным последовательностям\n",
        "data_part1 = data_pred[data_pred.CODE_CULTU_2019_predict.notnull()].copy()"
      ],
      "execution_count": 13,
      "outputs": []
    },
    {
      "cell_type": "code",
      "metadata": {
        "colab": {
          "base_uri": "https://localhost:8080/",
          "height": 211
        },
        "id": "0LxSLwwUC6mq",
        "outputId": "4d0a6026-a0ee-4450-f8af-4179fda44796"
      },
      "source": [
        "data_part1.head(2)"
      ],
      "execution_count": 14,
      "outputs": [
        {
          "output_type": "execute_result",
          "data": {
            "text/html": [
              "<div>\n",
              "<style scoped>\n",
              "    .dataframe tbody tr th:only-of-type {\n",
              "        vertical-align: middle;\n",
              "    }\n",
              "\n",
              "    .dataframe tbody tr th {\n",
              "        vertical-align: top;\n",
              "    }\n",
              "\n",
              "    .dataframe thead th {\n",
              "        text-align: right;\n",
              "    }\n",
              "</style>\n",
              "<table border=\"1\" class=\"dataframe\">\n",
              "  <thead>\n",
              "    <tr style=\"text-align: right;\">\n",
              "      <th></th>\n",
              "      <th>Unnamed: 0</th>\n",
              "      <th>centroid</th>\n",
              "      <th>x</th>\n",
              "      <th>y</th>\n",
              "      <th>RotationLength</th>\n",
              "      <th>RotationCount</th>\n",
              "      <th>CODE_CULTU_2015</th>\n",
              "      <th>CODE_CULTU_2016</th>\n",
              "      <th>CODE_CULTU_2017</th>\n",
              "      <th>CODE_CULTU_2018</th>\n",
              "      <th>CODE_CULTU_2019</th>\n",
              "      <th>CODE_GROUP_2015</th>\n",
              "      <th>CODE_GROUP_2016</th>\n",
              "      <th>CODE_GROUP_2017</th>\n",
              "      <th>CODE_GROUP_2018</th>\n",
              "      <th>CODE_GROUP_2019</th>\n",
              "      <th>cultuCode</th>\n",
              "      <th>groupCode</th>\n",
              "      <th>hzs</th>\n",
              "      <th>kg_id</th>\n",
              "      <th>ff_id</th>\n",
              "      <th>1 Nearest Neigbour Point</th>\n",
              "      <th>2 Nearest Neigbour Point</th>\n",
              "      <th>3 Nearest Neigbour Point</th>\n",
              "      <th>4 Nearest Neigbour Point</th>\n",
              "      <th>CODE_CULTU_2019_predict</th>\n",
              "    </tr>\n",
              "  </thead>\n",
              "  <tbody>\n",
              "    <tr>\n",
              "      <th>50</th>\n",
              "      <td>50</td>\n",
              "      <td>Point (859900.11098517 6591026.78278985)</td>\n",
              "      <td>859900.110985</td>\n",
              "      <td>6.591027e+06</td>\n",
              "      <td>3</td>\n",
              "      <td>1</td>\n",
              "      <td>BTH</td>\n",
              "      <td>MID</td>\n",
              "      <td>MIS</td>\n",
              "      <td>MIS</td>\n",
              "      <td>BTH</td>\n",
              "      <td>1</td>\n",
              "      <td>2</td>\n",
              "      <td>2</td>\n",
              "      <td>2</td>\n",
              "      <td>1</td>\n",
              "      <td>abcca</td>\n",
              "      <td>abbba</td>\n",
              "      <td>8b</td>\n",
              "      <td>Cfa</td>\n",
              "      <td>ff13</td>\n",
              "      <td>Point (859812.49760217 6591185.50103266)</td>\n",
              "      <td>Point (859719.0802948 6590975.56193138)</td>\n",
              "      <td>Point (860081.26015362 6591098.77150968)</td>\n",
              "      <td>Point (860019.18559373 6590736.93947271)</td>\n",
              "      <td>BTH</td>\n",
              "    </tr>\n",
              "    <tr>\n",
              "      <th>74</th>\n",
              "      <td>74</td>\n",
              "      <td>Point (848022.43324874 6589869.38021483)</td>\n",
              "      <td>848022.433249</td>\n",
              "      <td>6.589869e+06</td>\n",
              "      <td>4</td>\n",
              "      <td>1</td>\n",
              "      <td>AVP</td>\n",
              "      <td>SGH</td>\n",
              "      <td>MIS</td>\n",
              "      <td>MIS</td>\n",
              "      <td>ORP</td>\n",
              "      <td>4</td>\n",
              "      <td>4</td>\n",
              "      <td>2</td>\n",
              "      <td>2</td>\n",
              "      <td>3</td>\n",
              "      <td>abccd</td>\n",
              "      <td>aabbc</td>\n",
              "      <td>8b</td>\n",
              "      <td>Cfa</td>\n",
              "      <td>ff13</td>\n",
              "      <td>Point (848060.93345233 6589936.96049742)</td>\n",
              "      <td>Point (847937.44700784 6589858.58590304)</td>\n",
              "      <td>Point (848069.49079389 6590019.03797348)</td>\n",
              "      <td>Point (848120.55312173 6589719.68664306)</td>\n",
              "      <td>ORP</td>\n",
              "    </tr>\n",
              "  </tbody>\n",
              "</table>\n",
              "</div>"
            ],
            "text/plain": [
              "    Unnamed: 0  ... CODE_CULTU_2019_predict\n",
              "50          50  ...                     BTH\n",
              "74          74  ...                     ORP\n",
              "\n",
              "[2 rows x 26 columns]"
            ]
          },
          "metadata": {
            "tags": []
          },
          "execution_count": 14
        }
      ]
    },
    {
      "cell_type": "code",
      "metadata": {
        "id": "gy_A5-8KLFNW"
      },
      "source": [
        "#Формируем вторую часть для предсказаний по эверистике по закономерностям последовательностей культур на основе анализа\n",
        "data_part2 = data_pred[data_pred.CODE_CULTU_2019_predict.isna()].copy()"
      ],
      "execution_count": 15,
      "outputs": []
    },
    {
      "cell_type": "code",
      "metadata": {
        "colab": {
          "base_uri": "https://localhost:8080/",
          "height": 211
        },
        "id": "N8z8X798LMbe",
        "outputId": "01c95435-0adb-4576-b8d2-13f18ef39f2d"
      },
      "source": [
        "data_part2.head(2)"
      ],
      "execution_count": 17,
      "outputs": [
        {
          "output_type": "execute_result",
          "data": {
            "text/html": [
              "<div>\n",
              "<style scoped>\n",
              "    .dataframe tbody tr th:only-of-type {\n",
              "        vertical-align: middle;\n",
              "    }\n",
              "\n",
              "    .dataframe tbody tr th {\n",
              "        vertical-align: top;\n",
              "    }\n",
              "\n",
              "    .dataframe thead th {\n",
              "        text-align: right;\n",
              "    }\n",
              "</style>\n",
              "<table border=\"1\" class=\"dataframe\">\n",
              "  <thead>\n",
              "    <tr style=\"text-align: right;\">\n",
              "      <th></th>\n",
              "      <th>Unnamed: 0</th>\n",
              "      <th>centroid</th>\n",
              "      <th>x</th>\n",
              "      <th>y</th>\n",
              "      <th>RotationLength</th>\n",
              "      <th>RotationCount</th>\n",
              "      <th>CODE_CULTU_2015</th>\n",
              "      <th>CODE_CULTU_2016</th>\n",
              "      <th>CODE_CULTU_2017</th>\n",
              "      <th>CODE_CULTU_2018</th>\n",
              "      <th>CODE_CULTU_2019</th>\n",
              "      <th>CODE_GROUP_2015</th>\n",
              "      <th>CODE_GROUP_2016</th>\n",
              "      <th>CODE_GROUP_2017</th>\n",
              "      <th>CODE_GROUP_2018</th>\n",
              "      <th>CODE_GROUP_2019</th>\n",
              "      <th>cultuCode</th>\n",
              "      <th>groupCode</th>\n",
              "      <th>hzs</th>\n",
              "      <th>kg_id</th>\n",
              "      <th>ff_id</th>\n",
              "      <th>1 Nearest Neigbour Point</th>\n",
              "      <th>2 Nearest Neigbour Point</th>\n",
              "      <th>3 Nearest Neigbour Point</th>\n",
              "      <th>4 Nearest Neigbour Point</th>\n",
              "      <th>CODE_CULTU_2019_predict</th>\n",
              "    </tr>\n",
              "  </thead>\n",
              "  <tbody>\n",
              "    <tr>\n",
              "      <th>0</th>\n",
              "      <td>0</td>\n",
              "      <td>Point (907753.82834152 6554634.46488151)</td>\n",
              "      <td>907753.828342</td>\n",
              "      <td>6.554634e+06</td>\n",
              "      <td>1</td>\n",
              "      <td>5</td>\n",
              "      <td>PPH</td>\n",
              "      <td>PPH</td>\n",
              "      <td>PPH</td>\n",
              "      <td>PPH</td>\n",
              "      <td>PPH</td>\n",
              "      <td>18</td>\n",
              "      <td>18</td>\n",
              "      <td>18</td>\n",
              "      <td>18</td>\n",
              "      <td>18</td>\n",
              "      <td>aaaaa</td>\n",
              "      <td>aaaaa</td>\n",
              "      <td>7b</td>\n",
              "      <td>Dfb</td>\n",
              "      <td>ff12</td>\n",
              "      <td>Point (907748.69100314 6554212.06490037)</td>\n",
              "      <td>Point (907410.62452802 6554909.79074054)</td>\n",
              "      <td>Point (908089.34400838 6554953.05455597)</td>\n",
              "      <td>Point (907563.65755459 6554039.35762193)</td>\n",
              "      <td>NaN</td>\n",
              "    </tr>\n",
              "    <tr>\n",
              "      <th>1</th>\n",
              "      <td>1</td>\n",
              "      <td>Point (906932.34642625 6550537.14396784)</td>\n",
              "      <td>906932.346426</td>\n",
              "      <td>6.550537e+06</td>\n",
              "      <td>1</td>\n",
              "      <td>5</td>\n",
              "      <td>PPH</td>\n",
              "      <td>PPH</td>\n",
              "      <td>PPH</td>\n",
              "      <td>PPH</td>\n",
              "      <td>PPH</td>\n",
              "      <td>18</td>\n",
              "      <td>18</td>\n",
              "      <td>18</td>\n",
              "      <td>18</td>\n",
              "      <td>18</td>\n",
              "      <td>aaaaa</td>\n",
              "      <td>aaaaa</td>\n",
              "      <td>7b</td>\n",
              "      <td>Dfb</td>\n",
              "      <td>ff12</td>\n",
              "      <td>Point (906980.7207283 6550304.97315954)</td>\n",
              "      <td>Point (906736.32315476 6550335.52813463)</td>\n",
              "      <td>Point (906595.72670333 6550598.70621165)</td>\n",
              "      <td>Point (907032.95563938 6550121.6369531)</td>\n",
              "      <td>NaN</td>\n",
              "    </tr>\n",
              "  </tbody>\n",
              "</table>\n",
              "</div>"
            ],
            "text/plain": [
              "   Unnamed: 0  ... CODE_CULTU_2019_predict\n",
              "0           0  ...                     NaN\n",
              "1           1  ...                     NaN\n",
              "\n",
              "[2 rows x 26 columns]"
            ]
          },
          "metadata": {
            "tags": []
          },
          "execution_count": 17
        }
      ]
    },
    {
      "cell_type": "code",
      "metadata": {
        "id": "WaKn3wIN3pyL"
      },
      "source": [
        "#Получаем предсказания по эвристике по закономерностям последовательностей культур на основе анализа данных\n",
        "data_part2['CODE_CULTU_2019_predict'] = data_part2.apply(lambda x: predict_next_culture_4_years_list(x['CODE_CULTU_2015'],x['CODE_CULTU_2016'],x['CODE_CULTU_2017'],x['CODE_CULTU_2018']), axis=1, result_type='expand')"
      ],
      "execution_count": 18,
      "outputs": []
    },
    {
      "cell_type": "code",
      "metadata": {
        "colab": {
          "base_uri": "https://localhost:8080/"
        },
        "id": "o5wGWz9O4A2w",
        "outputId": "54df9d0b-94f0-4bce-e2f7-3c8af4ead7f7"
      },
      "source": [
        "print(data_part2[data_part2['CODE_CULTU_2019_predict'] != 'Unknown']['CODE_CULTU_2019_predict'].value_counts().sum())\n",
        "print(data_part2[data_part2['CODE_CULTU_2019_predict'] != 'Unknown']['CODE_CULTU_2019_predict'].value_counts())"
      ],
      "execution_count": 19,
      "outputs": [
        {
          "output_type": "stream",
          "text": [
            "2078679\n",
            "PPH    1067851\n",
            "VRC     181807\n",
            "J6S     100032\n",
            "SNE      85849\n",
            "PRL      79558\n",
            "        ...   \n",
            "LIP          2\n",
            "BAS          2\n",
            "NVF          2\n",
            "CZP          2\n",
            "PAN          2\n",
            "Name: CODE_CULTU_2019_predict, Length: 159, dtype: int64\n"
          ],
          "name": "stdout"
        }
      ]
    },
    {
      "cell_type": "code",
      "metadata": {
        "id": "J_VyLq2-6Wd2"
      },
      "source": [
        "#Формирование выборки для оценки точности\n",
        "data_eval = data_part2[data_part2['CODE_CULTU_2019_predict'] != 'Unknown']"
      ],
      "execution_count": null,
      "outputs": []
    },
    {
      "cell_type": "code",
      "metadata": {
        "colab": {
          "base_uri": "https://localhost:8080/"
        },
        "id": "HVJ9V4RA7HB_",
        "outputId": "8a557a55-b4d8-452b-a9a2-55ce498eb4f2"
      },
      "source": [
        "print(accuracy_score(data_eval['CODE_CULTU_2019'],data_eval['CODE_CULTU_2019_predict']))"
      ],
      "execution_count": null,
      "outputs": [
        {
          "output_type": "stream",
          "text": [
            "0.9479198086861896\n"
          ],
          "name": "stdout"
        }
      ]
    },
    {
      "cell_type": "code",
      "metadata": {
        "id": "8qU4OmJK4nHu"
      },
      "source": [
        "# Формирование набора данных, по которому не удалось предсказать значения с помощью эвристик ###\n",
        "data_part3 = data_part2[data_part2['CODE_CULTU_2019_predict'] == 'Unknown']"
      ],
      "execution_count": 21,
      "outputs": []
    },
    {
      "cell_type": "code",
      "metadata": {
        "id": "77o-EqQjDEHt"
      },
      "source": [
        "#Формирование набора данных с предсказанными по эвристикам значениями\n",
        "data_part2 = data_part2[data_part2['CODE_CULTU_2019_predict'] != 'Unknown']"
      ],
      "execution_count": 22,
      "outputs": []
    },
    {
      "cell_type": "markdown",
      "metadata": {
        "id": "Jq_JQXS1ASDo"
      },
      "source": [
        "## Моделирование ##"
      ]
    },
    {
      "cell_type": "markdown",
      "metadata": {
        "id": "aRToC-wtgSOz"
      },
      "source": [
        "###Full CatBoost###"
      ]
    },
    {
      "cell_type": "code",
      "metadata": {
        "id": "8G7pIG8tgRVx"
      },
      "source": [
        "X_full = data_part3[[\n",
        "       'CODE_CULTU_2015', 'CODE_CULTU_2016', 'CODE_CULTU_2017',\n",
        "       'CODE_CULTU_2018', 'CODE_GROUP_2015',\n",
        "       'CODE_GROUP_2016', 'CODE_GROUP_2017', 'CODE_GROUP_2018']]\n",
        "\n",
        "X_full = X_full.replace(np.nan, 'unknown', regex=True)\n",
        "\n",
        "Y_full = data_part3['CODE_CULTU_2019']"
      ],
      "execution_count": 23,
      "outputs": []
    },
    {
      "cell_type": "code",
      "metadata": {
        "id": "K0GIFceqglj6"
      },
      "source": [
        "cat_features_full = [0, 1, 2, 3, 4, 5, 6, 7]"
      ],
      "execution_count": 25,
      "outputs": []
    },
    {
      "cell_type": "code",
      "metadata": {
        "id": "72az_41ogwS-",
        "colab": {
          "base_uri": "https://localhost:8080/"
        },
        "outputId": "5a42a74f-4849-4252-897c-6451e836d6cf"
      },
      "source": [
        "train_dataset_full = Pool(data=X_full,\n",
        "                     label=Y_full,\n",
        "                     cat_features=cat_features_full)\n",
        "\n",
        "eval_dataset_full = Pool(data=X_full,\n",
        "                    label=Y_full,\n",
        "                    cat_features=cat_features_full)\n",
        "\n",
        "model_full = CatBoostClassifier(iterations=200,\n",
        "                           #learning_rate=0.25,\n",
        "                           depth=6,\n",
        "                           loss_function='MultiClass',  task_type='GPU')\n",
        "\n",
        "#Обучение модели\n",
        "model_full.fit(train_dataset_full)  \n",
        "#Получение предсказаний\n",
        "preds_class_full = model_full.predict(eval_dataset_full)"
      ],
      "execution_count": 26,
      "outputs": [
        {
          "output_type": "stream",
          "text": [
            "Learning rate set to 0.5\n",
            "0:\tlearn: 14.3086393\ttotal: 8.74s\tremaining: 28m 58s\n",
            "1:\tlearn: 1144.3186298\ttotal: 18.7s\tremaining: 30m 50s\n",
            "2:\tlearn: 3486.0962125\ttotal: 27.6s\tremaining: 30m 15s\n",
            "3:\tlearn: 3452.6349205\ttotal: 36.5s\tremaining: 29m 48s\n",
            "4:\tlearn: 3960.3020747\ttotal: 45.3s\tremaining: 29m 27s\n",
            "5:\tlearn: 3204.9036430\ttotal: 54.2s\tremaining: 29m 11s\n",
            "6:\tlearn: 2687.8177183\ttotal: 1m 3s\tremaining: 28m 57s\n",
            "7:\tlearn: 2608.1470362\ttotal: 1m 11s\tremaining: 28m 44s\n",
            "8:\tlearn: 2573.3483070\ttotal: 1m 20s\tremaining: 28m 32s\n",
            "9:\tlearn: 2405.0925732\ttotal: 1m 29s\tremaining: 28m 21s\n",
            "10:\tlearn: 2389.2164499\ttotal: 1m 38s\tremaining: 28m 10s\n",
            "11:\tlearn: 2245.7084125\ttotal: 1m 47s\tremaining: 28m\n",
            "12:\tlearn: 2293.1847928\ttotal: 1m 56s\tremaining: 27m 50s\n",
            "13:\tlearn: 2179.5343285\ttotal: 2m 4s\tremaining: 27m 40s\n",
            "14:\tlearn: 2102.4390145\ttotal: 2m 13s\tremaining: 27m 30s\n",
            "15:\tlearn: 1983.8269644\ttotal: 2m 22s\tremaining: 27m 20s\n",
            "16:\tlearn: 2024.6885429\ttotal: 2m 31s\tremaining: 27m 11s\n",
            "17:\tlearn: 2066.7026350\ttotal: 2m 40s\tremaining: 27m 1s\n",
            "18:\tlearn: 2156.6781354\ttotal: 2m 49s\tremaining: 26m 52s\n",
            "19:\tlearn: 2167.0724215\ttotal: 2m 58s\tremaining: 26m 42s\n",
            "20:\tlearn: 2176.0803096\ttotal: 3m 6s\tremaining: 26m 33s\n",
            "21:\tlearn: 2105.7197336\ttotal: 3m 15s\tremaining: 26m 24s\n",
            "22:\tlearn: 2034.6270365\ttotal: 3m 24s\tremaining: 26m 14s\n",
            "23:\tlearn: 2039.3057773\ttotal: 3m 33s\tremaining: 26m 5s\n",
            "24:\tlearn: 2161.2378207\ttotal: 3m 42s\tremaining: 25m 56s\n",
            "25:\tlearn: 2055.3002517\ttotal: 3m 51s\tremaining: 25m 46s\n",
            "26:\tlearn: 2029.9777074\ttotal: 4m\tremaining: 25m 37s\n",
            "27:\tlearn: 1950.6715888\ttotal: 4m 8s\tremaining: 25m 28s\n",
            "28:\tlearn: 1965.2160867\ttotal: 4m 17s\tremaining: 25m 19s\n",
            "29:\tlearn: 1951.3628505\ttotal: 4m 26s\tremaining: 25m 10s\n",
            "30:\tlearn: 1914.3941760\ttotal: 4m 35s\tremaining: 25m 1s\n",
            "31:\tlearn: 1895.8079547\ttotal: 4m 44s\tremaining: 24m 52s\n",
            "32:\tlearn: 1881.2817731\ttotal: 4m 53s\tremaining: 24m 43s\n",
            "33:\tlearn: 1886.6144386\ttotal: 5m 2s\tremaining: 24m 34s\n",
            "34:\tlearn: 1863.8519401\ttotal: 5m 10s\tremaining: 24m 25s\n",
            "35:\tlearn: 1848.5483752\ttotal: 5m 19s\tremaining: 24m 16s\n",
            "36:\tlearn: 1777.2269014\ttotal: 5m 28s\tremaining: 24m 7s\n",
            "37:\tlearn: 1800.3358233\ttotal: 5m 37s\tremaining: 23m 58s\n",
            "38:\tlearn: 1755.9136748\ttotal: 5m 46s\tremaining: 23m 49s\n",
            "39:\tlearn: 1862.7483871\ttotal: 5m 55s\tremaining: 23m 40s\n",
            "40:\tlearn: 1840.1435138\ttotal: 6m 3s\tremaining: 23m 31s\n",
            "41:\tlearn: 2126.6243672\ttotal: 6m 12s\tremaining: 23m 22s\n",
            "42:\tlearn: 1986.0886670\ttotal: 6m 21s\tremaining: 23m 13s\n",
            "43:\tlearn: 1888.7072444\ttotal: 6m 30s\tremaining: 23m 4s\n",
            "44:\tlearn: 1893.3940866\ttotal: 6m 39s\tremaining: 22m 55s\n",
            "45:\tlearn: 1935.3380839\ttotal: 6m 48s\tremaining: 22m 46s\n",
            "46:\tlearn: 1878.8384933\ttotal: 6m 56s\tremaining: 22m 37s\n",
            "47:\tlearn: 1903.3882334\ttotal: 7m 5s\tremaining: 22m 28s\n",
            "48:\tlearn: 1824.2934560\ttotal: 7m 14s\tremaining: 22m 19s\n",
            "49:\tlearn: 1868.7346251\ttotal: 7m 23s\tremaining: 22m 10s\n",
            "50:\tlearn: 1881.8485196\ttotal: 7m 32s\tremaining: 22m 1s\n",
            "51:\tlearn: 1852.5076756\ttotal: 7m 41s\tremaining: 21m 52s\n",
            "52:\tlearn: 1821.5099169\ttotal: 7m 50s\tremaining: 21m 43s\n",
            "53:\tlearn: 1824.0556972\ttotal: 7m 58s\tremaining: 21m 34s\n",
            "54:\tlearn: 1831.6955036\ttotal: 8m 7s\tremaining: 21m 25s\n",
            "55:\tlearn: 1769.2672654\ttotal: 8m 16s\tremaining: 21m 16s\n",
            "56:\tlearn: 1833.9894357\ttotal: 8m 25s\tremaining: 21m 8s\n",
            "57:\tlearn: 1773.3274811\ttotal: 8m 34s\tremaining: 20m 59s\n",
            "58:\tlearn: 1791.3173681\ttotal: 8m 43s\tremaining: 20m 50s\n",
            "59:\tlearn: 1767.0041539\ttotal: 8m 51s\tremaining: 20m 41s\n",
            "60:\tlearn: 1750.5146129\ttotal: 9m\tremaining: 20m 32s\n",
            "61:\tlearn: 1749.9163414\ttotal: 9m 9s\tremaining: 20m 23s\n",
            "62:\tlearn: 1757.2384316\ttotal: 9m 18s\tremaining: 20m 14s\n",
            "63:\tlearn: 1773.0132872\ttotal: 9m 27s\tremaining: 20m 5s\n",
            "64:\tlearn: 1766.2272991\ttotal: 9m 36s\tremaining: 19m 56s\n",
            "65:\tlearn: 1740.0308591\ttotal: 9m 45s\tremaining: 19m 47s\n",
            "66:\tlearn: 1729.2894452\ttotal: 9m 53s\tremaining: 19m 39s\n",
            "67:\tlearn: 1687.3665820\ttotal: 10m 2s\tremaining: 19m 30s\n",
            "68:\tlearn: 1667.4892424\ttotal: 10m 11s\tremaining: 19m 21s\n",
            "69:\tlearn: 1673.4869281\ttotal: 10m 20s\tremaining: 19m 12s\n",
            "70:\tlearn: 1644.4807076\ttotal: 10m 29s\tremaining: 19m 3s\n",
            "71:\tlearn: 1698.0070805\ttotal: 10m 38s\tremaining: 18m 54s\n",
            "72:\tlearn: 1702.7354865\ttotal: 10m 47s\tremaining: 18m 45s\n",
            "73:\tlearn: 1647.7721698\ttotal: 10m 55s\tremaining: 18m 36s\n",
            "74:\tlearn: 1638.0416711\ttotal: 11m 4s\tremaining: 18m 27s\n",
            "75:\tlearn: 1616.4434862\ttotal: 11m 13s\tremaining: 18m 18s\n",
            "76:\tlearn: 1625.6067101\ttotal: 11m 22s\tremaining: 18m 10s\n",
            "77:\tlearn: 1622.7747387\ttotal: 11m 31s\tremaining: 18m 1s\n",
            "78:\tlearn: 1664.8823493\ttotal: 11m 40s\tremaining: 17m 52s\n",
            "79:\tlearn: 1656.1699865\ttotal: 11m 48s\tremaining: 17m 43s\n",
            "80:\tlearn: 1680.1184611\ttotal: 11m 57s\tremaining: 17m 34s\n",
            "81:\tlearn: 1642.5703597\ttotal: 12m 6s\tremaining: 17m 25s\n",
            "82:\tlearn: 1628.3913058\ttotal: 12m 15s\tremaining: 17m 16s\n",
            "83:\tlearn: 1620.9991208\ttotal: 12m 24s\tremaining: 17m 7s\n",
            "84:\tlearn: 1581.5593399\ttotal: 12m 33s\tremaining: 16m 58s\n",
            "85:\tlearn: 1625.5829342\ttotal: 12m 42s\tremaining: 16m 50s\n",
            "86:\tlearn: 1596.1679447\ttotal: 12m 50s\tremaining: 16m 41s\n",
            "87:\tlearn: 1638.9840765\ttotal: 12m 59s\tremaining: 16m 32s\n",
            "88:\tlearn: 1605.3938664\ttotal: 13m 8s\tremaining: 16m 23s\n",
            "89:\tlearn: 1612.9095099\ttotal: 13m 17s\tremaining: 16m 14s\n",
            "90:\tlearn: 1617.7106525\ttotal: 13m 26s\tremaining: 16m 5s\n",
            "91:\tlearn: 1556.5856847\ttotal: 13m 35s\tremaining: 15m 56s\n",
            "92:\tlearn: 1564.8802964\ttotal: 13m 43s\tremaining: 15m 47s\n",
            "93:\tlearn: 1574.2277394\ttotal: 13m 52s\tremaining: 15m 39s\n",
            "94:\tlearn: 1645.4139548\ttotal: 14m 1s\tremaining: 15m 30s\n",
            "95:\tlearn: 1613.6173267\ttotal: 14m 10s\tremaining: 15m 21s\n",
            "96:\tlearn: 1627.8161057\ttotal: 14m 19s\tremaining: 15m 12s\n",
            "97:\tlearn: 1613.2828793\ttotal: 14m 28s\tremaining: 15m 3s\n",
            "98:\tlearn: 1659.7106553\ttotal: 14m 37s\tremaining: 14m 54s\n",
            "99:\tlearn: 1660.4799370\ttotal: 14m 45s\tremaining: 14m 45s\n",
            "100:\tlearn: 1657.0030229\ttotal: 14m 54s\tremaining: 14m 37s\n",
            "101:\tlearn: 1656.7531120\ttotal: 15m 3s\tremaining: 14m 28s\n",
            "102:\tlearn: 1657.2553994\ttotal: 15m 12s\tremaining: 14m 19s\n",
            "103:\tlearn: 1602.9111363\ttotal: 15m 21s\tremaining: 14m 10s\n",
            "104:\tlearn: 1674.6267613\ttotal: 15m 30s\tremaining: 14m 1s\n",
            "105:\tlearn: 1625.5975520\ttotal: 15m 39s\tremaining: 13m 52s\n",
            "106:\tlearn: 1630.6191938\ttotal: 15m 47s\tremaining: 13m 43s\n",
            "107:\tlearn: 1563.4035501\ttotal: 15m 56s\tremaining: 13m 35s\n",
            "108:\tlearn: 1598.9453196\ttotal: 16m 5s\tremaining: 13m 26s\n",
            "109:\tlearn: 1554.5832273\ttotal: 16m 14s\tremaining: 13m 17s\n",
            "110:\tlearn: 1590.1579307\ttotal: 16m 23s\tremaining: 13m 8s\n",
            "111:\tlearn: 1624.6264394\ttotal: 16m 32s\tremaining: 12m 59s\n",
            "112:\tlearn: 1622.7116886\ttotal: 16m 40s\tremaining: 12m 50s\n",
            "113:\tlearn: 1594.2054660\ttotal: 16m 49s\tremaining: 12m 41s\n",
            "114:\tlearn: 1580.1141187\ttotal: 16m 58s\tremaining: 12m 32s\n",
            "115:\tlearn: 1559.0618985\ttotal: 17m 7s\tremaining: 12m 24s\n",
            "116:\tlearn: 1555.5074926\ttotal: 17m 16s\tremaining: 12m 15s\n",
            "117:\tlearn: 1520.1823478\ttotal: 17m 25s\tremaining: 12m 6s\n",
            "118:\tlearn: 1551.6186393\ttotal: 17m 34s\tremaining: 11m 57s\n",
            "119:\tlearn: 1565.6011459\ttotal: 17m 42s\tremaining: 11m 48s\n",
            "120:\tlearn: 1613.2437812\ttotal: 17m 51s\tremaining: 11m 39s\n",
            "121:\tlearn: 1564.6273915\ttotal: 18m\tremaining: 11m 30s\n",
            "122:\tlearn: 1578.5952803\ttotal: 18m 9s\tremaining: 11m 22s\n",
            "123:\tlearn: 1582.6387649\ttotal: 18m 18s\tremaining: 11m 13s\n",
            "124:\tlearn: 1581.2527192\ttotal: 18m 27s\tremaining: 11m 4s\n",
            "125:\tlearn: 1537.6049599\ttotal: 18m 36s\tremaining: 10m 55s\n",
            "126:\tlearn: 1589.9316196\ttotal: 18m 44s\tremaining: 10m 46s\n",
            "127:\tlearn: 1565.9045965\ttotal: 18m 53s\tremaining: 10m 37s\n",
            "128:\tlearn: 1555.0339123\ttotal: 19m 2s\tremaining: 10m 28s\n",
            "129:\tlearn: 1560.9180021\ttotal: 19m 11s\tremaining: 10m 20s\n",
            "130:\tlearn: 1606.0285943\ttotal: 19m 20s\tremaining: 10m 11s\n",
            "131:\tlearn: 1596.3396593\ttotal: 19m 29s\tremaining: 10m 2s\n",
            "132:\tlearn: 1586.7160640\ttotal: 19m 38s\tremaining: 9m 53s\n",
            "133:\tlearn: 1585.9300510\ttotal: 19m 46s\tremaining: 9m 44s\n",
            "134:\tlearn: 1568.0527032\ttotal: 19m 55s\tremaining: 9m 35s\n",
            "135:\tlearn: 1528.6645248\ttotal: 20m 4s\tremaining: 9m 26s\n",
            "136:\tlearn: 1545.2039071\ttotal: 20m 13s\tremaining: 9m 17s\n",
            "137:\tlearn: 1565.7887111\ttotal: 20m 22s\tremaining: 9m 9s\n",
            "138:\tlearn: 1516.9342104\ttotal: 20m 31s\tremaining: 9m\n",
            "139:\tlearn: 1576.7397050\ttotal: 20m 39s\tremaining: 8m 51s\n",
            "140:\tlearn: 1567.3785249\ttotal: 20m 48s\tremaining: 8m 42s\n",
            "141:\tlearn: 1593.9826772\ttotal: 20m 57s\tremaining: 8m 33s\n",
            "142:\tlearn: 1601.1020560\ttotal: 21m 6s\tremaining: 8m 24s\n",
            "143:\tlearn: 1560.8774951\ttotal: 21m 15s\tremaining: 8m 15s\n",
            "144:\tlearn: 1544.9916853\ttotal: 21m 24s\tremaining: 8m 7s\n",
            "145:\tlearn: 1537.0119719\ttotal: 21m 33s\tremaining: 7m 58s\n",
            "146:\tlearn: 1554.1741060\ttotal: 21m 41s\tremaining: 7m 49s\n",
            "147:\tlearn: 1549.5578870\ttotal: 21m 50s\tremaining: 7m 40s\n",
            "148:\tlearn: 1562.1902758\ttotal: 21m 59s\tremaining: 7m 31s\n",
            "149:\tlearn: 1549.2757465\ttotal: 22m 8s\tremaining: 7m 22s\n",
            "150:\tlearn: 1537.5399725\ttotal: 22m 17s\tremaining: 7m 13s\n",
            "151:\tlearn: 1564.3662091\ttotal: 22m 26s\tremaining: 7m 5s\n",
            "152:\tlearn: 1536.9173967\ttotal: 22m 35s\tremaining: 6m 56s\n",
            "153:\tlearn: 1547.6339780\ttotal: 22m 43s\tremaining: 6m 47s\n",
            "154:\tlearn: 1523.3952616\ttotal: 22m 52s\tremaining: 6m 38s\n",
            "155:\tlearn: 1510.9603006\ttotal: 23m 1s\tremaining: 6m 29s\n",
            "156:\tlearn: 1499.6442149\ttotal: 23m 10s\tremaining: 6m 20s\n",
            "157:\tlearn: 1554.4557181\ttotal: 23m 19s\tremaining: 6m 11s\n",
            "158:\tlearn: 1544.3527306\ttotal: 23m 28s\tremaining: 6m 3s\n",
            "159:\tlearn: 1508.5640442\ttotal: 23m 37s\tremaining: 5m 54s\n",
            "160:\tlearn: 1529.1143292\ttotal: 23m 45s\tremaining: 5m 45s\n",
            "161:\tlearn: 1519.3214848\ttotal: 23m 54s\tremaining: 5m 36s\n",
            "162:\tlearn: 1508.7280097\ttotal: 24m 3s\tremaining: 5m 27s\n",
            "163:\tlearn: 1510.2470242\ttotal: 24m 12s\tremaining: 5m 18s\n",
            "164:\tlearn: 1500.1651708\ttotal: 24m 21s\tremaining: 5m 9s\n",
            "165:\tlearn: 1562.2277889\ttotal: 24m 30s\tremaining: 5m 1s\n",
            "166:\tlearn: 1617.9619724\ttotal: 24m 39s\tremaining: 4m 52s\n",
            "167:\tlearn: 1591.1556371\ttotal: 24m 47s\tremaining: 4m 43s\n",
            "168:\tlearn: 1773.5182165\ttotal: 24m 56s\tremaining: 4m 34s\n",
            "169:\tlearn: 1673.0119388\ttotal: 25m 5s\tremaining: 4m 25s\n",
            "170:\tlearn: 1599.7346788\ttotal: 25m 14s\tremaining: 4m 16s\n",
            "171:\tlearn: 1618.7589046\ttotal: 25m 23s\tremaining: 4m 8s\n",
            "172:\tlearn: 1598.1427516\ttotal: 25m 32s\tremaining: 3m 59s\n",
            "173:\tlearn: 1605.3065121\ttotal: 25m 41s\tremaining: 3m 50s\n",
            "174:\tlearn: 1574.9202339\ttotal: 25m 50s\tremaining: 3m 41s\n",
            "175:\tlearn: 1643.2649676\ttotal: 25m 58s\tremaining: 3m 32s\n",
            "176:\tlearn: 1533.0436896\ttotal: 26m 7s\tremaining: 3m 23s\n",
            "177:\tlearn: 1568.7085652\ttotal: 26m 16s\tremaining: 3m 14s\n",
            "178:\tlearn: 1571.8341247\ttotal: 26m 25s\tremaining: 3m 6s\n",
            "179:\tlearn: 1562.3179611\ttotal: 26m 34s\tremaining: 2m 57s\n",
            "180:\tlearn: 1591.0797304\ttotal: 26m 43s\tremaining: 2m 48s\n",
            "181:\tlearn: 1718.8585266\ttotal: 26m 52s\tremaining: 2m 39s\n",
            "182:\tlearn: 1679.7258949\ttotal: 27m\tremaining: 2m 30s\n",
            "183:\tlearn: 1676.6501767\ttotal: 27m 9s\tremaining: 2m 21s\n",
            "184:\tlearn: 1587.4864025\ttotal: 27m 18s\tremaining: 2m 12s\n",
            "185:\tlearn: 1560.6791866\ttotal: 27m 27s\tremaining: 2m 4s\n",
            "186:\tlearn: 1538.8538100\ttotal: 27m 36s\tremaining: 1m 55s\n",
            "187:\tlearn: 1538.1021400\ttotal: 27m 45s\tremaining: 1m 46s\n",
            "188:\tlearn: 1540.2018143\ttotal: 27m 54s\tremaining: 1m 37s\n",
            "189:\tlearn: 1584.3111778\ttotal: 28m 2s\tremaining: 1m 28s\n",
            "190:\tlearn: 1544.6646349\ttotal: 28m 11s\tremaining: 1m 19s\n",
            "191:\tlearn: 1527.2714344\ttotal: 28m 20s\tremaining: 1m 10s\n",
            "192:\tlearn: 1530.7747662\ttotal: 28m 29s\tremaining: 1m 2s\n",
            "193:\tlearn: 1483.8853860\ttotal: 28m 38s\tremaining: 53.1s\n",
            "194:\tlearn: 1662.4957794\ttotal: 28m 47s\tremaining: 44.3s\n",
            "195:\tlearn: 1529.1828390\ttotal: 28m 56s\tremaining: 35.4s\n",
            "196:\tlearn: 1582.6123472\ttotal: 29m 4s\tremaining: 26.6s\n",
            "197:\tlearn: 1549.0348176\ttotal: 29m 13s\tremaining: 17.7s\n",
            "198:\tlearn: 1537.1063709\ttotal: 29m 22s\tremaining: 8.86s\n",
            "199:\tlearn: 1550.6239270\ttotal: 29m 31s\tremaining: 0us\n"
          ],
          "name": "stdout"
        }
      ]
    },
    {
      "cell_type": "code",
      "metadata": {
        "id": "PHVazyC9ezeC"
      },
      "source": [
        "preds_class_full = model_full.predict(eval_dataset_full)"
      ],
      "execution_count": null,
      "outputs": []
    },
    {
      "cell_type": "code",
      "metadata": {
        "colab": {
          "base_uri": "https://localhost:8080/"
        },
        "id": "IDBLfp9dhMum",
        "outputId": "8c45839c-8d55-434b-d077-a73d7ef02482"
      },
      "source": [
        "print(accuracy_score(Y_full,preds_class_full))"
      ],
      "execution_count": null,
      "outputs": [
        {
          "output_type": "stream",
          "text": [
            "0.572658839522446\n"
          ],
          "name": "stdout"
        }
      ]
    },
    {
      "cell_type": "markdown",
      "metadata": {
        "id": "gM99GSEwX15K"
      },
      "source": [
        "## Предсказания по тестовой выборке ##"
      ]
    },
    {
      "cell_type": "code",
      "metadata": {
        "id": "ZDwruJ83FP82"
      },
      "source": [
        "test2020 = pd.read_csv('/content/drive/MyDrive/Хакатон/testWithCodes2015-2019.csv')"
      ],
      "execution_count": 27,
      "outputs": []
    },
    {
      "cell_type": "code",
      "metadata": {
        "id": "PyhfiK4LmDXQ"
      },
      "source": [
        "#Смещаем даты на год, т.к. предсказываем на 2020 по данным 2019-2016, для упрощения пайплана считаем, что предсказываем на 2019 по данным 2018-2015\n",
        "test2020.rename(columns = {'CODE_CULTU_2015': 'CODE_CULTU_2014', 'CODE_GROUP_2015': 'CODE_GROUP_2014'}, inplace = True)\n",
        "test2020.rename(columns = {'CODE_CULTU_2016': 'CODE_CULTU_2015', 'CODE_GROUP_2016': 'CODE_GROUP_2015'}, inplace = True)\n",
        "test2020.rename(columns = {'CODE_CULTU_2017': 'CODE_CULTU_2016', 'CODE_GROUP_2017': 'CODE_GROUP_2016'}, inplace = True)\n",
        "test2020.rename(columns = {'CODE_CULTU_2018': 'CODE_CULTU_2017', 'CODE_GROUP_2018': 'CODE_GROUP_2017'}, inplace = True)\n",
        "test2020.rename(columns = {'CODE_CULTU_2019': 'CODE_CULTU_2018', 'CODE_GROUP_2019': 'CODE_GROUP_2018'}, inplace = True)"
      ],
      "execution_count": 28,
      "outputs": []
    },
    {
      "cell_type": "code",
      "metadata": {
        "id": "k5Y7tynpqmqi"
      },
      "source": [
        "g_test_pred = get_unique_chains_test(test2020)"
      ],
      "execution_count": 29,
      "outputs": []
    },
    {
      "cell_type": "code",
      "metadata": {
        "id": "djrqt2ngdW38"
      },
      "source": [
        "#Получает предсказания для тестовой выборки из уникальных последовательностей обучающей выборки\n",
        "g_test_pred = pd.merge(g_test_pred, g_pred,  how='left', left_on=['CODE_CULTU_2015','CODE_CULTU_2016','CODE_CULTU_2017','CODE_CULTU_2018'], right_on = ['CODE_CULTU_2015','CODE_CULTU_2016','CODE_CULTU_2017','CODE_CULTU_2018'])\n"
      ],
      "execution_count": 30,
      "outputs": []
    },
    {
      "cell_type": "code",
      "metadata": {
        "id": "_9bCQ_cNdW39"
      },
      "source": [
        "g_test_pred = g_test_pred.reindex(columns=['CODE_CULTU_2015','CODE_CULTU_2016','CODE_CULTU_2017','CODE_CULTU_2018','CODE_CULTU_2019_predict'])"
      ],
      "execution_count": 31,
      "outputs": []
    },
    {
      "cell_type": "code",
      "metadata": {
        "colab": {
          "base_uri": "https://localhost:8080/"
        },
        "id": "MA9AbLEIqOWI",
        "outputId": "b2ecccf4-572a-4341-a901-bf46c814be99"
      },
      "source": [
        "print(g_test_pred['CODE_CULTU_2019_predict'].value_counts().sum())\n",
        "print(g_test_pred['CODE_CULTU_2019_predict'].value_counts())"
      ],
      "execution_count": 32,
      "outputs": [
        {
          "output_type": "stream",
          "text": [
            "1\n",
            "GFP    1\n",
            "Name: CODE_CULTU_2019_predict, dtype: int64\n"
          ],
          "name": "stdout"
        }
      ]
    },
    {
      "cell_type": "code",
      "metadata": {
        "id": "YkPNa_y2dW4E"
      },
      "source": [
        "#Получаем предсказания по эвристике по уникальным последовательностям для тестовой выборки\n",
        "test_pred = pd.merge(test2020, g_test_pred,  how='left', left_on=['CODE_CULTU_2015','CODE_CULTU_2016','CODE_CULTU_2017','CODE_CULTU_2018'], right_on = ['CODE_CULTU_2015','CODE_CULTU_2016','CODE_CULTU_2017','CODE_CULTU_2018'])"
      ],
      "execution_count": 33,
      "outputs": []
    },
    {
      "cell_type": "code",
      "metadata": {
        "colab": {
          "base_uri": "https://localhost:8080/"
        },
        "id": "D63IjToHdW4F",
        "outputId": "721df963-b96c-4d7c-957c-abfa4aea716a"
      },
      "source": [
        "print(test_pred['CODE_CULTU_2019_predict'].value_counts().sum())\n",
        "print(test_pred['CODE_CULTU_2019_predict'].value_counts())"
      ],
      "execution_count": 34,
      "outputs": [
        {
          "output_type": "stream",
          "text": [
            "1\n",
            "GFP    1\n",
            "Name: CODE_CULTU_2019_predict, dtype: int64\n"
          ],
          "name": "stdout"
        }
      ]
    },
    {
      "cell_type": "code",
      "metadata": {
        "id": "s86BoReIdW4F"
      },
      "source": [
        "#Сохраняем первую часть, предсказанную по эвристике по уникальным последовательностям\n",
        "test_part1 = test_pred[test_pred.CODE_CULTU_2019_predict.notnull()].copy()"
      ],
      "execution_count": 35,
      "outputs": []
    },
    {
      "cell_type": "code",
      "metadata": {
        "colab": {
          "base_uri": "https://localhost:8080/",
          "height": 147
        },
        "id": "tUfT1xjmdW4G",
        "outputId": "ea857f10-3e64-4e75-dead-9c09d9ff3ffc"
      },
      "source": [
        "test_part1.head(2)"
      ],
      "execution_count": 36,
      "outputs": [
        {
          "output_type": "execute_result",
          "data": {
            "text/html": [
              "<div>\n",
              "<style scoped>\n",
              "    .dataframe tbody tr th:only-of-type {\n",
              "        vertical-align: middle;\n",
              "    }\n",
              "\n",
              "    .dataframe tbody tr th {\n",
              "        vertical-align: top;\n",
              "    }\n",
              "\n",
              "    .dataframe thead th {\n",
              "        text-align: right;\n",
              "    }\n",
              "</style>\n",
              "<table border=\"1\" class=\"dataframe\">\n",
              "  <thead>\n",
              "    <tr style=\"text-align: right;\">\n",
              "      <th></th>\n",
              "      <th>Unnamed: 0</th>\n",
              "      <th>CODE_CULTU_2018</th>\n",
              "      <th>CODE_GROUP_2018</th>\n",
              "      <th>centroid</th>\n",
              "      <th>CODE_CULTU_2017</th>\n",
              "      <th>CODE_GROUP_2017</th>\n",
              "      <th>CODE_CULTU_2016</th>\n",
              "      <th>CODE_GROUP_2016</th>\n",
              "      <th>CODE_CULTU_2015</th>\n",
              "      <th>CODE_GROUP_2015</th>\n",
              "      <th>CODE_CULTU_2014</th>\n",
              "      <th>CODE_GROUP_2014</th>\n",
              "      <th>cultuCode</th>\n",
              "      <th>groupCode</th>\n",
              "      <th>CODE_CULTU_2019_predict</th>\n",
              "    </tr>\n",
              "  </thead>\n",
              "  <tbody>\n",
              "    <tr>\n",
              "      <th>11</th>\n",
              "      <td>11</td>\n",
              "      <td>GFP</td>\n",
              "      <td>16</td>\n",
              "      <td>Point (665214.065978 7101594.32914311)</td>\n",
              "      <td>GFP</td>\n",
              "      <td>16</td>\n",
              "      <td>FAG</td>\n",
              "      <td>16</td>\n",
              "      <td>FAG</td>\n",
              "      <td>16</td>\n",
              "      <td>FAG</td>\n",
              "      <td>16</td>\n",
              "      <td>aabbb</td>\n",
              "      <td>aaaaa</td>\n",
              "      <td>GFP</td>\n",
              "    </tr>\n",
              "  </tbody>\n",
              "</table>\n",
              "</div>"
            ],
            "text/plain": [
              "    Unnamed: 0 CODE_CULTU_2018  ...  groupCode CODE_CULTU_2019_predict\n",
              "11          11             GFP  ...      aaaaa                     GFP\n",
              "\n",
              "[1 rows x 15 columns]"
            ]
          },
          "metadata": {
            "tags": []
          },
          "execution_count": 36
        }
      ]
    },
    {
      "cell_type": "code",
      "metadata": {
        "id": "vkpQk7fYdW4H"
      },
      "source": [
        "#Формируем вторую часть для предсказаний по эверистике по закономерностям последовательностей культур на основе анализа\n",
        "test_part2 = test_pred[test_pred.CODE_CULTU_2019_predict.isna()].copy()"
      ],
      "execution_count": 37,
      "outputs": []
    },
    {
      "cell_type": "code",
      "metadata": {
        "id": "0l4W0JVTeQj_"
      },
      "source": [
        "#Получаем предсказания по эвристике по закономерностям последовательностей культур на основе анализа данных\n",
        "test_part2['CODE_CULTU_2019_predict'] = test_part2.apply(lambda x: predict_next_culture_4_years_list(x['CODE_CULTU_2015'],x['CODE_CULTU_2016'],x['CODE_CULTU_2017'],x['CODE_CULTU_2018']), axis=1, result_type='expand')"
      ],
      "execution_count": 38,
      "outputs": []
    },
    {
      "cell_type": "code",
      "metadata": {
        "colab": {
          "base_uri": "https://localhost:8080/"
        },
        "id": "bWN8m_UleQkC",
        "outputId": "273c9c8f-5e99-4fbc-d68a-1c6fb7106268"
      },
      "source": [
        "print(test_part2['CODE_CULTU_2019_predict'].value_counts().sum())\n",
        "print(test_part2['CODE_CULTU_2019_predict'].value_counts())"
      ],
      "execution_count": 39,
      "outputs": [
        {
          "output_type": "stream",
          "text": [
            "26\n",
            "Unknown    13\n",
            "BTA         9\n",
            "J6S         1\n",
            "FAG         1\n",
            "GFP         1\n",
            "PPH         1\n",
            "Name: CODE_CULTU_2019_predict, dtype: int64\n"
          ],
          "name": "stdout"
        }
      ]
    },
    {
      "cell_type": "code",
      "metadata": {
        "id": "7fEQ8s0XeZ9W"
      },
      "source": [
        "#Формирование набора данных, по которому не удалось предсказать значения с помощью эвристик ###\n",
        "test_part3 = test_part2[test_part2['CODE_CULTU_2019_predict'] == 'Unknown']\n",
        "test_part3 = test_part3.add_suffix('').reset_index()"
      ],
      "execution_count": 40,
      "outputs": []
    },
    {
      "cell_type": "code",
      "metadata": {
        "id": "WjX2ikA_iUdO"
      },
      "source": [
        "#Формирование набора данных с предсказанными по эвристикам значениями\n",
        "test_part2 = test_part2[test_part2['CODE_CULTU_2019_predict'] != 'Unknown']"
      ],
      "execution_count": 41,
      "outputs": []
    },
    {
      "cell_type": "code",
      "metadata": {
        "id": "ud6H4QGrbhAt"
      },
      "source": [
        "#Признаки для модели для тестовой выборки\n",
        "X_test = test_part3[[\n",
        "       'CODE_CULTU_2015', 'CODE_CULTU_2016', 'CODE_CULTU_2017',\n",
        "       'CODE_CULTU_2018', 'CODE_GROUP_2015',\n",
        "       'CODE_GROUP_2016', 'CODE_GROUP_2017', 'CODE_GROUP_2018']]\n",
        "\n",
        "X_test = X_test.replace(np.nan, 'unknown', regex=True)\n",
        "\n",
        "cat_features_test = [0, 1, 2, 3, 4, 5, 6, 7]"
      ],
      "execution_count": 42,
      "outputs": []
    },
    {
      "cell_type": "code",
      "metadata": {
        "id": "OsqYTgYNk52w"
      },
      "source": [
        "#Получение предсказаний\n",
        "test_dataset = Pool(data=X_test,\n",
        "                    cat_features=cat_features_test)\n",
        "\n",
        "preds_class_test = model_full.predict(test_dataset)"
      ],
      "execution_count": 43,
      "outputs": []
    },
    {
      "cell_type": "code",
      "metadata": {
        "id": "yPox4OdSmJ2F"
      },
      "source": [
        "test_part3['CODE_CULTU_2019_predict'] = preds_class_test"
      ],
      "execution_count": 44,
      "outputs": []
    },
    {
      "cell_type": "markdown",
      "metadata": {
        "id": "3cDIcQ3LjYl3"
      },
      "source": [
        "Корректировка явных ошибок CatBoost (Предсказание значения, которое не встречалось в выборке, заменяем на последнее значение в выборке)"
      ]
    },
    {
      "cell_type": "code",
      "metadata": {
        "id": "ByWV2Z0QmwyF"
      },
      "source": [
        "test_part3_1 = test_part3.loc[(test_part3['CODE_CULTU_2019_predict'] != test_part3['CODE_CULTU_2015']) & (test_part3['CODE_CULTU_2019_predict'] != test_part3['CODE_CULTU_2016']) & (test_part3['CODE_CULTU_2019_predict'] != test_part3['CODE_CULTU_2017']) & (test_part3['CODE_CULTU_2019_predict'] != test_part3['CODE_CULTU_2018']) ]"
      ],
      "execution_count": 45,
      "outputs": []
    },
    {
      "cell_type": "code",
      "metadata": {
        "id": "FAeJYnzDmwyF"
      },
      "source": [
        "test_part3_2 = test_part3.loc[(test_part3['CODE_CULTU_2019_predict'] == test_part3['CODE_CULTU_2015']) | (test_part3['CODE_CULTU_2019_predict'] == test_part3['CODE_CULTU_2016']) | (test_part3['CODE_CULTU_2019_predict'] == test_part3['CODE_CULTU_2017']) | (test_part3['CODE_CULTU_2019_predict'] == test_part3['CODE_CULTU_2018']) ]"
      ],
      "execution_count": 46,
      "outputs": []
    },
    {
      "cell_type": "code",
      "metadata": {
        "colab": {
          "base_uri": "https://localhost:8080/"
        },
        "id": "LRAkQP8WmwyF",
        "outputId": "b818b7de-7aab-41cd-f615-244298ed15be"
      },
      "source": [
        "test_part3_1['CODE_CULTU_2019_predict'] = test_part3_1['CODE_CULTU_2018']"
      ],
      "execution_count": 47,
      "outputs": [
        {
          "output_type": "stream",
          "text": [
            "/usr/local/lib/python3.7/dist-packages/ipykernel_launcher.py:1: SettingWithCopyWarning: \n",
            "A value is trying to be set on a copy of a slice from a DataFrame.\n",
            "Try using .loc[row_indexer,col_indexer] = value instead\n",
            "\n",
            "See the caveats in the documentation: https://pandas.pydata.org/pandas-docs/stable/user_guide/indexing.html#returning-a-view-versus-a-copy\n",
            "  \"\"\"Entry point for launching an IPython kernel.\n"
          ],
          "name": "stderr"
        }
      ]
    },
    {
      "cell_type": "code",
      "metadata": {
        "id": "4gHug_vnmwyG"
      },
      "source": [
        "#Объединение данных\n",
        "final_data_test = pd.concat([test_part1,test_part2,test_part3])\n",
        "final_data_test = final_data_test[['centroid','CODE_CULTU_2019_predict']]\n",
        "final_data_test.rename(columns = {'CODE_CULTU_2019_predict': 'CODE_CULTU_2020'}, inplace = True)"
      ],
      "execution_count": 48,
      "outputs": []
    },
    {
      "cell_type": "code",
      "metadata": {
        "id": "sScG0uXUttc4"
      },
      "source": [
        "#Формирование файла ответов\n",
        "pd.DataFrame(final_data_test[['centroid','CODE_CULTU_2020']]).to_csv(\"/content/drive/MyDrive/Хакатон/predict2020.csv\",index=False,header=True)"
      ],
      "execution_count": null,
      "outputs": []
    }
  ]
}