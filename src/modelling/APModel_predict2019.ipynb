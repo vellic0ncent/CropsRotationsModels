{
  "nbformat": 4,
  "nbformat_minor": 0,
  "metadata": {
    "colab": {
      "name": "DVHB_APModel_Predict2019.ipynb",
      "provenance": [],
      "collapsed_sections": [],
      "toc_visible": true,
      "machine_shape": "hm"
    },
    "kernelspec": {
      "name": "python3",
      "display_name": "Python 3"
    },
    "accelerator": "GPU"
  },
  "cells": [
    {
      "cell_type": "markdown",
      "metadata": {
        "id": "R4BDzTIp1e4m"
      },
      "source": [
        "### Preparing Data ###\r\n",
        "\r\n"
      ]
    },
    {
      "cell_type": "code",
      "metadata": {
        "id": "GDExLa4LuMZX"
      },
      "source": [
        "import pandas as pd\r\n",
        "from scipy.spatial import cKDTree\r\n",
        "import numpy as np\r\n",
        "\r\n",
        "from sklearn.model_selection import train_test_split\r\n",
        "from sklearn.metrics import accuracy_score"
      ],
      "execution_count": null,
      "outputs": []
    },
    {
      "cell_type": "code",
      "metadata": {
        "colab": {
          "base_uri": "https://localhost:8080/"
        },
        "id": "6vQZdOGh06Pj",
        "outputId": "57fb7f64-370c-4ebf-8724-13cc258af62f"
      },
      "source": [
        "from google.colab import drive\r\n",
        "drive.mount('/content/drive')"
      ],
      "execution_count": null,
      "outputs": [
        {
          "output_type": "stream",
          "text": [
            "Mounted at /content/drive\n"
          ],
          "name": "stdout"
        }
      ]
    },
    {
      "cell_type": "code",
      "metadata": {
        "id": "Z0W9hBD31Ajr"
      },
      "source": [
        "data = pd.read_csv('/content/drive/MyDrive/Хакатон/dataset2015_2019.csv')"
      ],
      "execution_count": null,
      "outputs": []
    },
    {
      "cell_type": "code",
      "metadata": {
        "colab": {
          "base_uri": "https://localhost:8080/",
          "height": 211
        },
        "id": "fEP0PuTQlgB8",
        "outputId": "a1a2197b-b1eb-402c-da36-f9de61a85f97"
      },
      "source": [
        "data.head(2)"
      ],
      "execution_count": 125,
      "outputs": [
        {
          "output_type": "execute_result",
          "data": {
            "text/html": [
              "<div>\n",
              "<style scoped>\n",
              "    .dataframe tbody tr th:only-of-type {\n",
              "        vertical-align: middle;\n",
              "    }\n",
              "\n",
              "    .dataframe tbody tr th {\n",
              "        vertical-align: top;\n",
              "    }\n",
              "\n",
              "    .dataframe thead th {\n",
              "        text-align: right;\n",
              "    }\n",
              "</style>\n",
              "<table border=\"1\" class=\"dataframe\">\n",
              "  <thead>\n",
              "    <tr style=\"text-align: right;\">\n",
              "      <th></th>\n",
              "      <th>Unnamed: 0</th>\n",
              "      <th>centroid</th>\n",
              "      <th>x</th>\n",
              "      <th>y</th>\n",
              "      <th>RotationLength</th>\n",
              "      <th>RotationCount</th>\n",
              "      <th>CODE_CULTU_2015</th>\n",
              "      <th>CODE_CULTU_2016</th>\n",
              "      <th>CODE_CULTU_2017</th>\n",
              "      <th>CODE_CULTU_2018</th>\n",
              "      <th>CODE_CULTU_2019</th>\n",
              "      <th>CODE_GROUP_2015</th>\n",
              "      <th>CODE_GROUP_2016</th>\n",
              "      <th>CODE_GROUP_2017</th>\n",
              "      <th>CODE_GROUP_2018</th>\n",
              "      <th>CODE_GROUP_2019</th>\n",
              "      <th>cultuCode</th>\n",
              "      <th>groupCode</th>\n",
              "      <th>hzs</th>\n",
              "      <th>kg_id</th>\n",
              "      <th>ff_id</th>\n",
              "      <th>1 Nearest Neigbour Point</th>\n",
              "      <th>2 Nearest Neigbour Point</th>\n",
              "      <th>3 Nearest Neigbour Point</th>\n",
              "      <th>4 Nearest Neigbour Point</th>\n",
              "    </tr>\n",
              "  </thead>\n",
              "  <tbody>\n",
              "    <tr>\n",
              "      <th>0</th>\n",
              "      <td>0</td>\n",
              "      <td>Point (907753.82834152 6554634.46488151)</td>\n",
              "      <td>907753.828342</td>\n",
              "      <td>6.554634e+06</td>\n",
              "      <td>1</td>\n",
              "      <td>5</td>\n",
              "      <td>PPH</td>\n",
              "      <td>PPH</td>\n",
              "      <td>PPH</td>\n",
              "      <td>PPH</td>\n",
              "      <td>PPH</td>\n",
              "      <td>18</td>\n",
              "      <td>18</td>\n",
              "      <td>18</td>\n",
              "      <td>18</td>\n",
              "      <td>18</td>\n",
              "      <td>aaaaa</td>\n",
              "      <td>aaaaa</td>\n",
              "      <td>7b</td>\n",
              "      <td>Dfb</td>\n",
              "      <td>ff12</td>\n",
              "      <td>Point (907748.69100314 6554212.06490037)</td>\n",
              "      <td>Point (907410.62452802 6554909.79074054)</td>\n",
              "      <td>Point (908089.34400838 6554953.05455597)</td>\n",
              "      <td>Point (907563.65755459 6554039.35762193)</td>\n",
              "    </tr>\n",
              "    <tr>\n",
              "      <th>1</th>\n",
              "      <td>1</td>\n",
              "      <td>Point (906932.34642625 6550537.14396784)</td>\n",
              "      <td>906932.346426</td>\n",
              "      <td>6.550537e+06</td>\n",
              "      <td>1</td>\n",
              "      <td>5</td>\n",
              "      <td>PPH</td>\n",
              "      <td>PPH</td>\n",
              "      <td>PPH</td>\n",
              "      <td>PPH</td>\n",
              "      <td>PPH</td>\n",
              "      <td>18</td>\n",
              "      <td>18</td>\n",
              "      <td>18</td>\n",
              "      <td>18</td>\n",
              "      <td>18</td>\n",
              "      <td>aaaaa</td>\n",
              "      <td>aaaaa</td>\n",
              "      <td>7b</td>\n",
              "      <td>Dfb</td>\n",
              "      <td>ff12</td>\n",
              "      <td>Point (906980.7207283 6550304.97315954)</td>\n",
              "      <td>Point (906736.32315476 6550335.52813463)</td>\n",
              "      <td>Point (906595.72670333 6550598.70621165)</td>\n",
              "      <td>Point (907032.95563938 6550121.6369531)</td>\n",
              "    </tr>\n",
              "  </tbody>\n",
              "</table>\n",
              "</div>"
            ],
            "text/plain": [
              "   Unnamed: 0  ...                  4 Nearest Neigbour Point\n",
              "0           0  ...  Point (907563.65755459 6554039.35762193)\n",
              "1           1  ...   Point (907032.95563938 6550121.6369531)\n",
              "\n",
              "[2 rows x 25 columns]"
            ]
          },
          "metadata": {
            "tags": []
          },
          "execution_count": 125
        }
      ]
    },
    {
      "cell_type": "code",
      "metadata": {
        "colab": {
          "base_uri": "https://localhost:8080/"
        },
        "id": "tbP8vlgL1NGO",
        "outputId": "cca4675a-0bd6-401c-dbe8-53d99284eea4"
      },
      "source": [
        "!pip install catboost"
      ],
      "execution_count": null,
      "outputs": [
        {
          "output_type": "stream",
          "text": [
            "Collecting catboost\n",
            "\u001b[?25l  Downloading https://files.pythonhosted.org/packages/96/3b/bb419654adcf7efff42ed8a3f84e50c8f236424b7ed1cc8ccd290852e003/catboost-0.24.4-cp37-none-manylinux1_x86_64.whl (65.7MB)\n",
            "\u001b[K     |████████████████████████████████| 65.7MB 79kB/s \n",
            "\u001b[?25hRequirement already satisfied: matplotlib in /usr/local/lib/python3.7/dist-packages (from catboost) (3.2.2)\n",
            "Requirement already satisfied: pandas>=0.24.0 in /usr/local/lib/python3.7/dist-packages (from catboost) (1.1.5)\n",
            "Requirement already satisfied: graphviz in /usr/local/lib/python3.7/dist-packages (from catboost) (0.10.1)\n",
            "Requirement already satisfied: plotly in /usr/local/lib/python3.7/dist-packages (from catboost) (4.4.1)\n",
            "Requirement already satisfied: numpy>=1.16.0 in /usr/local/lib/python3.7/dist-packages (from catboost) (1.19.5)\n",
            "Requirement already satisfied: scipy in /usr/local/lib/python3.7/dist-packages (from catboost) (1.4.1)\n",
            "Requirement already satisfied: six in /usr/local/lib/python3.7/dist-packages (from catboost) (1.15.0)\n",
            "Requirement already satisfied: pyparsing!=2.0.4,!=2.1.2,!=2.1.6,>=2.0.1 in /usr/local/lib/python3.7/dist-packages (from matplotlib->catboost) (2.4.7)\n",
            "Requirement already satisfied: cycler>=0.10 in /usr/local/lib/python3.7/dist-packages (from matplotlib->catboost) (0.10.0)\n",
            "Requirement already satisfied: kiwisolver>=1.0.1 in /usr/local/lib/python3.7/dist-packages (from matplotlib->catboost) (1.3.1)\n",
            "Requirement already satisfied: python-dateutil>=2.1 in /usr/local/lib/python3.7/dist-packages (from matplotlib->catboost) (2.8.1)\n",
            "Requirement already satisfied: pytz>=2017.2 in /usr/local/lib/python3.7/dist-packages (from pandas>=0.24.0->catboost) (2018.9)\n",
            "Requirement already satisfied: retrying>=1.3.3 in /usr/local/lib/python3.7/dist-packages (from plotly->catboost) (1.3.3)\n",
            "Installing collected packages: catboost\n",
            "Successfully installed catboost-0.24.4\n"
          ],
          "name": "stdout"
        }
      ]
    },
    {
      "cell_type": "code",
      "metadata": {
        "id": "ZrKatMuS1Q3D"
      },
      "source": [
        "import catboost as cb\r\n",
        "from catboost import Pool, CatBoostClassifier\r\n",
        "from sklearn.model_selection import GridSearchCV"
      ],
      "execution_count": null,
      "outputs": []
    },
    {
      "cell_type": "code",
      "metadata": {
        "id": "lxMW4mXX2T4r"
      },
      "source": [
        "def predict_next_culture_4_years_list(l0, l1, l2, l3):\r\n",
        "  if l0 == l1 != l2 and l2 == l3:\r\n",
        "     return 'Unknown'\r\n",
        "  if l0 == l1 == l2 == l3:\r\n",
        "     return l0\r\n",
        "  #if l0 == l3:\r\n",
        "  #   return l1\r\n",
        "  if l0 == l2 and l1 == l3:\r\n",
        "     return l0\r\n",
        "  #if l0 == l2 and l1 != l2:\r\n",
        "  #   return l0\r\n",
        "  if l0 == l1 != l2 and l2 == l3:\r\n",
        "     return l0\r\n",
        "  return 'Unknown'"
      ],
      "execution_count": 10,
      "outputs": []
    },
    {
      "cell_type": "code",
      "metadata": {
        "colab": {
          "base_uri": "https://localhost:8080/"
        },
        "id": "yaw2O8uf2gFU",
        "outputId": "448167b0-77cb-438e-89d1-5b02099fc346"
      },
      "source": [
        "print(predict_next_culture_4_years_list(data.iloc[0]['CODE_CULTU_2015'],data.iloc[0]['CODE_CULTU_2016'],data.iloc[0]['CODE_CULTU_2017'],data.iloc[0]['CODE_CULTU_2018']))"
      ],
      "execution_count": 11,
      "outputs": [
        {
          "output_type": "stream",
          "text": [
            "PPH\n"
          ],
          "name": "stdout"
        }
      ]
    },
    {
      "cell_type": "code",
      "metadata": {
        "id": "HwvCDdLYCUVP"
      },
      "source": [
        "g = data.groupby(['CODE_CULTU_2015','CODE_CULTU_2016','CODE_CULTU_2017','CODE_CULTU_2018'])['CODE_CULTU_2019'].count()"
      ],
      "execution_count": 12,
      "outputs": []
    },
    {
      "cell_type": "code",
      "metadata": {
        "id": "EgdQNR4NCXRB"
      },
      "source": [
        "gm = g.add_suffix('').reset_index()"
      ],
      "execution_count": 13,
      "outputs": []
    },
    {
      "cell_type": "code",
      "metadata": {
        "id": "KnwNtAnVCZIC"
      },
      "source": [
        "gm_uniq = gm[gm['CODE_CULTU_2019'] == 1]"
      ],
      "execution_count": 14,
      "outputs": []
    },
    {
      "cell_type": "code",
      "metadata": {
        "colab": {
          "base_uri": "https://localhost:8080/",
          "height": 406
        },
        "id": "Jh34I9ySJwjj",
        "outputId": "01f9d2a1-8aa1-4019-ba76-3660bfb9bbed"
      },
      "source": [
        "gm_uniq"
      ],
      "execution_count": 15,
      "outputs": [
        {
          "output_type": "execute_result",
          "data": {
            "text/html": [
              "<div>\n",
              "<style scoped>\n",
              "    .dataframe tbody tr th:only-of-type {\n",
              "        vertical-align: middle;\n",
              "    }\n",
              "\n",
              "    .dataframe tbody tr th {\n",
              "        vertical-align: top;\n",
              "    }\n",
              "\n",
              "    .dataframe thead th {\n",
              "        text-align: right;\n",
              "    }\n",
              "</style>\n",
              "<table border=\"1\" class=\"dataframe\">\n",
              "  <thead>\n",
              "    <tr style=\"text-align: right;\">\n",
              "      <th></th>\n",
              "      <th>CODE_CULTU_2015</th>\n",
              "      <th>CODE_CULTU_2016</th>\n",
              "      <th>CODE_CULTU_2017</th>\n",
              "      <th>CODE_CULTU_2018</th>\n",
              "      <th>CODE_CULTU_2019</th>\n",
              "    </tr>\n",
              "  </thead>\n",
              "  <tbody>\n",
              "    <tr>\n",
              "      <th>0</th>\n",
              "      <td>ACA</td>\n",
              "      <td>FLA</td>\n",
              "      <td>FLA</td>\n",
              "      <td>FLA</td>\n",
              "      <td>1</td>\n",
              "    </tr>\n",
              "    <tr>\n",
              "      <th>1</th>\n",
              "      <td>ACA</td>\n",
              "      <td>FLP</td>\n",
              "      <td>FLP</td>\n",
              "      <td>FLP</td>\n",
              "      <td>1</td>\n",
              "    </tr>\n",
              "    <tr>\n",
              "      <th>2</th>\n",
              "      <td>ACA</td>\n",
              "      <td>MIS</td>\n",
              "      <td>MIS</td>\n",
              "      <td>SNE</td>\n",
              "      <td>1</td>\n",
              "    </tr>\n",
              "    <tr>\n",
              "      <th>3</th>\n",
              "      <td>ACA</td>\n",
              "      <td>SNE</td>\n",
              "      <td>SNE</td>\n",
              "      <td>SNE</td>\n",
              "      <td>1</td>\n",
              "    </tr>\n",
              "    <tr>\n",
              "      <th>5</th>\n",
              "      <td>AGR</td>\n",
              "      <td>BOR</td>\n",
              "      <td>SNE</td>\n",
              "      <td>SNE</td>\n",
              "      <td>1</td>\n",
              "    </tr>\n",
              "    <tr>\n",
              "      <th>...</th>\n",
              "      <td>...</td>\n",
              "      <td>...</td>\n",
              "      <td>...</td>\n",
              "      <td>...</td>\n",
              "      <td>...</td>\n",
              "    </tr>\n",
              "    <tr>\n",
              "      <th>139698</th>\n",
              "      <td>VRT</td>\n",
              "      <td>VRT</td>\n",
              "      <td>VRT</td>\n",
              "      <td>SOG</td>\n",
              "      <td>1</td>\n",
              "    </tr>\n",
              "    <tr>\n",
              "      <th>139703</th>\n",
              "      <td>XFE</td>\n",
              "      <td>PTR</td>\n",
              "      <td>PTR</td>\n",
              "      <td>BTH</td>\n",
              "      <td>1</td>\n",
              "    </tr>\n",
              "    <tr>\n",
              "      <th>139704</th>\n",
              "      <td>XFE</td>\n",
              "      <td>PTR</td>\n",
              "      <td>PTR</td>\n",
              "      <td>PPH</td>\n",
              "      <td>1</td>\n",
              "    </tr>\n",
              "    <tr>\n",
              "      <th>139706</th>\n",
              "      <td>XFE</td>\n",
              "      <td>XFE</td>\n",
              "      <td>XFE</td>\n",
              "      <td>PRL</td>\n",
              "      <td>1</td>\n",
              "    </tr>\n",
              "    <tr>\n",
              "      <th>139707</th>\n",
              "      <td>XFE</td>\n",
              "      <td>XFE</td>\n",
              "      <td>XFE</td>\n",
              "      <td>XFE</td>\n",
              "      <td>1</td>\n",
              "    </tr>\n",
              "  </tbody>\n",
              "</table>\n",
              "<p>82551 rows × 5 columns</p>\n",
              "</div>"
            ],
            "text/plain": [
              "       CODE_CULTU_2015 CODE_CULTU_2016  ... CODE_CULTU_2018 CODE_CULTU_2019\n",
              "0                  ACA             FLA  ...             FLA               1\n",
              "1                  ACA             FLP  ...             FLP               1\n",
              "2                  ACA             MIS  ...             SNE               1\n",
              "3                  ACA             SNE  ...             SNE               1\n",
              "5                  AGR             BOR  ...             SNE               1\n",
              "...                ...             ...  ...             ...             ...\n",
              "139698             VRT             VRT  ...             SOG               1\n",
              "139703             XFE             PTR  ...             BTH               1\n",
              "139704             XFE             PTR  ...             PPH               1\n",
              "139706             XFE             XFE  ...             PRL               1\n",
              "139707             XFE             XFE  ...             XFE               1\n",
              "\n",
              "[82551 rows x 5 columns]"
            ]
          },
          "metadata": {
            "tags": []
          },
          "execution_count": 15
        }
      ]
    },
    {
      "cell_type": "code",
      "metadata": {
        "id": "COu0kamHCb3F"
      },
      "source": [
        "gm_pred = pd.merge(gm_uniq, data,  how='left', left_on=['CODE_CULTU_2015','CODE_CULTU_2016','CODE_CULTU_2017','CODE_CULTU_2018'], right_on = ['CODE_CULTU_2015','CODE_CULTU_2016','CODE_CULTU_2017','CODE_CULTU_2018'])\r\n"
      ],
      "execution_count": 16,
      "outputs": []
    },
    {
      "cell_type": "code",
      "metadata": {
        "id": "WDfGblpOCfzA"
      },
      "source": [
        "gm_pred = gm_pred.reindex(columns=['CODE_CULTU_2015','CODE_CULTU_2016','CODE_CULTU_2017','CODE_CULTU_2018','CODE_CULTU_2019_y'])"
      ],
      "execution_count": 17,
      "outputs": []
    },
    {
      "cell_type": "code",
      "metadata": {
        "id": "apFlBEM9CO1e"
      },
      "source": [
        "data_pred = pd.merge(data, gm_pred,  how='left', left_on=['CODE_CULTU_2015','CODE_CULTU_2016','CODE_CULTU_2017','CODE_CULTU_2018'], right_on = ['CODE_CULTU_2015','CODE_CULTU_2016','CODE_CULTU_2017','CODE_CULTU_2018'])"
      ],
      "execution_count": 19,
      "outputs": []
    },
    {
      "cell_type": "code",
      "metadata": {
        "colab": {
          "base_uri": "https://localhost:8080/"
        },
        "id": "Kx_UMOyYC6dV",
        "outputId": "0b5aee03-445a-4748-8feb-f8b1e78d14d8"
      },
      "source": [
        "data_pred['CODE_CULTU_2019_y'].value_counts()"
      ],
      "execution_count": 20,
      "outputs": [
        {
          "output_type": "execute_result",
          "data": {
            "text/plain": [
              "BTH    11247\n",
              "PTR     8134\n",
              "LUZ     4978\n",
              "MLG     4003\n",
              "MIS     3902\n",
              "       ...  \n",
              "LFP        1\n",
              "MIN        1\n",
              "OEH        1\n",
              "PSY        1\n",
              "MRG        1\n",
              "Name: CODE_CULTU_2019_y, Length: 218, dtype: int64"
            ]
          },
          "metadata": {
            "tags": []
          },
          "execution_count": 20
        }
      ]
    },
    {
      "cell_type": "code",
      "metadata": {
        "id": "64TLGmSgDzeG"
      },
      "source": [
        "data_part1 = data_pred[data_pred.CODE_CULTU_2019_y.notnull()].copy()"
      ],
      "execution_count": 21,
      "outputs": []
    },
    {
      "cell_type": "code",
      "metadata": {
        "colab": {
          "base_uri": "https://localhost:8080/",
          "height": 211
        },
        "id": "0LxSLwwUC6mq",
        "outputId": "1015ec93-7ed9-48b5-bc2f-2d3da4dbefc1"
      },
      "source": [
        "data_part1.head(2)"
      ],
      "execution_count": 22,
      "outputs": [
        {
          "output_type": "execute_result",
          "data": {
            "text/html": [
              "<div>\n",
              "<style scoped>\n",
              "    .dataframe tbody tr th:only-of-type {\n",
              "        vertical-align: middle;\n",
              "    }\n",
              "\n",
              "    .dataframe tbody tr th {\n",
              "        vertical-align: top;\n",
              "    }\n",
              "\n",
              "    .dataframe thead th {\n",
              "        text-align: right;\n",
              "    }\n",
              "</style>\n",
              "<table border=\"1\" class=\"dataframe\">\n",
              "  <thead>\n",
              "    <tr style=\"text-align: right;\">\n",
              "      <th></th>\n",
              "      <th>Unnamed: 0</th>\n",
              "      <th>centroid</th>\n",
              "      <th>x</th>\n",
              "      <th>y</th>\n",
              "      <th>RotationLength</th>\n",
              "      <th>RotationCount</th>\n",
              "      <th>CODE_CULTU_2015</th>\n",
              "      <th>CODE_CULTU_2016</th>\n",
              "      <th>CODE_CULTU_2017</th>\n",
              "      <th>CODE_CULTU_2018</th>\n",
              "      <th>CODE_CULTU_2019</th>\n",
              "      <th>CODE_GROUP_2015</th>\n",
              "      <th>CODE_GROUP_2016</th>\n",
              "      <th>CODE_GROUP_2017</th>\n",
              "      <th>CODE_GROUP_2018</th>\n",
              "      <th>CODE_GROUP_2019</th>\n",
              "      <th>cultuCode</th>\n",
              "      <th>groupCode</th>\n",
              "      <th>hzs</th>\n",
              "      <th>kg_id</th>\n",
              "      <th>ff_id</th>\n",
              "      <th>1 Nearest Neigbour Point</th>\n",
              "      <th>2 Nearest Neigbour Point</th>\n",
              "      <th>3 Nearest Neigbour Point</th>\n",
              "      <th>4 Nearest Neigbour Point</th>\n",
              "      <th>CODE_CULTU_2019_y</th>\n",
              "    </tr>\n",
              "  </thead>\n",
              "  <tbody>\n",
              "    <tr>\n",
              "      <th>50</th>\n",
              "      <td>50</td>\n",
              "      <td>Point (859900.11098517 6591026.78278985)</td>\n",
              "      <td>859900.110985</td>\n",
              "      <td>6.591027e+06</td>\n",
              "      <td>3</td>\n",
              "      <td>1</td>\n",
              "      <td>BTH</td>\n",
              "      <td>MID</td>\n",
              "      <td>MIS</td>\n",
              "      <td>MIS</td>\n",
              "      <td>BTH</td>\n",
              "      <td>1</td>\n",
              "      <td>2</td>\n",
              "      <td>2</td>\n",
              "      <td>2</td>\n",
              "      <td>1</td>\n",
              "      <td>abcca</td>\n",
              "      <td>abbba</td>\n",
              "      <td>8b</td>\n",
              "      <td>Cfa</td>\n",
              "      <td>ff13</td>\n",
              "      <td>Point (859812.49760217 6591185.50103266)</td>\n",
              "      <td>Point (859719.0802948 6590975.56193138)</td>\n",
              "      <td>Point (860081.26015362 6591098.77150968)</td>\n",
              "      <td>Point (860019.18559373 6590736.93947271)</td>\n",
              "      <td>BTH</td>\n",
              "    </tr>\n",
              "    <tr>\n",
              "      <th>74</th>\n",
              "      <td>74</td>\n",
              "      <td>Point (848022.43324874 6589869.38021483)</td>\n",
              "      <td>848022.433249</td>\n",
              "      <td>6.589869e+06</td>\n",
              "      <td>4</td>\n",
              "      <td>1</td>\n",
              "      <td>AVP</td>\n",
              "      <td>SGH</td>\n",
              "      <td>MIS</td>\n",
              "      <td>MIS</td>\n",
              "      <td>ORP</td>\n",
              "      <td>4</td>\n",
              "      <td>4</td>\n",
              "      <td>2</td>\n",
              "      <td>2</td>\n",
              "      <td>3</td>\n",
              "      <td>abccd</td>\n",
              "      <td>aabbc</td>\n",
              "      <td>8b</td>\n",
              "      <td>Cfa</td>\n",
              "      <td>ff13</td>\n",
              "      <td>Point (848060.93345233 6589936.96049742)</td>\n",
              "      <td>Point (847937.44700784 6589858.58590304)</td>\n",
              "      <td>Point (848069.49079389 6590019.03797348)</td>\n",
              "      <td>Point (848120.55312173 6589719.68664306)</td>\n",
              "      <td>ORP</td>\n",
              "    </tr>\n",
              "  </tbody>\n",
              "</table>\n",
              "</div>"
            ],
            "text/plain": [
              "    Unnamed: 0  ... CODE_CULTU_2019_y\n",
              "50          50  ...               BTH\n",
              "74          74  ...               ORP\n",
              "\n",
              "[2 rows x 26 columns]"
            ]
          },
          "metadata": {
            "tags": []
          },
          "execution_count": 22
        }
      ]
    },
    {
      "cell_type": "code",
      "metadata": {
        "id": "gy_A5-8KLFNW"
      },
      "source": [
        "data_part2 = data_pred[data_pred.CODE_CULTU_2019_y.isna()].copy()"
      ],
      "execution_count": 24,
      "outputs": []
    },
    {
      "cell_type": "code",
      "metadata": {
        "colab": {
          "base_uri": "https://localhost:8080/",
          "height": 211
        },
        "id": "N8z8X798LMbe",
        "outputId": "711bef07-f447-4616-ddbe-301173a54c83"
      },
      "source": [
        "data_part2.head(2)"
      ],
      "execution_count": 25,
      "outputs": [
        {
          "output_type": "execute_result",
          "data": {
            "text/html": [
              "<div>\n",
              "<style scoped>\n",
              "    .dataframe tbody tr th:only-of-type {\n",
              "        vertical-align: middle;\n",
              "    }\n",
              "\n",
              "    .dataframe tbody tr th {\n",
              "        vertical-align: top;\n",
              "    }\n",
              "\n",
              "    .dataframe thead th {\n",
              "        text-align: right;\n",
              "    }\n",
              "</style>\n",
              "<table border=\"1\" class=\"dataframe\">\n",
              "  <thead>\n",
              "    <tr style=\"text-align: right;\">\n",
              "      <th></th>\n",
              "      <th>Unnamed: 0</th>\n",
              "      <th>centroid</th>\n",
              "      <th>x</th>\n",
              "      <th>y</th>\n",
              "      <th>RotationLength</th>\n",
              "      <th>RotationCount</th>\n",
              "      <th>CODE_CULTU_2015</th>\n",
              "      <th>CODE_CULTU_2016</th>\n",
              "      <th>CODE_CULTU_2017</th>\n",
              "      <th>CODE_CULTU_2018</th>\n",
              "      <th>CODE_CULTU_2019</th>\n",
              "      <th>CODE_GROUP_2015</th>\n",
              "      <th>CODE_GROUP_2016</th>\n",
              "      <th>CODE_GROUP_2017</th>\n",
              "      <th>CODE_GROUP_2018</th>\n",
              "      <th>CODE_GROUP_2019</th>\n",
              "      <th>cultuCode</th>\n",
              "      <th>groupCode</th>\n",
              "      <th>hzs</th>\n",
              "      <th>kg_id</th>\n",
              "      <th>ff_id</th>\n",
              "      <th>1 Nearest Neigbour Point</th>\n",
              "      <th>2 Nearest Neigbour Point</th>\n",
              "      <th>3 Nearest Neigbour Point</th>\n",
              "      <th>4 Nearest Neigbour Point</th>\n",
              "      <th>CODE_CULTU_2019_y</th>\n",
              "    </tr>\n",
              "  </thead>\n",
              "  <tbody>\n",
              "    <tr>\n",
              "      <th>0</th>\n",
              "      <td>0</td>\n",
              "      <td>Point (907753.82834152 6554634.46488151)</td>\n",
              "      <td>907753.828342</td>\n",
              "      <td>6.554634e+06</td>\n",
              "      <td>1</td>\n",
              "      <td>5</td>\n",
              "      <td>PPH</td>\n",
              "      <td>PPH</td>\n",
              "      <td>PPH</td>\n",
              "      <td>PPH</td>\n",
              "      <td>PPH</td>\n",
              "      <td>18</td>\n",
              "      <td>18</td>\n",
              "      <td>18</td>\n",
              "      <td>18</td>\n",
              "      <td>18</td>\n",
              "      <td>aaaaa</td>\n",
              "      <td>aaaaa</td>\n",
              "      <td>7b</td>\n",
              "      <td>Dfb</td>\n",
              "      <td>ff12</td>\n",
              "      <td>Point (907748.69100314 6554212.06490037)</td>\n",
              "      <td>Point (907410.62452802 6554909.79074054)</td>\n",
              "      <td>Point (908089.34400838 6554953.05455597)</td>\n",
              "      <td>Point (907563.65755459 6554039.35762193)</td>\n",
              "      <td>NaN</td>\n",
              "    </tr>\n",
              "    <tr>\n",
              "      <th>1</th>\n",
              "      <td>1</td>\n",
              "      <td>Point (906932.34642625 6550537.14396784)</td>\n",
              "      <td>906932.346426</td>\n",
              "      <td>6.550537e+06</td>\n",
              "      <td>1</td>\n",
              "      <td>5</td>\n",
              "      <td>PPH</td>\n",
              "      <td>PPH</td>\n",
              "      <td>PPH</td>\n",
              "      <td>PPH</td>\n",
              "      <td>PPH</td>\n",
              "      <td>18</td>\n",
              "      <td>18</td>\n",
              "      <td>18</td>\n",
              "      <td>18</td>\n",
              "      <td>18</td>\n",
              "      <td>aaaaa</td>\n",
              "      <td>aaaaa</td>\n",
              "      <td>7b</td>\n",
              "      <td>Dfb</td>\n",
              "      <td>ff12</td>\n",
              "      <td>Point (906980.7207283 6550304.97315954)</td>\n",
              "      <td>Point (906736.32315476 6550335.52813463)</td>\n",
              "      <td>Point (906595.72670333 6550598.70621165)</td>\n",
              "      <td>Point (907032.95563938 6550121.6369531)</td>\n",
              "      <td>NaN</td>\n",
              "    </tr>\n",
              "  </tbody>\n",
              "</table>\n",
              "</div>"
            ],
            "text/plain": [
              "   Unnamed: 0  ... CODE_CULTU_2019_y\n",
              "0           0  ...               NaN\n",
              "1           1  ...               NaN\n",
              "\n",
              "[2 rows x 26 columns]"
            ]
          },
          "metadata": {
            "tags": []
          },
          "execution_count": 25
        }
      ]
    },
    {
      "cell_type": "code",
      "metadata": {
        "id": "WaKn3wIN3pyL"
      },
      "source": [
        "data_part2['CODE_CULTU_2019_y'] = data_part2.apply(lambda x: predict_next_culture_4_years_list(x['CODE_CULTU_2015'],x['CODE_CULTU_2016'],x['CODE_CULTU_2017'],x['CODE_CULTU_2018']), axis=1, result_type='expand')"
      ],
      "execution_count": 26,
      "outputs": []
    },
    {
      "cell_type": "code",
      "metadata": {
        "colab": {
          "base_uri": "https://localhost:8080/"
        },
        "id": "o5wGWz9O4A2w",
        "outputId": "a4d6b747-0911-4a5c-8ae2-aba4ddadb3ce"
      },
      "source": [
        "data_part2['CODE_CULTU_2019_y'].value_counts()"
      ],
      "execution_count": 27,
      "outputs": [
        {
          "output_type": "execute_result",
          "data": {
            "text/plain": [
              "Unknown    1453574\n",
              "PPH        1067851\n",
              "VRC         181807\n",
              "J6S         100032\n",
              "SNE          85849\n",
              "            ...   \n",
              "LIP              2\n",
              "NVF              2\n",
              "SAD              2\n",
              "CZP              2\n",
              "LDP              2\n",
              "Name: CODE_CULTU_2019_y, Length: 160, dtype: int64"
            ]
          },
          "metadata": {
            "tags": []
          },
          "execution_count": 27
        }
      ]
    },
    {
      "cell_type": "code",
      "metadata": {
        "id": "J_VyLq2-6Wd2"
      },
      "source": [
        "data_manual = data_part2[data_part2['CODE_CULTU_2019_y'] != 'Unknown']"
      ],
      "execution_count": 28,
      "outputs": []
    },
    {
      "cell_type": "code",
      "metadata": {
        "colab": {
          "base_uri": "https://localhost:8080/"
        },
        "id": "kPccKnzN7AdG",
        "outputId": "1b4f51c9-cd5d-46bd-d7c3-8ad32953acc4"
      },
      "source": [
        "data_manual.shape"
      ],
      "execution_count": 29,
      "outputs": [
        {
          "output_type": "execute_result",
          "data": {
            "text/plain": [
              "(2078679, 26)"
            ]
          },
          "metadata": {
            "tags": []
          },
          "execution_count": 29
        }
      ]
    },
    {
      "cell_type": "code",
      "metadata": {
        "id": "n3fjs-U67G9R"
      },
      "source": [
        "Y_val = data_manual['CODE_CULTU_2019']\r\n",
        "Y_pred = data_manual['CODE_CULTU_2019_y']"
      ],
      "execution_count": 30,
      "outputs": []
    },
    {
      "cell_type": "code",
      "metadata": {
        "colab": {
          "base_uri": "https://localhost:8080/"
        },
        "id": "HVJ9V4RA7HB_",
        "outputId": "644934bd-424d-464d-edb2-0d36bdce7940"
      },
      "source": [
        "print(accuracy_score(Y_val,Y_pred))"
      ],
      "execution_count": 31,
      "outputs": [
        {
          "output_type": "stream",
          "text": [
            "0.9479198086861896\n"
          ],
          "name": "stdout"
        }
      ]
    },
    {
      "cell_type": "code",
      "metadata": {
        "id": "-HA2wZTWQHPQ"
      },
      "source": [
        ""
      ],
      "execution_count": null,
      "outputs": []
    },
    {
      "cell_type": "code",
      "metadata": {
        "id": "8qU4OmJK4nHu"
      },
      "source": [
        "data_part3 = data_part2[data_part2['CODE_CULTU_2019_y'] == 'Unknown']"
      ],
      "execution_count": 32,
      "outputs": []
    },
    {
      "cell_type": "code",
      "metadata": {
        "colab": {
          "base_uri": "https://localhost:8080/"
        },
        "id": "a4sP01vMSIkL",
        "outputId": "9fc77cab-2e1c-4fac-f12e-b62b329d98d1"
      },
      "source": [
        "print(data_part1.shape)\r\n",
        "print(data_part2.shape)\r\n",
        "print(data_part3.shape)"
      ],
      "execution_count": 33,
      "outputs": [
        {
          "output_type": "stream",
          "text": [
            "(82551, 26)\n",
            "(3532253, 26)\n",
            "(1453574, 26)\n"
          ],
          "name": "stdout"
        }
      ]
    },
    {
      "cell_type": "markdown",
      "metadata": {
        "id": "P5fGxtkXel7L"
      },
      "source": [
        "### Train/Val CatBoost###"
      ]
    },
    {
      "cell_type": "code",
      "metadata": {
        "id": "qY99ScjV13W-"
      },
      "source": [
        "\"\"\"\r\n",
        "'RotationLength', 'RotationCount',\r\n",
        "'CODE_CULTU_2015', 'CODE_CULTU_2016', 'CODE_CULTU_2017',\r\n",
        "'CODE_CULTU_2018', 'CODE_CULTU_2019', 'CODE_GROUP_2015',\r\n",
        "'CODE_GROUP_2016', 'CODE_GROUP_2017', 'CODE_GROUP_2018',\r\n",
        "'CODE_GROUP_2019', 'cultuCode', 'groupCode', 'hzs', 'kg_id', 'ff_id'\r\n",
        "\"\"\"\r\n",
        "\r\n",
        "X = data_part3[['RotationLength', 'RotationCount',\r\n",
        "       'CODE_CULTU_2015', 'CODE_CULTU_2016', 'CODE_CULTU_2017',\r\n",
        "       'CODE_CULTU_2018', 'CODE_GROUP_2015',\r\n",
        "       'CODE_GROUP_2016', 'CODE_GROUP_2017', 'CODE_GROUP_2018',\r\n",
        "       'cultuCode', 'groupCode', 'hzs', 'kg_id', 'ff_id']]\r\n",
        "\r\n",
        "X = X.replace(np.nan, 'unknown', regex=True)\r\n",
        "\r\n",
        "Y = data_part3['CODE_CULTU_2019']"
      ],
      "execution_count": 35,
      "outputs": []
    },
    {
      "cell_type": "code",
      "metadata": {
        "colab": {
          "base_uri": "https://localhost:8080/"
        },
        "id": "eHanwYPLjgNo",
        "outputId": "5f85a2ff-df5c-47f9-83d4-0ce5e0c2a7ad"
      },
      "source": [
        "X.shape"
      ],
      "execution_count": null,
      "outputs": [
        {
          "output_type": "execute_result",
          "data": {
            "text/plain": [
              "(1453574, 15)"
            ]
          },
          "metadata": {
            "tags": []
          },
          "execution_count": 31
        }
      ]
    },
    {
      "cell_type": "code",
      "metadata": {
        "id": "egT-DzrI2cXe"
      },
      "source": [
        "X_train, X_val, Y_train, Y_val = train_test_split(X, Y, test_size=0.2, random_state=286)"
      ],
      "execution_count": 36,
      "outputs": []
    },
    {
      "cell_type": "code",
      "metadata": {
        "colab": {
          "base_uri": "https://localhost:8080/"
        },
        "id": "NRkB8c9F347m",
        "outputId": "8bdea55d-935e-42e9-e8da-ab5cb53ae32c"
      },
      "source": [
        "X.columns"
      ],
      "execution_count": 37,
      "outputs": [
        {
          "output_type": "execute_result",
          "data": {
            "text/plain": [
              "Index(['RotationLength', 'RotationCount', 'CODE_CULTU_2015', 'CODE_CULTU_2016',\n",
              "       'CODE_CULTU_2017', 'CODE_CULTU_2018', 'CODE_GROUP_2015',\n",
              "       'CODE_GROUP_2016', 'CODE_GROUP_2017', 'CODE_GROUP_2018', 'cultuCode',\n",
              "       'groupCode', 'hzs', 'kg_id', 'ff_id'],\n",
              "      dtype='object')"
            ]
          },
          "metadata": {
            "tags": []
          },
          "execution_count": 37
        }
      ]
    },
    {
      "cell_type": "code",
      "metadata": {
        "colab": {
          "base_uri": "https://localhost:8080/",
          "height": 127
        },
        "id": "gZA-vWofrn9T",
        "outputId": "10786ed1-5738-4df3-f3b5-a350044d8a52"
      },
      "source": [
        "X.head(2)"
      ],
      "execution_count": 38,
      "outputs": [
        {
          "output_type": "execute_result",
          "data": {
            "text/html": [
              "<div>\n",
              "<style scoped>\n",
              "    .dataframe tbody tr th:only-of-type {\n",
              "        vertical-align: middle;\n",
              "    }\n",
              "\n",
              "    .dataframe tbody tr th {\n",
              "        vertical-align: top;\n",
              "    }\n",
              "\n",
              "    .dataframe thead th {\n",
              "        text-align: right;\n",
              "    }\n",
              "</style>\n",
              "<table border=\"1\" class=\"dataframe\">\n",
              "  <thead>\n",
              "    <tr style=\"text-align: right;\">\n",
              "      <th></th>\n",
              "      <th>RotationLength</th>\n",
              "      <th>RotationCount</th>\n",
              "      <th>CODE_CULTU_2015</th>\n",
              "      <th>CODE_CULTU_2016</th>\n",
              "      <th>CODE_CULTU_2017</th>\n",
              "      <th>CODE_CULTU_2018</th>\n",
              "      <th>CODE_GROUP_2015</th>\n",
              "      <th>CODE_GROUP_2016</th>\n",
              "      <th>CODE_GROUP_2017</th>\n",
              "      <th>CODE_GROUP_2018</th>\n",
              "      <th>cultuCode</th>\n",
              "      <th>groupCode</th>\n",
              "      <th>hzs</th>\n",
              "      <th>kg_id</th>\n",
              "      <th>ff_id</th>\n",
              "    </tr>\n",
              "  </thead>\n",
              "  <tbody>\n",
              "    <tr>\n",
              "      <th>12</th>\n",
              "      <td>3</td>\n",
              "      <td>1</td>\n",
              "      <td>TTH</td>\n",
              "      <td>ORH</td>\n",
              "      <td>TTH</td>\n",
              "      <td>PTR</td>\n",
              "      <td>4</td>\n",
              "      <td>3</td>\n",
              "      <td>4</td>\n",
              "      <td>19</td>\n",
              "      <td>abacc</td>\n",
              "      <td>abacc</td>\n",
              "      <td>8b</td>\n",
              "      <td>Cfb</td>\n",
              "      <td>ff13</td>\n",
              "    </tr>\n",
              "    <tr>\n",
              "      <th>18</th>\n",
              "      <td>3</td>\n",
              "      <td>1</td>\n",
              "      <td>ORH</td>\n",
              "      <td>ORH</td>\n",
              "      <td>TTH</td>\n",
              "      <td>SGH</td>\n",
              "      <td>3</td>\n",
              "      <td>3</td>\n",
              "      <td>4</td>\n",
              "      <td>4</td>\n",
              "      <td>aabcb</td>\n",
              "      <td>aabbb</td>\n",
              "      <td>8b</td>\n",
              "      <td>Cfb</td>\n",
              "      <td>ff13</td>\n",
              "    </tr>\n",
              "  </tbody>\n",
              "</table>\n",
              "</div>"
            ],
            "text/plain": [
              "    RotationLength  RotationCount CODE_CULTU_2015  ... hzs kg_id ff_id\n",
              "12               3              1             TTH  ...  8b   Cfb  ff13\n",
              "18               3              1             ORH  ...  8b   Cfb  ff13\n",
              "\n",
              "[2 rows x 15 columns]"
            ]
          },
          "metadata": {
            "tags": []
          },
          "execution_count": 38
        }
      ]
    },
    {
      "cell_type": "code",
      "metadata": {
        "id": "Ev8afGHu16tE"
      },
      "source": [
        "cat_features = [2, 3, 4, 5, 6, 7, 8, 9, 10, 11, 12, 13, 14]"
      ],
      "execution_count": 39,
      "outputs": []
    },
    {
      "cell_type": "code",
      "metadata": {
        "colab": {
          "base_uri": "https://localhost:8080/"
        },
        "id": "37ax3zsn5YMG",
        "outputId": "d4912360-abd7-4726-c72e-a3cfca66fe8c"
      },
      "source": [
        "X.isnull().sum(axis = 0)"
      ],
      "execution_count": 40,
      "outputs": [
        {
          "output_type": "execute_result",
          "data": {
            "text/plain": [
              "RotationLength     0\n",
              "RotationCount      0\n",
              "CODE_CULTU_2015    0\n",
              "CODE_CULTU_2016    0\n",
              "CODE_CULTU_2017    0\n",
              "CODE_CULTU_2018    0\n",
              "CODE_GROUP_2015    0\n",
              "CODE_GROUP_2016    0\n",
              "CODE_GROUP_2017    0\n",
              "CODE_GROUP_2018    0\n",
              "cultuCode          0\n",
              "groupCode          0\n",
              "hzs                0\n",
              "kg_id              0\n",
              "ff_id              0\n",
              "dtype: int64"
            ]
          },
          "metadata": {
            "tags": []
          },
          "execution_count": 40
        }
      ]
    },
    {
      "cell_type": "code",
      "metadata": {
        "colab": {
          "base_uri": "https://localhost:8080/"
        },
        "id": "bAoj_6n24WYA",
        "outputId": "be30046a-58f2-42b5-b5cc-747d70143d97"
      },
      "source": [
        "train_dataset = Pool(data=X_train,\r\n",
        "                     label=Y_train,\r\n",
        "                     cat_features=cat_features)\r\n",
        "\r\n",
        "eval_dataset = Pool(data=X_val,\r\n",
        "                    label=Y_val,\r\n",
        "                    cat_features=cat_features)\r\n",
        "\r\n",
        "# Initialize CatBoostClassifier\r\n",
        "model = CatBoostClassifier(iterations=100,\r\n",
        "                           #learning_rate=0.25,\r\n",
        "                           depth=4,\r\n",
        "                           loss_function='MultiClass',  task_type='GPU')\r\n",
        "\r\n",
        "#model = CatBoostClassifier(loss_function='MultiClass',  task_type='GPU')\r\n",
        "\r\n",
        "# Fit model\r\n",
        "model.fit(train_dataset)  \r\n",
        "# Get predicted classes\r\n",
        "preds_class = model.predict(eval_dataset)\r\n",
        "# Get predicted probabilities for each class\r\n",
        "preds_proba = model.predict_proba(eval_dataset)\r\n",
        "# Get predicted RawFormulaVal\r\n",
        "preds_raw = model.predict(eval_dataset, prediction_type='RawFormulaVal')"
      ],
      "execution_count": 41,
      "outputs": [
        {
          "output_type": "stream",
          "text": [
            "Learning rate set to 0.5\n",
            "0:\tlearn: 13.9392360\ttotal: 6.81s\tremaining: 11m 13s\n",
            "1:\tlearn: 2140.9018428\ttotal: 14.1s\tremaining: 11m 33s\n",
            "2:\tlearn: 5977.3900567\ttotal: 21s\tremaining: 11m 18s\n",
            "3:\tlearn: 6921.1037417\ttotal: 27.8s\tremaining: 11m 7s\n",
            "4:\tlearn: 7777.9509158\ttotal: 34.6s\tremaining: 10m 58s\n",
            "5:\tlearn: 7458.7790540\ttotal: 41.5s\tremaining: 10m 49s\n",
            "6:\tlearn: 6919.1510372\ttotal: 48.3s\tremaining: 10m 41s\n",
            "7:\tlearn: 6588.2039491\ttotal: 55.1s\tremaining: 10m 34s\n",
            "8:\tlearn: 5837.8934265\ttotal: 1m 1s\tremaining: 10m 26s\n",
            "9:\tlearn: 5566.6427383\ttotal: 1m 8s\tremaining: 10m 19s\n",
            "10:\tlearn: 5262.7261878\ttotal: 1m 15s\tremaining: 10m 11s\n",
            "11:\tlearn: 4851.5535452\ttotal: 1m 22s\tremaining: 10m 4s\n",
            "12:\tlearn: 4746.1858746\ttotal: 1m 29s\tremaining: 9m 57s\n",
            "13:\tlearn: 4646.1730614\ttotal: 1m 36s\tremaining: 9m 50s\n",
            "14:\tlearn: 4494.6242597\ttotal: 1m 42s\tremaining: 9m 43s\n",
            "15:\tlearn: 4378.0731181\ttotal: 1m 49s\tremaining: 9m 36s\n",
            "16:\tlearn: 4098.0306366\ttotal: 1m 56s\tremaining: 9m 29s\n",
            "17:\tlearn: 3951.0186256\ttotal: 2m 3s\tremaining: 9m 22s\n",
            "18:\tlearn: 3716.8160473\ttotal: 2m 10s\tremaining: 9m 15s\n",
            "19:\tlearn: 3514.5797040\ttotal: 2m 17s\tremaining: 9m 8s\n",
            "20:\tlearn: 3338.7308487\ttotal: 2m 23s\tremaining: 9m 1s\n",
            "21:\tlearn: 3215.4962622\ttotal: 2m 30s\tremaining: 8m 54s\n",
            "22:\tlearn: 3046.3207250\ttotal: 2m 37s\tremaining: 8m 47s\n",
            "23:\tlearn: 2921.2912795\ttotal: 2m 44s\tremaining: 8m 40s\n",
            "24:\tlearn: 2837.0026908\ttotal: 2m 51s\tremaining: 8m 33s\n",
            "25:\tlearn: 2775.2866616\ttotal: 2m 58s\tremaining: 8m 26s\n",
            "26:\tlearn: 2743.6017746\ttotal: 3m 4s\tremaining: 8m 20s\n",
            "27:\tlearn: 2706.8107965\ttotal: 3m 11s\tremaining: 8m 13s\n",
            "28:\tlearn: 2614.1583803\ttotal: 3m 18s\tremaining: 8m 6s\n",
            "29:\tlearn: 2573.8785115\ttotal: 3m 25s\tremaining: 7m 59s\n",
            "30:\tlearn: 2509.2928653\ttotal: 3m 32s\tremaining: 7m 52s\n",
            "31:\tlearn: 2464.3113155\ttotal: 3m 39s\tremaining: 7m 45s\n",
            "32:\tlearn: 2414.9845029\ttotal: 3m 45s\tremaining: 7m 38s\n",
            "33:\tlearn: 2375.2726134\ttotal: 3m 52s\tremaining: 7m 31s\n",
            "34:\tlearn: 2327.9295461\ttotal: 3m 59s\tremaining: 7m 24s\n",
            "35:\tlearn: 2303.9181053\ttotal: 4m 6s\tremaining: 7m 18s\n",
            "36:\tlearn: 2250.2885182\ttotal: 4m 13s\tremaining: 7m 11s\n",
            "37:\tlearn: 2208.7830906\ttotal: 4m 20s\tremaining: 7m 4s\n",
            "38:\tlearn: 2171.0111372\ttotal: 4m 26s\tremaining: 6m 57s\n",
            "39:\tlearn: 2124.5132144\ttotal: 4m 33s\tremaining: 6m 50s\n",
            "40:\tlearn: 2074.4913975\ttotal: 4m 40s\tremaining: 6m 43s\n",
            "41:\tlearn: 2043.2569314\ttotal: 4m 47s\tremaining: 6m 36s\n",
            "42:\tlearn: 1999.8950036\ttotal: 4m 54s\tremaining: 6m 29s\n",
            "43:\tlearn: 1977.0437379\ttotal: 5m 1s\tremaining: 6m 23s\n",
            "44:\tlearn: 1943.2095551\ttotal: 5m 7s\tremaining: 6m 16s\n",
            "45:\tlearn: 1920.6805847\ttotal: 5m 14s\tremaining: 6m 9s\n",
            "46:\tlearn: 1895.8180553\ttotal: 5m 21s\tremaining: 6m 2s\n",
            "47:\tlearn: 1853.2002246\ttotal: 5m 28s\tremaining: 5m 55s\n",
            "48:\tlearn: 1824.5112090\ttotal: 5m 35s\tremaining: 5m 48s\n",
            "49:\tlearn: 1794.5424785\ttotal: 5m 41s\tremaining: 5m 41s\n",
            "50:\tlearn: 1775.6689401\ttotal: 5m 48s\tremaining: 5m 35s\n",
            "51:\tlearn: 1749.1802944\ttotal: 5m 55s\tremaining: 5m 28s\n",
            "52:\tlearn: 1718.8755094\ttotal: 6m 2s\tremaining: 5m 21s\n",
            "53:\tlearn: 1690.6043329\ttotal: 6m 9s\tremaining: 5m 14s\n",
            "54:\tlearn: 1669.4202410\ttotal: 6m 16s\tremaining: 5m 7s\n",
            "55:\tlearn: 1655.8087679\ttotal: 6m 22s\tremaining: 5m\n",
            "56:\tlearn: 1634.2051857\ttotal: 6m 29s\tremaining: 4m 54s\n",
            "57:\tlearn: 1620.3319577\ttotal: 6m 36s\tremaining: 4m 47s\n",
            "58:\tlearn: 1607.7207228\ttotal: 6m 43s\tremaining: 4m 40s\n",
            "59:\tlearn: 1583.4899055\ttotal: 6m 50s\tremaining: 4m 33s\n",
            "60:\tlearn: 1564.9581454\ttotal: 6m 57s\tremaining: 4m 26s\n",
            "61:\tlearn: 1553.9605885\ttotal: 7m 3s\tremaining: 4m 19s\n",
            "62:\tlearn: 1517.5793041\ttotal: 7m 10s\tremaining: 4m 13s\n",
            "63:\tlearn: 1499.4831050\ttotal: 7m 17s\tremaining: 4m 6s\n",
            "64:\tlearn: 1485.1595662\ttotal: 7m 24s\tremaining: 3m 59s\n",
            "65:\tlearn: 1473.0448730\ttotal: 7m 31s\tremaining: 3m 52s\n",
            "66:\tlearn: 1451.4737625\ttotal: 7m 38s\tremaining: 3m 45s\n",
            "67:\tlearn: 1429.4624679\ttotal: 7m 44s\tremaining: 3m 38s\n",
            "68:\tlearn: 1417.5112340\ttotal: 7m 51s\tremaining: 3m 31s\n",
            "69:\tlearn: 1408.7980331\ttotal: 7m 58s\tremaining: 3m 25s\n",
            "70:\tlearn: 1396.1910911\ttotal: 8m 5s\tremaining: 3m 18s\n",
            "71:\tlearn: 1387.3305018\ttotal: 8m 12s\tremaining: 3m 11s\n",
            "72:\tlearn: 1377.6726499\ttotal: 8m 19s\tremaining: 3m 4s\n",
            "73:\tlearn: 1367.3484128\ttotal: 8m 25s\tremaining: 2m 57s\n",
            "74:\tlearn: 1352.2770344\ttotal: 8m 32s\tremaining: 2m 50s\n",
            "75:\tlearn: 1338.4099706\ttotal: 8m 39s\tremaining: 2m 44s\n",
            "76:\tlearn: 1327.5014632\ttotal: 8m 46s\tremaining: 2m 37s\n",
            "77:\tlearn: 1313.1380778\ttotal: 8m 53s\tremaining: 2m 30s\n",
            "78:\tlearn: 1298.6874041\ttotal: 9m\tremaining: 2m 23s\n",
            "79:\tlearn: 1285.1757677\ttotal: 9m 7s\tremaining: 2m 16s\n",
            "80:\tlearn: 1274.4992953\ttotal: 9m 13s\tremaining: 2m 9s\n",
            "81:\tlearn: 1263.7501744\ttotal: 9m 20s\tremaining: 2m 3s\n",
            "82:\tlearn: 1253.7615515\ttotal: 9m 27s\tremaining: 1m 56s\n",
            "83:\tlearn: 1241.9551743\ttotal: 9m 34s\tremaining: 1m 49s\n",
            "84:\tlearn: 1228.6536682\ttotal: 9m 41s\tremaining: 1m 42s\n",
            "85:\tlearn: 1221.2481410\ttotal: 9m 48s\tremaining: 1m 35s\n",
            "86:\tlearn: 1205.7404311\ttotal: 9m 54s\tremaining: 1m 28s\n",
            "87:\tlearn: 1198.2172353\ttotal: 10m 1s\tremaining: 1m 22s\n",
            "88:\tlearn: 1192.3998490\ttotal: 10m 8s\tremaining: 1m 15s\n",
            "89:\tlearn: 1183.4484490\ttotal: 10m 15s\tremaining: 1m 8s\n",
            "90:\tlearn: 1171.4057439\ttotal: 10m 22s\tremaining: 1m 1s\n",
            "91:\tlearn: 1166.3029550\ttotal: 10m 29s\tremaining: 54.7s\n",
            "92:\tlearn: 1156.2387117\ttotal: 10m 35s\tremaining: 47.9s\n",
            "93:\tlearn: 1149.2250462\ttotal: 10m 42s\tremaining: 41s\n",
            "94:\tlearn: 1138.7643179\ttotal: 10m 49s\tremaining: 34.2s\n",
            "95:\tlearn: 1131.2766758\ttotal: 10m 56s\tremaining: 27.4s\n",
            "96:\tlearn: 1116.8137840\ttotal: 11m 3s\tremaining: 20.5s\n",
            "97:\tlearn: 1110.9431221\ttotal: 11m 10s\tremaining: 13.7s\n",
            "98:\tlearn: 1106.5686898\ttotal: 11m 16s\tremaining: 6.84s\n",
            "99:\tlearn: 1099.9021962\ttotal: 11m 23s\tremaining: 0us\n"
          ],
          "name": "stdout"
        }
      ]
    },
    {
      "cell_type": "code",
      "metadata": {
        "colab": {
          "base_uri": "https://localhost:8080/"
        },
        "id": "eoEWP9MZj5vA",
        "outputId": "4414671a-0fd1-4c80-fe1b-ab12b5d2fe56"
      },
      "source": [
        "print(accuracy_score(Y_val,preds_class))"
      ],
      "execution_count": 42,
      "outputs": [
        {
          "output_type": "stream",
          "text": [
            "0.6135080749187348\n"
          ],
          "name": "stdout"
        }
      ]
    },
    {
      "cell_type": "code",
      "metadata": {
        "id": "I0_KbJ_jWVIL"
      },
      "source": [
        "eval_dataset = Pool(data=X,\r\n",
        "                    label=Y,\r\n",
        "                    cat_features=cat_features)"
      ],
      "execution_count": 43,
      "outputs": []
    },
    {
      "cell_type": "code",
      "metadata": {
        "id": "XWn-b8PjWVS7"
      },
      "source": [
        "preds_class = model.predict(eval_dataset)"
      ],
      "execution_count": 44,
      "outputs": []
    },
    {
      "cell_type": "code",
      "metadata": {
        "colab": {
          "base_uri": "https://localhost:8080/"
        },
        "id": "XOKUbSDCWo5l",
        "outputId": "33b18803-7479-4e75-9bd4-90dc10f29f65"
      },
      "source": [
        "print(accuracy_score(Y,preds_class))"
      ],
      "execution_count": 45,
      "outputs": [
        {
          "output_type": "stream",
          "text": [
            "0.6139625502382403\n"
          ],
          "name": "stdout"
        }
      ]
    },
    {
      "cell_type": "code",
      "metadata": {
        "colab": {
          "base_uri": "https://localhost:8080/"
        },
        "id": "ngbnOy7uWy7g",
        "outputId": "9533a2c6-486e-4773-a395-362fcbb26c35"
      },
      "source": [
        "data_part3['CODE_CULTU_2019_y'] = preds_class"
      ],
      "execution_count": 46,
      "outputs": [
        {
          "output_type": "stream",
          "text": [
            "/usr/local/lib/python3.7/dist-packages/ipykernel_launcher.py:1: SettingWithCopyWarning: \n",
            "A value is trying to be set on a copy of a slice from a DataFrame.\n",
            "Try using .loc[row_indexer,col_indexer] = value instead\n",
            "\n",
            "See the caveats in the documentation: https://pandas.pydata.org/pandas-docs/stable/user_guide/indexing.html#returning-a-view-versus-a-copy\n",
            "  \"\"\"Entry point for launching an IPython kernel.\n"
          ],
          "name": "stderr"
        }
      ]
    },
    {
      "cell_type": "code",
      "metadata": {
        "id": "8P0IkqJnXS2w"
      },
      "source": [
        "data_part2_2 = data_part2[data_part2['CODE_CULTU_2019_y'] != 'Unknown']\r\n",
        "\r\n",
        "final_data = pd.concat([data_part1,data_part2_2,data_part3])"
      ],
      "execution_count": 47,
      "outputs": []
    },
    {
      "cell_type": "code",
      "metadata": {
        "id": "M_GwA2l2Xlxn"
      },
      "source": [
        "Y_val = final_data['CODE_CULTU_2019']\r\n",
        "Y_pred = final_data['CODE_CULTU_2019_y']"
      ],
      "execution_count": 48,
      "outputs": []
    },
    {
      "cell_type": "code",
      "metadata": {
        "colab": {
          "base_uri": "https://localhost:8080/"
        },
        "id": "KZUVmNr9Xpdd",
        "outputId": "54bcac27-884f-4510-a23f-791b4442648f"
      },
      "source": [
        "print(accuracy_score(Y_val,Y_pred))"
      ],
      "execution_count": 49,
      "outputs": [
        {
          "output_type": "stream",
          "text": [
            "0.8148192820412946\n"
          ],
          "name": "stdout"
        }
      ]
    },
    {
      "cell_type": "code",
      "metadata": {
        "id": "lDSgdFSvPkiC"
      },
      "source": [
        "###Корректировка явных ошибок CatBoost### (Предсказание значения, которое не встречалось в выборке, заменяем на последнее значение в выборке)"
      ],
      "execution_count": null,
      "outputs": []
    },
    {
      "cell_type": "code",
      "metadata": {
        "id": "OjJIbkuhPkiC"
      },
      "source": [
        "data_part3_1 = data_part3.loc[(data_part3['CODE_CULTU_2019_y'] != data_part3['CODE_CULTU_2015']) & (data_part3['CODE_CULTU_2019_y'] != data_part3['CODE_CULTU_2016']) & (data_part3['CODE_CULTU_2019_y'] != data_part3['CODE_CULTU_2017']) & (data_part3['CODE_CULTU_2019_y'] != data_part3['CODE_CULTU_2018']) ]"
      ],
      "execution_count": 50,
      "outputs": []
    },
    {
      "cell_type": "code",
      "metadata": {
        "id": "ZIECBok_PkiD"
      },
      "source": [
        "data_part3_2 = data_part3.loc[(data_part3['CODE_CULTU_2019_y'] == data_part3['CODE_CULTU_2015']) | (data_part3['CODE_CULTU_2019_y'] == data_part3['CODE_CULTU_2016']) | (data_part3['CODE_CULTU_2019_y'] == data_part3['CODE_CULTU_2017']) | (data_part3['CODE_CULTU_2019_y'] == data_part3['CODE_CULTU_2018']) ]"
      ],
      "execution_count": 51,
      "outputs": []
    },
    {
      "cell_type": "code",
      "metadata": {
        "colab": {
          "base_uri": "https://localhost:8080/"
        },
        "id": "sleagwVsPkiE",
        "outputId": "66eb78c1-840d-48cf-e85e-10c104449e0c"
      },
      "source": [
        "data_part3_1['CODE_CULTU_2019_y'] = data_part3_1['CODE_CULTU_2018']"
      ],
      "execution_count": 52,
      "outputs": [
        {
          "output_type": "stream",
          "text": [
            "/usr/local/lib/python3.7/dist-packages/ipykernel_launcher.py:1: SettingWithCopyWarning: \n",
            "A value is trying to be set on a copy of a slice from a DataFrame.\n",
            "Try using .loc[row_indexer,col_indexer] = value instead\n",
            "\n",
            "See the caveats in the documentation: https://pandas.pydata.org/pandas-docs/stable/user_guide/indexing.html#returning-a-view-versus-a-copy\n",
            "  \"\"\"Entry point for launching an IPython kernel.\n"
          ],
          "name": "stderr"
        }
      ]
    },
    {
      "cell_type": "code",
      "metadata": {
        "id": "T00AUts4PnU4"
      },
      "source": [
        "final_data = pd.concat([data_part1,data_part2_2,data_part3_1,data_part3_2])"
      ],
      "execution_count": 54,
      "outputs": []
    },
    {
      "cell_type": "code",
      "metadata": {
        "id": "IWgMLKKBPt9E"
      },
      "source": [
        "Y_val = final_data['CODE_CULTU_2019']\r\n",
        "Y_pred = final_data['CODE_CULTU_2019_y']"
      ],
      "execution_count": 55,
      "outputs": []
    },
    {
      "cell_type": "code",
      "metadata": {
        "colab": {
          "base_uri": "https://localhost:8080/"
        },
        "id": "wU8gD6EvPvIy",
        "outputId": "8d95fa6f-d458-4fad-ad61-56b93c5adbff"
      },
      "source": [
        "print(accuracy_score(Y_val,Y_pred))"
      ],
      "execution_count": 56,
      "outputs": [
        {
          "output_type": "stream",
          "text": [
            "0.8190662619605378\n"
          ],
          "name": "stdout"
        }
      ]
    },
    {
      "cell_type": "markdown",
      "metadata": {
        "id": "aRToC-wtgSOz"
      },
      "source": [
        "##Full CatBoost###"
      ]
    },
    {
      "cell_type": "code",
      "metadata": {
        "id": "8G7pIG8tgRVx"
      },
      "source": [
        "#X2 = data_part3[['RotationLength', 'RotationCount',\r\n",
        "#       'CODE_CULTU_2015', 'CODE_CULTU_2016', 'CODE_CULTU_2017',\r\n",
        "#       'CODE_CULTU_2018', 'CODE_GROUP_2015',\r\n",
        "#       'CODE_GROUP_2016', 'CODE_GROUP_2017', 'CODE_GROUP_2018',\r\n",
        "#       'cultuCode', 'groupCode', 'hzs', 'kg_id', 'ff_id']]\r\n",
        "\r\n",
        "X2 = data_part3[['RotationLength', 'RotationCount',\r\n",
        "       'CODE_CULTU_2015', 'CODE_CULTU_2016', 'CODE_CULTU_2017',\r\n",
        "       'CODE_CULTU_2018', 'CODE_GROUP_2015',\r\n",
        "       'CODE_GROUP_2016', 'CODE_GROUP_2017', 'CODE_GROUP_2018',\r\n",
        "       'hzs', 'kg_id', 'ff_id']]\r\n",
        "\r\n",
        "\r\n",
        "X2 = X2.replace(np.nan, 'unknown', regex=True)\r\n",
        "\r\n",
        "Y2 = data_part3['CODE_CULTU_2019']"
      ],
      "execution_count": 57,
      "outputs": []
    },
    {
      "cell_type": "code",
      "metadata": {
        "id": "K0GIFceqglj6"
      },
      "source": [
        "cat_features2 = [2, 3, 4, 5, 6, 7, 8, 9, 10, 11, 12]"
      ],
      "execution_count": 58,
      "outputs": []
    },
    {
      "cell_type": "code",
      "metadata": {
        "colab": {
          "base_uri": "https://localhost:8080/"
        },
        "id": "72az_41ogwS-",
        "outputId": "4ae96489-2d20-40df-cfd2-75ae20dff861"
      },
      "source": [
        "train_dataset2 = Pool(data=X2,\r\n",
        "                     label=Y2,\r\n",
        "                     cat_features=cat_features2)\r\n",
        "\r\n",
        "eval_dataset2 = Pool(data=X2,\r\n",
        "                    label=Y2,\r\n",
        "                    cat_features=cat_features2)\r\n",
        "\r\n",
        "# Initialize CatBoostClassifier\r\n",
        "model2 = CatBoostClassifier(iterations=200,\r\n",
        "                           #learning_rate=0.25,\r\n",
        "                           depth=6,\r\n",
        "                           loss_function='MultiClass',  task_type='GPU')\r\n",
        "\r\n",
        "#model = CatBoostClassifier(loss_function='MultiClass',  task_type='GPU')\r\n",
        "\r\n",
        "# Fit model\r\n",
        "model2.fit(train_dataset2)  \r\n",
        "# Get predicted classes\r\n",
        "preds_class2 = model2.predict(eval_dataset2)\r\n",
        "# Get predicted probabilities for each class\r\n",
        "preds_proba2 = model2.predict_proba(eval_dataset2)\r\n",
        "# Get predicted RawFormulaVal\r\n",
        "preds_raw2 = model2.predict(eval_dataset2, prediction_type='RawFormulaVal')"
      ],
      "execution_count": 59,
      "outputs": [
        {
          "output_type": "stream",
          "text": [
            "Learning rate set to 0.5\n",
            "0:\tlearn: 14.2548560\ttotal: 8.8s\tremaining: 29m 11s\n",
            "1:\tlearn: 1157.3928097\ttotal: 18.8s\tremaining: 31m 1s\n",
            "2:\tlearn: 2730.9936584\ttotal: 27.8s\tremaining: 30m 24s\n",
            "3:\tlearn: 3467.8979784\ttotal: 36.7s\tremaining: 29m 58s\n",
            "4:\tlearn: 3646.6619463\ttotal: 45.6s\tremaining: 29m 38s\n",
            "5:\tlearn: 3703.5599151\ttotal: 54.4s\tremaining: 29m 20s\n",
            "6:\tlearn: 3297.7898394\ttotal: 1m 3s\tremaining: 29m 5s\n",
            "7:\tlearn: 3188.8005041\ttotal: 1m 12s\tremaining: 28m 51s\n",
            "8:\tlearn: 2659.5263592\ttotal: 1m 21s\tremaining: 28m 40s\n",
            "9:\tlearn: 2452.2489478\ttotal: 1m 30s\tremaining: 28m 30s\n",
            "10:\tlearn: 2207.6678862\ttotal: 1m 38s\tremaining: 28m 20s\n",
            "11:\tlearn: 2118.3410270\ttotal: 1m 47s\tremaining: 28m 9s\n",
            "12:\tlearn: 2051.8803996\ttotal: 1m 56s\tremaining: 27m 59s\n",
            "13:\tlearn: 1965.7683916\ttotal: 2m 5s\tremaining: 27m 50s\n",
            "14:\tlearn: 1904.6344417\ttotal: 2m 14s\tremaining: 27m 40s\n",
            "15:\tlearn: 1842.2370241\ttotal: 2m 23s\tremaining: 27m 31s\n",
            "16:\tlearn: 1825.9514273\ttotal: 2m 32s\tremaining: 27m 21s\n",
            "17:\tlearn: 1777.6758252\ttotal: 2m 41s\tremaining: 27m 11s\n",
            "18:\tlearn: 1744.8888877\ttotal: 2m 50s\tremaining: 27m 2s\n",
            "19:\tlearn: 1693.1296790\ttotal: 2m 59s\tremaining: 26m 53s\n",
            "20:\tlearn: 1661.1336857\ttotal: 3m 8s\tremaining: 26m 43s\n",
            "21:\tlearn: 1623.1558572\ttotal: 3m 17s\tremaining: 26m 34s\n",
            "22:\tlearn: 1594.2310030\ttotal: 3m 25s\tremaining: 26m 24s\n",
            "23:\tlearn: 1569.1824978\ttotal: 3m 34s\tremaining: 26m 15s\n",
            "24:\tlearn: 1544.4414939\ttotal: 3m 43s\tremaining: 26m 5s\n",
            "25:\tlearn: 1522.4586681\ttotal: 3m 52s\tremaining: 25m 56s\n",
            "26:\tlearn: 1481.5520035\ttotal: 4m 1s\tremaining: 25m 47s\n",
            "27:\tlearn: 1449.0147127\ttotal: 4m 10s\tremaining: 25m 38s\n",
            "28:\tlearn: 1426.9904112\ttotal: 4m 19s\tremaining: 25m 29s\n",
            "29:\tlearn: 1400.0437983\ttotal: 4m 28s\tremaining: 25m 20s\n",
            "30:\tlearn: 1371.3031631\ttotal: 4m 37s\tremaining: 25m 11s\n",
            "31:\tlearn: 1352.4962664\ttotal: 4m 46s\tremaining: 25m 2s\n",
            "32:\tlearn: 1338.4382054\ttotal: 4m 55s\tremaining: 24m 53s\n",
            "33:\tlearn: 1322.4611668\ttotal: 5m 3s\tremaining: 24m 44s\n",
            "34:\tlearn: 1301.9704095\ttotal: 5m 12s\tremaining: 24m 35s\n",
            "35:\tlearn: 1286.4208964\ttotal: 5m 21s\tremaining: 24m 25s\n",
            "36:\tlearn: 1276.2301142\ttotal: 5m 30s\tremaining: 24m 17s\n",
            "37:\tlearn: 1263.0020955\ttotal: 5m 39s\tremaining: 24m 8s\n",
            "38:\tlearn: 1246.6573233\ttotal: 5m 48s\tremaining: 23m 59s\n",
            "39:\tlearn: 1227.9342586\ttotal: 5m 57s\tremaining: 23m 50s\n",
            "40:\tlearn: 1215.3916897\ttotal: 6m 6s\tremaining: 23m 41s\n",
            "41:\tlearn: 1192.2128492\ttotal: 6m 15s\tremaining: 23m 32s\n",
            "42:\tlearn: 1181.6193740\ttotal: 6m 24s\tremaining: 23m 22s\n",
            "43:\tlearn: 1166.1010337\ttotal: 6m 33s\tremaining: 23m 14s\n",
            "44:\tlearn: 1145.9156644\ttotal: 6m 42s\tremaining: 23m 4s\n",
            "45:\tlearn: 1139.5669763\ttotal: 6m 51s\tremaining: 22m 56s\n",
            "46:\tlearn: 1127.6457504\ttotal: 6m 59s\tremaining: 22m 46s\n",
            "47:\tlearn: 1111.7532482\ttotal: 7m 8s\tremaining: 22m 37s\n",
            "48:\tlearn: 1090.2495504\ttotal: 7m 17s\tremaining: 22m 28s\n",
            "49:\tlearn: 1082.8411625\ttotal: 7m 26s\tremaining: 22m 19s\n",
            "50:\tlearn: 1069.0330124\ttotal: 7m 35s\tremaining: 22m 11s\n",
            "51:\tlearn: 1061.4454249\ttotal: 7m 44s\tremaining: 22m 2s\n",
            "52:\tlearn: 1052.0575629\ttotal: 7m 53s\tremaining: 21m 53s\n",
            "53:\tlearn: 1042.3670429\ttotal: 8m 2s\tremaining: 21m 44s\n",
            "54:\tlearn: 1046.0252701\ttotal: 8m 11s\tremaining: 21m 35s\n",
            "55:\tlearn: 1029.8243860\ttotal: 8m 20s\tremaining: 21m 26s\n",
            "56:\tlearn: 1018.3992834\ttotal: 8m 29s\tremaining: 21m 17s\n",
            "57:\tlearn: 1020.2926359\ttotal: 8m 37s\tremaining: 21m 8s\n",
            "58:\tlearn: 1011.2967238\ttotal: 8m 46s\tremaining: 20m 59s\n",
            "59:\tlearn: 998.7880576\ttotal: 8m 55s\tremaining: 20m 50s\n",
            "60:\tlearn: 992.2854426\ttotal: 9m 4s\tremaining: 20m 41s\n",
            "61:\tlearn: 978.7173408\ttotal: 9m 13s\tremaining: 20m 32s\n",
            "62:\tlearn: 974.3584296\ttotal: 9m 22s\tremaining: 20m 23s\n",
            "63:\tlearn: 975.9308078\ttotal: 9m 31s\tremaining: 20m 14s\n",
            "64:\tlearn: 969.9154223\ttotal: 9m 40s\tremaining: 20m 5s\n",
            "65:\tlearn: 963.3049353\ttotal: 9m 49s\tremaining: 19m 56s\n",
            "66:\tlearn: 959.7946468\ttotal: 9m 58s\tremaining: 19m 47s\n",
            "67:\tlearn: 954.1636380\ttotal: 10m 7s\tremaining: 19m 38s\n",
            "68:\tlearn: 949.6147840\ttotal: 10m 16s\tremaining: 19m 29s\n",
            "69:\tlearn: 941.7834496\ttotal: 10m 25s\tremaining: 19m 20s\n",
            "70:\tlearn: 946.3178620\ttotal: 10m 34s\tremaining: 19m 11s\n",
            "71:\tlearn: 933.5030153\ttotal: 10m 42s\tremaining: 19m 3s\n",
            "72:\tlearn: 927.4540794\ttotal: 10m 51s\tremaining: 18m 54s\n",
            "73:\tlearn: 921.7178403\ttotal: 11m\tremaining: 18m 45s\n",
            "74:\tlearn: 914.8885272\ttotal: 11m 9s\tremaining: 18m 36s\n",
            "75:\tlearn: 911.6300869\ttotal: 11m 18s\tremaining: 18m 27s\n",
            "76:\tlearn: 903.4319876\ttotal: 11m 27s\tremaining: 18m 18s\n",
            "77:\tlearn: 900.6679976\ttotal: 11m 36s\tremaining: 18m 9s\n",
            "78:\tlearn: 895.6884479\ttotal: 11m 45s\tremaining: 18m\n",
            "79:\tlearn: 890.2538983\ttotal: 11m 54s\tremaining: 17m 51s\n",
            "80:\tlearn: 885.7584960\ttotal: 12m 3s\tremaining: 17m 42s\n",
            "81:\tlearn: 892.6964737\ttotal: 12m 12s\tremaining: 17m 33s\n",
            "82:\tlearn: 899.1448444\ttotal: 12m 21s\tremaining: 17m 24s\n",
            "83:\tlearn: 886.5084929\ttotal: 12m 30s\tremaining: 17m 15s\n",
            "84:\tlearn: 876.1163202\ttotal: 12m 39s\tremaining: 17m 6s\n",
            "85:\tlearn: 868.2093433\ttotal: 12m 47s\tremaining: 16m 58s\n",
            "86:\tlearn: 860.9371824\ttotal: 12m 56s\tremaining: 16m 49s\n",
            "87:\tlearn: 859.8091490\ttotal: 13m 5s\tremaining: 16m 40s\n",
            "88:\tlearn: 854.4427570\ttotal: 13m 14s\tremaining: 16m 31s\n",
            "89:\tlearn: 852.2541432\ttotal: 13m 23s\tremaining: 16m 22s\n",
            "90:\tlearn: 846.5542724\ttotal: 13m 32s\tremaining: 16m 13s\n",
            "91:\tlearn: 838.7528781\ttotal: 13m 41s\tremaining: 16m 4s\n",
            "92:\tlearn: 837.2495380\ttotal: 13m 50s\tremaining: 15m 55s\n",
            "93:\tlearn: 832.7864533\ttotal: 13m 59s\tremaining: 15m 46s\n",
            "94:\tlearn: 831.4439086\ttotal: 14m 8s\tremaining: 15m 37s\n",
            "95:\tlearn: 829.1848478\ttotal: 14m 17s\tremaining: 15m 28s\n",
            "96:\tlearn: 826.1476113\ttotal: 14m 26s\tremaining: 15m 19s\n",
            "97:\tlearn: 824.9331923\ttotal: 14m 35s\tremaining: 15m 10s\n",
            "98:\tlearn: 818.2954070\ttotal: 14m 44s\tremaining: 15m 2s\n",
            "99:\tlearn: 816.3080077\ttotal: 14m 53s\tremaining: 14m 53s\n",
            "100:\tlearn: 809.9822149\ttotal: 15m 2s\tremaining: 14m 44s\n",
            "101:\tlearn: 804.5880843\ttotal: 15m 10s\tremaining: 14m 35s\n",
            "102:\tlearn: 799.1675360\ttotal: 15m 19s\tremaining: 14m 26s\n",
            "103:\tlearn: 795.5994810\ttotal: 15m 28s\tremaining: 14m 17s\n",
            "104:\tlearn: 794.2526215\ttotal: 15m 37s\tremaining: 14m 8s\n",
            "105:\tlearn: 793.3693916\ttotal: 15m 46s\tremaining: 13m 59s\n",
            "106:\tlearn: 789.1982218\ttotal: 15m 55s\tremaining: 13m 50s\n",
            "107:\tlearn: 788.5885025\ttotal: 16m 4s\tremaining: 13m 41s\n",
            "108:\tlearn: 787.8105910\ttotal: 16m 13s\tremaining: 13m 32s\n",
            "109:\tlearn: 783.7302979\ttotal: 16m 22s\tremaining: 13m 23s\n",
            "110:\tlearn: 782.6876815\ttotal: 16m 31s\tremaining: 13m 15s\n",
            "111:\tlearn: 781.2163949\ttotal: 16m 40s\tremaining: 13m 6s\n",
            "112:\tlearn: 780.4223686\ttotal: 16m 49s\tremaining: 12m 57s\n",
            "113:\tlearn: 778.0964712\ttotal: 16m 58s\tremaining: 12m 48s\n",
            "114:\tlearn: 778.4789987\ttotal: 17m 7s\tremaining: 12m 39s\n",
            "115:\tlearn: 781.6895349\ttotal: 17m 16s\tremaining: 12m 30s\n",
            "116:\tlearn: 777.0395893\ttotal: 17m 25s\tremaining: 12m 21s\n",
            "117:\tlearn: 766.7951793\ttotal: 17m 34s\tremaining: 12m 12s\n",
            "118:\tlearn: 766.2107330\ttotal: 17m 43s\tremaining: 12m 3s\n",
            "119:\tlearn: 768.2115173\ttotal: 17m 52s\tremaining: 11m 54s\n",
            "120:\tlearn: 766.6345601\ttotal: 18m 1s\tremaining: 11m 45s\n",
            "121:\tlearn: 762.0724972\ttotal: 18m 9s\tremaining: 11m 36s\n",
            "122:\tlearn: 759.0333234\ttotal: 18m 18s\tremaining: 11m 27s\n",
            "123:\tlearn: 757.2871171\ttotal: 18m 27s\tremaining: 11m 19s\n",
            "124:\tlearn: 753.7456559\ttotal: 18m 36s\tremaining: 11m 10s\n",
            "125:\tlearn: 751.8792494\ttotal: 18m 45s\tremaining: 11m 1s\n",
            "126:\tlearn: 751.0441876\ttotal: 18m 54s\tremaining: 10m 52s\n",
            "127:\tlearn: 749.7049012\ttotal: 19m 3s\tremaining: 10m 43s\n",
            "128:\tlearn: 748.9420477\ttotal: 19m 12s\tremaining: 10m 34s\n",
            "129:\tlearn: 747.6651949\ttotal: 19m 21s\tremaining: 10m 25s\n",
            "130:\tlearn: 748.9952352\ttotal: 19m 30s\tremaining: 10m 16s\n",
            "131:\tlearn: 746.3308397\ttotal: 19m 39s\tremaining: 10m 7s\n",
            "132:\tlearn: 747.7837221\ttotal: 19m 48s\tremaining: 9m 58s\n",
            "133:\tlearn: 745.9153782\ttotal: 19m 57s\tremaining: 9m 49s\n",
            "134:\tlearn: 747.8817315\ttotal: 20m 6s\tremaining: 9m 40s\n",
            "135:\tlearn: 743.8153517\ttotal: 20m 15s\tremaining: 9m 31s\n",
            "136:\tlearn: 744.9411836\ttotal: 20m 24s\tremaining: 9m 22s\n",
            "137:\tlearn: 742.0131400\ttotal: 20m 33s\tremaining: 9m 14s\n",
            "138:\tlearn: 740.0479315\ttotal: 20m 42s\tremaining: 9m 5s\n",
            "139:\tlearn: 736.0700948\ttotal: 20m 51s\tremaining: 8m 56s\n",
            "140:\tlearn: 739.6374013\ttotal: 21m\tremaining: 8m 47s\n",
            "141:\tlearn: 734.3050000\ttotal: 21m 9s\tremaining: 8m 38s\n",
            "142:\tlearn: 733.7705710\ttotal: 21m 18s\tremaining: 8m 29s\n",
            "143:\tlearn: 731.8289182\ttotal: 21m 26s\tremaining: 8m 20s\n",
            "144:\tlearn: 731.3302412\ttotal: 21m 35s\tremaining: 8m 11s\n",
            "145:\tlearn: 731.5204482\ttotal: 21m 44s\tremaining: 8m 2s\n",
            "146:\tlearn: 726.4641112\ttotal: 21m 53s\tremaining: 7m 53s\n",
            "147:\tlearn: 725.9905309\ttotal: 22m 2s\tremaining: 7m 44s\n",
            "148:\tlearn: 721.6067871\ttotal: 22m 11s\tremaining: 7m 35s\n",
            "149:\tlearn: 721.3992325\ttotal: 22m 20s\tremaining: 7m 26s\n",
            "150:\tlearn: 721.5113754\ttotal: 22m 29s\tremaining: 7m 17s\n",
            "151:\tlearn: 718.7265155\ttotal: 22m 38s\tremaining: 7m 9s\n",
            "152:\tlearn: 718.4033837\ttotal: 22m 47s\tremaining: 7m\n",
            "153:\tlearn: 721.8880029\ttotal: 22m 56s\tremaining: 6m 51s\n",
            "154:\tlearn: 714.3741206\ttotal: 23m 5s\tremaining: 6m 42s\n",
            "155:\tlearn: 714.0335091\ttotal: 23m 14s\tremaining: 6m 33s\n",
            "156:\tlearn: 712.5361571\ttotal: 23m 23s\tremaining: 6m 24s\n",
            "157:\tlearn: 710.8983072\ttotal: 23m 32s\tremaining: 6m 15s\n",
            "158:\tlearn: 709.4159252\ttotal: 23m 41s\tremaining: 6m 6s\n",
            "159:\tlearn: 711.1312668\ttotal: 23m 50s\tremaining: 5m 57s\n",
            "160:\tlearn: 707.6863620\ttotal: 23m 59s\tremaining: 5m 48s\n",
            "161:\tlearn: 710.2180969\ttotal: 24m 8s\tremaining: 5m 39s\n",
            "162:\tlearn: 705.6505744\ttotal: 24m 17s\tremaining: 5m 30s\n",
            "163:\tlearn: 702.5715099\ttotal: 24m 26s\tremaining: 5m 21s\n",
            "164:\tlearn: 704.6179087\ttotal: 24m 35s\tremaining: 5m 12s\n",
            "165:\tlearn: 707.8613789\ttotal: 24m 44s\tremaining: 5m 3s\n",
            "166:\tlearn: 703.6340716\ttotal: 24m 53s\tremaining: 4m 55s\n",
            "167:\tlearn: 700.2782824\ttotal: 25m 2s\tremaining: 4m 46s\n",
            "168:\tlearn: 697.2197797\ttotal: 25m 11s\tremaining: 4m 37s\n",
            "169:\tlearn: 692.1463152\ttotal: 25m 19s\tremaining: 4m 28s\n",
            "170:\tlearn: 696.7714282\ttotal: 25m 28s\tremaining: 4m 19s\n",
            "171:\tlearn: 690.8080414\ttotal: 25m 37s\tremaining: 4m 10s\n",
            "172:\tlearn: 687.9979967\ttotal: 25m 46s\tremaining: 4m 1s\n",
            "173:\tlearn: 688.5234436\ttotal: 25m 55s\tremaining: 3m 52s\n",
            "174:\tlearn: 687.3709299\ttotal: 26m 4s\tremaining: 3m 43s\n",
            "175:\tlearn: 691.1730012\ttotal: 26m 13s\tremaining: 3m 34s\n",
            "176:\tlearn: 685.9049708\ttotal: 26m 22s\tremaining: 3m 25s\n",
            "177:\tlearn: 688.7323191\ttotal: 26m 31s\tremaining: 3m 16s\n",
            "178:\tlearn: 694.8041503\ttotal: 26m 40s\tremaining: 3m 7s\n",
            "179:\tlearn: 691.8828433\ttotal: 26m 49s\tremaining: 2m 58s\n",
            "180:\tlearn: 689.2957194\ttotal: 26m 58s\tremaining: 2m 49s\n",
            "181:\tlearn: 684.9727362\ttotal: 27m 7s\tremaining: 2m 40s\n",
            "182:\tlearn: 683.2247247\ttotal: 27m 16s\tremaining: 2m 32s\n",
            "183:\tlearn: 679.5128256\ttotal: 27m 25s\tremaining: 2m 23s\n",
            "184:\tlearn: 674.8287573\ttotal: 27m 34s\tremaining: 2m 14s\n",
            "185:\tlearn: 672.6016178\ttotal: 27m 43s\tremaining: 2m 5s\n",
            "186:\tlearn: 672.6138140\ttotal: 27m 52s\tremaining: 1m 56s\n",
            "187:\tlearn: 671.3658004\ttotal: 28m 1s\tremaining: 1m 47s\n",
            "188:\tlearn: 674.0429644\ttotal: 28m 10s\tremaining: 1m 38s\n",
            "189:\tlearn: 670.1819378\ttotal: 28m 19s\tremaining: 1m 29s\n",
            "190:\tlearn: 669.9835853\ttotal: 28m 28s\tremaining: 1m 20s\n",
            "191:\tlearn: 672.3045074\ttotal: 28m 37s\tremaining: 1m 11s\n",
            "192:\tlearn: 668.3278595\ttotal: 28m 46s\tremaining: 1m 2s\n",
            "193:\tlearn: 666.5563803\ttotal: 28m 55s\tremaining: 53.7s\n",
            "194:\tlearn: 667.2043611\ttotal: 29m 4s\tremaining: 44.7s\n",
            "195:\tlearn: 665.8956310\ttotal: 29m 12s\tremaining: 35.8s\n",
            "196:\tlearn: 665.2151566\ttotal: 29m 21s\tremaining: 26.8s\n",
            "197:\tlearn: 665.2634568\ttotal: 29m 30s\tremaining: 17.9s\n",
            "198:\tlearn: 665.8554762\ttotal: 29m 39s\tremaining: 8.94s\n",
            "199:\tlearn: 670.6967296\ttotal: 29m 48s\tremaining: 0us\n"
          ],
          "name": "stdout"
        }
      ]
    },
    {
      "cell_type": "code",
      "metadata": {
        "colab": {
          "base_uri": "https://localhost:8080/"
        },
        "id": "IDBLfp9dhMum",
        "outputId": "18eabf69-ae7e-4fdf-a19b-6f8fb108d5b5"
      },
      "source": [
        "print(accuracy_score(Y2,preds_class2))"
      ],
      "execution_count": 60,
      "outputs": [
        {
          "output_type": "stream",
          "text": [
            "0.572658839522446\n"
          ],
          "name": "stdout"
        }
      ]
    },
    {
      "cell_type": "code",
      "metadata": {
        "colab": {
          "base_uri": "https://localhost:8080/"
        },
        "id": "G0gw_MTFn6as",
        "outputId": "fb9c8545-b2c5-44fe-b3d7-8d262f12b215"
      },
      "source": [
        "data_part3['CODE_CULTU_2019_y'] = preds_class"
      ],
      "execution_count": 61,
      "outputs": [
        {
          "output_type": "stream",
          "text": [
            "/usr/local/lib/python3.7/dist-packages/ipykernel_launcher.py:1: SettingWithCopyWarning: \n",
            "A value is trying to be set on a copy of a slice from a DataFrame.\n",
            "Try using .loc[row_indexer,col_indexer] = value instead\n",
            "\n",
            "See the caveats in the documentation: https://pandas.pydata.org/pandas-docs/stable/user_guide/indexing.html#returning-a-view-versus-a-copy\n",
            "  \"\"\"Entry point for launching an IPython kernel.\n"
          ],
          "name": "stderr"
        }
      ]
    },
    {
      "cell_type": "code",
      "metadata": {
        "id": "iF5L7EpgpK7w"
      },
      "source": [
        "data_part2_2 = data_part2[data_part2['CODE_CULTU_2019_y'] != 'Unknown']"
      ],
      "execution_count": 62,
      "outputs": []
    },
    {
      "cell_type": "code",
      "metadata": {
        "id": "hKsH55aMpK75"
      },
      "source": [
        "Y_val = final_data['CODE_CULTU_2019']\r\n",
        "Y_pred = final_data['CODE_CULTU_2019_y']"
      ],
      "execution_count": 63,
      "outputs": []
    },
    {
      "cell_type": "code",
      "metadata": {
        "colab": {
          "base_uri": "https://localhost:8080/"
        },
        "id": "BaOdbl-SpK76",
        "outputId": "52fb4271-d497-4a36-934f-86f7f7df0138"
      },
      "source": [
        "print(accuracy_score(Y_val,Y_pred))"
      ],
      "execution_count": 64,
      "outputs": [
        {
          "output_type": "stream",
          "text": [
            "0.8190662619605378\n"
          ],
          "name": "stdout"
        }
      ]
    },
    {
      "cell_type": "code",
      "metadata": {
        "id": "gJ2Fm4kNpGEx"
      },
      "source": [
        "###Корректировка явных ошибок CatBoost### (Предсказание значения, которое не встречалось в выборке, заменяем на последнее значение в выборке)"
      ],
      "execution_count": null,
      "outputs": []
    },
    {
      "cell_type": "code",
      "metadata": {
        "id": "OmNTmSqqpTOj"
      },
      "source": [
        "data_part3_1 = data_part3.loc[(data_part3['CODE_CULTU_2019_y'] != data_part3['CODE_CULTU_2015']) & (data_part3['CODE_CULTU_2019_y'] != data_part3['CODE_CULTU_2016']) & (data_part3['CODE_CULTU_2019_y'] != data_part3['CODE_CULTU_2017']) & (data_part3['CODE_CULTU_2019_y'] != data_part3['CODE_CULTU_2018']) ]"
      ],
      "execution_count": 65,
      "outputs": []
    },
    {
      "cell_type": "code",
      "metadata": {
        "id": "yq6Dq0J4qDu2"
      },
      "source": [
        "data_part3_2 = data_part3.loc[(data_part3['CODE_CULTU_2019_y'] == data_part3['CODE_CULTU_2015']) | (data_part3['CODE_CULTU_2019_y'] == data_part3['CODE_CULTU_2016']) | (data_part3['CODE_CULTU_2019_y'] == data_part3['CODE_CULTU_2017']) | (data_part3['CODE_CULTU_2019_y'] == data_part3['CODE_CULTU_2018']) ]"
      ],
      "execution_count": 66,
      "outputs": []
    },
    {
      "cell_type": "code",
      "metadata": {
        "colab": {
          "base_uri": "https://localhost:8080/"
        },
        "id": "uwT8wlXWpTUw",
        "outputId": "5e62e46d-0f66-45b1-ebc4-66a49cfdf73f"
      },
      "source": [
        "data_part3_1['CODE_CULTU_2019_y'] = data_part3_1['CODE_CULTU_2018']"
      ],
      "execution_count": 67,
      "outputs": [
        {
          "output_type": "stream",
          "text": [
            "/usr/local/lib/python3.7/dist-packages/ipykernel_launcher.py:1: SettingWithCopyWarning: \n",
            "A value is trying to be set on a copy of a slice from a DataFrame.\n",
            "Try using .loc[row_indexer,col_indexer] = value instead\n",
            "\n",
            "See the caveats in the documentation: https://pandas.pydata.org/pandas-docs/stable/user_guide/indexing.html#returning-a-view-versus-a-copy\n",
            "  \"\"\"Entry point for launching an IPython kernel.\n"
          ],
          "name": "stderr"
        }
      ]
    },
    {
      "cell_type": "code",
      "metadata": {
        "id": "qor0F634sUHI"
      },
      "source": [
        "final_data2 = pd.concat([data_part1,data_part2_2,data_part3_1,data_part3_2])"
      ],
      "execution_count": 68,
      "outputs": []
    },
    {
      "cell_type": "code",
      "metadata": {
        "id": "NhTkeODBsXvf"
      },
      "source": [
        "Y_val = final_data2['CODE_CULTU_2019']\r\n",
        "Y_pred = final_data2['CODE_CULTU_2019_y']"
      ],
      "execution_count": 69,
      "outputs": []
    },
    {
      "cell_type": "code",
      "metadata": {
        "colab": {
          "base_uri": "https://localhost:8080/"
        },
        "id": "wvFxipy0sbGL",
        "outputId": "2a2af18d-ac61-4b5c-a2e5-302631e45348"
      },
      "source": [
        "print(accuracy_score(Y_val,Y_pred))"
      ],
      "execution_count": 70,
      "outputs": [
        {
          "output_type": "stream",
          "text": [
            "0.8190662619605378\n"
          ],
          "name": "stdout"
        }
      ]
    },
    {
      "cell_type": "markdown",
      "metadata": {
        "id": "gM99GSEwX15K"
      },
      "source": [
        "## TEST Predict ##"
      ]
    },
    {
      "cell_type": "code",
      "metadata": {
        "id": "QumRmbZRX42_"
      },
      "source": [
        "test2015 = pd.read_csv('/content/drive/MyDrive/Хакатон/test_2015.csv')"
      ],
      "execution_count": 71,
      "outputs": []
    },
    {
      "cell_type": "code",
      "metadata": {
        "id": "UERINOlFY5xm"
      },
      "source": [
        "test2016 = pd.read_csv('/content/drive/MyDrive/Хакатон/test_2016.csv')"
      ],
      "execution_count": 72,
      "outputs": []
    },
    {
      "cell_type": "code",
      "metadata": {
        "id": "_kyN3fcEZmR4"
      },
      "source": [
        "test2017 = pd.read_csv('/content/drive/MyDrive/Хакатон/test_2017.csv')"
      ],
      "execution_count": 73,
      "outputs": []
    },
    {
      "cell_type": "code",
      "metadata": {
        "id": "h4GuQgUOZmWv"
      },
      "source": [
        "test2018 = pd.read_csv('/content/drive/MyDrive/Хакатон/test_2018.csv')"
      ],
      "execution_count": 74,
      "outputs": []
    },
    {
      "cell_type": "code",
      "metadata": {
        "id": "rvMu6InWZrO1"
      },
      "source": [
        "test2015_2018 = pd.merge(test2015, test2016,  how='left', left_on=['centroid'], right_on = ['centroid'])"
      ],
      "execution_count": 75,
      "outputs": []
    },
    {
      "cell_type": "code",
      "metadata": {
        "colab": {
          "base_uri": "https://localhost:8080/",
          "height": 406
        },
        "id": "VY-_kUoFaGSK",
        "outputId": "2bafa88b-b79d-4571-e4b6-3f371022279e"
      },
      "source": [
        "test2015_2018"
      ],
      "execution_count": 76,
      "outputs": [
        {
          "output_type": "execute_result",
          "data": {
            "text/html": [
              "<div>\n",
              "<style scoped>\n",
              "    .dataframe tbody tr th:only-of-type {\n",
              "        vertical-align: middle;\n",
              "    }\n",
              "\n",
              "    .dataframe tbody tr th {\n",
              "        vertical-align: top;\n",
              "    }\n",
              "\n",
              "    .dataframe thead th {\n",
              "        text-align: right;\n",
              "    }\n",
              "</style>\n",
              "<table border=\"1\" class=\"dataframe\">\n",
              "  <thead>\n",
              "    <tr style=\"text-align: right;\">\n",
              "      <th></th>\n",
              "      <th>CODE_CULTU_x</th>\n",
              "      <th>CODE_GROUP_x</th>\n",
              "      <th>centroid</th>\n",
              "      <th>CODE_CULTU_y</th>\n",
              "      <th>CODE_GROUP_y</th>\n",
              "    </tr>\n",
              "  </thead>\n",
              "  <tbody>\n",
              "    <tr>\n",
              "      <th>0</th>\n",
              "      <td>PPH</td>\n",
              "      <td>18</td>\n",
              "      <td>Point (882657.94895066 6569342.10998129)</td>\n",
              "      <td>PPH</td>\n",
              "      <td>18</td>\n",
              "    </tr>\n",
              "    <tr>\n",
              "      <th>1</th>\n",
              "      <td>PPH</td>\n",
              "      <td>18</td>\n",
              "      <td>Point (882115.97784605 6572755.67171272)</td>\n",
              "      <td>PPH</td>\n",
              "      <td>18</td>\n",
              "    </tr>\n",
              "    <tr>\n",
              "      <th>2</th>\n",
              "      <td>TTH</td>\n",
              "      <td>4</td>\n",
              "      <td>Point (881577.18757373 6569639.00274748)</td>\n",
              "      <td>ORH</td>\n",
              "      <td>3</td>\n",
              "    </tr>\n",
              "    <tr>\n",
              "      <th>3</th>\n",
              "      <td>PPH</td>\n",
              "      <td>18</td>\n",
              "      <td>Point (861602.67865301 6594153.2889364)</td>\n",
              "      <td>PPH</td>\n",
              "      <td>18</td>\n",
              "    </tr>\n",
              "    <tr>\n",
              "      <th>4</th>\n",
              "      <td>MIS</td>\n",
              "      <td>2</td>\n",
              "      <td>Point (860126.47223916 6591185.82080882)</td>\n",
              "      <td>BTH</td>\n",
              "      <td>1</td>\n",
              "    </tr>\n",
              "    <tr>\n",
              "      <th>...</th>\n",
              "      <td>...</td>\n",
              "      <td>...</td>\n",
              "      <td>...</td>\n",
              "      <td>...</td>\n",
              "      <td>...</td>\n",
              "    </tr>\n",
              "    <tr>\n",
              "      <th>401640</th>\n",
              "      <td>PPH</td>\n",
              "      <td>18</td>\n",
              "      <td>Point (626983.84393005 6887703.12019497)</td>\n",
              "      <td>PPH</td>\n",
              "      <td>18</td>\n",
              "    </tr>\n",
              "    <tr>\n",
              "      <th>401641</th>\n",
              "      <td>SBO</td>\n",
              "      <td>28</td>\n",
              "      <td>Point (635405.32546667 6883716.73243333)</td>\n",
              "      <td>SBO</td>\n",
              "      <td>28</td>\n",
              "    </tr>\n",
              "    <tr>\n",
              "      <th>401642</th>\n",
              "      <td>SNE</td>\n",
              "      <td>28</td>\n",
              "      <td>Point (658006.88162677 6881175.08919206)</td>\n",
              "      <td>J5M</td>\n",
              "      <td>11</td>\n",
              "    </tr>\n",
              "    <tr>\n",
              "      <th>401643</th>\n",
              "      <td>SNE</td>\n",
              "      <td>28</td>\n",
              "      <td>Point (653022.3464582 6888260.28248648)</td>\n",
              "      <td>SNE</td>\n",
              "      <td>28</td>\n",
              "    </tr>\n",
              "    <tr>\n",
              "      <th>401644</th>\n",
              "      <td>SNE</td>\n",
              "      <td>28</td>\n",
              "      <td>Point (617959.65098252 6883438.11297526)</td>\n",
              "      <td>SNE</td>\n",
              "      <td>28</td>\n",
              "    </tr>\n",
              "  </tbody>\n",
              "</table>\n",
              "<p>401645 rows × 5 columns</p>\n",
              "</div>"
            ],
            "text/plain": [
              "       CODE_CULTU_x  CODE_GROUP_x  ... CODE_CULTU_y CODE_GROUP_y\n",
              "0               PPH            18  ...          PPH           18\n",
              "1               PPH            18  ...          PPH           18\n",
              "2               TTH             4  ...          ORH            3\n",
              "3               PPH            18  ...          PPH           18\n",
              "4               MIS             2  ...          BTH            1\n",
              "...             ...           ...  ...          ...          ...\n",
              "401640          PPH            18  ...          PPH           18\n",
              "401641          SBO            28  ...          SBO           28\n",
              "401642          SNE            28  ...          J5M           11\n",
              "401643          SNE            28  ...          SNE           28\n",
              "401644          SNE            28  ...          SNE           28\n",
              "\n",
              "[401645 rows x 5 columns]"
            ]
          },
          "metadata": {
            "tags": []
          },
          "execution_count": 76
        }
      ]
    },
    {
      "cell_type": "code",
      "metadata": {
        "id": "Q5kz5TOKaYOH"
      },
      "source": [
        "test2015_2018.rename(columns = {'CODE_CULTU_x': 'CODE_CULTU_2015', 'CODE_GROUP_x': 'CODE_GROUP_2015', 'CODE_CULTU_y': 'CODE_CULTU_2016', 'CODE_GROUP_y': 'CODE_GROUP_2016'}, inplace = True)"
      ],
      "execution_count": 77,
      "outputs": []
    },
    {
      "cell_type": "code",
      "metadata": {
        "id": "ODBbRDKFbyrx"
      },
      "source": [
        "test2015_2018 = pd.merge(test2015_2018, test2017,  how='left', left_on=['centroid'], right_on = ['centroid'])"
      ],
      "execution_count": 78,
      "outputs": []
    },
    {
      "cell_type": "code",
      "metadata": {
        "id": "QHflyMc_b_JF"
      },
      "source": [
        "test2015_2018.rename(columns = {'CODE_CULTU': 'CODE_CULTU_2017', 'CODE_GROUP': 'CODE_GROUP_2017'}, inplace = True)"
      ],
      "execution_count": 79,
      "outputs": []
    },
    {
      "cell_type": "code",
      "metadata": {
        "id": "ZcoRCdUGb02a"
      },
      "source": [
        "test2015_2018 = pd.merge(test2015_2018, test2018,  how='left', left_on=['centroid'], right_on = ['centroid'])"
      ],
      "execution_count": 80,
      "outputs": []
    },
    {
      "cell_type": "code",
      "metadata": {
        "id": "uz96QD5_clG2"
      },
      "source": [
        "test2015_2018.rename(columns = {'CODE_CULTU': 'CODE_CULTU_2018', 'CODE_GROUP': 'CODE_GROUP_2018'}, inplace = True)"
      ],
      "execution_count": 81,
      "outputs": []
    },
    {
      "cell_type": "code",
      "metadata": {
        "colab": {
          "base_uri": "https://localhost:8080/",
          "height": 107
        },
        "id": "L4XHGZz_cn9p",
        "outputId": "7c70f412-43dd-43e6-82d9-b2e8044897d1"
      },
      "source": [
        "test2015_2018.head(2)"
      ],
      "execution_count": 82,
      "outputs": [
        {
          "output_type": "execute_result",
          "data": {
            "text/html": [
              "<div>\n",
              "<style scoped>\n",
              "    .dataframe tbody tr th:only-of-type {\n",
              "        vertical-align: middle;\n",
              "    }\n",
              "\n",
              "    .dataframe tbody tr th {\n",
              "        vertical-align: top;\n",
              "    }\n",
              "\n",
              "    .dataframe thead th {\n",
              "        text-align: right;\n",
              "    }\n",
              "</style>\n",
              "<table border=\"1\" class=\"dataframe\">\n",
              "  <thead>\n",
              "    <tr style=\"text-align: right;\">\n",
              "      <th></th>\n",
              "      <th>CODE_CULTU_2015</th>\n",
              "      <th>CODE_GROUP_2015</th>\n",
              "      <th>centroid</th>\n",
              "      <th>CODE_CULTU_2016</th>\n",
              "      <th>CODE_GROUP_2016</th>\n",
              "      <th>CODE_CULTU_2017</th>\n",
              "      <th>CODE_GROUP_2017</th>\n",
              "      <th>CODE_CULTU_2018</th>\n",
              "      <th>CODE_GROUP_2018</th>\n",
              "    </tr>\n",
              "  </thead>\n",
              "  <tbody>\n",
              "    <tr>\n",
              "      <th>0</th>\n",
              "      <td>PPH</td>\n",
              "      <td>18</td>\n",
              "      <td>Point (882657.94895066 6569342.10998129)</td>\n",
              "      <td>PPH</td>\n",
              "      <td>18</td>\n",
              "      <td>PPH</td>\n",
              "      <td>18</td>\n",
              "      <td>PPH</td>\n",
              "      <td>18</td>\n",
              "    </tr>\n",
              "    <tr>\n",
              "      <th>1</th>\n",
              "      <td>PPH</td>\n",
              "      <td>18</td>\n",
              "      <td>Point (882115.97784605 6572755.67171272)</td>\n",
              "      <td>PPH</td>\n",
              "      <td>18</td>\n",
              "      <td>PPH</td>\n",
              "      <td>18</td>\n",
              "      <td>PPH</td>\n",
              "      <td>18</td>\n",
              "    </tr>\n",
              "  </tbody>\n",
              "</table>\n",
              "</div>"
            ],
            "text/plain": [
              "  CODE_CULTU_2015  CODE_GROUP_2015  ... CODE_CULTU_2018 CODE_GROUP_2018\n",
              "0             PPH               18  ...             PPH              18\n",
              "1             PPH               18  ...             PPH              18\n",
              "\n",
              "[2 rows x 9 columns]"
            ]
          },
          "metadata": {
            "tags": []
          },
          "execution_count": 82
        }
      ]
    },
    {
      "cell_type": "code",
      "metadata": {
        "id": "-2F4CRG2dN3A",
        "colab": {
          "base_uri": "https://localhost:8080/",
          "height": 107
        },
        "outputId": "5a446544-1fe3-4ffe-b8a3-384326d3ffff"
      },
      "source": [
        "test2015_2018.head(2)"
      ],
      "execution_count": 86,
      "outputs": [
        {
          "output_type": "execute_result",
          "data": {
            "text/html": [
              "<div>\n",
              "<style scoped>\n",
              "    .dataframe tbody tr th:only-of-type {\n",
              "        vertical-align: middle;\n",
              "    }\n",
              "\n",
              "    .dataframe tbody tr th {\n",
              "        vertical-align: top;\n",
              "    }\n",
              "\n",
              "    .dataframe thead th {\n",
              "        text-align: right;\n",
              "    }\n",
              "</style>\n",
              "<table border=\"1\" class=\"dataframe\">\n",
              "  <thead>\n",
              "    <tr style=\"text-align: right;\">\n",
              "      <th></th>\n",
              "      <th>CODE_CULTU_2015</th>\n",
              "      <th>CODE_GROUP_2015</th>\n",
              "      <th>centroid</th>\n",
              "      <th>CODE_CULTU_2016</th>\n",
              "      <th>CODE_GROUP_2016</th>\n",
              "      <th>CODE_CULTU_2017</th>\n",
              "      <th>CODE_GROUP_2017</th>\n",
              "      <th>CODE_CULTU_2018</th>\n",
              "      <th>CODE_GROUP_2018</th>\n",
              "    </tr>\n",
              "  </thead>\n",
              "  <tbody>\n",
              "    <tr>\n",
              "      <th>0</th>\n",
              "      <td>PPH</td>\n",
              "      <td>18</td>\n",
              "      <td>Point (882657.94895066 6569342.10998129)</td>\n",
              "      <td>PPH</td>\n",
              "      <td>18</td>\n",
              "      <td>PPH</td>\n",
              "      <td>18</td>\n",
              "      <td>PPH</td>\n",
              "      <td>18</td>\n",
              "    </tr>\n",
              "    <tr>\n",
              "      <th>1</th>\n",
              "      <td>PPH</td>\n",
              "      <td>18</td>\n",
              "      <td>Point (882115.97784605 6572755.67171272)</td>\n",
              "      <td>PPH</td>\n",
              "      <td>18</td>\n",
              "      <td>PPH</td>\n",
              "      <td>18</td>\n",
              "      <td>PPH</td>\n",
              "      <td>18</td>\n",
              "    </tr>\n",
              "  </tbody>\n",
              "</table>\n",
              "</div>"
            ],
            "text/plain": [
              "  CODE_CULTU_2015  CODE_GROUP_2015  ... CODE_CULTU_2018 CODE_GROUP_2018\n",
              "0             PPH               18  ...             PPH              18\n",
              "1             PPH               18  ...             PPH              18\n",
              "\n",
              "[2 rows x 9 columns]"
            ]
          },
          "metadata": {
            "tags": []
          },
          "execution_count": 86
        }
      ]
    },
    {
      "cell_type": "code",
      "metadata": {
        "id": "-tjATX2lZvWF"
      },
      "source": [
        "test2015_2018_phz_kg_ff = pd.read_csv('/content/drive/MyDrive/Хакатон/test2015-2018_phz_kg_ff.csv')"
      ],
      "execution_count": 87,
      "outputs": []
    },
    {
      "cell_type": "code",
      "metadata": {
        "colab": {
          "base_uri": "https://localhost:8080/",
          "height": 406
        },
        "id": "jXHDyQhKZvY5",
        "outputId": "bd3a1f6c-cb40-48cc-e6e6-5d5e1e842d9f"
      },
      "source": [
        "test2015_2018_phz_kg_ff"
      ],
      "execution_count": 88,
      "outputs": [
        {
          "output_type": "execute_result",
          "data": {
            "text/html": [
              "<div>\n",
              "<style scoped>\n",
              "    .dataframe tbody tr th:only-of-type {\n",
              "        vertical-align: middle;\n",
              "    }\n",
              "\n",
              "    .dataframe tbody tr th {\n",
              "        vertical-align: top;\n",
              "    }\n",
              "\n",
              "    .dataframe thead th {\n",
              "        text-align: right;\n",
              "    }\n",
              "</style>\n",
              "<table border=\"1\" class=\"dataframe\">\n",
              "  <thead>\n",
              "    <tr style=\"text-align: right;\">\n",
              "      <th></th>\n",
              "      <th>centroid</th>\n",
              "      <th>hzs</th>\n",
              "      <th>kg_id</th>\n",
              "      <th>ff_id</th>\n",
              "    </tr>\n",
              "  </thead>\n",
              "  <tbody>\n",
              "    <tr>\n",
              "      <th>0</th>\n",
              "      <td>Point (837113.21815327 6542642.03294466)</td>\n",
              "      <td>8b</td>\n",
              "      <td>Cfb</td>\n",
              "      <td>ff13</td>\n",
              "    </tr>\n",
              "    <tr>\n",
              "      <th>1</th>\n",
              "      <td>Point (859951.6897682 6548701.23025595)</td>\n",
              "      <td>8b</td>\n",
              "      <td>Cfb</td>\n",
              "      <td>ff13</td>\n",
              "    </tr>\n",
              "    <tr>\n",
              "      <th>2</th>\n",
              "      <td>Point (869152.69888415 6554341.41204209)</td>\n",
              "      <td>8b</td>\n",
              "      <td>Cfb</td>\n",
              "      <td>ff13</td>\n",
              "    </tr>\n",
              "    <tr>\n",
              "      <th>3</th>\n",
              "      <td>Point (843914.62975223 6570993.98124897)</td>\n",
              "      <td>8b</td>\n",
              "      <td>Cfb</td>\n",
              "      <td>ff13</td>\n",
              "    </tr>\n",
              "    <tr>\n",
              "      <th>4</th>\n",
              "      <td>Point (842372.94899233 6570245.72791538)</td>\n",
              "      <td>8b</td>\n",
              "      <td>Cfb</td>\n",
              "      <td>ff13</td>\n",
              "    </tr>\n",
              "    <tr>\n",
              "      <th>...</th>\n",
              "      <td>...</td>\n",
              "      <td>...</td>\n",
              "      <td>...</td>\n",
              "      <td>...</td>\n",
              "    </tr>\n",
              "    <tr>\n",
              "      <th>401490</th>\n",
              "      <td>Point (464629.98946606 6207835.49881565)</td>\n",
              "      <td>6a</td>\n",
              "      <td>ET</td>\n",
              "      <td>ff5</td>\n",
              "    </tr>\n",
              "    <tr>\n",
              "      <th>401491</th>\n",
              "      <td>Point (464742.14669457 6210914.3467607)</td>\n",
              "      <td>6a</td>\n",
              "      <td>ET</td>\n",
              "      <td>ff5</td>\n",
              "    </tr>\n",
              "    <tr>\n",
              "      <th>401492</th>\n",
              "      <td>Point (467190.57989509 6200166.76301246)</td>\n",
              "      <td>5b</td>\n",
              "      <td>ET</td>\n",
              "      <td>ff5</td>\n",
              "    </tr>\n",
              "    <tr>\n",
              "      <th>401493</th>\n",
              "      <td>Point (467425.07238401 6200107.01837806)</td>\n",
              "      <td>5b</td>\n",
              "      <td>ET</td>\n",
              "      <td>ff5</td>\n",
              "    </tr>\n",
              "    <tr>\n",
              "      <th>401494</th>\n",
              "      <td>Point (466266.1317302 6202083.68340251)</td>\n",
              "      <td>5b</td>\n",
              "      <td>ET</td>\n",
              "      <td>ff5</td>\n",
              "    </tr>\n",
              "  </tbody>\n",
              "</table>\n",
              "<p>401495 rows × 4 columns</p>\n",
              "</div>"
            ],
            "text/plain": [
              "                                        centroid hzs kg_id ff_id\n",
              "0       Point (837113.21815327 6542642.03294466)  8b   Cfb  ff13\n",
              "1        Point (859951.6897682 6548701.23025595)  8b   Cfb  ff13\n",
              "2       Point (869152.69888415 6554341.41204209)  8b   Cfb  ff13\n",
              "3       Point (843914.62975223 6570993.98124897)  8b   Cfb  ff13\n",
              "4       Point (842372.94899233 6570245.72791538)  8b   Cfb  ff13\n",
              "...                                          ...  ..   ...   ...\n",
              "401490  Point (464629.98946606 6207835.49881565)  6a    ET   ff5\n",
              "401491   Point (464742.14669457 6210914.3467607)  6a    ET   ff5\n",
              "401492  Point (467190.57989509 6200166.76301246)  5b    ET   ff5\n",
              "401493  Point (467425.07238401 6200107.01837806)  5b    ET   ff5\n",
              "401494   Point (466266.1317302 6202083.68340251)  5b    ET   ff5\n",
              "\n",
              "[401495 rows x 4 columns]"
            ]
          },
          "metadata": {
            "tags": []
          },
          "execution_count": 88
        }
      ]
    },
    {
      "cell_type": "code",
      "metadata": {
        "id": "3Oft-w5GaNGw"
      },
      "source": [
        "test2015_2018 = pd.merge(test2015_2018, test2015_2018_phz_kg_ff,  how='left', left_on=['centroid'], right_on = ['centroid'])"
      ],
      "execution_count": 89,
      "outputs": []
    },
    {
      "cell_type": "code",
      "metadata": {
        "colab": {
          "base_uri": "https://localhost:8080/",
          "height": 141
        },
        "id": "cyWl3B6kaNqz",
        "outputId": "0d9995c7-0b5b-42ba-c4db-76e2bfa3158a"
      },
      "source": [
        "test2015_2018.head(2)"
      ],
      "execution_count": 91,
      "outputs": [
        {
          "output_type": "execute_result",
          "data": {
            "text/html": [
              "<div>\n",
              "<style scoped>\n",
              "    .dataframe tbody tr th:only-of-type {\n",
              "        vertical-align: middle;\n",
              "    }\n",
              "\n",
              "    .dataframe tbody tr th {\n",
              "        vertical-align: top;\n",
              "    }\n",
              "\n",
              "    .dataframe thead th {\n",
              "        text-align: right;\n",
              "    }\n",
              "</style>\n",
              "<table border=\"1\" class=\"dataframe\">\n",
              "  <thead>\n",
              "    <tr style=\"text-align: right;\">\n",
              "      <th></th>\n",
              "      <th>CODE_CULTU_2015</th>\n",
              "      <th>CODE_GROUP_2015</th>\n",
              "      <th>centroid</th>\n",
              "      <th>CODE_CULTU_2016</th>\n",
              "      <th>CODE_GROUP_2016</th>\n",
              "      <th>CODE_CULTU_2017</th>\n",
              "      <th>CODE_GROUP_2017</th>\n",
              "      <th>CODE_CULTU_2018</th>\n",
              "      <th>CODE_GROUP_2018</th>\n",
              "      <th>hzs</th>\n",
              "      <th>kg_id</th>\n",
              "      <th>ff_id</th>\n",
              "    </tr>\n",
              "  </thead>\n",
              "  <tbody>\n",
              "    <tr>\n",
              "      <th>0</th>\n",
              "      <td>PPH</td>\n",
              "      <td>18</td>\n",
              "      <td>Point (882657.94895066 6569342.10998129)</td>\n",
              "      <td>PPH</td>\n",
              "      <td>18</td>\n",
              "      <td>PPH</td>\n",
              "      <td>18</td>\n",
              "      <td>PPH</td>\n",
              "      <td>18</td>\n",
              "      <td>8b</td>\n",
              "      <td>Cfb</td>\n",
              "      <td>ff13</td>\n",
              "    </tr>\n",
              "    <tr>\n",
              "      <th>1</th>\n",
              "      <td>PPH</td>\n",
              "      <td>18</td>\n",
              "      <td>Point (882115.97784605 6572755.67171272)</td>\n",
              "      <td>PPH</td>\n",
              "      <td>18</td>\n",
              "      <td>PPH</td>\n",
              "      <td>18</td>\n",
              "      <td>PPH</td>\n",
              "      <td>18</td>\n",
              "      <td>8b</td>\n",
              "      <td>Cfb</td>\n",
              "      <td>ff13</td>\n",
              "    </tr>\n",
              "  </tbody>\n",
              "</table>\n",
              "</div>"
            ],
            "text/plain": [
              "  CODE_CULTU_2015  CODE_GROUP_2015  ... kg_id ff_id\n",
              "0             PPH               18  ...   Cfb  ff13\n",
              "1             PPH               18  ...   Cfb  ff13\n",
              "\n",
              "[2 rows x 12 columns]"
            ]
          },
          "metadata": {
            "tags": []
          },
          "execution_count": 91
        }
      ]
    },
    {
      "cell_type": "code",
      "metadata": {
        "id": "tl4mqt8OaN7_"
      },
      "source": [
        "test2015_2018_rot = pd.read_csv('/content/drive/MyDrive/Хакатон/Хакатонtest.csv')"
      ],
      "execution_count": 92,
      "outputs": []
    },
    {
      "cell_type": "code",
      "metadata": {
        "id": "Cc2qCK0SkDMr"
      },
      "source": [
        "test2015_2018 = pd.merge(test2015_2018, test2015_2018_rot,  how='left', left_on=['centroid'], right_on = ['centroid'])"
      ],
      "execution_count": 93,
      "outputs": []
    },
    {
      "cell_type": "code",
      "metadata": {
        "colab": {
          "base_uri": "https://localhost:8080/",
          "height": 194
        },
        "id": "p5smtK_xkDUc",
        "outputId": "a579d1ec-4c8a-476b-923d-4298fbb56162"
      },
      "source": [
        "test2015_2018.head(2)"
      ],
      "execution_count": 94,
      "outputs": [
        {
          "output_type": "execute_result",
          "data": {
            "text/html": [
              "<div>\n",
              "<style scoped>\n",
              "    .dataframe tbody tr th:only-of-type {\n",
              "        vertical-align: middle;\n",
              "    }\n",
              "\n",
              "    .dataframe tbody tr th {\n",
              "        vertical-align: top;\n",
              "    }\n",
              "\n",
              "    .dataframe thead th {\n",
              "        text-align: right;\n",
              "    }\n",
              "</style>\n",
              "<table border=\"1\" class=\"dataframe\">\n",
              "  <thead>\n",
              "    <tr style=\"text-align: right;\">\n",
              "      <th></th>\n",
              "      <th>CODE_CULTU_2015</th>\n",
              "      <th>CODE_GROUP_2015</th>\n",
              "      <th>centroid</th>\n",
              "      <th>CODE_CULTU_2016</th>\n",
              "      <th>CODE_GROUP_2016</th>\n",
              "      <th>CODE_CULTU_2017</th>\n",
              "      <th>CODE_GROUP_2017</th>\n",
              "      <th>CODE_CULTU_2018</th>\n",
              "      <th>CODE_GROUP_2018</th>\n",
              "      <th>hzs</th>\n",
              "      <th>kg_id</th>\n",
              "      <th>ff_id</th>\n",
              "      <th>2015</th>\n",
              "      <th>2016</th>\n",
              "      <th>2017</th>\n",
              "      <th>2018</th>\n",
              "      <th>RotationLength</th>\n",
              "      <th>RotationCount</th>\n",
              "    </tr>\n",
              "  </thead>\n",
              "  <tbody>\n",
              "    <tr>\n",
              "      <th>0</th>\n",
              "      <td>PPH</td>\n",
              "      <td>18</td>\n",
              "      <td>Point (882657.94895066 6569342.10998129)</td>\n",
              "      <td>PPH</td>\n",
              "      <td>18</td>\n",
              "      <td>PPH</td>\n",
              "      <td>18</td>\n",
              "      <td>PPH</td>\n",
              "      <td>18</td>\n",
              "      <td>8b</td>\n",
              "      <td>Cfb</td>\n",
              "      <td>ff13</td>\n",
              "      <td>PPH</td>\n",
              "      <td>PPH</td>\n",
              "      <td>PPH</td>\n",
              "      <td>PPH</td>\n",
              "      <td>1</td>\n",
              "      <td>4</td>\n",
              "    </tr>\n",
              "    <tr>\n",
              "      <th>1</th>\n",
              "      <td>PPH</td>\n",
              "      <td>18</td>\n",
              "      <td>Point (882115.97784605 6572755.67171272)</td>\n",
              "      <td>PPH</td>\n",
              "      <td>18</td>\n",
              "      <td>PPH</td>\n",
              "      <td>18</td>\n",
              "      <td>PPH</td>\n",
              "      <td>18</td>\n",
              "      <td>8b</td>\n",
              "      <td>Cfb</td>\n",
              "      <td>ff13</td>\n",
              "      <td>PPH</td>\n",
              "      <td>PPH</td>\n",
              "      <td>PPH</td>\n",
              "      <td>PPH</td>\n",
              "      <td>1</td>\n",
              "      <td>4</td>\n",
              "    </tr>\n",
              "  </tbody>\n",
              "</table>\n",
              "</div>"
            ],
            "text/plain": [
              "  CODE_CULTU_2015  CODE_GROUP_2015  ... RotationLength RotationCount\n",
              "0             PPH               18  ...              1             4\n",
              "1             PPH               18  ...              1             4\n",
              "\n",
              "[2 rows x 18 columns]"
            ]
          },
          "metadata": {
            "tags": []
          },
          "execution_count": 94
        }
      ]
    },
    {
      "cell_type": "code",
      "metadata": {
        "id": "k5Y7tynpqmqi"
      },
      "source": [
        "g_test = test2015_2018.groupby(['CODE_CULTU_2015','CODE_CULTU_2016','CODE_CULTU_2017','CODE_CULTU_2018']).count()"
      ],
      "execution_count": 95,
      "outputs": []
    },
    {
      "cell_type": "code",
      "metadata": {
        "id": "KKYCcMgqqmqj"
      },
      "source": [
        "gm_test = g_test.add_suffix('').reset_index()"
      ],
      "execution_count": 96,
      "outputs": []
    },
    {
      "cell_type": "code",
      "metadata": {
        "colab": {
          "base_uri": "https://localhost:8080/",
          "height": 127
        },
        "id": "j5ZFn5wsqy1M",
        "outputId": "eb4e7c35-2072-460e-dab0-0b60f51b26e4"
      },
      "source": [
        "gm_test.head(2)"
      ],
      "execution_count": 98,
      "outputs": [
        {
          "output_type": "execute_result",
          "data": {
            "text/html": [
              "<div>\n",
              "<style scoped>\n",
              "    .dataframe tbody tr th:only-of-type {\n",
              "        vertical-align: middle;\n",
              "    }\n",
              "\n",
              "    .dataframe tbody tr th {\n",
              "        vertical-align: top;\n",
              "    }\n",
              "\n",
              "    .dataframe thead th {\n",
              "        text-align: right;\n",
              "    }\n",
              "</style>\n",
              "<table border=\"1\" class=\"dataframe\">\n",
              "  <thead>\n",
              "    <tr style=\"text-align: right;\">\n",
              "      <th></th>\n",
              "      <th>CODE_CULTU_2015</th>\n",
              "      <th>CODE_CULTU_2016</th>\n",
              "      <th>CODE_CULTU_2017</th>\n",
              "      <th>CODE_CULTU_2018</th>\n",
              "      <th>CODE_GROUP_2015</th>\n",
              "      <th>centroid</th>\n",
              "      <th>CODE_GROUP_2016</th>\n",
              "      <th>CODE_GROUP_2017</th>\n",
              "      <th>CODE_GROUP_2018</th>\n",
              "      <th>hzs</th>\n",
              "      <th>kg_id</th>\n",
              "      <th>ff_id</th>\n",
              "      <th>2015</th>\n",
              "      <th>2016</th>\n",
              "      <th>2017</th>\n",
              "      <th>2018</th>\n",
              "      <th>RotationLength</th>\n",
              "      <th>RotationCount</th>\n",
              "    </tr>\n",
              "  </thead>\n",
              "  <tbody>\n",
              "    <tr>\n",
              "      <th>0</th>\n",
              "      <td>ACA</td>\n",
              "      <td>PPH</td>\n",
              "      <td>PPH</td>\n",
              "      <td>PPH</td>\n",
              "      <td>1</td>\n",
              "      <td>1</td>\n",
              "      <td>1</td>\n",
              "      <td>1</td>\n",
              "      <td>1</td>\n",
              "      <td>1</td>\n",
              "      <td>1</td>\n",
              "      <td>1</td>\n",
              "      <td>1</td>\n",
              "      <td>1</td>\n",
              "      <td>1</td>\n",
              "      <td>1</td>\n",
              "      <td>1</td>\n",
              "      <td>1</td>\n",
              "    </tr>\n",
              "    <tr>\n",
              "      <th>1</th>\n",
              "      <td>AGR</td>\n",
              "      <td>AGR</td>\n",
              "      <td>AGR</td>\n",
              "      <td>AGR</td>\n",
              "      <td>5</td>\n",
              "      <td>5</td>\n",
              "      <td>5</td>\n",
              "      <td>5</td>\n",
              "      <td>5</td>\n",
              "      <td>2</td>\n",
              "      <td>2</td>\n",
              "      <td>2</td>\n",
              "      <td>5</td>\n",
              "      <td>5</td>\n",
              "      <td>5</td>\n",
              "      <td>5</td>\n",
              "      <td>5</td>\n",
              "      <td>5</td>\n",
              "    </tr>\n",
              "  </tbody>\n",
              "</table>\n",
              "</div>"
            ],
            "text/plain": [
              "  CODE_CULTU_2015 CODE_CULTU_2016  ... RotationLength RotationCount\n",
              "0             ACA             PPH  ...              1             1\n",
              "1             AGR             AGR  ...              5             5\n",
              "\n",
              "[2 rows x 18 columns]"
            ]
          },
          "metadata": {
            "tags": []
          },
          "execution_count": 98
        }
      ]
    },
    {
      "cell_type": "code",
      "metadata": {
        "id": "plUGQ3l_yT9_"
      },
      "source": [
        "gm_pred_g2 = gm_pred.drop_duplicates(['CODE_CULTU_2019_y'])"
      ],
      "execution_count": 99,
      "outputs": []
    },
    {
      "cell_type": "code",
      "metadata": {
        "colab": {
          "base_uri": "https://localhost:8080/",
          "height": 107
        },
        "id": "HcpKaMNpyFeA",
        "outputId": "8b3c4917-0714-43bf-dd76-6f3abd552ebd"
      },
      "source": [
        "gm_pred_g2.head(2)"
      ],
      "execution_count": 100,
      "outputs": [
        {
          "output_type": "execute_result",
          "data": {
            "text/html": [
              "<div>\n",
              "<style scoped>\n",
              "    .dataframe tbody tr th:only-of-type {\n",
              "        vertical-align: middle;\n",
              "    }\n",
              "\n",
              "    .dataframe tbody tr th {\n",
              "        vertical-align: top;\n",
              "    }\n",
              "\n",
              "    .dataframe thead th {\n",
              "        text-align: right;\n",
              "    }\n",
              "</style>\n",
              "<table border=\"1\" class=\"dataframe\">\n",
              "  <thead>\n",
              "    <tr style=\"text-align: right;\">\n",
              "      <th></th>\n",
              "      <th>CODE_CULTU_2015</th>\n",
              "      <th>CODE_CULTU_2016</th>\n",
              "      <th>CODE_CULTU_2017</th>\n",
              "      <th>CODE_CULTU_2018</th>\n",
              "      <th>CODE_CULTU_2019_y</th>\n",
              "    </tr>\n",
              "  </thead>\n",
              "  <tbody>\n",
              "    <tr>\n",
              "      <th>0</th>\n",
              "      <td>ACA</td>\n",
              "      <td>FLA</td>\n",
              "      <td>FLA</td>\n",
              "      <td>FLA</td>\n",
              "      <td>FLA</td>\n",
              "    </tr>\n",
              "    <tr>\n",
              "      <th>1</th>\n",
              "      <td>ACA</td>\n",
              "      <td>FLP</td>\n",
              "      <td>FLP</td>\n",
              "      <td>FLP</td>\n",
              "      <td>FLP</td>\n",
              "    </tr>\n",
              "  </tbody>\n",
              "</table>\n",
              "</div>"
            ],
            "text/plain": [
              "  CODE_CULTU_2015 CODE_CULTU_2016  ... CODE_CULTU_2018 CODE_CULTU_2019_y\n",
              "0             ACA             FLA  ...             FLA               FLA\n",
              "1             ACA             FLP  ...             FLP               FLP\n",
              "\n",
              "[2 rows x 5 columns]"
            ]
          },
          "metadata": {
            "tags": []
          },
          "execution_count": 100
        }
      ]
    },
    {
      "cell_type": "code",
      "metadata": {
        "id": "djrqt2ngdW38"
      },
      "source": [
        "gm_test_pred = pd.merge(gm_test, gm_pred,  how='left', left_on=['CODE_CULTU_2015','CODE_CULTU_2016','CODE_CULTU_2017','CODE_CULTU_2018'], right_on = ['CODE_CULTU_2015','CODE_CULTU_2016','CODE_CULTU_2017','CODE_CULTU_2018'])\r\n"
      ],
      "execution_count": 101,
      "outputs": []
    },
    {
      "cell_type": "code",
      "metadata": {
        "id": "_9bCQ_cNdW39"
      },
      "source": [
        "gm_test_pred = gm_test_pred.reindex(columns=['CODE_CULTU_2015','CODE_CULTU_2016','CODE_CULTU_2017','CODE_CULTU_2018','CODE_CULTU_2019_y'])"
      ],
      "execution_count": 102,
      "outputs": []
    },
    {
      "cell_type": "code",
      "metadata": {
        "colab": {
          "base_uri": "https://localhost:8080/"
        },
        "id": "MA9AbLEIqOWI",
        "outputId": "0e2635da-88b4-476a-842a-a0503e342c99"
      },
      "source": [
        "gm_test_pred['CODE_CULTU_2019_y'].value_counts()"
      ],
      "execution_count": 103,
      "outputs": [
        {
          "output_type": "execute_result",
          "data": {
            "text/plain": [
              "BTH    683\n",
              "PTR    444\n",
              "LUZ    250\n",
              "MLG    219\n",
              "MIS    215\n",
              "      ... \n",
              "AGR      1\n",
              "PAG      1\n",
              "PWT      1\n",
              "CRD      1\n",
              "PAT      1\n",
              "Name: CODE_CULTU_2019_y, Length: 144, dtype: int64"
            ]
          },
          "metadata": {
            "tags": []
          },
          "execution_count": 103
        }
      ]
    },
    {
      "cell_type": "code",
      "metadata": {
        "id": "YkPNa_y2dW4E"
      },
      "source": [
        "test_pred = pd.merge(test2015_2018, gm_test_pred,  how='left', left_on=['CODE_CULTU_2015','CODE_CULTU_2016','CODE_CULTU_2017','CODE_CULTU_2018'], right_on = ['CODE_CULTU_2015','CODE_CULTU_2016','CODE_CULTU_2017','CODE_CULTU_2018'])"
      ],
      "execution_count": 104,
      "outputs": []
    },
    {
      "cell_type": "code",
      "metadata": {
        "colab": {
          "base_uri": "https://localhost:8080/"
        },
        "id": "D63IjToHdW4F",
        "outputId": "bfb90a7d-a22b-4562-d96e-ac1e94af21f8"
      },
      "source": [
        "test_pred['CODE_CULTU_2019_y'].value_counts()"
      ],
      "execution_count": 105,
      "outputs": [
        {
          "output_type": "execute_result",
          "data": {
            "text/plain": [
              "BTH    735\n",
              "PTR    462\n",
              "LUZ    263\n",
              "MLG    244\n",
              "MIS    225\n",
              "      ... \n",
              "EST      1\n",
              "PAT      1\n",
              "FNO      1\n",
              "LEF      1\n",
              "TCR      1\n",
              "Name: CODE_CULTU_2019_y, Length: 144, dtype: int64"
            ]
          },
          "metadata": {
            "tags": []
          },
          "execution_count": 105
        }
      ]
    },
    {
      "cell_type": "code",
      "metadata": {
        "id": "s86BoReIdW4F"
      },
      "source": [
        "test_part1 = test_pred[test_pred.CODE_CULTU_2019_y.notnull()].copy()"
      ],
      "execution_count": 106,
      "outputs": []
    },
    {
      "cell_type": "code",
      "metadata": {
        "colab": {
          "base_uri": "https://localhost:8080/",
          "height": 194
        },
        "id": "tUfT1xjmdW4G",
        "outputId": "4821aacd-7e85-44e4-c9c7-52582cffa266"
      },
      "source": [
        "test_part1.head(2)"
      ],
      "execution_count": 107,
      "outputs": [
        {
          "output_type": "execute_result",
          "data": {
            "text/html": [
              "<div>\n",
              "<style scoped>\n",
              "    .dataframe tbody tr th:only-of-type {\n",
              "        vertical-align: middle;\n",
              "    }\n",
              "\n",
              "    .dataframe tbody tr th {\n",
              "        vertical-align: top;\n",
              "    }\n",
              "\n",
              "    .dataframe thead th {\n",
              "        text-align: right;\n",
              "    }\n",
              "</style>\n",
              "<table border=\"1\" class=\"dataframe\">\n",
              "  <thead>\n",
              "    <tr style=\"text-align: right;\">\n",
              "      <th></th>\n",
              "      <th>CODE_CULTU_2015</th>\n",
              "      <th>CODE_GROUP_2015</th>\n",
              "      <th>centroid</th>\n",
              "      <th>CODE_CULTU_2016</th>\n",
              "      <th>CODE_GROUP_2016</th>\n",
              "      <th>CODE_CULTU_2017</th>\n",
              "      <th>CODE_GROUP_2017</th>\n",
              "      <th>CODE_CULTU_2018</th>\n",
              "      <th>CODE_GROUP_2018</th>\n",
              "      <th>hzs</th>\n",
              "      <th>kg_id</th>\n",
              "      <th>ff_id</th>\n",
              "      <th>2015</th>\n",
              "      <th>2016</th>\n",
              "      <th>2017</th>\n",
              "      <th>2018</th>\n",
              "      <th>RotationLength</th>\n",
              "      <th>RotationCount</th>\n",
              "      <th>CODE_CULTU_2019_y</th>\n",
              "    </tr>\n",
              "  </thead>\n",
              "  <tbody>\n",
              "    <tr>\n",
              "      <th>290</th>\n",
              "      <td>MLG</td>\n",
              "      <td>16</td>\n",
              "      <td>Point (904995.49612915 6521680.81797805)</td>\n",
              "      <td>MIE</td>\n",
              "      <td>2</td>\n",
              "      <td>MPC</td>\n",
              "      <td>8</td>\n",
              "      <td>MIE</td>\n",
              "      <td>2</td>\n",
              "      <td>8b</td>\n",
              "      <td>Dfc</td>\n",
              "      <td>ff13</td>\n",
              "      <td>MLG</td>\n",
              "      <td>MIE</td>\n",
              "      <td>MPC</td>\n",
              "      <td>MIE</td>\n",
              "      <td>3</td>\n",
              "      <td>1</td>\n",
              "      <td>MCR</td>\n",
              "    </tr>\n",
              "    <tr>\n",
              "      <th>372</th>\n",
              "      <td>ORH</td>\n",
              "      <td>3</td>\n",
              "      <td>Point (897295.88784029 6521430.88754548)</td>\n",
              "      <td>TTH</td>\n",
              "      <td>4</td>\n",
              "      <td>ORH</td>\n",
              "      <td>3</td>\n",
              "      <td>LU7</td>\n",
              "      <td>16</td>\n",
              "      <td>8a</td>\n",
              "      <td>Dfc</td>\n",
              "      <td>ff13</td>\n",
              "      <td>ORH</td>\n",
              "      <td>TTH</td>\n",
              "      <td>ORH</td>\n",
              "      <td>LU7</td>\n",
              "      <td>3</td>\n",
              "      <td>1</td>\n",
              "      <td>LUZ</td>\n",
              "    </tr>\n",
              "  </tbody>\n",
              "</table>\n",
              "</div>"
            ],
            "text/plain": [
              "    CODE_CULTU_2015  CODE_GROUP_2015  ... RotationCount CODE_CULTU_2019_y\n",
              "290             MLG               16  ...             1               MCR\n",
              "372             ORH                3  ...             1               LUZ\n",
              "\n",
              "[2 rows x 19 columns]"
            ]
          },
          "metadata": {
            "tags": []
          },
          "execution_count": 107
        }
      ]
    },
    {
      "cell_type": "code",
      "metadata": {
        "id": "vkpQk7fYdW4H"
      },
      "source": [
        "test_part2 = test_pred[test_pred.CODE_CULTU_2019_y.isna()].copy()"
      ],
      "execution_count": 108,
      "outputs": []
    },
    {
      "cell_type": "code",
      "metadata": {
        "id": "0l4W0JVTeQj_"
      },
      "source": [
        "test_part2['CODE_CULTU_2019_y'] = test_part2.apply(lambda x: predict_next_culture_4_years_list(x['CODE_CULTU_2015'],x['CODE_CULTU_2016'],x['CODE_CULTU_2017'],x['CODE_CULTU_2018']), axis=1, result_type='expand')"
      ],
      "execution_count": 109,
      "outputs": []
    },
    {
      "cell_type": "code",
      "metadata": {
        "colab": {
          "base_uri": "https://localhost:8080/"
        },
        "id": "bWN8m_UleQkC",
        "outputId": "70b8ede8-86bc-43f6-e5b7-bd7d61dcc76f"
      },
      "source": [
        "test_part2['CODE_CULTU_2019_y'].value_counts()"
      ],
      "execution_count": 110,
      "outputs": [
        {
          "output_type": "execute_result",
          "data": {
            "text/plain": [
              "Unknown    166549\n",
              "PPH        118597\n",
              "VRC         19986\n",
              "J6S         11119\n",
              "SNE          9443\n",
              "            ...  \n",
              "RDF             1\n",
              "FFO             1\n",
              "TRD             1\n",
              "CCT             1\n",
              "SA5             1\n",
              "Name: CODE_CULTU_2019_y, Length: 145, dtype: int64"
            ]
          },
          "metadata": {
            "tags": []
          },
          "execution_count": 110
        }
      ]
    },
    {
      "cell_type": "code",
      "metadata": {
        "id": "7fEQ8s0XeZ9W"
      },
      "source": [
        "test_part3 = test_part2[test_part2['CODE_CULTU_2019_y'] == 'Unknown']"
      ],
      "execution_count": 111,
      "outputs": []
    },
    {
      "cell_type": "code",
      "metadata": {
        "colab": {
          "base_uri": "https://localhost:8080/",
          "height": 194
        },
        "id": "ffONjPq-r0Ht",
        "outputId": "6271d9dd-867e-41c6-f234-979d94d8b6f2"
      },
      "source": [
        "test_part3.head(2)"
      ],
      "execution_count": 112,
      "outputs": [
        {
          "output_type": "execute_result",
          "data": {
            "text/html": [
              "<div>\n",
              "<style scoped>\n",
              "    .dataframe tbody tr th:only-of-type {\n",
              "        vertical-align: middle;\n",
              "    }\n",
              "\n",
              "    .dataframe tbody tr th {\n",
              "        vertical-align: top;\n",
              "    }\n",
              "\n",
              "    .dataframe thead th {\n",
              "        text-align: right;\n",
              "    }\n",
              "</style>\n",
              "<table border=\"1\" class=\"dataframe\">\n",
              "  <thead>\n",
              "    <tr style=\"text-align: right;\">\n",
              "      <th></th>\n",
              "      <th>CODE_CULTU_2015</th>\n",
              "      <th>CODE_GROUP_2015</th>\n",
              "      <th>centroid</th>\n",
              "      <th>CODE_CULTU_2016</th>\n",
              "      <th>CODE_GROUP_2016</th>\n",
              "      <th>CODE_CULTU_2017</th>\n",
              "      <th>CODE_GROUP_2017</th>\n",
              "      <th>CODE_CULTU_2018</th>\n",
              "      <th>CODE_GROUP_2018</th>\n",
              "      <th>hzs</th>\n",
              "      <th>kg_id</th>\n",
              "      <th>ff_id</th>\n",
              "      <th>2015</th>\n",
              "      <th>2016</th>\n",
              "      <th>2017</th>\n",
              "      <th>2018</th>\n",
              "      <th>RotationLength</th>\n",
              "      <th>RotationCount</th>\n",
              "      <th>CODE_CULTU_2019_y</th>\n",
              "    </tr>\n",
              "  </thead>\n",
              "  <tbody>\n",
              "    <tr>\n",
              "      <th>2</th>\n",
              "      <td>TTH</td>\n",
              "      <td>4</td>\n",
              "      <td>Point (881577.18757373 6569639.00274748)</td>\n",
              "      <td>ORH</td>\n",
              "      <td>3</td>\n",
              "      <td>TTH</td>\n",
              "      <td>4</td>\n",
              "      <td>SGH</td>\n",
              "      <td>4</td>\n",
              "      <td>8b</td>\n",
              "      <td>Cfb</td>\n",
              "      <td>ff13</td>\n",
              "      <td>TTH</td>\n",
              "      <td>ORH</td>\n",
              "      <td>TTH</td>\n",
              "      <td>SGH</td>\n",
              "      <td>3</td>\n",
              "      <td>1</td>\n",
              "      <td>Unknown</td>\n",
              "    </tr>\n",
              "    <tr>\n",
              "      <th>14</th>\n",
              "      <td>MIE</td>\n",
              "      <td>2</td>\n",
              "      <td>Point (937384.1439264 6587125.63904581)</td>\n",
              "      <td>BTH</td>\n",
              "      <td>1</td>\n",
              "      <td>BTH</td>\n",
              "      <td>1</td>\n",
              "      <td>MIE</td>\n",
              "      <td>2</td>\n",
              "      <td>8b</td>\n",
              "      <td>Cfb</td>\n",
              "      <td>ff11</td>\n",
              "      <td>MIE</td>\n",
              "      <td>BTH</td>\n",
              "      <td>BTH</td>\n",
              "      <td>MIE</td>\n",
              "      <td>2</td>\n",
              "      <td>2</td>\n",
              "      <td>Unknown</td>\n",
              "    </tr>\n",
              "  </tbody>\n",
              "</table>\n",
              "</div>"
            ],
            "text/plain": [
              "   CODE_CULTU_2015  CODE_GROUP_2015  ... RotationCount CODE_CULTU_2019_y\n",
              "2              TTH                4  ...             1           Unknown\n",
              "14             MIE                2  ...             2           Unknown\n",
              "\n",
              "[2 rows x 19 columns]"
            ]
          },
          "metadata": {
            "tags": []
          },
          "execution_count": 112
        }
      ]
    },
    {
      "cell_type": "code",
      "metadata": {
        "id": "N5ZcSBx8romO"
      },
      "source": [
        "test_part3 = test_part3.add_suffix('').reset_index()"
      ],
      "execution_count": 113,
      "outputs": []
    },
    {
      "cell_type": "code",
      "metadata": {
        "id": "ud6H4QGrbhAt"
      },
      "source": [
        "X_test = test_part3[['RotationLength', 'RotationCount',\r\n",
        "       'CODE_CULTU_2015', 'CODE_CULTU_2016', 'CODE_CULTU_2017',\r\n",
        "       'CODE_CULTU_2018', 'CODE_GROUP_2015',\r\n",
        "       'CODE_GROUP_2016', 'CODE_GROUP_2017', 'CODE_GROUP_2018',\r\n",
        "       'hzs', 'kg_id', 'ff_id']]\r\n",
        "\r\n",
        "\r\n",
        "X_test = X_test.replace(np.nan, 'unknown', regex=True)"
      ],
      "execution_count": 114,
      "outputs": []
    },
    {
      "cell_type": "code",
      "metadata": {
        "id": "i5Uw_TdRk52v"
      },
      "source": [
        "cat_features_test = [2, 3, 4, 5, 6, 7, 8, 9, 10, 11, 12]"
      ],
      "execution_count": 115,
      "outputs": []
    },
    {
      "cell_type": "code",
      "metadata": {
        "id": "OsqYTgYNk52w"
      },
      "source": [
        "test_dataset2 = Pool(data=X_test,\r\n",
        "                    cat_features=cat_features_test)\r\n",
        "\r\n",
        "\r\n",
        "# Get predicted classes\r\n",
        "preds_class2 = model2.predict(test_dataset2)\r\n",
        "# Get predicted probabilities for each class\r\n",
        "#preds_proba2 = model2.predict_proba(eval_dataset2)\r\n",
        "# Get predicted RawFormulaVal\r\n",
        "#preds_raw2 = model2.predict(eval_dataset2, prediction_type='RawFormulaVal')"
      ],
      "execution_count": 116,
      "outputs": []
    },
    {
      "cell_type": "code",
      "metadata": {
        "id": "yPox4OdSmJ2F"
      },
      "source": [
        "test_part3['CODE_CULTU_2019_y'] = preds_class2"
      ],
      "execution_count": 117,
      "outputs": []
    },
    {
      "cell_type": "code",
      "metadata": {
        "id": "o88G99YHmwx_"
      },
      "source": [
        "test_part2_2 = test_part2[test_part2['CODE_CULTU_2019_y'] != 'Unknown']"
      ],
      "execution_count": 118,
      "outputs": []
    },
    {
      "cell_type": "code",
      "metadata": {
        "id": "8uuPCZfymwyE"
      },
      "source": [
        "###Корректировка явных ошибок CatBoost### (Предсказание значения, которое не встречалось в выборке, заменяем на последнее значение в выборке)"
      ],
      "execution_count": null,
      "outputs": []
    },
    {
      "cell_type": "code",
      "metadata": {
        "id": "ByWV2Z0QmwyF"
      },
      "source": [
        "test_part3_1 = test_part3.loc[(test_part3['CODE_CULTU_2019_y'] != test_part3['CODE_CULTU_2015']) & (test_part3['CODE_CULTU_2019_y'] != test_part3['CODE_CULTU_2016']) & (test_part3['CODE_CULTU_2019_y'] != test_part3['CODE_CULTU_2017']) & (test_part3['CODE_CULTU_2019_y'] != test_part3['CODE_CULTU_2018']) ]"
      ],
      "execution_count": 119,
      "outputs": []
    },
    {
      "cell_type": "code",
      "metadata": {
        "id": "FAeJYnzDmwyF"
      },
      "source": [
        "test_part3_2 = test_part3.loc[(test_part3['CODE_CULTU_2019_y'] == test_part3['CODE_CULTU_2015']) | (test_part3['CODE_CULTU_2019_y'] == test_part3['CODE_CULTU_2016']) | (test_part3['CODE_CULTU_2019_y'] == test_part3['CODE_CULTU_2017']) | (test_part3['CODE_CULTU_2019_y'] == test_part3['CODE_CULTU_2018']) ]"
      ],
      "execution_count": 120,
      "outputs": []
    },
    {
      "cell_type": "code",
      "metadata": {
        "colab": {
          "base_uri": "https://localhost:8080/"
        },
        "id": "LRAkQP8WmwyF",
        "outputId": "3b105a53-f183-43b6-cb35-9fd773b1afb4"
      },
      "source": [
        "test_part3_1['CODE_CULTU_2019_y'] = test_part3_1['CODE_CULTU_2018']"
      ],
      "execution_count": 121,
      "outputs": [
        {
          "output_type": "stream",
          "text": [
            "/usr/local/lib/python3.7/dist-packages/ipykernel_launcher.py:1: SettingWithCopyWarning: \n",
            "A value is trying to be set on a copy of a slice from a DataFrame.\n",
            "Try using .loc[row_indexer,col_indexer] = value instead\n",
            "\n",
            "See the caveats in the documentation: https://pandas.pydata.org/pandas-docs/stable/user_guide/indexing.html#returning-a-view-versus-a-copy\n",
            "  \"\"\"Entry point for launching an IPython kernel.\n"
          ],
          "name": "stderr"
        }
      ]
    },
    {
      "cell_type": "code",
      "metadata": {
        "id": "4gHug_vnmwyG"
      },
      "source": [
        "final_data_test = pd.concat([test_part1,test_part2_2,test_part3_1,test_part3_2])"
      ],
      "execution_count": 122,
      "outputs": []
    },
    {
      "cell_type": "code",
      "metadata": {
        "id": "sScG0uXUttc4"
      },
      "source": [
        "pd.DataFrame(final_data_test[['centroid','CODE_CULTU_2019_y']]).to_csv(\"/content/drive/MyDrive/Хакатон/predict2019.csv\",index=False,header=True)"
      ],
      "execution_count": null,
      "outputs": []
    }
  ]
}