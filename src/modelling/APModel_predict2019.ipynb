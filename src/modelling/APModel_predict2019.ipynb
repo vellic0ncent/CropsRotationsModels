{
  "nbformat": 4,
  "nbformat_minor": 0,
  "metadata": {
    "colab": {
      "name": "DVHB_APModel_Predict2019_Edited.ipynb",
      "provenance": [],
      "collapsed_sections": [
        "g3t2dkRlJZ-B"
      ],
      "toc_visible": true,
      "machine_shape": "hm"
    },
    "kernelspec": {
      "name": "python3",
      "display_name": "Python 3"
    },
    "accelerator": "GPU"
  },
  "cells": [
    {
      "cell_type": "markdown",
      "metadata": {
        "id": "RhUDGFMR6WhI"
      },
      "source": [
        "##Установка и импортирование библиотек##\n",
        "\n"
      ]
    },
    {
      "cell_type": "code",
      "metadata": {
        "colab": {
          "base_uri": "https://localhost:8080/"
        },
        "id": "YHGInIS56er7",
        "outputId": "d57ae08b-9804-4c61-d1bf-2cb96b7faac3"
      },
      "source": [
        "!pip install catboost"
      ],
      "execution_count": 2,
      "outputs": [
        {
          "output_type": "stream",
          "text": [
            "Requirement already satisfied: catboost in /usr/local/lib/python3.7/dist-packages (0.24.4)\n",
            "Requirement already satisfied: numpy>=1.16.0 in /usr/local/lib/python3.7/dist-packages (from catboost) (1.19.5)\n",
            "Requirement already satisfied: pandas>=0.24.0 in /usr/local/lib/python3.7/dist-packages (from catboost) (1.1.5)\n",
            "Requirement already satisfied: scipy in /usr/local/lib/python3.7/dist-packages (from catboost) (1.4.1)\n",
            "Requirement already satisfied: graphviz in /usr/local/lib/python3.7/dist-packages (from catboost) (0.10.1)\n",
            "Requirement already satisfied: matplotlib in /usr/local/lib/python3.7/dist-packages (from catboost) (3.2.2)\n",
            "Requirement already satisfied: six in /usr/local/lib/python3.7/dist-packages (from catboost) (1.15.0)\n",
            "Requirement already satisfied: plotly in /usr/local/lib/python3.7/dist-packages (from catboost) (4.4.1)\n",
            "Requirement already satisfied: pytz>=2017.2 in /usr/local/lib/python3.7/dist-packages (from pandas>=0.24.0->catboost) (2018.9)\n",
            "Requirement already satisfied: python-dateutil>=2.7.3 in /usr/local/lib/python3.7/dist-packages (from pandas>=0.24.0->catboost) (2.8.1)\n",
            "Requirement already satisfied: pyparsing!=2.0.4,!=2.1.2,!=2.1.6,>=2.0.1 in /usr/local/lib/python3.7/dist-packages (from matplotlib->catboost) (2.4.7)\n",
            "Requirement already satisfied: cycler>=0.10 in /usr/local/lib/python3.7/dist-packages (from matplotlib->catboost) (0.10.0)\n",
            "Requirement already satisfied: kiwisolver>=1.0.1 in /usr/local/lib/python3.7/dist-packages (from matplotlib->catboost) (1.3.1)\n",
            "Requirement already satisfied: retrying>=1.3.3 in /usr/local/lib/python3.7/dist-packages (from plotly->catboost) (1.3.3)\n"
          ],
          "name": "stdout"
        }
      ]
    },
    {
      "cell_type": "code",
      "metadata": {
        "id": "GDExLa4LuMZX"
      },
      "source": [
        "import pandas as pd\n",
        "import numpy as np\n",
        "\n",
        "from sklearn.model_selection import train_test_split, KFold\n",
        "from sklearn.metrics import accuracy_score\n",
        "\n",
        "import catboost as cb\n",
        "from catboost import Pool, CatBoostClassifier\n",
        "from sklearn.model_selection import GridSearchCV\n",
        "\n",
        "from itertools import product, chain\n",
        "\n",
        "#Требуется добавить файл paramsearch.py в проект\n",
        "#from paramsearch import paramsearch"
      ],
      "execution_count": 4,
      "outputs": []
    },
    {
      "cell_type": "markdown",
      "metadata": {
        "id": "R4BDzTIp1e4m"
      },
      "source": [
        "## Загрузка данных ##\n",
        "\n"
      ]
    },
    {
      "cell_type": "code",
      "metadata": {
        "colab": {
          "base_uri": "https://localhost:8080/"
        },
        "id": "6vQZdOGh06Pj",
        "outputId": "5061ae78-5bd4-492e-a2b5-2e42f8516297"
      },
      "source": [
        "from google.colab import drive\n",
        "drive.mount('/content/drive')"
      ],
      "execution_count": 5,
      "outputs": [
        {
          "output_type": "stream",
          "text": [
            "Drive already mounted at /content/drive; to attempt to forcibly remount, call drive.mount(\"/content/drive\", force_remount=True).\n"
          ],
          "name": "stdout"
        }
      ]
    },
    {
      "cell_type": "code",
      "metadata": {
        "id": "Z0W9hBD31Ajr"
      },
      "source": [
        "data = pd.read_csv('/content/drive/MyDrive/Хакатон/dataset2015_2019.csv')"
      ],
      "execution_count": 6,
      "outputs": []
    },
    {
      "cell_type": "code",
      "metadata": {
        "colab": {
          "base_uri": "https://localhost:8080/",
          "height": 211
        },
        "id": "fEP0PuTQlgB8",
        "outputId": "b93263f8-6489-4345-a793-c502ad52b74d"
      },
      "source": [
        "data.head(2)"
      ],
      "execution_count": null,
      "outputs": [
        {
          "output_type": "execute_result",
          "data": {
            "text/html": [
              "<div>\n",
              "<style scoped>\n",
              "    .dataframe tbody tr th:only-of-type {\n",
              "        vertical-align: middle;\n",
              "    }\n",
              "\n",
              "    .dataframe tbody tr th {\n",
              "        vertical-align: top;\n",
              "    }\n",
              "\n",
              "    .dataframe thead th {\n",
              "        text-align: right;\n",
              "    }\n",
              "</style>\n",
              "<table border=\"1\" class=\"dataframe\">\n",
              "  <thead>\n",
              "    <tr style=\"text-align: right;\">\n",
              "      <th></th>\n",
              "      <th>Unnamed: 0</th>\n",
              "      <th>centroid</th>\n",
              "      <th>x</th>\n",
              "      <th>y</th>\n",
              "      <th>RotationLength</th>\n",
              "      <th>RotationCount</th>\n",
              "      <th>CODE_CULTU_2015</th>\n",
              "      <th>CODE_CULTU_2016</th>\n",
              "      <th>CODE_CULTU_2017</th>\n",
              "      <th>CODE_CULTU_2018</th>\n",
              "      <th>CODE_CULTU_2019</th>\n",
              "      <th>CODE_GROUP_2015</th>\n",
              "      <th>CODE_GROUP_2016</th>\n",
              "      <th>CODE_GROUP_2017</th>\n",
              "      <th>CODE_GROUP_2018</th>\n",
              "      <th>CODE_GROUP_2019</th>\n",
              "      <th>cultuCode</th>\n",
              "      <th>groupCode</th>\n",
              "      <th>hzs</th>\n",
              "      <th>kg_id</th>\n",
              "      <th>ff_id</th>\n",
              "      <th>1 Nearest Neigbour Point</th>\n",
              "      <th>2 Nearest Neigbour Point</th>\n",
              "      <th>3 Nearest Neigbour Point</th>\n",
              "      <th>4 Nearest Neigbour Point</th>\n",
              "    </tr>\n",
              "  </thead>\n",
              "  <tbody>\n",
              "    <tr>\n",
              "      <th>0</th>\n",
              "      <td>0</td>\n",
              "      <td>Point (907753.82834152 6554634.46488151)</td>\n",
              "      <td>907753.828342</td>\n",
              "      <td>6.554634e+06</td>\n",
              "      <td>1</td>\n",
              "      <td>5</td>\n",
              "      <td>PPH</td>\n",
              "      <td>PPH</td>\n",
              "      <td>PPH</td>\n",
              "      <td>PPH</td>\n",
              "      <td>PPH</td>\n",
              "      <td>18</td>\n",
              "      <td>18</td>\n",
              "      <td>18</td>\n",
              "      <td>18</td>\n",
              "      <td>18</td>\n",
              "      <td>aaaaa</td>\n",
              "      <td>aaaaa</td>\n",
              "      <td>7b</td>\n",
              "      <td>Dfb</td>\n",
              "      <td>ff12</td>\n",
              "      <td>Point (907748.69100314 6554212.06490037)</td>\n",
              "      <td>Point (907410.62452802 6554909.79074054)</td>\n",
              "      <td>Point (908089.34400838 6554953.05455597)</td>\n",
              "      <td>Point (907563.65755459 6554039.35762193)</td>\n",
              "    </tr>\n",
              "    <tr>\n",
              "      <th>1</th>\n",
              "      <td>1</td>\n",
              "      <td>Point (906932.34642625 6550537.14396784)</td>\n",
              "      <td>906932.346426</td>\n",
              "      <td>6.550537e+06</td>\n",
              "      <td>1</td>\n",
              "      <td>5</td>\n",
              "      <td>PPH</td>\n",
              "      <td>PPH</td>\n",
              "      <td>PPH</td>\n",
              "      <td>PPH</td>\n",
              "      <td>PPH</td>\n",
              "      <td>18</td>\n",
              "      <td>18</td>\n",
              "      <td>18</td>\n",
              "      <td>18</td>\n",
              "      <td>18</td>\n",
              "      <td>aaaaa</td>\n",
              "      <td>aaaaa</td>\n",
              "      <td>7b</td>\n",
              "      <td>Dfb</td>\n",
              "      <td>ff12</td>\n",
              "      <td>Point (906980.7207283 6550304.97315954)</td>\n",
              "      <td>Point (906736.32315476 6550335.52813463)</td>\n",
              "      <td>Point (906595.72670333 6550598.70621165)</td>\n",
              "      <td>Point (907032.95563938 6550121.6369531)</td>\n",
              "    </tr>\n",
              "  </tbody>\n",
              "</table>\n",
              "</div>"
            ],
            "text/plain": [
              "   Unnamed: 0  ...                  4 Nearest Neigbour Point\n",
              "0           0  ...  Point (907563.65755459 6554039.35762193)\n",
              "1           1  ...   Point (907032.95563938 6550121.6369531)\n",
              "\n",
              "[2 rows x 25 columns]"
            ]
          },
          "metadata": {
            "tags": []
          },
          "execution_count": 5
        }
      ]
    },
    {
      "cell_type": "markdown",
      "metadata": {
        "id": "Q4pJkB9m628b"
      },
      "source": [
        "## Эвристики для предсказаний данных без модели ##"
      ]
    },
    {
      "cell_type": "markdown",
      "metadata": {
        "id": "nWEtbAjB7nh_"
      },
      "source": [
        "### Эвристика по закономерностям последовательностей культур на основе анализа *данных* ###"
      ]
    },
    {
      "cell_type": "code",
      "metadata": {
        "id": "lxMW4mXX2T4r"
      },
      "source": [
        "#Функция для предсказания культуры в следующем году на основании культур предыдущих 4 лет\n",
        "def predict_next_culture_4_years_list(l0, l1, l2, l3):\n",
        "  if l0 == l1 != l2 and l2 == l3:\n",
        "     return 'Unknown'\n",
        "  if l0 == l1 == l2 == l3:\n",
        "     return l0\n",
        "  if l0 == l2 and l1 == l3:\n",
        "     return l0\n",
        "  if l0 == l1 != l2 and l2 == l3:\n",
        "     return l0\n",
        "  return 'Unknown'"
      ],
      "execution_count": 7,
      "outputs": []
    },
    {
      "cell_type": "code",
      "metadata": {
        "colab": {
          "base_uri": "https://localhost:8080/"
        },
        "id": "yaw2O8uf2gFU",
        "outputId": "94ac4297-2866-4fb1-9288-919f544fe6a3"
      },
      "source": [
        "print(predict_next_culture_4_years_list(data.iloc[0]['CODE_CULTU_2015'],data.iloc[0]['CODE_CULTU_2016'],data.iloc[0]['CODE_CULTU_2017'],data.iloc[0]['CODE_CULTU_2018']))"
      ],
      "execution_count": 7,
      "outputs": [
        {
          "output_type": "stream",
          "text": [
            "PPH\n"
          ],
          "name": "stdout"
        }
      ]
    },
    {
      "cell_type": "markdown",
      "metadata": {
        "id": "HXv5xvdD7zLM"
      },
      "source": [
        "### Эвристика по уникальным последовательностям ###"
      ]
    },
    {
      "cell_type": "code",
      "metadata": {
        "id": "29qpfqJ98e9M"
      },
      "source": [
        "#Функция для получения списка уникальных последовательностей (после 4 культур предыдущих лет всегда идет одна и та же 5-ая)\n",
        "def get_unique_chains(data):\n",
        "  g = data.groupby(['CODE_CULTU_2015','CODE_CULTU_2016','CODE_CULTU_2017','CODE_CULTU_2018'])['CODE_CULTU_2019'].count()\n",
        "  g = g.add_suffix('').reset_index()\n",
        "  g_uniq = g[g['CODE_CULTU_2019'] == 1]\n",
        "  g_pred = pd.merge(g_uniq, data,  how='left', left_on=['CODE_CULTU_2015','CODE_CULTU_2016','CODE_CULTU_2017','CODE_CULTU_2018'], right_on = ['CODE_CULTU_2015','CODE_CULTU_2016','CODE_CULTU_2017','CODE_CULTU_2018'])\n",
        "  g_pred = g_pred.reindex(columns=['CODE_CULTU_2015','CODE_CULTU_2016','CODE_CULTU_2017','CODE_CULTU_2018','CODE_CULTU_2019_y'])\n",
        "  g_pred.rename(columns = {'CODE_CULTU_2019_y': 'CODE_CULTU_2019_predict'}, inplace = True)\n",
        "  return g_pred"
      ],
      "execution_count": 8,
      "outputs": []
    },
    {
      "cell_type": "code",
      "metadata": {
        "id": "EvVMzRQlffOr"
      },
      "source": [
        "#Функция для получения списка уникальных последовательностей для тестовой выборки\n",
        "def get_unique_chains_test(data):\n",
        "  g = data.groupby(['CODE_CULTU_2015','CODE_CULTU_2016','CODE_CULTU_2017','CODE_CULTU_2018']).count()\n",
        "  g = g.add_suffix('').reset_index()\n",
        "  return g"
      ],
      "execution_count": 29,
      "outputs": []
    },
    {
      "cell_type": "code",
      "metadata": {
        "colab": {
          "base_uri": "https://localhost:8080/"
        },
        "id": "ODfk8g-n9S6x",
        "outputId": "36922fa3-f287-4618-a471-6090bb35380b"
      },
      "source": [
        "print(get_unique_chains(data))"
      ],
      "execution_count": 9,
      "outputs": [
        {
          "output_type": "stream",
          "text": [
            "      CODE_CULTU_2015 CODE_CULTU_2016  ... CODE_CULTU_2018 CODE_CULTU_2019_predict\n",
            "0                 ACA             FLA  ...             FLA                     FLA\n",
            "1                 ACA             FLP  ...             FLP                     FLP\n",
            "2                 ACA             MIS  ...             SNE                     SNE\n",
            "3                 ACA             SNE  ...             SNE                     SNE\n",
            "4                 AGR             BOR  ...             SNE                     SNE\n",
            "...               ...             ...  ...             ...                     ...\n",
            "82546             VRT             VRT  ...             SOG                     BTH\n",
            "82547             XFE             PTR  ...             BTH                     PTR\n",
            "82548             XFE             PTR  ...             PPH                     PRL\n",
            "82549             XFE             XFE  ...             PRL                     CZH\n",
            "82550             XFE             XFE  ...             XFE                     MIE\n",
            "\n",
            "[82551 rows x 5 columns]\n"
          ],
          "name": "stdout"
        }
      ]
    },
    {
      "cell_type": "markdown",
      "metadata": {
        "id": "wZiOiSEu-EaO"
      },
      "source": [
        "### Предсказания по эвристикам на обучающей выборке ###"
      ]
    },
    {
      "cell_type": "code",
      "metadata": {
        "id": "qQKsn2qT9-N1"
      },
      "source": [
        "g_pred = get_unique_chains(data)"
      ],
      "execution_count": 10,
      "outputs": []
    },
    {
      "cell_type": "code",
      "metadata": {
        "id": "apFlBEM9CO1e"
      },
      "source": [
        "#Получаем предсказания по эвристике по уникальным последовательностям\n",
        "data_pred = pd.merge(data, g_pred,  how='left', left_on=['CODE_CULTU_2015','CODE_CULTU_2016','CODE_CULTU_2017','CODE_CULTU_2018'], right_on = ['CODE_CULTU_2015','CODE_CULTU_2016','CODE_CULTU_2017','CODE_CULTU_2018'])"
      ],
      "execution_count": 11,
      "outputs": []
    },
    {
      "cell_type": "code",
      "metadata": {
        "colab": {
          "base_uri": "https://localhost:8080/"
        },
        "id": "Kx_UMOyYC6dV",
        "outputId": "58318a1f-7c61-4486-ad9d-0bfabd01cc1e"
      },
      "source": [
        "print(data_pred['CODE_CULTU_2019_predict'].value_counts().sum())\n",
        "print(data_pred['CODE_CULTU_2019_predict'].value_counts())"
      ],
      "execution_count": 12,
      "outputs": [
        {
          "output_type": "stream",
          "text": [
            "82551\n",
            "BTH    11247\n",
            "PTR     8134\n",
            "LUZ     4978\n",
            "MLG     4003\n",
            "MIS     3902\n",
            "       ...  \n",
            "SFI        1\n",
            "PIS        1\n",
            "MRG        1\n",
            "LFP        1\n",
            "OEH        1\n",
            "Name: CODE_CULTU_2019_predict, Length: 218, dtype: int64\n"
          ],
          "name": "stdout"
        }
      ]
    },
    {
      "cell_type": "code",
      "metadata": {
        "id": "64TLGmSgDzeG"
      },
      "source": [
        "#Сохраняем первую часть, предсказанную по эвристике по уникальным последовательностям\n",
        "data_part1 = data_pred[data_pred.CODE_CULTU_2019_predict.notnull()].copy()"
      ],
      "execution_count": 13,
      "outputs": []
    },
    {
      "cell_type": "code",
      "metadata": {
        "colab": {
          "base_uri": "https://localhost:8080/",
          "height": 211
        },
        "id": "0LxSLwwUC6mq",
        "outputId": "3dce687c-a62b-4a5a-8a95-28d51e7aeadf"
      },
      "source": [
        "data_part1.head(2)"
      ],
      "execution_count": 14,
      "outputs": [
        {
          "output_type": "execute_result",
          "data": {
            "text/html": [
              "<div>\n",
              "<style scoped>\n",
              "    .dataframe tbody tr th:only-of-type {\n",
              "        vertical-align: middle;\n",
              "    }\n",
              "\n",
              "    .dataframe tbody tr th {\n",
              "        vertical-align: top;\n",
              "    }\n",
              "\n",
              "    .dataframe thead th {\n",
              "        text-align: right;\n",
              "    }\n",
              "</style>\n",
              "<table border=\"1\" class=\"dataframe\">\n",
              "  <thead>\n",
              "    <tr style=\"text-align: right;\">\n",
              "      <th></th>\n",
              "      <th>Unnamed: 0</th>\n",
              "      <th>centroid</th>\n",
              "      <th>x</th>\n",
              "      <th>y</th>\n",
              "      <th>RotationLength</th>\n",
              "      <th>RotationCount</th>\n",
              "      <th>CODE_CULTU_2015</th>\n",
              "      <th>CODE_CULTU_2016</th>\n",
              "      <th>CODE_CULTU_2017</th>\n",
              "      <th>CODE_CULTU_2018</th>\n",
              "      <th>CODE_CULTU_2019</th>\n",
              "      <th>CODE_GROUP_2015</th>\n",
              "      <th>CODE_GROUP_2016</th>\n",
              "      <th>CODE_GROUP_2017</th>\n",
              "      <th>CODE_GROUP_2018</th>\n",
              "      <th>CODE_GROUP_2019</th>\n",
              "      <th>cultuCode</th>\n",
              "      <th>groupCode</th>\n",
              "      <th>hzs</th>\n",
              "      <th>kg_id</th>\n",
              "      <th>ff_id</th>\n",
              "      <th>1 Nearest Neigbour Point</th>\n",
              "      <th>2 Nearest Neigbour Point</th>\n",
              "      <th>3 Nearest Neigbour Point</th>\n",
              "      <th>4 Nearest Neigbour Point</th>\n",
              "      <th>CODE_CULTU_2019_predict</th>\n",
              "    </tr>\n",
              "  </thead>\n",
              "  <tbody>\n",
              "    <tr>\n",
              "      <th>50</th>\n",
              "      <td>50</td>\n",
              "      <td>Point (859900.11098517 6591026.78278985)</td>\n",
              "      <td>859900.110985</td>\n",
              "      <td>6.591027e+06</td>\n",
              "      <td>3</td>\n",
              "      <td>1</td>\n",
              "      <td>BTH</td>\n",
              "      <td>MID</td>\n",
              "      <td>MIS</td>\n",
              "      <td>MIS</td>\n",
              "      <td>BTH</td>\n",
              "      <td>1</td>\n",
              "      <td>2</td>\n",
              "      <td>2</td>\n",
              "      <td>2</td>\n",
              "      <td>1</td>\n",
              "      <td>abcca</td>\n",
              "      <td>abbba</td>\n",
              "      <td>8b</td>\n",
              "      <td>Cfa</td>\n",
              "      <td>ff13</td>\n",
              "      <td>Point (859812.49760217 6591185.50103266)</td>\n",
              "      <td>Point (859719.0802948 6590975.56193138)</td>\n",
              "      <td>Point (860081.26015362 6591098.77150968)</td>\n",
              "      <td>Point (860019.18559373 6590736.93947271)</td>\n",
              "      <td>BTH</td>\n",
              "    </tr>\n",
              "    <tr>\n",
              "      <th>74</th>\n",
              "      <td>74</td>\n",
              "      <td>Point (848022.43324874 6589869.38021483)</td>\n",
              "      <td>848022.433249</td>\n",
              "      <td>6.589869e+06</td>\n",
              "      <td>4</td>\n",
              "      <td>1</td>\n",
              "      <td>AVP</td>\n",
              "      <td>SGH</td>\n",
              "      <td>MIS</td>\n",
              "      <td>MIS</td>\n",
              "      <td>ORP</td>\n",
              "      <td>4</td>\n",
              "      <td>4</td>\n",
              "      <td>2</td>\n",
              "      <td>2</td>\n",
              "      <td>3</td>\n",
              "      <td>abccd</td>\n",
              "      <td>aabbc</td>\n",
              "      <td>8b</td>\n",
              "      <td>Cfa</td>\n",
              "      <td>ff13</td>\n",
              "      <td>Point (848060.93345233 6589936.96049742)</td>\n",
              "      <td>Point (847937.44700784 6589858.58590304)</td>\n",
              "      <td>Point (848069.49079389 6590019.03797348)</td>\n",
              "      <td>Point (848120.55312173 6589719.68664306)</td>\n",
              "      <td>ORP</td>\n",
              "    </tr>\n",
              "  </tbody>\n",
              "</table>\n",
              "</div>"
            ],
            "text/plain": [
              "    Unnamed: 0  ... CODE_CULTU_2019_predict\n",
              "50          50  ...                     BTH\n",
              "74          74  ...                     ORP\n",
              "\n",
              "[2 rows x 26 columns]"
            ]
          },
          "metadata": {
            "tags": []
          },
          "execution_count": 14
        }
      ]
    },
    {
      "cell_type": "code",
      "metadata": {
        "id": "gy_A5-8KLFNW"
      },
      "source": [
        "#Формируем вторую часть для предсказаний по эверистике по закономерностям последовательностей культур на основе анализа\n",
        "data_part2 = data_pred[data_pred.CODE_CULTU_2019_predict.isna()].copy()"
      ],
      "execution_count": 15,
      "outputs": []
    },
    {
      "cell_type": "code",
      "metadata": {
        "colab": {
          "base_uri": "https://localhost:8080/",
          "height": 211
        },
        "id": "N8z8X798LMbe",
        "outputId": "13eaf77d-8da7-4845-f552-e7008198e603"
      },
      "source": [
        "data_part2.head(2)"
      ],
      "execution_count": 16,
      "outputs": [
        {
          "output_type": "execute_result",
          "data": {
            "text/html": [
              "<div>\n",
              "<style scoped>\n",
              "    .dataframe tbody tr th:only-of-type {\n",
              "        vertical-align: middle;\n",
              "    }\n",
              "\n",
              "    .dataframe tbody tr th {\n",
              "        vertical-align: top;\n",
              "    }\n",
              "\n",
              "    .dataframe thead th {\n",
              "        text-align: right;\n",
              "    }\n",
              "</style>\n",
              "<table border=\"1\" class=\"dataframe\">\n",
              "  <thead>\n",
              "    <tr style=\"text-align: right;\">\n",
              "      <th></th>\n",
              "      <th>Unnamed: 0</th>\n",
              "      <th>centroid</th>\n",
              "      <th>x</th>\n",
              "      <th>y</th>\n",
              "      <th>RotationLength</th>\n",
              "      <th>RotationCount</th>\n",
              "      <th>CODE_CULTU_2015</th>\n",
              "      <th>CODE_CULTU_2016</th>\n",
              "      <th>CODE_CULTU_2017</th>\n",
              "      <th>CODE_CULTU_2018</th>\n",
              "      <th>CODE_CULTU_2019</th>\n",
              "      <th>CODE_GROUP_2015</th>\n",
              "      <th>CODE_GROUP_2016</th>\n",
              "      <th>CODE_GROUP_2017</th>\n",
              "      <th>CODE_GROUP_2018</th>\n",
              "      <th>CODE_GROUP_2019</th>\n",
              "      <th>cultuCode</th>\n",
              "      <th>groupCode</th>\n",
              "      <th>hzs</th>\n",
              "      <th>kg_id</th>\n",
              "      <th>ff_id</th>\n",
              "      <th>1 Nearest Neigbour Point</th>\n",
              "      <th>2 Nearest Neigbour Point</th>\n",
              "      <th>3 Nearest Neigbour Point</th>\n",
              "      <th>4 Nearest Neigbour Point</th>\n",
              "      <th>CODE_CULTU_2019_predict</th>\n",
              "    </tr>\n",
              "  </thead>\n",
              "  <tbody>\n",
              "    <tr>\n",
              "      <th>0</th>\n",
              "      <td>0</td>\n",
              "      <td>Point (907753.82834152 6554634.46488151)</td>\n",
              "      <td>907753.828342</td>\n",
              "      <td>6.554634e+06</td>\n",
              "      <td>1</td>\n",
              "      <td>5</td>\n",
              "      <td>PPH</td>\n",
              "      <td>PPH</td>\n",
              "      <td>PPH</td>\n",
              "      <td>PPH</td>\n",
              "      <td>PPH</td>\n",
              "      <td>18</td>\n",
              "      <td>18</td>\n",
              "      <td>18</td>\n",
              "      <td>18</td>\n",
              "      <td>18</td>\n",
              "      <td>aaaaa</td>\n",
              "      <td>aaaaa</td>\n",
              "      <td>7b</td>\n",
              "      <td>Dfb</td>\n",
              "      <td>ff12</td>\n",
              "      <td>Point (907748.69100314 6554212.06490037)</td>\n",
              "      <td>Point (907410.62452802 6554909.79074054)</td>\n",
              "      <td>Point (908089.34400838 6554953.05455597)</td>\n",
              "      <td>Point (907563.65755459 6554039.35762193)</td>\n",
              "      <td>NaN</td>\n",
              "    </tr>\n",
              "    <tr>\n",
              "      <th>1</th>\n",
              "      <td>1</td>\n",
              "      <td>Point (906932.34642625 6550537.14396784)</td>\n",
              "      <td>906932.346426</td>\n",
              "      <td>6.550537e+06</td>\n",
              "      <td>1</td>\n",
              "      <td>5</td>\n",
              "      <td>PPH</td>\n",
              "      <td>PPH</td>\n",
              "      <td>PPH</td>\n",
              "      <td>PPH</td>\n",
              "      <td>PPH</td>\n",
              "      <td>18</td>\n",
              "      <td>18</td>\n",
              "      <td>18</td>\n",
              "      <td>18</td>\n",
              "      <td>18</td>\n",
              "      <td>aaaaa</td>\n",
              "      <td>aaaaa</td>\n",
              "      <td>7b</td>\n",
              "      <td>Dfb</td>\n",
              "      <td>ff12</td>\n",
              "      <td>Point (906980.7207283 6550304.97315954)</td>\n",
              "      <td>Point (906736.32315476 6550335.52813463)</td>\n",
              "      <td>Point (906595.72670333 6550598.70621165)</td>\n",
              "      <td>Point (907032.95563938 6550121.6369531)</td>\n",
              "      <td>NaN</td>\n",
              "    </tr>\n",
              "  </tbody>\n",
              "</table>\n",
              "</div>"
            ],
            "text/plain": [
              "   Unnamed: 0  ... CODE_CULTU_2019_predict\n",
              "0           0  ...                     NaN\n",
              "1           1  ...                     NaN\n",
              "\n",
              "[2 rows x 26 columns]"
            ]
          },
          "metadata": {
            "tags": []
          },
          "execution_count": 16
        }
      ]
    },
    {
      "cell_type": "code",
      "metadata": {
        "id": "WaKn3wIN3pyL"
      },
      "source": [
        "#Получаем предсказания по эвристике по закономерностям последовательностей культур на основе анализа данных\n",
        "data_part2['CODE_CULTU_2019_predict'] = data_part2.apply(lambda x: predict_next_culture_4_years_list(x['CODE_CULTU_2015'],x['CODE_CULTU_2016'],x['CODE_CULTU_2017'],x['CODE_CULTU_2018']), axis=1, result_type='expand')"
      ],
      "execution_count": 17,
      "outputs": []
    },
    {
      "cell_type": "code",
      "metadata": {
        "colab": {
          "base_uri": "https://localhost:8080/"
        },
        "id": "o5wGWz9O4A2w",
        "outputId": "f10956c3-d5bd-467b-cf71-859fb947e721"
      },
      "source": [
        "print(data_part2[data_part2['CODE_CULTU_2019_predict'] != 'Unknown']['CODE_CULTU_2019_predict'].value_counts().sum())\n",
        "print(data_part2[data_part2['CODE_CULTU_2019_predict'] != 'Unknown']['CODE_CULTU_2019_predict'].value_counts())"
      ],
      "execution_count": 18,
      "outputs": [
        {
          "output_type": "stream",
          "text": [
            "2078679\n",
            "PPH    1067851\n",
            "VRC     181807\n",
            "J6S     100032\n",
            "SNE      85849\n",
            "PRL      79558\n",
            "        ...   \n",
            "LDP          2\n",
            "CHR          2\n",
            "PAN          2\n",
            "EST          2\n",
            "BAS          2\n",
            "Name: CODE_CULTU_2019_predict, Length: 159, dtype: int64\n"
          ],
          "name": "stdout"
        }
      ]
    },
    {
      "cell_type": "code",
      "metadata": {
        "id": "J_VyLq2-6Wd2"
      },
      "source": [
        "#Формирование выборки для оценки точности\n",
        "data_eval = data_part2[data_part2['CODE_CULTU_2019_predict'] != 'Unknown']"
      ],
      "execution_count": 28,
      "outputs": []
    },
    {
      "cell_type": "code",
      "metadata": {
        "colab": {
          "base_uri": "https://localhost:8080/"
        },
        "id": "HVJ9V4RA7HB_",
        "outputId": "8a557a55-b4d8-452b-a9a2-55ce498eb4f2"
      },
      "source": [
        "print(accuracy_score(data_eval['CODE_CULTU_2019'],data_eval['CODE_CULTU_2019_predict']))"
      ],
      "execution_count": 29,
      "outputs": [
        {
          "output_type": "stream",
          "text": [
            "0.9479198086861896\n"
          ],
          "name": "stdout"
        }
      ]
    },
    {
      "cell_type": "code",
      "metadata": {
        "id": "8qU4OmJK4nHu"
      },
      "source": [
        "# Формирование набора данных, по которому не удалось предсказать значения с помощью эвристик ###\n",
        "data_part3 = data_part2[data_part2['CODE_CULTU_2019_predict'] == 'Unknown']"
      ],
      "execution_count": 19,
      "outputs": []
    },
    {
      "cell_type": "code",
      "metadata": {
        "id": "77o-EqQjDEHt"
      },
      "source": [
        "#Формирование набора данных с предсказанными по эвристикам значениями\n",
        "data_part2 = data_part2[data_part2['CODE_CULTU_2019_predict'] != 'Unknown']"
      ],
      "execution_count": 20,
      "outputs": []
    },
    {
      "cell_type": "markdown",
      "metadata": {
        "id": "Jq_JQXS1ASDo"
      },
      "source": [
        "## Моделирование ##"
      ]
    },
    {
      "cell_type": "markdown",
      "metadata": {
        "id": "P5fGxtkXel7L"
      },
      "source": [
        "### Train/Val CatBoost###"
      ]
    },
    {
      "cell_type": "code",
      "metadata": {
        "id": "qY99ScjV13W-"
      },
      "source": [
        "#Признаки и целевая переменная для модели\n",
        "\"\"\"\n",
        "Полный список колонок в датасете:\n",
        "'RotationLength', 'RotationCount',\n",
        "'CODE_CULTU_2015', 'CODE_CULTU_2016', 'CODE_CULTU_2017',\n",
        "'CODE_CULTU_2018', 'CODE_CULTU_2019', 'CODE_GROUP_2015',\n",
        "'CODE_GROUP_2016', 'CODE_GROUP_2017', 'CODE_GROUP_2018',\n",
        "'CODE_GROUP_2019', 'cultuCode', 'groupCode', 'hzs', 'kg_id', 'ff_id'\n",
        "\"\"\"\n",
        "\n",
        "X = data_part3[['RotationLength', 'RotationCount',\n",
        "       'CODE_CULTU_2015', 'CODE_CULTU_2016', 'CODE_CULTU_2017',\n",
        "       'CODE_CULTU_2018', 'CODE_GROUP_2015',\n",
        "       'CODE_GROUP_2016', 'CODE_GROUP_2017', 'CODE_GROUP_2018',\n",
        "       'cultuCode', 'groupCode', 'hzs', 'kg_id', 'ff_id']]\n",
        "\n",
        "X = X.replace(np.nan, 'unknown', regex=True)\n",
        "\n",
        "Y = data_part3['CODE_CULTU_2019']"
      ],
      "execution_count": 34,
      "outputs": []
    },
    {
      "cell_type": "code",
      "metadata": {
        "colab": {
          "base_uri": "https://localhost:8080/"
        },
        "id": "eHanwYPLjgNo",
        "outputId": "dd1d7ffe-9f67-44cf-f34c-17bb75122284"
      },
      "source": [
        "X.shape"
      ],
      "execution_count": 35,
      "outputs": [
        {
          "output_type": "execute_result",
          "data": {
            "text/plain": [
              "(1453574, 15)"
            ]
          },
          "metadata": {
            "tags": []
          },
          "execution_count": 35
        }
      ]
    },
    {
      "cell_type": "code",
      "metadata": {
        "colab": {
          "base_uri": "https://localhost:8080/"
        },
        "id": "nG_5-IQXBgTi",
        "outputId": "80df4152-06a3-4443-8960-e7a462033328"
      },
      "source": [
        "X.isnull().sum(axis = 0)"
      ],
      "execution_count": 40,
      "outputs": [
        {
          "output_type": "execute_result",
          "data": {
            "text/plain": [
              "RotationLength     0\n",
              "RotationCount      0\n",
              "CODE_CULTU_2015    0\n",
              "CODE_CULTU_2016    0\n",
              "CODE_CULTU_2017    0\n",
              "CODE_CULTU_2018    0\n",
              "CODE_GROUP_2015    0\n",
              "CODE_GROUP_2016    0\n",
              "CODE_GROUP_2017    0\n",
              "CODE_GROUP_2018    0\n",
              "cultuCode          0\n",
              "groupCode          0\n",
              "hzs                0\n",
              "kg_id              0\n",
              "ff_id              0\n",
              "dtype: int64"
            ]
          },
          "metadata": {
            "tags": []
          },
          "execution_count": 40
        }
      ]
    },
    {
      "cell_type": "code",
      "metadata": {
        "id": "egT-DzrI2cXe"
      },
      "source": [
        "#Разделение выборок на обучающую и валидационную\n",
        "X_train, X_val, Y_train, Y_val = train_test_split(X, Y, test_size=0.2, random_state=286)"
      ],
      "execution_count": 36,
      "outputs": []
    },
    {
      "cell_type": "code",
      "metadata": {
        "colab": {
          "base_uri": "https://localhost:8080/",
          "height": 127
        },
        "id": "gZA-vWofrn9T",
        "outputId": "88cd9929-23e2-4d89-944c-9394f5f2a9e9"
      },
      "source": [
        "X.head(2)"
      ],
      "execution_count": 37,
      "outputs": [
        {
          "output_type": "execute_result",
          "data": {
            "text/html": [
              "<div>\n",
              "<style scoped>\n",
              "    .dataframe tbody tr th:only-of-type {\n",
              "        vertical-align: middle;\n",
              "    }\n",
              "\n",
              "    .dataframe tbody tr th {\n",
              "        vertical-align: top;\n",
              "    }\n",
              "\n",
              "    .dataframe thead th {\n",
              "        text-align: right;\n",
              "    }\n",
              "</style>\n",
              "<table border=\"1\" class=\"dataframe\">\n",
              "  <thead>\n",
              "    <tr style=\"text-align: right;\">\n",
              "      <th></th>\n",
              "      <th>RotationLength</th>\n",
              "      <th>RotationCount</th>\n",
              "      <th>CODE_CULTU_2015</th>\n",
              "      <th>CODE_CULTU_2016</th>\n",
              "      <th>CODE_CULTU_2017</th>\n",
              "      <th>CODE_CULTU_2018</th>\n",
              "      <th>CODE_GROUP_2015</th>\n",
              "      <th>CODE_GROUP_2016</th>\n",
              "      <th>CODE_GROUP_2017</th>\n",
              "      <th>CODE_GROUP_2018</th>\n",
              "      <th>cultuCode</th>\n",
              "      <th>groupCode</th>\n",
              "      <th>hzs</th>\n",
              "      <th>kg_id</th>\n",
              "      <th>ff_id</th>\n",
              "    </tr>\n",
              "  </thead>\n",
              "  <tbody>\n",
              "    <tr>\n",
              "      <th>12</th>\n",
              "      <td>3</td>\n",
              "      <td>1</td>\n",
              "      <td>TTH</td>\n",
              "      <td>ORH</td>\n",
              "      <td>TTH</td>\n",
              "      <td>PTR</td>\n",
              "      <td>4</td>\n",
              "      <td>3</td>\n",
              "      <td>4</td>\n",
              "      <td>19</td>\n",
              "      <td>abacc</td>\n",
              "      <td>abacc</td>\n",
              "      <td>8b</td>\n",
              "      <td>Cfb</td>\n",
              "      <td>ff13</td>\n",
              "    </tr>\n",
              "    <tr>\n",
              "      <th>18</th>\n",
              "      <td>3</td>\n",
              "      <td>1</td>\n",
              "      <td>ORH</td>\n",
              "      <td>ORH</td>\n",
              "      <td>TTH</td>\n",
              "      <td>SGH</td>\n",
              "      <td>3</td>\n",
              "      <td>3</td>\n",
              "      <td>4</td>\n",
              "      <td>4</td>\n",
              "      <td>aabcb</td>\n",
              "      <td>aabbb</td>\n",
              "      <td>8b</td>\n",
              "      <td>Cfb</td>\n",
              "      <td>ff13</td>\n",
              "    </tr>\n",
              "  </tbody>\n",
              "</table>\n",
              "</div>"
            ],
            "text/plain": [
              "    RotationLength  RotationCount CODE_CULTU_2015  ... hzs kg_id ff_id\n",
              "12               3              1             TTH  ...  8b   Cfb  ff13\n",
              "18               3              1             ORH  ...  8b   Cfb  ff13\n",
              "\n",
              "[2 rows x 15 columns]"
            ]
          },
          "metadata": {
            "tags": []
          },
          "execution_count": 37
        }
      ]
    },
    {
      "cell_type": "code",
      "metadata": {
        "id": "Ev8afGHu16tE"
      },
      "source": [
        "#Список категориальных переменных для модели\n",
        "cat_features = [2, 3, 4, 5, 6, 7, 8, 9, 10, 11, 12, 13, 14]"
      ],
      "execution_count": 41,
      "outputs": []
    },
    {
      "cell_type": "code",
      "metadata": {
        "colab": {
          "base_uri": "https://localhost:8080/"
        },
        "id": "bAoj_6n24WYA",
        "outputId": "182e6a42-2da6-499f-f335-d52f77c167db"
      },
      "source": [
        "train_dataset = Pool(data=X_train,\n",
        "                     label=Y_train,\n",
        "                     cat_features=cat_features)\n",
        "\n",
        "eval_dataset = Pool(data=X_val,\n",
        "                    label=Y_val,\n",
        "                    cat_features=cat_features)\n",
        "\n",
        "model = CatBoostClassifier(iterations=100,\n",
        "                           depth=4,\n",
        "                           loss_function='MultiClass',  task_type='GPU')\n",
        "\n",
        "#Обучение модели\n",
        "model.fit(train_dataset)  \n",
        "#Получение предсказаний\n",
        "preds_class = model.predict(eval_dataset)"
      ],
      "execution_count": 43,
      "outputs": [
        {
          "output_type": "stream",
          "text": [
            "Learning rate set to 0.5\n",
            "0:\tlearn: 13.9392325\ttotal: 6.8s\tremaining: 11m 13s\n",
            "1:\tlearn: 2140.9016226\ttotal: 14.1s\tremaining: 11m 33s\n",
            "2:\tlearn: 5977.3909373\ttotal: 21s\tremaining: 11m 18s\n",
            "3:\tlearn: 6921.1041820\ttotal: 27.8s\tremaining: 11m 7s\n",
            "4:\tlearn: 7777.9509158\ttotal: 34.6s\tremaining: 10m 57s\n",
            "5:\tlearn: 7458.7808152\ttotal: 41.4s\tremaining: 10m 49s\n",
            "6:\tlearn: 6919.1519178\ttotal: 48.3s\tremaining: 10m 41s\n",
            "7:\tlearn: 6588.2061505\ttotal: 55.1s\tremaining: 10m 33s\n",
            "8:\tlearn: 5837.8916653\ttotal: 1m 1s\tremaining: 10m 25s\n",
            "9:\tlearn: 5566.6449398\ttotal: 1m 8s\tremaining: 10m 18s\n",
            "10:\tlearn: 5262.7257475\ttotal: 1m 15s\tremaining: 10m 11s\n",
            "11:\tlearn: 4851.5522243\ttotal: 1m 22s\tremaining: 10m 4s\n",
            "12:\tlearn: 4746.1885164\ttotal: 1m 29s\tremaining: 9m 57s\n",
            "13:\tlearn: 4646.1735017\ttotal: 1m 36s\tremaining: 9m 49s\n",
            "14:\tlearn: 4494.6247000\ttotal: 1m 42s\tremaining: 9m 42s\n",
            "15:\tlearn: 4378.0731181\ttotal: 1m 49s\tremaining: 9m 35s\n",
            "16:\tlearn: 4098.0297560\ttotal: 1m 56s\tremaining: 9m 28s\n",
            "17:\tlearn: 3951.0203868\ttotal: 2m 3s\tremaining: 9m 21s\n",
            "18:\tlearn: 3716.8160473\ttotal: 2m 10s\tremaining: 9m 14s\n",
            "19:\tlearn: 3514.5799241\ttotal: 2m 16s\tremaining: 9m 7s\n",
            "20:\tlearn: 3338.7304084\ttotal: 2m 23s\tremaining: 9m 1s\n",
            "21:\tlearn: 3215.4969227\ttotal: 2m 30s\tremaining: 8m 54s\n",
            "22:\tlearn: 3046.3202847\ttotal: 2m 37s\tremaining: 8m 47s\n",
            "23:\tlearn: 2921.2906191\ttotal: 2m 44s\tremaining: 8m 40s\n",
            "24:\tlearn: 2837.0022505\ttotal: 2m 51s\tremaining: 8m 33s\n",
            "25:\tlearn: 2775.2871019\ttotal: 2m 57s\tremaining: 8m 26s\n",
            "26:\tlearn: 2743.6013343\ttotal: 3m 4s\tremaining: 8m 19s\n",
            "27:\tlearn: 2706.8107965\ttotal: 3m 11s\tremaining: 8m 12s\n",
            "28:\tlearn: 2614.1579400\ttotal: 3m 18s\tremaining: 8m 5s\n",
            "29:\tlearn: 2573.8787316\ttotal: 3m 25s\tremaining: 7m 58s\n",
            "30:\tlearn: 2509.2922048\ttotal: 3m 32s\tremaining: 7m 51s\n",
            "31:\tlearn: 2464.3119759\ttotal: 3m 38s\tremaining: 7m 45s\n",
            "32:\tlearn: 2414.9858237\ttotal: 3m 45s\tremaining: 7m 38s\n",
            "33:\tlearn: 2375.2728336\ttotal: 3m 52s\tremaining: 7m 31s\n",
            "34:\tlearn: 2327.9297662\ttotal: 3m 59s\tremaining: 7m 24s\n",
            "35:\tlearn: 2303.9183254\ttotal: 4m 6s\tremaining: 7m 17s\n",
            "36:\tlearn: 2250.2885182\ttotal: 4m 12s\tremaining: 7m 10s\n",
            "37:\tlearn: 2208.7817698\ttotal: 4m 19s\tremaining: 7m 3s\n",
            "38:\tlearn: 2171.0115775\ttotal: 4m 26s\tremaining: 6m 57s\n",
            "39:\tlearn: 2124.5129943\ttotal: 4m 33s\tremaining: 6m 50s\n",
            "40:\tlearn: 2074.4918378\ttotal: 4m 40s\tremaining: 6m 43s\n",
            "41:\tlearn: 2043.2573717\ttotal: 4m 47s\tremaining: 6m 36s\n",
            "42:\tlearn: 1999.8943432\ttotal: 4m 53s\tremaining: 6m 29s\n",
            "43:\tlearn: 1977.0426372\ttotal: 5m\tremaining: 6m 22s\n",
            "44:\tlearn: 1943.2097752\ttotal: 5m 7s\tremaining: 6m 15s\n",
            "45:\tlearn: 1920.6810250\ttotal: 5m 14s\tremaining: 6m 9s\n",
            "46:\tlearn: 1895.8178352\ttotal: 5m 21s\tremaining: 6m 2s\n",
            "47:\tlearn: 1853.2004448\ttotal: 5m 28s\tremaining: 5m 55s\n",
            "48:\tlearn: 1824.5107687\ttotal: 5m 34s\tremaining: 5m 48s\n",
            "49:\tlearn: 1794.5424785\ttotal: 5m 41s\tremaining: 5m 41s\n",
            "50:\tlearn: 1775.6689401\ttotal: 5m 48s\tremaining: 5m 34s\n",
            "51:\tlearn: 1749.1804045\ttotal: 5m 55s\tremaining: 5m 28s\n",
            "52:\tlearn: 1718.8756195\ttotal: 6m 2s\tremaining: 5m 21s\n",
            "53:\tlearn: 1690.6040027\ttotal: 6m 9s\tremaining: 5m 14s\n",
            "54:\tlearn: 1669.4202410\ttotal: 6m 15s\tremaining: 5m 7s\n",
            "55:\tlearn: 1655.8084377\ttotal: 6m 22s\tremaining: 5m\n",
            "56:\tlearn: 1634.2050756\ttotal: 6m 29s\tremaining: 4m 53s\n",
            "57:\tlearn: 1620.3318476\ttotal: 6m 36s\tremaining: 4m 46s\n",
            "58:\tlearn: 1607.7199523\ttotal: 6m 43s\tremaining: 4m 40s\n",
            "59:\tlearn: 1583.4904559\ttotal: 6m 49s\tremaining: 4m 33s\n",
            "60:\tlearn: 1564.9582555\ttotal: 6m 56s\tremaining: 4m 26s\n",
            "61:\tlearn: 1553.9602583\ttotal: 7m 3s\tremaining: 4m 19s\n",
            "62:\tlearn: 1517.5790840\ttotal: 7m 10s\tremaining: 4m 12s\n",
            "63:\tlearn: 1499.4829949\ttotal: 7m 17s\tremaining: 4m 5s\n",
            "64:\tlearn: 1485.1595662\ttotal: 7m 24s\tremaining: 3m 59s\n",
            "65:\tlearn: 1473.0447630\ttotal: 7m 30s\tremaining: 3m 52s\n",
            "66:\tlearn: 1451.4736524\ttotal: 7m 37s\tremaining: 3m 45s\n",
            "67:\tlearn: 1429.4623579\ttotal: 7m 44s\tremaining: 3m 38s\n",
            "68:\tlearn: 1417.5114541\ttotal: 7m 51s\tremaining: 3m 31s\n",
            "69:\tlearn: 1408.7978130\ttotal: 7m 58s\tremaining: 3m 24s\n",
            "70:\tlearn: 1396.1913112\ttotal: 8m 5s\tremaining: 3m 18s\n",
            "71:\tlearn: 1387.3303917\ttotal: 8m 11s\tremaining: 3m 11s\n",
            "72:\tlearn: 1377.6726499\ttotal: 8m 18s\tremaining: 3m 4s\n",
            "73:\tlearn: 1367.3485229\ttotal: 8m 25s\tremaining: 2m 57s\n",
            "74:\tlearn: 1352.2773647\ttotal: 8m 32s\tremaining: 2m 50s\n",
            "75:\tlearn: 1338.4103008\ttotal: 8m 39s\tremaining: 2m 43s\n",
            "76:\tlearn: 1327.5013531\ttotal: 8m 45s\tremaining: 2m 37s\n",
            "77:\tlearn: 1313.1381879\ttotal: 8m 52s\tremaining: 2m 30s\n",
            "78:\tlearn: 1298.6877343\ttotal: 8m 59s\tremaining: 2m 23s\n",
            "79:\tlearn: 1285.1758777\ttotal: 9m 6s\tremaining: 2m 16s\n",
            "80:\tlearn: 1274.4996255\ttotal: 9m 13s\tremaining: 2m 9s\n",
            "81:\tlearn: 1263.7499542\ttotal: 9m 20s\tremaining: 2m 2s\n",
            "82:\tlearn: 1253.7616616\ttotal: 9m 26s\tremaining: 1m 56s\n",
            "83:\tlearn: 1241.9552843\ttotal: 9m 33s\tremaining: 1m 49s\n",
            "84:\tlearn: 1228.6537783\ttotal: 9m 40s\tremaining: 1m 42s\n",
            "85:\tlearn: 1221.2473705\ttotal: 9m 47s\tremaining: 1m 35s\n",
            "86:\tlearn: 1205.7405412\ttotal: 9m 54s\tremaining: 1m 28s\n",
            "87:\tlearn: 1198.2174554\ttotal: 10m 1s\tremaining: 1m 21s\n",
            "88:\tlearn: 1192.3997389\ttotal: 10m 7s\tremaining: 1m 15s\n",
            "89:\tlearn: 1183.4486692\ttotal: 10m 14s\tremaining: 1m 8s\n",
            "90:\tlearn: 1171.4056339\ttotal: 10m 21s\tremaining: 1m 1s\n",
            "91:\tlearn: 1166.3030651\ttotal: 10m 28s\tremaining: 54.6s\n",
            "92:\tlearn: 1156.2386016\ttotal: 10m 35s\tremaining: 47.8s\n",
            "93:\tlearn: 1149.2248261\ttotal: 10m 42s\tremaining: 41s\n",
            "94:\tlearn: 1138.7642079\ttotal: 10m 48s\tremaining: 34.2s\n",
            "95:\tlearn: 1131.2765658\ttotal: 10m 55s\tremaining: 27.3s\n",
            "96:\tlearn: 1116.8138940\ttotal: 11m 2s\tremaining: 20.5s\n",
            "97:\tlearn: 1110.9429019\ttotal: 11m 9s\tremaining: 13.7s\n",
            "98:\tlearn: 1106.5685797\ttotal: 11m 16s\tremaining: 6.83s\n",
            "99:\tlearn: 1099.9028567\ttotal: 11m 23s\tremaining: 0us\n"
          ],
          "name": "stdout"
        }
      ]
    },
    {
      "cell_type": "code",
      "metadata": {
        "colab": {
          "base_uri": "https://localhost:8080/"
        },
        "id": "eoEWP9MZj5vA",
        "outputId": "1d76cf15-ed0e-42e1-c7d3-7272ddf66f2e"
      },
      "source": [
        "print(accuracy_score(Y_val,preds_class))"
      ],
      "execution_count": 44,
      "outputs": [
        {
          "output_type": "stream",
          "text": [
            "0.6135080749187348\n"
          ],
          "name": "stdout"
        }
      ]
    },
    {
      "cell_type": "code",
      "metadata": {
        "id": "I0_KbJ_jWVIL"
      },
      "source": [
        "#Предсказание по всей выборке без разделения на обучающую и валидационную\n",
        "eval_dataset = Pool(data=X,\n",
        "                    label=Y,\n",
        "                    cat_features=cat_features)\n",
        "\n",
        "preds_class = model.predict(eval_dataset)"
      ],
      "execution_count": 45,
      "outputs": []
    },
    {
      "cell_type": "code",
      "metadata": {
        "colab": {
          "base_uri": "https://localhost:8080/"
        },
        "id": "XOKUbSDCWo5l",
        "outputId": "c781cea3-6a5c-4e65-b486-6fa717741aec"
      },
      "source": [
        "#Оценка точности\n",
        "print(accuracy_score(Y,preds_class))"
      ],
      "execution_count": 46,
      "outputs": [
        {
          "output_type": "stream",
          "text": [
            "0.6139625502382403\n"
          ],
          "name": "stdout"
        }
      ]
    },
    {
      "cell_type": "code",
      "metadata": {
        "colab": {
          "base_uri": "https://localhost:8080/"
        },
        "id": "ngbnOy7uWy7g",
        "outputId": "5fa718f2-b48c-457f-a5a0-7accf51e0a85"
      },
      "source": [
        "#Добавление предсказаний от модели\n",
        "data_part3['CODE_CULTU_2019_predict'] = preds_class"
      ],
      "execution_count": 47,
      "outputs": [
        {
          "output_type": "stream",
          "text": [
            "/usr/local/lib/python3.7/dist-packages/ipykernel_launcher.py:2: SettingWithCopyWarning: \n",
            "A value is trying to be set on a copy of a slice from a DataFrame.\n",
            "Try using .loc[row_indexer,col_indexer] = value instead\n",
            "\n",
            "See the caveats in the documentation: https://pandas.pydata.org/pandas-docs/stable/user_guide/indexing.html#returning-a-view-versus-a-copy\n",
            "  \n"
          ],
          "name": "stderr"
        }
      ]
    },
    {
      "cell_type": "code",
      "metadata": {
        "id": "8P0IkqJnXS2w"
      },
      "source": [
        "final_data = pd.concat([data_part1,data_part2,data_part3])"
      ],
      "execution_count": 49,
      "outputs": []
    },
    {
      "cell_type": "code",
      "metadata": {
        "colab": {
          "base_uri": "https://localhost:8080/"
        },
        "id": "KZUVmNr9Xpdd",
        "outputId": "7c5e8b94-728a-4928-970f-b8563204b9f0"
      },
      "source": [
        "print(accuracy_score(final_data['CODE_CULTU_2019'],final_data['CODE_CULTU_2019_predict']))"
      ],
      "execution_count": 50,
      "outputs": [
        {
          "output_type": "stream",
          "text": [
            "0.8148192820412946\n"
          ],
          "name": "stdout"
        }
      ]
    },
    {
      "cell_type": "markdown",
      "metadata": {
        "id": "EyRmFNheDd6D"
      },
      "source": [
        "Корректировка явных ошибок CatBoost (Предсказание значения, которое не встречалось в выборке, заменяем на последнее значение в выборке)"
      ]
    },
    {
      "cell_type": "code",
      "metadata": {
        "id": "OjJIbkuhPkiC"
      },
      "source": [
        "data_part3_1 = data_part3.loc[(data_part3['CODE_CULTU_2019_predict'] != data_part3['CODE_CULTU_2015']) & (data_part3['CODE_CULTU_2019_predict'] != data_part3['CODE_CULTU_2016']) & (data_part3['CODE_CULTU_2019_predict'] != data_part3['CODE_CULTU_2017']) & (data_part3['CODE_CULTU_2019_predict'] != data_part3['CODE_CULTU_2018']) ]"
      ],
      "execution_count": 52,
      "outputs": []
    },
    {
      "cell_type": "code",
      "metadata": {
        "id": "ZIECBok_PkiD"
      },
      "source": [
        "data_part3_2 = data_part3.loc[(data_part3['CODE_CULTU_2019_predict'] == data_part3['CODE_CULTU_2015']) | (data_part3['CODE_CULTU_2019_predict'] == data_part3['CODE_CULTU_2016']) | (data_part3['CODE_CULTU_2019_predict'] == data_part3['CODE_CULTU_2017']) | (data_part3['CODE_CULTU_2019_predict'] == data_part3['CODE_CULTU_2018']) ]"
      ],
      "execution_count": 53,
      "outputs": []
    },
    {
      "cell_type": "code",
      "metadata": {
        "colab": {
          "base_uri": "https://localhost:8080/"
        },
        "id": "sleagwVsPkiE",
        "outputId": "e955b3de-2150-4819-fd7f-ab32867add0f"
      },
      "source": [
        "data_part3_1['CODE_CULTU_2019_predict'] = data_part3_1['CODE_CULTU_2018']"
      ],
      "execution_count": 54,
      "outputs": [
        {
          "output_type": "stream",
          "text": [
            "/usr/local/lib/python3.7/dist-packages/ipykernel_launcher.py:1: SettingWithCopyWarning: \n",
            "A value is trying to be set on a copy of a slice from a DataFrame.\n",
            "Try using .loc[row_indexer,col_indexer] = value instead\n",
            "\n",
            "See the caveats in the documentation: https://pandas.pydata.org/pandas-docs/stable/user_guide/indexing.html#returning-a-view-versus-a-copy\n",
            "  \"\"\"Entry point for launching an IPython kernel.\n"
          ],
          "name": "stderr"
        }
      ]
    },
    {
      "cell_type": "code",
      "metadata": {
        "id": "T00AUts4PnU4"
      },
      "source": [
        "#Объединение данных\n",
        "final_data = pd.concat([data_part1,data_part2,data_part3_1,data_part3_2])"
      ],
      "execution_count": 55,
      "outputs": []
    },
    {
      "cell_type": "code",
      "metadata": {
        "colab": {
          "base_uri": "https://localhost:8080/"
        },
        "id": "wU8gD6EvPvIy",
        "outputId": "52760bda-961b-485c-add8-3dc245a63861"
      },
      "source": [
        "#Оценка точности\n",
        "print(accuracy_score(final_data['CODE_CULTU_2019'],final_data['CODE_CULTU_2019_predict']))"
      ],
      "execution_count": 56,
      "outputs": [
        {
          "output_type": "stream",
          "text": [
            "0.8190662619605378\n"
          ],
          "name": "stdout"
        }
      ]
    },
    {
      "cell_type": "markdown",
      "metadata": {
        "id": "aRToC-wtgSOz"
      },
      "source": [
        "###Full CatBoost###"
      ]
    },
    {
      "cell_type": "code",
      "metadata": {
        "id": "8G7pIG8tgRVx"
      },
      "source": [
        "X_full = data_part3[['RotationLength', 'RotationCount',\n",
        "       'CODE_CULTU_2015', 'CODE_CULTU_2016', 'CODE_CULTU_2017',\n",
        "       'CODE_CULTU_2018', 'CODE_GROUP_2015',\n",
        "       'CODE_GROUP_2016', 'CODE_GROUP_2017', 'CODE_GROUP_2018',\n",
        "       'hzs', 'kg_id', 'ff_id']]\n",
        "\n",
        "X_full = X_full.replace(np.nan, 'unknown', regex=True)\n",
        "\n",
        "Y_full = data_part3['CODE_CULTU_2019']"
      ],
      "execution_count": 21,
      "outputs": []
    },
    {
      "cell_type": "code",
      "metadata": {
        "id": "K0GIFceqglj6"
      },
      "source": [
        "cat_features_full = [2, 3, 4, 5, 6, 7, 8, 9, 10, 11, 12]"
      ],
      "execution_count": 22,
      "outputs": []
    },
    {
      "cell_type": "code",
      "metadata": {
        "id": "72az_41ogwS-"
      },
      "source": [
        "train_dataset_full = Pool(data=X_full,\n",
        "                     label=Y_full,\n",
        "                     cat_features=cat_features_full)\n",
        "\n",
        "eval_dataset_full = Pool(data=X_full,\n",
        "                    label=Y_full,\n",
        "                    cat_features=cat_features_full)\n",
        "\n",
        "model_full = CatBoostClassifier(iterations=200,\n",
        "                           #learning_rate=0.25,\n",
        "                           depth=6,\n",
        "                           loss_function='MultiClass',  task_type='GPU')\n",
        "\n",
        "#Обучение модели\n",
        "model_full.fit(train_dataset_full)  \n",
        "#Получение предсказаний\n",
        "preds_class_full = model_full.predict(eval_dataset_full)"
      ],
      "execution_count": null,
      "outputs": []
    },
    {
      "cell_type": "code",
      "metadata": {
        "colab": {
          "base_uri": "https://localhost:8080/"
        },
        "id": "IDBLfp9dhMum",
        "outputId": "8c45839c-8d55-434b-d077-a73d7ef02482"
      },
      "source": [
        "print(accuracy_score(Y_full,preds_class_full))"
      ],
      "execution_count": 25,
      "outputs": [
        {
          "output_type": "stream",
          "text": [
            "0.572658839522446\n"
          ],
          "name": "stdout"
        }
      ]
    },
    {
      "cell_type": "markdown",
      "metadata": {
        "id": "g3t2dkRlJZ-B"
      },
      "source": [
        "### Full CatBoost GridSearch ###"
      ]
    },
    {
      "cell_type": "code",
      "metadata": {
        "id": "eULCDNMxJfi8"
      },
      "source": [
        "def crossvaltest(params,train_set,train_label,cat_dims,n_splits=3):\n",
        "    kf = KFold(n_splits=n_splits,shuffle=True) \n",
        "    res = []\n",
        "    for train_index, test_index in kf.split(train_set):\n",
        "        train = train_set.iloc[train_index,:]\n",
        "        test = train_set.iloc[test_index,:]\n",
        "\n",
        "        #labels = train_label.ix[train_index]\n",
        "        #test_labels = train_label.ix[test_index]\n",
        "\n",
        "        labels = train_label.iloc[train_index]\n",
        "        test_labels = train_label.iloc[test_index]\n",
        "\n",
        "        clf = cb.CatBoostClassifier(**params)\n",
        "        clf.fit(train, np.ravel(labels), cat_features=cat_dims)\n",
        "\n",
        "        res.append(np.mean(clf.predict(test)==np.ravel(test_labels)))\n",
        "    return np.mean(res)"
      ],
      "execution_count": 76,
      "outputs": []
    },
    {
      "cell_type": "code",
      "metadata": {
        "id": "P5umx-IiJwoT"
      },
      "source": [
        "def catboost_param_tune(params,train_set,train_label,cat_dims=None,n_splits=3):\n",
        "    ps = paramsearch(params)\n",
        "    # search 'border_count', 'l2_leaf_reg' etc. individually \n",
        "    #   but 'iterations','learning_rate' together\n",
        "    for prms in chain(#ps.grid_search(['border_count']),\n",
        "                      #ps.grid_search(['ctr_border_count']),\n",
        "                      ps.grid_search(['l2_leaf_reg']),\n",
        "                      ps.grid_search(['iterations','learning_rate']),\n",
        "                      ps.grid_search(['depth'])):\n",
        "        res = crossvaltest(prms,train_set,train_label,cat_dims,n_splits)\n",
        "        # save the crossvalidation result so that future iterations can reuse the best parameters\n",
        "        ps.register_result(res,prms)\n",
        "        print(res,prms,'best:',ps.bestscore(),ps.bestparam())\n",
        "    return ps.bestparam()"
      ],
      "execution_count": 92,
      "outputs": []
    },
    {
      "cell_type": "code",
      "metadata": {
        "id": "rZLDMG4HKNRB"
      },
      "source": [
        "\"\"\"\n",
        "params = {'depth':[1,2,3,4,5,6,7],\n",
        "          'iterations':[100,200,500,1000],\n",
        "          'learning_rate':[0.001,0.01,0.1,0.2,0.3],\n",
        "          'l2_leaf_reg':[1,3,5,10,100],\n",
        "          'border_count':[5,10,20,50,100,200],\n",
        "          'thread_count':4}\n",
        "\"\"\"\n",
        "\n",
        "\"\"\"\n",
        "params = {'depth':[1,2,3,4,5,6,7],\n",
        "          'iterations':[100,200,500,1000],\n",
        "          'learning_rate':[0.001,0.01,0.1,0.2,0.3],\n",
        "          'l2_leaf_reg':[1,3,5,10,100],\n",
        "          'border_count':[5,10,20,50,100,200],\n",
        "          'loss_function':['MultiClass'],\n",
        "          'task_type':['GPU']}\n",
        "\"\"\"\n",
        "\n",
        "params = {'depth':[4,5,6,7,8,9,10],\n",
        "          'iterations':[100,200,500,1000],\n",
        "          'learning_rate':[0.001,0.01,0.1,0.2,0.3],\n",
        "          'l2_leaf_reg':[1,3,5,10,100],\n",
        "          'loss_function':['MultiClass'],\n",
        "          'task_type':['GPU']}"
      ],
      "execution_count": 91,
      "outputs": []
    },
    {
      "cell_type": "code",
      "metadata": {
        "colab": {
          "base_uri": "https://localhost:8080/"
        },
        "id": "2dXICYQfJ9ub",
        "outputId": "e8be3351-6b2c-4806-f825-fc2a0939b2b2"
      },
      "source": [
        "bestparams = catboost_param_tune(params,X_full,Y_full,cat_features_full)\n",
        "print(bestparams)"
      ],
      "execution_count": null,
      "outputs": [
        {
          "output_type": "stream",
          "text": [
            "0:\tlearn: 5.2785685\ttotal: 5.36s\tremaining: 8m 50s\n",
            "1:\tlearn: 5.2437297\ttotal: 10.7s\tremaining: 8m 43s\n",
            "2:\tlearn: 5.2151785\ttotal: 16s\tremaining: 8m 38s\n",
            "3:\tlearn: 5.1913918\ttotal: 21.3s\tremaining: 8m 32s\n",
            "4:\tlearn: 5.1497602\ttotal: 26.7s\tremaining: 8m 26s\n",
            "5:\tlearn: 5.1206069\ttotal: 32s\tremaining: 8m 21s\n",
            "6:\tlearn: 5.0966148\ttotal: 37.3s\tremaining: 8m 15s\n",
            "7:\tlearn: 5.0752588\ttotal: 42.7s\tremaining: 8m 10s\n",
            "8:\tlearn: 5.0624323\ttotal: 48s\tremaining: 8m 5s\n",
            "9:\tlearn: 5.0499959\ttotal: 53.3s\tremaining: 7m 59s\n",
            "10:\tlearn: 5.0378608\ttotal: 58.6s\tremaining: 7m 54s\n",
            "11:\tlearn: 4.9999613\ttotal: 1m 3s\tremaining: 7m 49s\n",
            "12:\tlearn: 4.9647035\ttotal: 1m 9s\tremaining: 7m 43s\n",
            "13:\tlearn: 4.9316227\ttotal: 1m 14s\tremaining: 7m 38s\n",
            "14:\tlearn: 4.9004653\ttotal: 1m 19s\tremaining: 7m 33s\n",
            "15:\tlearn: 4.8709487\ttotal: 1m 25s\tremaining: 7m 27s\n",
            "16:\tlearn: 4.8429027\ttotal: 1m 30s\tremaining: 7m 22s\n",
            "17:\tlearn: 4.8161693\ttotal: 1m 35s\tremaining: 7m 17s\n",
            "18:\tlearn: 4.7906159\ttotal: 1m 41s\tremaining: 7m 11s\n",
            "19:\tlearn: 4.7661377\ttotal: 1m 46s\tremaining: 7m 6s\n",
            "20:\tlearn: 4.7426317\ttotal: 1m 51s\tremaining: 7m 1s\n",
            "21:\tlearn: 4.7200013\ttotal: 1m 57s\tremaining: 6m 55s\n",
            "22:\tlearn: 4.6981680\ttotal: 2m 2s\tremaining: 6m 50s\n",
            "23:\tlearn: 4.6771066\ttotal: 2m 7s\tremaining: 6m 45s\n",
            "24:\tlearn: 4.6567284\ttotal: 2m 13s\tremaining: 6m 39s\n",
            "25:\tlearn: 4.6370018\ttotal: 2m 18s\tremaining: 6m 34s\n",
            "26:\tlearn: 4.6179853\ttotal: 2m 23s\tremaining: 6m 29s\n",
            "27:\tlearn: 4.5993938\ttotal: 2m 29s\tremaining: 6m 23s\n",
            "28:\tlearn: 4.5813401\ttotal: 2m 34s\tremaining: 6m 18s\n",
            "29:\tlearn: 4.5637692\ttotal: 2m 39s\tremaining: 6m 13s\n",
            "30:\tlearn: 4.5466602\ttotal: 2m 45s\tremaining: 6m 7s\n",
            "31:\tlearn: 4.5300036\ttotal: 2m 50s\tremaining: 6m 2s\n",
            "32:\tlearn: 4.5137537\ttotal: 2m 55s\tremaining: 5m 57s\n",
            "33:\tlearn: 4.4978840\ttotal: 3m 1s\tremaining: 5m 51s\n",
            "34:\tlearn: 4.4824075\ttotal: 3m 6s\tremaining: 5m 46s\n",
            "35:\tlearn: 4.4672720\ttotal: 3m 11s\tremaining: 5m 41s\n",
            "36:\tlearn: 4.4524745\ttotal: 3m 17s\tremaining: 5m 35s\n",
            "37:\tlearn: 4.4380083\ttotal: 3m 22s\tremaining: 5m 30s\n",
            "38:\tlearn: 4.4238439\ttotal: 3m 27s\tremaining: 5m 25s\n",
            "39:\tlearn: 4.4099746\ttotal: 3m 33s\tremaining: 5m 19s\n",
            "40:\tlearn: 4.3963633\ttotal: 3m 38s\tremaining: 5m 14s\n",
            "41:\tlearn: 4.3830410\ttotal: 3m 43s\tremaining: 5m 9s\n",
            "42:\tlearn: 4.3699668\ttotal: 3m 49s\tremaining: 5m 3s\n",
            "43:\tlearn: 4.3571414\ttotal: 3m 54s\tremaining: 4m 58s\n",
            "44:\tlearn: 4.3445239\ttotal: 3m 59s\tremaining: 4m 53s\n",
            "45:\tlearn: 4.3321365\ttotal: 4m 5s\tremaining: 4m 47s\n",
            "46:\tlearn: 4.3199851\ttotal: 4m 10s\tremaining: 4m 42s\n",
            "47:\tlearn: 4.3080360\ttotal: 4m 15s\tremaining: 4m 37s\n",
            "48:\tlearn: 4.2962858\ttotal: 4m 21s\tremaining: 4m 31s\n",
            "49:\tlearn: 4.2847330\ttotal: 4m 26s\tremaining: 4m 26s\n",
            "50:\tlearn: 4.2733742\ttotal: 4m 31s\tremaining: 4m 21s\n",
            "51:\tlearn: 4.2615118\ttotal: 4m 37s\tremaining: 4m 15s\n",
            "52:\tlearn: 4.2505033\ttotal: 4m 42s\tremaining: 4m 10s\n",
            "53:\tlearn: 4.2396649\ttotal: 4m 47s\tremaining: 4m 5s\n",
            "54:\tlearn: 4.2289964\ttotal: 4m 53s\tremaining: 3m 59s\n",
            "55:\tlearn: 4.2184859\ttotal: 4m 58s\tremaining: 3m 54s\n",
            "56:\tlearn: 4.2080950\ttotal: 5m 3s\tremaining: 3m 49s\n",
            "57:\tlearn: 4.1978865\ttotal: 5m 9s\tremaining: 3m 43s\n",
            "58:\tlearn: 4.1878238\ttotal: 5m 14s\tremaining: 3m 38s\n",
            "59:\tlearn: 4.1778692\ttotal: 5m 19s\tremaining: 3m 33s\n",
            "60:\tlearn: 4.1680937\ttotal: 5m 25s\tremaining: 3m 27s\n",
            "61:\tlearn: 4.1584437\ttotal: 5m 30s\tremaining: 3m 22s\n",
            "62:\tlearn: 4.1489195\ttotal: 5m 35s\tremaining: 3m 17s\n",
            "63:\tlearn: 4.1394958\ttotal: 5m 41s\tremaining: 3m 11s\n",
            "64:\tlearn: 4.1301952\ttotal: 5m 46s\tremaining: 3m 6s\n",
            "65:\tlearn: 4.1210101\ttotal: 5m 51s\tremaining: 3m 1s\n",
            "66:\tlearn: 4.1119497\ttotal: 5m 57s\tremaining: 2m 55s\n",
            "67:\tlearn: 4.1030020\ttotal: 6m 2s\tremaining: 2m 50s\n",
            "68:\tlearn: 4.0941849\ttotal: 6m 7s\tremaining: 2m 45s\n",
            "69:\tlearn: 4.0854658\ttotal: 6m 13s\tremaining: 2m 39s\n",
            "70:\tlearn: 4.0768475\ttotal: 6m 18s\tremaining: 2m 34s\n",
            "71:\tlearn: 4.0677004\ttotal: 6m 23s\tremaining: 2m 29s\n",
            "72:\tlearn: 4.0592857\ttotal: 6m 29s\tremaining: 2m 23s\n",
            "73:\tlearn: 4.0509799\ttotal: 6m 34s\tremaining: 2m 18s\n",
            "74:\tlearn: 4.0427509\ttotal: 6m 39s\tremaining: 2m 13s\n",
            "75:\tlearn: 4.0346303\ttotal: 6m 45s\tremaining: 2m 7s\n",
            "76:\tlearn: 4.0265887\ttotal: 6m 50s\tremaining: 2m 2s\n",
            "77:\tlearn: 4.0180324\ttotal: 6m 55s\tremaining: 1m 57s\n",
            "78:\tlearn: 4.0095872\ttotal: 7m 1s\tremaining: 1m 51s\n",
            "79:\tlearn: 4.0017909\ttotal: 7m 6s\tremaining: 1m 46s\n",
            "80:\tlearn: 3.9940767\ttotal: 7m 11s\tremaining: 1m 41s\n",
            "81:\tlearn: 3.9864532\ttotal: 7m 17s\tremaining: 1m 35s\n",
            "82:\tlearn: 3.9789193\ttotal: 7m 22s\tremaining: 1m 30s\n",
            "83:\tlearn: 3.9714550\ttotal: 7m 27s\tremaining: 1m 25s\n",
            "84:\tlearn: 3.9640681\ttotal: 7m 33s\tremaining: 1m 19s\n",
            "85:\tlearn: 3.9567579\ttotal: 7m 38s\tremaining: 1m 14s\n",
            "86:\tlearn: 3.9495206\ttotal: 7m 43s\tremaining: 1m 9s\n",
            "87:\tlearn: 3.9423584\ttotal: 7m 49s\tremaining: 1m 3s\n",
            "88:\tlearn: 3.9352595\ttotal: 7m 54s\tremaining: 58.6s\n",
            "89:\tlearn: 3.9276734\ttotal: 7m 59s\tremaining: 53.3s\n",
            "90:\tlearn: 3.9201800\ttotal: 8m 5s\tremaining: 48s\n",
            "91:\tlearn: 3.9132890\ttotal: 8m 10s\tremaining: 42.6s\n",
            "92:\tlearn: 3.9059315\ttotal: 8m 15s\tremaining: 37.3s\n",
            "93:\tlearn: 3.8991700\ttotal: 8m 21s\tremaining: 32s\n",
            "94:\tlearn: 3.8924598\ttotal: 8m 26s\tremaining: 26.7s\n",
            "95:\tlearn: 3.8858154\ttotal: 8m 31s\tremaining: 21.3s\n",
            "96:\tlearn: 3.8792460\ttotal: 8m 37s\tremaining: 16s\n",
            "97:\tlearn: 3.8727183\ttotal: 8m 42s\tremaining: 10.7s\n",
            "98:\tlearn: 3.8662472\ttotal: 8m 47s\tremaining: 5.33s\n",
            "99:\tlearn: 3.8598435\ttotal: 8m 53s\tremaining: 0us\n"
          ],
          "name": "stdout"
        }
      ]
    },
    {
      "cell_type": "markdown",
      "metadata": {
        "id": "gM99GSEwX15K"
      },
      "source": [
        "## Предсказания по тестовой выборке ##"
      ]
    },
    {
      "cell_type": "code",
      "metadata": {
        "id": "ZDwruJ83FP82"
      },
      "source": [
        "test2015_2018 = pd.read_csv('/content/drive/MyDrive/Хакатон/testdataset2015-2018.csv')"
      ],
      "execution_count": 26,
      "outputs": []
    },
    {
      "cell_type": "code",
      "metadata": {
        "colab": {
          "base_uri": "https://localhost:8080/",
          "height": 194
        },
        "id": "11Az0PzRFWyF",
        "outputId": "ed51a8cb-b16d-4e88-93fd-2258a3a8d5f6"
      },
      "source": [
        "test2015_2018.head(2)"
      ],
      "execution_count": 27,
      "outputs": [
        {
          "output_type": "execute_result",
          "data": {
            "text/html": [
              "<div>\n",
              "<style scoped>\n",
              "    .dataframe tbody tr th:only-of-type {\n",
              "        vertical-align: middle;\n",
              "    }\n",
              "\n",
              "    .dataframe tbody tr th {\n",
              "        vertical-align: top;\n",
              "    }\n",
              "\n",
              "    .dataframe thead th {\n",
              "        text-align: right;\n",
              "    }\n",
              "</style>\n",
              "<table border=\"1\" class=\"dataframe\">\n",
              "  <thead>\n",
              "    <tr style=\"text-align: right;\">\n",
              "      <th></th>\n",
              "      <th>CODE_CULTU_2018</th>\n",
              "      <th>CODE_GROUP_2018</th>\n",
              "      <th>centroid</th>\n",
              "      <th>CODE_CULTU_2017</th>\n",
              "      <th>CODE_GROUP_2017</th>\n",
              "      <th>CODE_CULTU_2016</th>\n",
              "      <th>CODE_GROUP_2016</th>\n",
              "      <th>CODE_CULTU_2015</th>\n",
              "      <th>CODE_GROUP_2015</th>\n",
              "      <th>cultuCode</th>\n",
              "      <th>groupCode</th>\n",
              "      <th>RotationLength</th>\n",
              "      <th>RotationCount</th>\n",
              "      <th>hzs</th>\n",
              "      <th>kg_id</th>\n",
              "      <th>ff_id</th>\n",
              "    </tr>\n",
              "  </thead>\n",
              "  <tbody>\n",
              "    <tr>\n",
              "      <th>0</th>\n",
              "      <td>J6S</td>\n",
              "      <td>11</td>\n",
              "      <td>Point (837113.21815327 6542642.03294466)</td>\n",
              "      <td>J6S</td>\n",
              "      <td>11</td>\n",
              "      <td>J6S</td>\n",
              "      <td>11</td>\n",
              "      <td>J6S</td>\n",
              "      <td>11</td>\n",
              "      <td>aaaa</td>\n",
              "      <td>aaaa</td>\n",
              "      <td>1</td>\n",
              "      <td>4</td>\n",
              "      <td>8b</td>\n",
              "      <td>Cfb</td>\n",
              "      <td>ff13</td>\n",
              "    </tr>\n",
              "    <tr>\n",
              "      <th>1</th>\n",
              "      <td>PTR</td>\n",
              "      <td>19</td>\n",
              "      <td>Point (859951.6897682 6548701.23025595)</td>\n",
              "      <td>PTR</td>\n",
              "      <td>19</td>\n",
              "      <td>PTR</td>\n",
              "      <td>19</td>\n",
              "      <td>BTH</td>\n",
              "      <td>1</td>\n",
              "      <td>aaab</td>\n",
              "      <td>aaab</td>\n",
              "      <td>2</td>\n",
              "      <td>1</td>\n",
              "      <td>8b</td>\n",
              "      <td>Cfb</td>\n",
              "      <td>ff13</td>\n",
              "    </tr>\n",
              "  </tbody>\n",
              "</table>\n",
              "</div>"
            ],
            "text/plain": [
              "  CODE_CULTU_2018  CODE_GROUP_2018  ... kg_id ff_id\n",
              "0             J6S               11  ...   Cfb  ff13\n",
              "1             PTR               19  ...   Cfb  ff13\n",
              "\n",
              "[2 rows x 16 columns]"
            ]
          },
          "metadata": {
            "tags": []
          },
          "execution_count": 27
        }
      ]
    },
    {
      "cell_type": "code",
      "metadata": {
        "id": "k5Y7tynpqmqi"
      },
      "source": [
        "g_test_pred = get_unique_chains_test(test2015_2018)"
      ],
      "execution_count": 30,
      "outputs": []
    },
    {
      "cell_type": "code",
      "metadata": {
        "id": "djrqt2ngdW38"
      },
      "source": [
        "#Получает предсказания для тестовой выборки из уникальных последовательностей обучающей выборки\n",
        "g_test_pred = pd.merge(g_test_pred, g_pred,  how='left', left_on=['CODE_CULTU_2015','CODE_CULTU_2016','CODE_CULTU_2017','CODE_CULTU_2018'], right_on = ['CODE_CULTU_2015','CODE_CULTU_2016','CODE_CULTU_2017','CODE_CULTU_2018'])\n"
      ],
      "execution_count": 31,
      "outputs": []
    },
    {
      "cell_type": "code",
      "metadata": {
        "id": "_9bCQ_cNdW39"
      },
      "source": [
        "g_test_pred = g_test_pred.reindex(columns=['CODE_CULTU_2015','CODE_CULTU_2016','CODE_CULTU_2017','CODE_CULTU_2018','CODE_CULTU_2019_predict'])"
      ],
      "execution_count": 33,
      "outputs": []
    },
    {
      "cell_type": "code",
      "metadata": {
        "colab": {
          "base_uri": "https://localhost:8080/"
        },
        "id": "MA9AbLEIqOWI",
        "outputId": "28177f40-dfa6-4698-f1b9-8eb5b21906f1"
      },
      "source": [
        "print(g_test_pred['CODE_CULTU_2019_predict'].value_counts().sum())\n",
        "print(g_test_pred['CODE_CULTU_2019_predict'].value_counts())"
      ],
      "execution_count": 34,
      "outputs": [
        {
          "output_type": "stream",
          "text": [
            "4254\n",
            "BTH    683\n",
            "PTR    444\n",
            "LUZ    250\n",
            "MLG    219\n",
            "MIS    215\n",
            "      ... \n",
            "RUT      1\n",
            "AGR      1\n",
            "CHT      1\n",
            "LEF      1\n",
            "PFP      1\n",
            "Name: CODE_CULTU_2019_predict, Length: 144, dtype: int64\n"
          ],
          "name": "stdout"
        }
      ]
    },
    {
      "cell_type": "code",
      "metadata": {
        "id": "YkPNa_y2dW4E"
      },
      "source": [
        "#Получаем предсказания по эвристике по уникальным последовательностям для тестовой выборки\n",
        "test_pred = pd.merge(test2015_2018, g_test_pred,  how='left', left_on=['CODE_CULTU_2015','CODE_CULTU_2016','CODE_CULTU_2017','CODE_CULTU_2018'], right_on = ['CODE_CULTU_2015','CODE_CULTU_2016','CODE_CULTU_2017','CODE_CULTU_2018'])"
      ],
      "execution_count": 35,
      "outputs": []
    },
    {
      "cell_type": "code",
      "metadata": {
        "colab": {
          "base_uri": "https://localhost:8080/"
        },
        "id": "D63IjToHdW4F",
        "outputId": "279c5c97-dac5-4c61-c612-b0c23c39b527"
      },
      "source": [
        "print(test_pred['CODE_CULTU_2019_predict'].value_counts().sum())\n",
        "print(test_pred['CODE_CULTU_2019_predict'].value_counts())"
      ],
      "execution_count": 37,
      "outputs": [
        {
          "output_type": "stream",
          "text": [
            "4554\n",
            "BTH    735\n",
            "PTR    462\n",
            "LUZ    263\n",
            "MLG    244\n",
            "ORH    225\n",
            "      ... \n",
            "CSS      1\n",
            "LDP      1\n",
            "CCT      1\n",
            "PAT      1\n",
            "LEF      1\n",
            "Name: CODE_CULTU_2019_predict, Length: 144, dtype: int64\n"
          ],
          "name": "stdout"
        }
      ]
    },
    {
      "cell_type": "code",
      "metadata": {
        "id": "s86BoReIdW4F"
      },
      "source": [
        "#Сохраняем первую часть, предсказанную по эвристике по уникальным последовательностям\n",
        "test_part1 = test_pred[test_pred.CODE_CULTU_2019_predict.notnull()].copy()"
      ],
      "execution_count": 41,
      "outputs": []
    },
    {
      "cell_type": "code",
      "metadata": {
        "colab": {
          "base_uri": "https://localhost:8080/",
          "height": 194
        },
        "id": "tUfT1xjmdW4G",
        "outputId": "f17ba2a1-30cf-4dce-acfd-bc1c55349c7e"
      },
      "source": [
        "test_part1.head(2)"
      ],
      "execution_count": 42,
      "outputs": [
        {
          "output_type": "execute_result",
          "data": {
            "text/html": [
              "<div>\n",
              "<style scoped>\n",
              "    .dataframe tbody tr th:only-of-type {\n",
              "        vertical-align: middle;\n",
              "    }\n",
              "\n",
              "    .dataframe tbody tr th {\n",
              "        vertical-align: top;\n",
              "    }\n",
              "\n",
              "    .dataframe thead th {\n",
              "        text-align: right;\n",
              "    }\n",
              "</style>\n",
              "<table border=\"1\" class=\"dataframe\">\n",
              "  <thead>\n",
              "    <tr style=\"text-align: right;\">\n",
              "      <th></th>\n",
              "      <th>CODE_CULTU_2018</th>\n",
              "      <th>CODE_GROUP_2018</th>\n",
              "      <th>centroid</th>\n",
              "      <th>CODE_CULTU_2017</th>\n",
              "      <th>CODE_GROUP_2017</th>\n",
              "      <th>CODE_CULTU_2016</th>\n",
              "      <th>CODE_GROUP_2016</th>\n",
              "      <th>CODE_CULTU_2015</th>\n",
              "      <th>CODE_GROUP_2015</th>\n",
              "      <th>cultuCode</th>\n",
              "      <th>groupCode</th>\n",
              "      <th>RotationLength</th>\n",
              "      <th>RotationCount</th>\n",
              "      <th>hzs</th>\n",
              "      <th>kg_id</th>\n",
              "      <th>ff_id</th>\n",
              "      <th>CODE_CULTU_2019_predict</th>\n",
              "    </tr>\n",
              "  </thead>\n",
              "  <tbody>\n",
              "    <tr>\n",
              "      <th>97</th>\n",
              "      <td>ORP</td>\n",
              "      <td>3</td>\n",
              "      <td>Point (924172.59491668 6566269.23410383)</td>\n",
              "      <td>PTR</td>\n",
              "      <td>19</td>\n",
              "      <td>MLG</td>\n",
              "      <td>16</td>\n",
              "      <td>PTR</td>\n",
              "      <td>19</td>\n",
              "      <td>abcb</td>\n",
              "      <td>abcb</td>\n",
              "      <td>3</td>\n",
              "      <td>1</td>\n",
              "      <td>8b</td>\n",
              "      <td>Dfb</td>\n",
              "      <td>ff12</td>\n",
              "      <td>BTH</td>\n",
              "    </tr>\n",
              "    <tr>\n",
              "      <th>287</th>\n",
              "      <td>MIE</td>\n",
              "      <td>2</td>\n",
              "      <td>Point (910788.69124593 6541905.66972968)</td>\n",
              "      <td>ORH</td>\n",
              "      <td>3</td>\n",
              "      <td>TTH</td>\n",
              "      <td>4</td>\n",
              "      <td>PPH</td>\n",
              "      <td>18</td>\n",
              "      <td>abcd</td>\n",
              "      <td>abcd</td>\n",
              "      <td>4</td>\n",
              "      <td>1</td>\n",
              "      <td>8a</td>\n",
              "      <td>Dfb</td>\n",
              "      <td>ff12</td>\n",
              "      <td>MIE</td>\n",
              "    </tr>\n",
              "  </tbody>\n",
              "</table>\n",
              "</div>"
            ],
            "text/plain": [
              "    CODE_CULTU_2018  CODE_GROUP_2018  ... ff_id CODE_CULTU_2019_predict\n",
              "97              ORP                3  ...  ff12                     BTH\n",
              "287             MIE                2  ...  ff12                     MIE\n",
              "\n",
              "[2 rows x 17 columns]"
            ]
          },
          "metadata": {
            "tags": []
          },
          "execution_count": 42
        }
      ]
    },
    {
      "cell_type": "code",
      "metadata": {
        "id": "vkpQk7fYdW4H"
      },
      "source": [
        "#Формируем вторую часть для предсказаний по эверистике по закономерностям последовательностей культур на основе анализа\n",
        "test_part2 = test_pred[test_pred.CODE_CULTU_2019_predict.isna()].copy()"
      ],
      "execution_count": 53,
      "outputs": []
    },
    {
      "cell_type": "code",
      "metadata": {
        "id": "0l4W0JVTeQj_"
      },
      "source": [
        "#Получаем предсказания по эвристике по закономерностям последовательностей культур на основе анализа данных\n",
        "test_part2['CODE_CULTU_2019_predict'] = test_part2.apply(lambda x: predict_next_culture_4_years_list(x['CODE_CULTU_2015'],x['CODE_CULTU_2016'],x['CODE_CULTU_2017'],x['CODE_CULTU_2018']), axis=1, result_type='expand')"
      ],
      "execution_count": 54,
      "outputs": []
    },
    {
      "cell_type": "code",
      "metadata": {
        "colab": {
          "base_uri": "https://localhost:8080/"
        },
        "id": "bWN8m_UleQkC",
        "outputId": "58d9aa90-af7f-4c8a-c67e-8f77ae3961ce"
      },
      "source": [
        "print(test_part2['CODE_CULTU_2019_predict'].value_counts().sum())\n",
        "print(test_part2['CODE_CULTU_2019_predict'].value_counts())"
      ],
      "execution_count": 45,
      "outputs": [
        {
          "output_type": "stream",
          "text": [
            "397091\n",
            "Unknown    166549\n",
            "PPH        118597\n",
            "VRC         19986\n",
            "J6S         11119\n",
            "SNE          9443\n",
            "            ...  \n",
            "FNO             1\n",
            "CMM             1\n",
            "TTP             1\n",
            "PAN             1\n",
            "PAG             1\n",
            "Name: CODE_CULTU_2019_predict, Length: 145, dtype: int64\n"
          ],
          "name": "stdout"
        }
      ]
    },
    {
      "cell_type": "code",
      "metadata": {
        "id": "7fEQ8s0XeZ9W"
      },
      "source": [
        "#Формирование набора данных, по которому не удалось предсказать значения с помощью эвристик ###\n",
        "test_part3 = test_part2[test_part2['CODE_CULTU_2019_predict'] == 'Unknown']\n",
        "test_part3 = test_part3.add_suffix('').reset_index()"
      ],
      "execution_count": 56,
      "outputs": []
    },
    {
      "cell_type": "code",
      "metadata": {
        "id": "WjX2ikA_iUdO"
      },
      "source": [
        "#Формирование набора данных с предсказанными по эвристикам значениями\n",
        "test_part2 = test_part2[test_part2['CODE_CULTU_2019_predict'] != 'Unknown']"
      ],
      "execution_count": 57,
      "outputs": []
    },
    {
      "cell_type": "code",
      "metadata": {
        "id": "ud6H4QGrbhAt"
      },
      "source": [
        "#Признаки для модели для тестовой выборки\n",
        "X_test = test_part3[['RotationLength', 'RotationCount',\n",
        "       'CODE_CULTU_2015', 'CODE_CULTU_2016', 'CODE_CULTU_2017',\n",
        "       'CODE_CULTU_2018', 'CODE_GROUP_2015',\n",
        "       'CODE_GROUP_2016', 'CODE_GROUP_2017', 'CODE_GROUP_2018',\n",
        "       'hzs', 'kg_id', 'ff_id']]\n",
        "\n",
        "X_test = X_test.replace(np.nan, 'unknown', regex=True)\n",
        "\n",
        "cat_features_test = [2, 3, 4, 5, 6, 7, 8, 9, 10, 11, 12]"
      ],
      "execution_count": 58,
      "outputs": []
    },
    {
      "cell_type": "code",
      "metadata": {
        "id": "OsqYTgYNk52w"
      },
      "source": [
        "#Получение предсказаний\n",
        "test_dataset = Pool(data=X_test,\n",
        "                    cat_features=cat_features_test)\n",
        "\n",
        "preds_class_test = model_full.predict(test_dataset)"
      ],
      "execution_count": 60,
      "outputs": []
    },
    {
      "cell_type": "code",
      "metadata": {
        "id": "yPox4OdSmJ2F"
      },
      "source": [
        "test_part3['CODE_CULTU_2019_predict'] = preds_class_test"
      ],
      "execution_count": 61,
      "outputs": []
    },
    {
      "cell_type": "markdown",
      "metadata": {
        "id": "3cDIcQ3LjYl3"
      },
      "source": [
        "Корректировка явных ошибок CatBoost (Предсказание значения, которое не встречалось в выборке, заменяем на последнее значение в выборке)"
      ]
    },
    {
      "cell_type": "code",
      "metadata": {
        "id": "ByWV2Z0QmwyF"
      },
      "source": [
        "test_part3_1 = test_part3.loc[(test_part3['CODE_CULTU_2019_predict'] != test_part3['CODE_CULTU_2015']) & (test_part3['CODE_CULTU_2019_predict'] != test_part3['CODE_CULTU_2016']) & (test_part3['CODE_CULTU_2019_predict'] != test_part3['CODE_CULTU_2017']) & (test_part3['CODE_CULTU_2019_predict'] != test_part3['CODE_CULTU_2018']) ]"
      ],
      "execution_count": 62,
      "outputs": []
    },
    {
      "cell_type": "code",
      "metadata": {
        "id": "FAeJYnzDmwyF"
      },
      "source": [
        "test_part3_2 = test_part3.loc[(test_part3['CODE_CULTU_2019_predict'] == test_part3['CODE_CULTU_2015']) | (test_part3['CODE_CULTU_2019_predict'] == test_part3['CODE_CULTU_2016']) | (test_part3['CODE_CULTU_2019_predict'] == test_part3['CODE_CULTU_2017']) | (test_part3['CODE_CULTU_2019_predict'] == test_part3['CODE_CULTU_2018']) ]"
      ],
      "execution_count": 63,
      "outputs": []
    },
    {
      "cell_type": "code",
      "metadata": {
        "colab": {
          "base_uri": "https://localhost:8080/"
        },
        "id": "LRAkQP8WmwyF",
        "outputId": "56b18c96-18e8-4ca3-99dd-2b3e20ade198"
      },
      "source": [
        "test_part3_1['CODE_CULTU_2019_predict'] = test_part3_1['CODE_CULTU_2018']"
      ],
      "execution_count": 64,
      "outputs": [
        {
          "output_type": "stream",
          "text": [
            "/usr/local/lib/python3.7/dist-packages/ipykernel_launcher.py:1: SettingWithCopyWarning: \n",
            "A value is trying to be set on a copy of a slice from a DataFrame.\n",
            "Try using .loc[row_indexer,col_indexer] = value instead\n",
            "\n",
            "See the caveats in the documentation: https://pandas.pydata.org/pandas-docs/stable/user_guide/indexing.html#returning-a-view-versus-a-copy\n",
            "  \"\"\"Entry point for launching an IPython kernel.\n"
          ],
          "name": "stderr"
        }
      ]
    },
    {
      "cell_type": "code",
      "metadata": {
        "id": "4gHug_vnmwyG"
      },
      "source": [
        "#Объединение данных\n",
        "final_data_test = pd.concat([test_part1,test_part2,test_part3])\n",
        "final_data_test = final_data_test[['centroid','CODE_CULTU_2019_predict']]\n",
        "final_data_test.rename(columns = {'CODE_CULTU_2019_predict': 'CODE_CULTU_2019'}, inplace = True)"
      ],
      "execution_count": 67,
      "outputs": []
    },
    {
      "cell_type": "code",
      "metadata": {
        "id": "sScG0uXUttc4"
      },
      "source": [
        "#Формирование файла ответов\n",
        "pd.DataFrame(final_data_test[['centroid','CODE_CULTU_2019']]).to_csv(\"/content/drive/MyDrive/Хакатон/predict2019.csv\",index=False,header=True)"
      ],
      "execution_count": null,
      "outputs": []
    }
  ]
}