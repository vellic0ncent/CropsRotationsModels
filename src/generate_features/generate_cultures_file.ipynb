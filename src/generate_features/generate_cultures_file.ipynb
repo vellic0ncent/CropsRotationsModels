{
 "nbformat": 4,
 "nbformat_minor": 0,
 "metadata": {
  "colab": {
   "name": "Untitled14.ipynb",
   "provenance": []
  },
  "kernelspec": {
   "name": "python3",
   "display_name": "Python 3"
  }
 },
 "cells": [
  {
   "cell_type": "code",
   "metadata": {
    "colab": {
     "base_uri": "https://localhost:8080/"
    },
    "id": "8VD2ftUciXDS",
    "outputId": "e9e4a640-516d-48bf-85a8-7aacc4bbb299"
   },
   "source": [
    "from google.colab import drive\n",
    "drive.mount('/content/gdrive')"
   ],
   "execution_count": null,
   "outputs": [
    {
     "output_type": "stream",
     "text": [
      "Drive already mounted at /content/gdrive; to attempt to forcibly remount, call drive.mount(\"/content/gdrive\", force_remount=True).\n"
     ],
     "name": "stdout"
    }
   ]
  },
  {
   "cell_type": "code",
   "metadata": {
    "id": "bqYWU1r7lJJy"
   },
   "source": [
    "import numpy as np\n",
    "import pandas as pd"
   ],
   "execution_count": null,
   "outputs": []
  },
  {
   "cell_type": "code",
   "metadata": {
    "id": "xfPuMmy_lgGv"
   },
   "source": [
    "def join_coordinates(df):\n",
    "    coordinates = df['centroid'].str.extract(r'Point \\((\\d+\\.?\\d*) (\\d+\\.?\\d*)\\)', expand=True)\n",
    "    coordinates.columns = ['x', 'y']\n",
    "    coordinates['x'] = coordinates['x'].astype('float64')\n",
    "    coordinates['y'] = coordinates['y'].astype('float64')\n",
    "    return df.join(coordinates)"
   ],
   "execution_count": null,
   "outputs": []
  },
  {
   "cell_type": "code",
   "metadata": {
    "id": "QcRbP1vDlnDg"
   },
   "source": [
    "df15 = join_coordinates(df15)\n",
    "df16 = join_coordinates(df16)\n",
    "df17 = join_coordinates(df17)\n",
    "df18 = join_coordinates(df18)\n",
    "df19 = join_coordinates(df19)"
   ],
   "execution_count": null,
   "outputs": []
  },
  {
   "cell_type": "code",
   "metadata": {
    "colab": {
     "base_uri": "https://localhost:8080/"
    },
    "id": "oZd4E7Azl7P-",
    "outputId": "826cc1f0-49a0-4a63-b4b3-a00768f5d656"
   },
   "source": [
    "def find_prefix_by_matching_str(prefixes, string):\n",
    "    for prefix in prefixes:\n",
    "        if string.startswith(prefix):\n",
    "            return prefix\n",
    "    return None"
   ],
   "execution_count": null,
   "outputs": [
    {
     "output_type": "execute_result",
     "data": {
      "text/plain": [
       "312"
      ]
     },
     "metadata": {
      "tags": []
     },
     "execution_count": 12
    }
   ]
  },
  {
   "cell_type": "code",
   "metadata": {
    "id": "Vvt4WC9rad1b"
   },
   "source": [
    "!ls /content/gdrive/MyDrive/cultures/\n",
    "!pwd\n",
    "!mkdir -p cultures\n",
    "!ls"
   ],
   "execution_count": null,
   "outputs": []
  },
  {
   "cell_type": "code",
   "metadata": {
    "colab": {
     "base_uri": "https://localhost:8080/"
    },
    "id": "zU16o6IQ-1HW",
    "outputId": "4faba5a4-d644-4ade-8ff2-374e8e9af7fd"
   },
   "source": [
    "!unzip /content/gdrive/MyDrive/cultures/Dossier-PAC-2020_notice_cultures-precisions-pages-1-6.zip -d /content/cultures/2020/\n",
    "!unzip /content/gdrive/MyDrive/cultures/Dossier-PAC-2019_notice_cultures-precisions-pages-1-6.zip -d /content/cultures/2019/\n",
    "!unzip /content/gdrive/MyDrive/cultures/Dossier-PAC-2018_notice_cultures-precisions-pages-1-6.zip -d /content/cultures/2018/\n",
    "!unzip /content/gdrive/MyDrive/cultures/Dossier-PAC-2017_notice_cultures-precisions-pages-1-6.zip -d /content/cultures/2017/\n",
    "!unzip /content/gdrive/MyDrive/cultures/Dossier-PAC-2016_notice_cultures-precisions-pages-1-6.zip -d /content/cultures/2016/\n",
    "!unzip /content/gdrive/MyDrive/cultures/Dossier-PAC-2015_notice_cultures-precisions-pages-1-6.zip -d /content/cultures/2015/"
   ],
   "execution_count": null,
   "outputs": [
    {
     "output_type": "stream",
     "text": [
      "Archive:  /content/gdrive/MyDrive/cultures/Dossier-PAC-2020_notice_cultures-precisions-pages-1-6.zip\n",
      "replace /content/cultures/2020/rawText.txt? [y]es, [n]o, [A]ll, [N]one, [r]ename: Archive:  /content/gdrive/MyDrive/cultures/Dossier-PAC-2019_notice_cultures-precisions-pages-1-6.zip\n",
      "replace /content/cultures/2019/rawText.txt? [y]es, [n]o, [A]ll, [N]one, [r]ename: Archive:  /content/gdrive/MyDrive/cultures/Dossier-PAC-2018_notice_cultures-precisions-pages-1-6.zip\n",
      "replace /content/cultures/2018/rawText.txt? [y]es, [n]o, [A]ll, [N]one, [r]ename: Archive:  /content/gdrive/MyDrive/cultures/Dossier-PAC-2017_notice_cultures-precisions-pages-1-6.zip\n",
      "replace /content/cultures/2017/rawText.txt? [y]es, [n]o, [A]ll, [N]one, [r]ename: Archive:  /content/gdrive/MyDrive/cultures/Dossier-PAC-2016_notice_cultures-precisions-pages-1-6.zip\n",
      "replace /content/cultures/2016/rawText.txt? [y]es, [n]o, [A]ll, [N]one, [r]ename: Archive:  /content/gdrive/MyDrive/cultures/Dossier-PAC-2015_notice_cultures-precisions-pages-1-6.zip\n",
      "replace /content/cultures/2015/rawText.txt? [y]es, [n]o, [A]ll, [N]one, [r]ename: "
     ],
     "name": "stdout"
    }
   ]
  },
  {
   "cell_type": "code",
   "metadata": {
    "id": "cDxJR9yCEU0M"
   },
   "source": [
    "import re\n",
    "def parse_cultures_tables(dir_with_tables):\n",
    "    cool_column_prefixes = ['Libellé de la culture', 'Code de la culture']\n",
    "    cultures = pd.DataFrame(columns=cool_column_prefixes)\n",
    "    for filename in os.listdir(dir_with_tables):\n",
    "        if re.match(r'table-\\d+\\.csv', filename): \n",
    "            table = pd.read_csv(f'{dir_with_tables}/{filename}')\n",
    "            # collect needed columns\n",
    "            cols = [column for column in table.columns \n",
    "                    if any([column.startswith(cool_column_prefix) for cool_column_prefix in cool_column_prefixes])]\n",
    "            if len(cols) == 0:\n",
    "                continue\n",
    "            table = table[cols]\n",
    "            # strip columns and values\n",
    "            table.columns = [col.strip() for col in table.columns]\n",
    "            for column in table.columns:\n",
    "                try:\n",
    "                    table.loc[:, column] = table[column].str.strip().copy()\n",
    "                except Exception as e:\n",
    "                    print(f'Error processing file({dir_with_tables}/{filename}), column({column})', e)\n",
    "            # some results contains actual several table which are concatenated horizontaly\n",
    "            # so we are going to sprit it\n",
    "            postfixes = set([col[-3:] for col in table.columns])\n",
    "            grouped_cols = [[col for col in table.columns if col.endswith(postfix)] for postfix in postfixes]\n",
    "            for col_group in grouped_cols:\n",
    "                subtable = table[col_group].copy()\n",
    "                # normalize column names\n",
    "                subtable.columns = [find_prefix_by_matching_str(cool_column_prefixes, col) for col in subtable.columns]\n",
    "                subtable = subtable.dropna(subset=[cool_column_prefixes[1]])\n",
    "                cultures = cultures.append(subtable, ignore_index=True)\n",
    "    cultures.columns = ['description', 'code']\n",
    "    return cultures"
   ],
   "execution_count": null,
   "outputs": []
  },
  {
   "cell_type": "code",
   "metadata": {
    "colab": {
     "base_uri": "https://localhost:8080/"
    },
    "id": "GzPLVrbk-gLT",
    "outputId": "77ca4d42-6c98-430a-a867-15998140431c"
   },
   "source": [
    "cultures20 = parse_cultures_tables('/content/cultures/2020')\n",
    "cultures19 = parse_cultures_tables('/content/cultures/2019')\n",
    "cultures18 = parse_cultures_tables('/content/cultures/2018')\n",
    "cultures17 = parse_cultures_tables('/content/cultures/2017')\n",
    "cultures16 = parse_cultures_tables('/content/cultures/2016')\n",
    "cultures15 = parse_cultures_tables('/content/cultures/2015')\n",
    "cultures_list = [cultures20, cultures19, cultures18, cultures17, cultures16, cultures15]"
   ],
   "execution_count": null,
   "outputs": [
    {
     "output_type": "stream",
     "text": [
      "Error processing file(/content/cultures/2017/table-8.csv), column(Libellé de la culture) Can only use .str accessor with string values!\n",
      "Error processing file(/content/cultures/2016/table-9.csv), column(Libellé de la culture) Can only use .str accessor with string values!\n"
     ],
     "name": "stdout"
    }
   ]
  },
  {
   "cell_type": "code",
   "metadata": {
    "colab": {
     "base_uri": "https://localhost:8080/"
    },
    "id": "49rxb9fi7gIR",
    "outputId": "316765e5-4dfa-4d06-8445-620cc2371b3f"
   },
   "source": [
    "for cultures in cultures_list:\n",
    "    print(f'Total cultures vs unique cultures vs unique descriptions: {cultures.shape[0]} vs {cultures.iloc[:, 1].nunique()} vs {cultures.iloc[:, 0].nunique()}')"
   ],
   "execution_count": null,
   "outputs": [
    {
     "output_type": "stream",
     "text": [
      "Total cultures vs unique cultures vs unique descriptions: 278 vs 278 vs 278\n",
      "Total cultures vs unique cultures vs unique descriptions: 278 vs 278 vs 278\n",
      "Total cultures vs unique cultures vs unique descriptions: 323 vs 323 vs 322\n",
      "Total cultures vs unique cultures vs unique descriptions: 322 vs 322 vs 321\n",
      "Total cultures vs unique cultures vs unique descriptions: 304 vs 304 vs 303\n",
      "Total cultures vs unique cultures vs unique descriptions: 290 vs 290 vs 290\n"
     ],
     "name": "stdout"
    }
   ]
  },
  {
   "cell_type": "code",
   "metadata": {
    "id": "lqhuUlYn8fTn"
   },
   "source": [
    "cultures20['year'] = 2020\n",
    "cultures19['year'] = 2019\n",
    "cultures18['year'] = 2018\n",
    "cultures17['year'] = 2017\n",
    "cultures16['year'] = 2016\n",
    "cultures15['year'] = 2015"
   ],
   "execution_count": null,
   "outputs": []
  },
  {
   "cell_type": "code",
   "metadata": {
    "id": "eF-6xYZaICly"
   },
   "source": [
    "cultures = pd.concat(cultures_list, ignore_index=True)"
   ],
   "execution_count": null,
   "outputs": []
  },
  {
   "cell_type": "code",
   "metadata": {
    "colab": {
     "base_uri": "https://localhost:8080/",
     "height": 204
    },
    "id": "bNnHcXAHIXfa",
    "outputId": "00dc12b6-3181-45d6-9a6d-12cbd67f7a27"
   },
   "source": [
    "cultures.head()"
   ],
   "execution_count": null,
   "outputs": [
    {
     "output_type": "execute_result",
     "data": {
      "text/html": [
       "<div>\n",
       "<style scoped>\n",
       "    .dataframe tbody tr th:only-of-type {\n",
       "        vertical-align: middle;\n",
       "    }\n",
       "\n",
       "    .dataframe tbody tr th {\n",
       "        vertical-align: top;\n",
       "    }\n",
       "\n",
       "    .dataframe thead th {\n",
       "        text-align: right;\n",
       "    }\n",
       "</style>\n",
       "<table border=\"1\" class=\"dataframe\">\n",
       "  <thead>\n",
       "    <tr style=\"text-align: right;\">\n",
       "      <th></th>\n",
       "      <th>description</th>\n",
       "      <th>code</th>\n",
       "      <th>year</th>\n",
       "    </tr>\n",
       "  </thead>\n",
       "  <tbody>\n",
       "    <tr>\n",
       "      <th>0</th>\n",
       "      <td>Autre céréale de genre Fagopyrum</td>\n",
       "      <td>CGF</td>\n",
       "      <td>2020</td>\n",
       "    </tr>\n",
       "    <tr>\n",
       "      <th>1</th>\n",
       "      <td>Autre céréale ou pseudo-céréale d'un autre genre*</td>\n",
       "      <td>CAG</td>\n",
       "      <td>2020</td>\n",
       "    </tr>\n",
       "    <tr>\n",
       "      <th>2</th>\n",
       "      <td>Mélange de céréales ou pseudo-céréales pures o...</td>\n",
       "      <td>MCR</td>\n",
       "      <td>2020</td>\n",
       "    </tr>\n",
       "    <tr>\n",
       "      <th>3</th>\n",
       "      <td>Mélisse</td>\n",
       "      <td>MLI</td>\n",
       "      <td>2020</td>\n",
       "    </tr>\n",
       "    <tr>\n",
       "      <th>4</th>\n",
       "      <td>Menthe</td>\n",
       "      <td>MTH</td>\n",
       "      <td>2020</td>\n",
       "    </tr>\n",
       "  </tbody>\n",
       "</table>\n",
       "</div>"
      ],
      "text/plain": [
       "                                         description code  year\n",
       "0                   Autre céréale de genre Fagopyrum  CGF  2020\n",
       "1  Autre céréale ou pseudo-céréale d'un autre genre*  CAG  2020\n",
       "2  Mélange de céréales ou pseudo-céréales pures o...  MCR  2020\n",
       "3                                            Mélisse  MLI  2020\n",
       "4                                             Menthe  MTH  2020"
      ]
     },
     "metadata": {
      "tags": []
     },
     "execution_count": 22
    }
   ]
  },
  {
   "cell_type": "code",
   "metadata": {
    "colab": {
     "base_uri": "https://localhost:8080/"
    },
    "id": "Oo6g_147Io0i",
    "outputId": "7c5b53d5-37cd-43d3-cb00-7f315b8e6f48"
   },
   "source": [
    "cultures['code'].nunique()"
   ],
   "execution_count": null,
   "outputs": [
    {
     "output_type": "execute_result",
     "data": {
      "text/plain": [
       "350"
      ]
     },
     "metadata": {
      "tags": []
     },
     "execution_count": 23
    }
   ]
  },
  {
   "cell_type": "code",
   "metadata": {
    "colab": {
     "base_uri": "https://localhost:8080/"
    },
    "id": "M7EYnjPtIw6H",
    "outputId": "13b93e05-2881-46e2-a957-75a1ee9a7627"
   },
   "source": [
    "print(f'Unique cultures vs unique descriptions: {cultures.iloc[:, 1].nunique()} vs {cultures.iloc[:, 0].nunique()}')"
   ],
   "execution_count": null,
   "outputs": [
    {
     "output_type": "stream",
     "text": [
      "Unique cultures vs unique descriptions: 350 vs 415\n"
     ],
     "name": "stdout"
    }
   ]
  },
  {
   "cell_type": "code",
   "metadata": {
    "colab": {
     "base_uri": "https://localhost:8080/",
     "height": 142
    },
    "id": "oQXyCnHLI0CG",
    "outputId": "c82da7fb-cd29-4c9f-f1ff-425818e9e617"
   },
   "source": [
    "cultures[cultures['description'].isna()]"
   ],
   "execution_count": null,
   "outputs": [
    {
     "output_type": "execute_result",
     "data": {
      "text/html": [
       "<div>\n",
       "<style scoped>\n",
       "    .dataframe tbody tr th:only-of-type {\n",
       "        vertical-align: middle;\n",
       "    }\n",
       "\n",
       "    .dataframe tbody tr th {\n",
       "        vertical-align: top;\n",
       "    }\n",
       "\n",
       "    .dataframe thead th {\n",
       "        text-align: right;\n",
       "    }\n",
       "</style>\n",
       "<table border=\"1\" class=\"dataframe\">\n",
       "  <thead>\n",
       "    <tr style=\"text-align: right;\">\n",
       "      <th></th>\n",
       "      <th>description</th>\n",
       "      <th>code</th>\n",
       "      <th>year</th>\n",
       "    </tr>\n",
       "  </thead>\n",
       "  <tbody>\n",
       "    <tr>\n",
       "      <th>714</th>\n",
       "      <td>NaN</td>\n",
       "      <td>ROS</td>\n",
       "      <td>2018</td>\n",
       "    </tr>\n",
       "    <tr>\n",
       "      <th>1089</th>\n",
       "      <td>NaN</td>\n",
       "      <td>LIF</td>\n",
       "      <td>2017</td>\n",
       "    </tr>\n",
       "    <tr>\n",
       "      <th>1201</th>\n",
       "      <td>NaN</td>\n",
       "      <td>LIF</td>\n",
       "      <td>2016</td>\n",
       "    </tr>\n",
       "  </tbody>\n",
       "</table>\n",
       "</div>"
      ],
      "text/plain": [
       "     description code  year\n",
       "714          NaN  ROS  2018\n",
       "1089         NaN  LIF  2017\n",
       "1201         NaN  LIF  2016"
      ]
     },
     "metadata": {
      "tags": []
     },
     "execution_count": 25
    }
   ]
  },
  {
   "cell_type": "code",
   "metadata": {
    "colab": {
     "base_uri": "https://localhost:8080/",
     "height": 328
    },
    "id": "7vibdIBZK0QG",
    "outputId": "719642f9-cb7f-4304-bd79-de2abe7c9f66"
   },
   "source": [
    "cultures[((cultures['code'] == 'LIF') | (cultures['code'] == 'ROS')) & (~cultures['description'].isna())]"
   ],
   "execution_count": null,
   "outputs": [
    {
     "output_type": "execute_result",
     "data": {
      "text/html": [
       "<div>\n",
       "<style scoped>\n",
       "    .dataframe tbody tr th:only-of-type {\n",
       "        vertical-align: middle;\n",
       "    }\n",
       "\n",
       "    .dataframe tbody tr th {\n",
       "        vertical-align: top;\n",
       "    }\n",
       "\n",
       "    .dataframe thead th {\n",
       "        text-align: right;\n",
       "    }\n",
       "</style>\n",
       "<table border=\"1\" class=\"dataframe\">\n",
       "  <thead>\n",
       "    <tr style=\"text-align: right;\">\n",
       "      <th></th>\n",
       "      <th>description</th>\n",
       "      <th>code</th>\n",
       "      <th>year</th>\n",
       "    </tr>\n",
       "  </thead>\n",
       "  <tbody>\n",
       "    <tr>\n",
       "      <th>154</th>\n",
       "      <td>Lin fibres</td>\n",
       "      <td>LIF</td>\n",
       "      <td>2020</td>\n",
       "    </tr>\n",
       "    <tr>\n",
       "      <th>158</th>\n",
       "      <td>Roselière</td>\n",
       "      <td>ROS</td>\n",
       "      <td>2020</td>\n",
       "    </tr>\n",
       "    <tr>\n",
       "      <th>441</th>\n",
       "      <td>Roselière</td>\n",
       "      <td>ROS</td>\n",
       "      <td>2019</td>\n",
       "    </tr>\n",
       "    <tr>\n",
       "      <th>466</th>\n",
       "      <td>Lin fibres</td>\n",
       "      <td>LIF</td>\n",
       "      <td>2019</td>\n",
       "    </tr>\n",
       "    <tr>\n",
       "      <th>775</th>\n",
       "      <td>Lin fibres</td>\n",
       "      <td>LIF</td>\n",
       "      <td>2018</td>\n",
       "    </tr>\n",
       "    <tr>\n",
       "      <th>960</th>\n",
       "      <td>Roselière</td>\n",
       "      <td>ROS</td>\n",
       "      <td>2017</td>\n",
       "    </tr>\n",
       "    <tr>\n",
       "      <th>1458</th>\n",
       "      <td>Roselière</td>\n",
       "      <td>ROS</td>\n",
       "      <td>2016</td>\n",
       "    </tr>\n",
       "    <tr>\n",
       "      <th>1505</th>\n",
       "      <td>Lin fibres</td>\n",
       "      <td>LIF</td>\n",
       "      <td>2015</td>\n",
       "    </tr>\n",
       "    <tr>\n",
       "      <th>1541</th>\n",
       "      <td>Roselière</td>\n",
       "      <td>ROS</td>\n",
       "      <td>2015</td>\n",
       "    </tr>\n",
       "  </tbody>\n",
       "</table>\n",
       "</div>"
      ],
      "text/plain": [
       "     description code  year\n",
       "154   Lin fibres  LIF  2020\n",
       "158    Roselière  ROS  2020\n",
       "441    Roselière  ROS  2019\n",
       "466   Lin fibres  LIF  2019\n",
       "775   Lin fibres  LIF  2018\n",
       "960    Roselière  ROS  2017\n",
       "1458   Roselière  ROS  2016\n",
       "1505  Lin fibres  LIF  2015\n",
       "1541   Roselière  ROS  2015"
      ]
     },
     "metadata": {
      "tags": []
     },
     "execution_count": 26
    }
   ]
  },
  {
   "cell_type": "code",
   "metadata": {
    "colab": {
     "base_uri": "https://localhost:8080/",
     "height": 49
    },
    "id": "5BBm29HfLhpg",
    "outputId": "76954268-912d-4dc9-a332-56702eca1e52"
   },
   "source": [
    "cultures[cultures['code'] == 'LIF'] = 'Lin fibres'\n",
    "cultures[cultures['code'] == 'ROS'] = 'Roselière'\n",
    "cultures[cultures['description'].isna()]"
   ],
   "execution_count": null,
   "outputs": [
    {
     "output_type": "execute_result",
     "data": {
      "text/html": [
       "<div>\n",
       "<style scoped>\n",
       "    .dataframe tbody tr th:only-of-type {\n",
       "        vertical-align: middle;\n",
       "    }\n",
       "\n",
       "    .dataframe tbody tr th {\n",
       "        vertical-align: top;\n",
       "    }\n",
       "\n",
       "    .dataframe thead th {\n",
       "        text-align: right;\n",
       "    }\n",
       "</style>\n",
       "<table border=\"1\" class=\"dataframe\">\n",
       "  <thead>\n",
       "    <tr style=\"text-align: right;\">\n",
       "      <th></th>\n",
       "      <th>description</th>\n",
       "      <th>code</th>\n",
       "      <th>year</th>\n",
       "    </tr>\n",
       "  </thead>\n",
       "  <tbody>\n",
       "  </tbody>\n",
       "</table>\n",
       "</div>"
      ],
      "text/plain": [
       "Empty DataFrame\n",
       "Columns: [description, code, year]\n",
       "Index: []"
      ]
     },
     "metadata": {
      "tags": []
     },
     "execution_count": 27
    }
   ]
  },
  {
   "cell_type": "code",
   "metadata": {
    "id": "G_Y9PZ7WzLn0",
    "pycharm": {
     "name": "#%%\n"
    }
   },
   "source": [
    "cultures.to_csv('gdrive/MyDrive/cultures/cultures.csv', index=False, quoting=1)"
   ],
   "execution_count": null,
   "outputs": []
  }
 ]
}